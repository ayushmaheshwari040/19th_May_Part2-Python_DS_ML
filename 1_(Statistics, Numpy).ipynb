{
 "cells": [
  {
   "cell_type": "markdown",
   "id": "29e41c8f-0d01-486a-a508-72627193e418",
   "metadata": {},
   "source": [
    "# **Two types of data**"
   ]
  },
  {
   "cell_type": "markdown",
   "id": "6e113e5b-54f7-48b1-87c3-9e950ec16d4d",
   "metadata": {},
   "source": [
    "1. Numerical/Quantitive\n",
    "    1. Discrete\n",
    "       - Only takes countable values and can't be spllited.\n",
    "       - Ex1:- No. of Students, No. of Apples\n",
    "       - Ex2:- 1,2,3,4....\n",
    "    2. Continuous\n",
    "       - The data which can be splitted into smaller to smaller units.\n",
    "       - Ex1:- Age Of person by dob(year, months, day etc.), Time(hrs, mins, secs etc)\n",
    "       - Ex2:- 0.1, 0.2,0.3,1.4,1.6....\n",
    "        <br><br>\n",
    "2. Categorical/Qualitative\n",
    "   1. Ordinal\n",
    "      - Based on order or ranking.\n",
    "      - Ex:- (good, better, best) or (small, big, tall)\n",
    "   2. Nominal\n",
    "      - Not based on order or ranking.\n",
    "      - Ex:- Breeds of dog.\n",
    "      \n",
    "      "
   ]
  },
  {
   "cell_type": "markdown",
   "id": "8846dfd4-e3a4-444a-9603-70b54de810f6",
   "metadata": {},
   "source": [
    "# **Terms in Stats**"
   ]
  },
  {
   "cell_type": "markdown",
   "id": "46c7fae7-b524-4b46-b996-62e4b4e1178d",
   "metadata": {},
   "source": [
    "1. Center of Data / Central Tendency-> Mean, Median, Mode\n",
    "2. Spreadness of Data / Dispersion\n",
    "3. Shape of Data\n",
    "4. Outliers "
   ]
  },
  {
   "cell_type": "code",
   "execution_count": null,
   "id": "854601bb-99c3-45ac-b23f-893cc369aa7b",
   "metadata": {},
   "outputs": [],
   "source": []
  },
  {
   "cell_type": "markdown",
   "id": "c9a3d7eb-fd94-4a2e-8870-d05d4529d074",
   "metadata": {},
   "source": [
    "# Numpy"
   ]
  },
  {
   "cell_type": "code",
   "execution_count": 1,
   "id": "67710dca-fced-438b-be7e-b6518e3f7e77",
   "metadata": {},
   "outputs": [],
   "source": [
    "import numpy as np "
   ]
  },
  {
   "cell_type": "code",
   "execution_count": 2,
   "id": "5cc2603a-ef49-4859-b0e3-e0d6dd79c8d2",
   "metadata": {},
   "outputs": [
    {
     "data": {
      "text/plain": [
       "array([23, 45, 67, 34, 67, 89, 23, 67])"
      ]
     },
     "execution_count": 2,
     "metadata": {},
     "output_type": "execute_result"
    }
   ],
   "source": [
    "arr=np.array([23,45,67,34,67,89,23,67])\n",
    "arr"
   ]
  },
  {
   "cell_type": "code",
   "execution_count": 3,
   "id": "5159c7d9-2e51-4031-892f-c54fe83b94c8",
   "metadata": {},
   "outputs": [
    {
     "data": {
      "text/plain": [
       "(8,)"
      ]
     },
     "execution_count": 3,
     "metadata": {},
     "output_type": "execute_result"
    }
   ],
   "source": [
    "arr.shape"
   ]
  },
  {
   "cell_type": "code",
   "execution_count": 4,
   "id": "a1b91bc7-70e1-420a-80c6-7a7f1d5da455",
   "metadata": {},
   "outputs": [
    {
     "data": {
      "text/plain": [
       "8"
      ]
     },
     "execution_count": 4,
     "metadata": {},
     "output_type": "execute_result"
    }
   ],
   "source": [
    "arr.size"
   ]
  },
  {
   "cell_type": "code",
   "execution_count": 5,
   "id": "0cde3e31-61c8-4e0a-b9e1-4a300b6c99d9",
   "metadata": {},
   "outputs": [
    {
     "data": {
      "text/plain": [
       "1"
      ]
     },
     "execution_count": 5,
     "metadata": {},
     "output_type": "execute_result"
    }
   ],
   "source": [
    "arr.ndim"
   ]
  },
  {
   "cell_type": "code",
   "execution_count": 6,
   "id": "de9f3723-02b1-4ab1-ad58-5f1716f184bf",
   "metadata": {},
   "outputs": [
    {
     "data": {
      "text/plain": [
       "dtype('int32')"
      ]
     },
     "execution_count": 6,
     "metadata": {},
     "output_type": "execute_result"
    }
   ],
   "source": [
    "arr.dtype"
   ]
  },
  {
   "cell_type": "code",
   "execution_count": null,
   "id": "46409e0a-b5ff-40f2-a491-0c5e2819b648",
   "metadata": {},
   "outputs": [],
   "source": []
  },
  {
   "cell_type": "markdown",
   "id": "edb46432-9ff7-498f-ab02-4a5da8e48503",
   "metadata": {},
   "source": [
    "# Operations on Array"
   ]
  },
  {
   "cell_type": "code",
   "execution_count": 7,
   "id": "6e96155c-36cc-4b30-ba1b-347ce957d0f3",
   "metadata": {},
   "outputs": [
    {
     "data": {
      "text/plain": [
       "array([23, 45, 67, 34, 67, 89, 23, 67])"
      ]
     },
     "execution_count": 7,
     "metadata": {},
     "output_type": "execute_result"
    }
   ],
   "source": [
    "arr"
   ]
  },
  {
   "cell_type": "code",
   "execution_count": 8,
   "id": "78782bc7-b75c-4344-8fe7-7fc1eac394b1",
   "metadata": {},
   "outputs": [
    {
     "data": {
      "text/plain": [
       "array([33, 55, 77, 44, 77, 99, 33, 77])"
      ]
     },
     "execution_count": 8,
     "metadata": {},
     "output_type": "execute_result"
    }
   ],
   "source": [
    "arr+10"
   ]
  },
  {
   "cell_type": "code",
   "execution_count": 9,
   "id": "1e09ee56-8210-446a-91da-fed83ef9525c",
   "metadata": {},
   "outputs": [
    {
     "data": {
      "text/plain": [
       "array([2.3, 4.5, 6.7, 3.4, 6.7, 8.9, 2.3, 6.7])"
      ]
     },
     "execution_count": 9,
     "metadata": {},
     "output_type": "execute_result"
    }
   ],
   "source": [
    "arr/10"
   ]
  },
  {
   "cell_type": "code",
   "execution_count": 11,
   "id": "6f11d954-d0d4-4d71-b3ad-1bb4918c1d51",
   "metadata": {},
   "outputs": [
    {
     "data": {
      "text/plain": [
       "array([23, 45, 67, 34, 67, 89, 23, 67])"
      ]
     },
     "execution_count": 11,
     "metadata": {},
     "output_type": "execute_result"
    }
   ],
   "source": [
    "arr          # since operations are immutable"
   ]
  },
  {
   "cell_type": "code",
   "execution_count": null,
   "id": "2cf15ab9-9d31-4e91-b0cc-b7ffb45590a2",
   "metadata": {},
   "outputs": [],
   "source": []
  },
  {
   "cell_type": "code",
   "execution_count": 12,
   "id": "904e4bb9-584f-4972-89b0-fe945d1eb206",
   "metadata": {},
   "outputs": [],
   "source": [
    "arr+=10"
   ]
  },
  {
   "cell_type": "code",
   "execution_count": 13,
   "id": "171807d1-9e1d-4328-97ba-15466d07bf77",
   "metadata": {},
   "outputs": [
    {
     "data": {
      "text/plain": [
       "array([33, 55, 77, 44, 77, 99, 33, 77])"
      ]
     },
     "execution_count": 13,
     "metadata": {},
     "output_type": "execute_result"
    }
   ],
   "source": [
    "arr"
   ]
  },
  {
   "cell_type": "code",
   "execution_count": 14,
   "id": "bf7ecabf-9786-4124-b289-ec0acdcc31a5",
   "metadata": {},
   "outputs": [
    {
     "data": {
      "text/plain": [
       "33"
      ]
     },
     "execution_count": 14,
     "metadata": {},
     "output_type": "execute_result"
    }
   ],
   "source": [
    "arr[0]"
   ]
  },
  {
   "cell_type": "code",
   "execution_count": 15,
   "id": "06fcbf52-9580-4070-aa3b-55488bd32952",
   "metadata": {},
   "outputs": [
    {
     "data": {
      "text/plain": [
       "33"
      ]
     },
     "execution_count": 15,
     "metadata": {},
     "output_type": "execute_result"
    }
   ],
   "source": [
    "arr[-2]"
   ]
  },
  {
   "cell_type": "code",
   "execution_count": 16,
   "id": "376c3b66-1ca7-4b88-a925-5f16e6daf490",
   "metadata": {},
   "outputs": [
    {
     "data": {
      "text/plain": [
       "array([33, 55, 77, 44, 77])"
      ]
     },
     "execution_count": 16,
     "metadata": {},
     "output_type": "execute_result"
    }
   ],
   "source": [
    "arr[:5]"
   ]
  },
  {
   "cell_type": "code",
   "execution_count": null,
   "id": "904bcae8-0118-4341-aa36-0ed7454265ac",
   "metadata": {},
   "outputs": [],
   "source": []
  },
  {
   "cell_type": "code",
   "execution_count": 17,
   "id": "2d636697-220c-4d24-8892-bcc1a71dffa9",
   "metadata": {},
   "outputs": [
    {
     "data": {
      "text/plain": [
       "array([33, 55, 77, 44, 77, 99, 33, 77])"
      ]
     },
     "execution_count": 17,
     "metadata": {},
     "output_type": "execute_result"
    }
   ],
   "source": [
    "arr"
   ]
  },
  {
   "cell_type": "code",
   "execution_count": 18,
   "id": "f926b49b-2826-42b9-ad0c-288c93de3b69",
   "metadata": {},
   "outputs": [],
   "source": [
    "arr[1]=100"
   ]
  },
  {
   "cell_type": "code",
   "execution_count": 19,
   "id": "01d58c4d-c400-4cfc-be1e-66797cd88880",
   "metadata": {},
   "outputs": [
    {
     "data": {
      "text/plain": [
       "array([ 33, 100,  77,  44,  77,  99,  33,  77])"
      ]
     },
     "execution_count": 19,
     "metadata": {},
     "output_type": "execute_result"
    }
   ],
   "source": [
    "arr"
   ]
  },
  {
   "cell_type": "code",
   "execution_count": 20,
   "id": "e9d96cf0-4070-4371-9c5d-efb91369e0fa",
   "metadata": {},
   "outputs": [
    {
     "data": {
      "text/plain": [
       "array([ 33, 100,  77,  44])"
      ]
     },
     "execution_count": 20,
     "metadata": {},
     "output_type": "execute_result"
    }
   ],
   "source": [
    "arr[:4]"
   ]
  },
  {
   "cell_type": "code",
   "execution_count": 21,
   "id": "76aae191-635b-4f82-a4d2-3dd127b3caf6",
   "metadata": {},
   "outputs": [],
   "source": [
    "arr[:4]=0"
   ]
  },
  {
   "cell_type": "code",
   "execution_count": 22,
   "id": "883847ea-1e94-482f-b3d4-b57f78df6f83",
   "metadata": {},
   "outputs": [
    {
     "data": {
      "text/plain": [
       "array([ 0,  0,  0,  0, 77, 99, 33, 77])"
      ]
     },
     "execution_count": 22,
     "metadata": {},
     "output_type": "execute_result"
    }
   ],
   "source": [
    "arr"
   ]
  },
  {
   "cell_type": "code",
   "execution_count": null,
   "id": "04032b73-d6c6-4aad-9798-9d22336d3d90",
   "metadata": {},
   "outputs": [],
   "source": []
  },
  {
   "cell_type": "markdown",
   "id": "828510f2-a96f-43a0-ab94-99df3c3e62a8",
   "metadata": {},
   "source": [
    "# Different ways for creating array"
   ]
  },
  {
   "cell_type": "code",
   "execution_count": 23,
   "id": "87b9417f-80ed-44d2-b5d0-08397956b1f3",
   "metadata": {},
   "outputs": [
    {
     "data": {
      "text/plain": [
       "array([10, 12, 14, 16, 18, 20])"
      ]
     },
     "execution_count": 23,
     "metadata": {},
     "output_type": "execute_result"
    }
   ],
   "source": [
    "np.arange(10,21,2)"
   ]
  },
  {
   "cell_type": "code",
   "execution_count": 24,
   "id": "e258ddb3-00a6-46cb-9848-fe325c21cc46",
   "metadata": {},
   "outputs": [
    {
     "data": {
      "text/plain": [
       "array([ 2,  4,  6,  8, 10, 12, 14, 16, 18, 20])"
      ]
     },
     "execution_count": 24,
     "metadata": {},
     "output_type": "execute_result"
    }
   ],
   "source": [
    "np.arange(2,21,2)"
   ]
  },
  {
   "cell_type": "code",
   "execution_count": 25,
   "id": "8600dddf-a5d2-4ea0-b8fa-14a4fdb819ca",
   "metadata": {},
   "outputs": [
    {
     "data": {
      "text/plain": [
       "array([10. , 10.5, 11. , 11.5, 12. , 12.5, 13. , 13.5, 14. , 14.5, 15. ,\n",
       "       15.5, 16. , 16.5, 17. , 17.5, 18. , 18.5, 19. , 19.5, 20. , 20.5])"
      ]
     },
     "execution_count": 25,
     "metadata": {},
     "output_type": "execute_result"
    }
   ],
   "source": [
    "np.arange(10,21,0.5)                         # arange can work with float values but range can't"
   ]
  },
  {
   "cell_type": "code",
   "execution_count": 27,
   "id": "6ad475cd-38d0-4b24-9a29-bfbd7b0cd6da",
   "metadata": {},
   "outputs": [
    {
     "data": {
      "text/plain": [
       "array([0. , 0.1, 0.2, 0.3, 0.4, 0.5, 0.6, 0.7, 0.8, 0.9, 1. ])"
      ]
     },
     "execution_count": 27,
     "metadata": {},
     "output_type": "execute_result"
    }
   ],
   "source": [
    "np.arange(0,1.1,0.1)"
   ]
  },
  {
   "cell_type": "code",
   "execution_count": null,
   "id": "1cafb82e-e030-47cc-b5bb-b9dfb73bc2b9",
   "metadata": {},
   "outputs": [],
   "source": []
  },
  {
   "cell_type": "code",
   "execution_count": 29,
   "id": "0cc424f2-0b0e-40fa-b6fc-cbc9ea4cb613",
   "metadata": {},
   "outputs": [
    {
     "data": {
      "text/plain": [
       "array([32, 22, 24, 21, 21, 29, 22, 31, 31, 34, 23, 34, 33, 28, 30, 24, 24,\n",
       "       33, 28, 20, 34, 31, 28, 21, 26, 20, 21, 32, 24, 34, 33, 24, 26, 24,\n",
       "       20, 22, 32, 29, 24, 33, 25, 21, 25, 33, 28, 28, 22, 33, 23, 29, 25,\n",
       "       25, 26, 20, 30, 25, 32, 23, 26, 23, 25, 21, 20, 30, 31, 30, 23, 28,\n",
       "       33, 30, 30, 29, 29, 24, 33, 33, 24, 20, 26, 21, 33, 31, 31, 27, 30,\n",
       "       24, 21, 26, 34, 25, 33, 25, 24, 28, 28, 30, 23, 26, 29, 25])"
      ]
     },
     "execution_count": 29,
     "metadata": {},
     "output_type": "execute_result"
    }
   ],
   "source": [
    "ages=np.random.randint(20,35,100)\n",
    "ages"
   ]
  },
  {
   "cell_type": "code",
   "execution_count": null,
   "id": "ea194d17-2669-4a82-8438-98491b07f55b",
   "metadata": {},
   "outputs": [],
   "source": []
  },
  {
   "cell_type": "markdown",
   "id": "ec4d1e09-eefb-4af7-8f13-b57eecfffcee",
   "metadata": {},
   "source": [
    "# Center Of data\n",
    "1. Mean\n",
    "2. Median\n",
    "3. Mode"
   ]
  },
  {
   "cell_type": "code",
   "execution_count": 30,
   "id": "72d25975-94d3-4586-af59-03b1e8ecfa15",
   "metadata": {},
   "outputs": [
    {
     "data": {
      "text/plain": [
       "26.97"
      ]
     },
     "execution_count": 30,
     "metadata": {},
     "output_type": "execute_result"
    }
   ],
   "source": [
    "sum(ages)/len(ages)"
   ]
  },
  {
   "cell_type": "code",
   "execution_count": 31,
   "id": "e5d777d0-9684-4409-97c6-c631d1d48a60",
   "metadata": {},
   "outputs": [
    {
     "data": {
      "text/plain": [
       "26.97"
      ]
     },
     "execution_count": 31,
     "metadata": {},
     "output_type": "execute_result"
    }
   ],
   "source": [
    "ages.mean()"
   ]
  },
  {
   "cell_type": "code",
   "execution_count": 32,
   "id": "81171324-6d7f-4579-9d89-c86b8dbd1e4a",
   "metadata": {},
   "outputs": [
    {
     "data": {
      "text/plain": [
       "26.97"
      ]
     },
     "execution_count": 32,
     "metadata": {},
     "output_type": "execute_result"
    }
   ],
   "source": [
    "np.mean(ages)"
   ]
  },
  {
   "cell_type": "code",
   "execution_count": 33,
   "id": "e28f6669-87f4-4368-8e51-ed1396f4b0e4",
   "metadata": {},
   "outputs": [
    {
     "data": {
      "text/plain": [
       "26.0"
      ]
     },
     "execution_count": 33,
     "metadata": {},
     "output_type": "execute_result"
    }
   ],
   "source": [
    "np.median(ages)"
   ]
  },
  {
   "cell_type": "code",
   "execution_count": null,
   "id": "9a58dc41-d72e-4b1b-9c65-c533bc0d412a",
   "metadata": {},
   "outputs": [],
   "source": []
  }
 ],
 "metadata": {
  "kernelspec": {
   "display_name": "Python 3 (ipykernel)",
   "language": "python",
   "name": "python3"
  },
  "language_info": {
   "codemirror_mode": {
    "name": "ipython",
    "version": 3
   },
   "file_extension": ".py",
   "mimetype": "text/x-python",
   "name": "python",
   "nbconvert_exporter": "python",
   "pygments_lexer": "ipython3",
   "version": "3.11.3"
  }
 },
 "nbformat": 4,
 "nbformat_minor": 5
}
