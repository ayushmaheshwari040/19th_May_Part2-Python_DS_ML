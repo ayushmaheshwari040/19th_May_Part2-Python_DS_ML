{
 "cells": [
  {
   "cell_type": "code",
   "execution_count": 3,
   "id": "bbdd5a87-e3d7-490f-93f4-70b04adfc237",
   "metadata": {},
   "outputs": [],
   "source": [
    "import numpy as np"
   ]
  },
  {
   "cell_type": "code",
   "execution_count": 4,
   "id": "0cc424f2-0b0e-40fa-b6fc-cbc9ea4cb613",
   "metadata": {},
   "outputs": [
    {
     "data": {
      "text/plain": [
       "array([29, 22, 30, 22, 30, 34, 24, 32, 32, 26, 27, 22, 29, 21, 34, 32, 27,\n",
       "       25, 27, 25, 22, 21, 33, 32, 26, 22, 33, 22, 29, 20, 33, 28, 27, 22,\n",
       "       34, 21, 29, 29, 32, 23, 25, 25, 21, 20, 26, 27, 22, 25, 20, 20, 21,\n",
       "       22, 26, 20, 25, 33, 29, 22, 20, 30, 27, 34, 28, 28, 30, 25, 23, 24,\n",
       "       27, 21, 28, 25, 31, 33, 25, 24, 30, 28, 25, 33, 29, 34, 32, 26, 23,\n",
       "       32, 28, 20, 21, 27, 23, 27, 22, 20, 21, 29, 31, 21, 30, 33])"
      ]
     },
     "execution_count": 4,
     "metadata": {},
     "output_type": "execute_result"
    }
   ],
   "source": [
    "ages=np.random.randint(20,35,100)\n",
    "ages"
   ]
  },
  {
   "cell_type": "code",
   "execution_count": null,
   "id": "ea194d17-2669-4a82-8438-98491b07f55b",
   "metadata": {},
   "outputs": [],
   "source": []
  },
  {
   "cell_type": "markdown",
   "id": "ec4d1e09-eefb-4af7-8f13-b57eecfffcee",
   "metadata": {},
   "source": [
    "### Mean, Median, Mode\n",
    "                Mean-> Avg of values. We identify the approximate maximum repeated value\n",
    "                Median-> Avg of positions\n",
    "                Mode-> The data with high frequency is mode\n",
    "                "
   ]
  },
  {
   "cell_type": "code",
   "execution_count": 5,
   "id": "72d25975-94d3-4586-af59-03b1e8ecfa15",
   "metadata": {},
   "outputs": [
    {
     "data": {
      "text/plain": [
       "26.45"
      ]
     },
     "execution_count": 5,
     "metadata": {},
     "output_type": "execute_result"
    }
   ],
   "source": [
    "sum(ages)/len(ages)"
   ]
  },
  {
   "cell_type": "code",
   "execution_count": 6,
   "id": "e5d777d0-9684-4409-97c6-c631d1d48a60",
   "metadata": {},
   "outputs": [
    {
     "data": {
      "text/plain": [
       "26.45"
      ]
     },
     "execution_count": 6,
     "metadata": {},
     "output_type": "execute_result"
    }
   ],
   "source": [
    "ages.mean()"
   ]
  },
  {
   "cell_type": "code",
   "execution_count": 7,
   "id": "81171324-6d7f-4579-9d89-c86b8dbd1e4a",
   "metadata": {},
   "outputs": [
    {
     "data": {
      "text/plain": [
       "26.45"
      ]
     },
     "execution_count": 7,
     "metadata": {},
     "output_type": "execute_result"
    }
   ],
   "source": [
    "np.mean(ages)"
   ]
  },
  {
   "cell_type": "code",
   "execution_count": 8,
   "id": "e28f6669-87f4-4368-8e51-ed1396f4b0e4",
   "metadata": {},
   "outputs": [
    {
     "data": {
      "text/plain": [
       "26.5"
      ]
     },
     "execution_count": 8,
     "metadata": {},
     "output_type": "execute_result"
    }
   ],
   "source": [
    "np.median(ages)"
   ]
  },
  {
   "cell_type": "code",
   "execution_count": 9,
   "id": "9a58dc41-d72e-4b1b-9c65-c533bc0d412a",
   "metadata": {},
   "outputs": [
    {
     "data": {
      "text/plain": [
       "array([29, 22, 30, 22, 30, 34, 24, 32, 32, 26, 27, 22, 29, 21, 34, 32, 27,\n",
       "       25, 27, 25, 22, 21, 33, 32, 26, 22, 33, 22, 29, 20, 33, 28, 27, 22,\n",
       "       34, 21, 29, 29, 32, 23, 25, 25, 21, 20, 26, 27, 22, 25, 20, 20, 21,\n",
       "       22, 26, 20, 25, 33, 29, 22, 20, 30, 27, 34, 28, 28, 30, 25, 23, 24,\n",
       "       27, 21, 28, 25, 31, 33, 25, 24, 30, 28, 25, 33, 29, 34, 32, 26, 23,\n",
       "       32, 28, 20, 21, 27, 23, 27, 22, 20, 21, 29, 31, 21, 30, 33])"
      ]
     },
     "execution_count": 9,
     "metadata": {},
     "output_type": "execute_result"
    }
   ],
   "source": [
    "ages"
   ]
  },
  {
   "cell_type": "code",
   "execution_count": 10,
   "id": "4bd46b09-fadd-453c-bc57-b9a448d15131",
   "metadata": {},
   "outputs": [
    {
     "data": {
      "text/plain": [
       "array([90, 84, 87, 84, 83, 81, 80, 88, 90, 89])"
      ]
     },
     "execution_count": 10,
     "metadata": {},
     "output_type": "execute_result"
    }
   ],
   "source": [
    "new_ages=np.random.randint(80,91,10)\n",
    "new_ages"
   ]
  },
  {
   "cell_type": "code",
   "execution_count": null,
   "id": "bdc85aa6-f724-4b47-bccc-592ffae2c72e",
   "metadata": {},
   "outputs": [],
   "source": []
  },
  {
   "cell_type": "code",
   "execution_count": 14,
   "id": "577b6e15-b311-41ad-9e30-cea72fabbe0c",
   "metadata": {},
   "outputs": [
    {
     "data": {
      "text/plain": [
       "array([29, 22, 30, 22, 30, 34, 24, 32, 32, 26, 27, 22, 29, 21, 34, 32, 27,\n",
       "       25, 27, 25, 22, 21, 33, 32, 26, 22, 33, 22, 29, 20, 33, 28, 27, 22,\n",
       "       34, 21, 29, 29, 32, 23, 25, 25, 21, 20, 26, 27, 22, 25, 20, 20, 21,\n",
       "       22, 26, 20, 25, 33, 29, 22, 20, 30, 27, 34, 28, 28, 30, 25, 23, 24,\n",
       "       27, 21, 28, 25, 31, 33, 25, 24, 30, 28, 25, 33, 29, 34, 32, 26, 23,\n",
       "       32, 28, 20, 21, 27, 23, 27, 22, 20, 21, 29, 31, 21, 30, 33, 90, 84,\n",
       "       87, 84, 83, 81, 80, 88, 90, 89])"
      ]
     },
     "execution_count": 14,
     "metadata": {},
     "output_type": "execute_result"
    }
   ],
   "source": [
    "new_arr=np.append(ages, new_ages)       # we add extreme high values. Since outliers are extreme high or low values\n",
    "new_arr"
   ]
  },
  {
   "cell_type": "code",
   "execution_count": 16,
   "id": "4622e1b8-14ef-471d-a300-e663e00c5f48",
   "metadata": {},
   "outputs": [
    {
     "data": {
      "text/plain": [
       "31.827272727272728"
      ]
     },
     "execution_count": 16,
     "metadata": {},
     "output_type": "execute_result"
    }
   ],
   "source": [
    "np.mean(new_arr)      # here mean is affected by the outliers"
   ]
  },
  {
   "cell_type": "code",
   "execution_count": 17,
   "id": "ba79972b-8afc-485d-923a-1f282ae63236",
   "metadata": {},
   "outputs": [
    {
     "data": {
      "text/plain": [
       "27.0"
      ]
     },
     "execution_count": 17,
     "metadata": {},
     "output_type": "execute_result"
    }
   ],
   "source": [
    "np.median(new_arr)"
   ]
  },
  {
   "cell_type": "code",
   "execution_count": null,
   "id": "70a63787-801c-4c3d-b600-d48de478b433",
   "metadata": {},
   "outputs": [],
   "source": []
  },
  {
   "cell_type": "code",
   "execution_count": 19,
   "id": "1382e289-7567-4855-b63d-f1c8f3f46e50",
   "metadata": {},
   "outputs": [
    {
     "data": {
      "text/plain": [
       "array(['usa', 'china', 'india', 'usa', 'usa', 'china', 'india', 'india',\n",
       "       'aus', 'aus', 'india', 'china', 'india', 'china', 'india', 'china',\n",
       "       'china', 'india', 'india', 'china', 'aus', 'usa', 'usa', 'aus',\n",
       "       'china', 'aus', 'china', 'aus', 'aus', 'aus', 'aus', 'india',\n",
       "       'usa', 'india', 'usa', 'usa', 'aus', 'india', 'usa', 'aus',\n",
       "       'china', 'india', 'india', 'usa', 'aus', 'china', 'aus', 'china',\n",
       "       'india', 'aus', 'usa', 'aus', 'india', 'usa', 'usa', 'aus', 'usa',\n",
       "       'aus', 'india', 'india', 'usa', 'aus', 'aus', 'usa', 'usa', 'aus',\n",
       "       'usa', 'usa', 'aus', 'aus', 'usa', 'india', 'aus', 'usa', 'india',\n",
       "       'aus', 'china', 'aus', 'usa', 'china', 'usa', 'aus', 'china',\n",
       "       'usa', 'china', 'usa', 'usa', 'aus', 'usa', 'china', 'usa',\n",
       "       'china', 'india', 'usa', 'usa', 'aus', 'china', 'china', 'india',\n",
       "       'usa'], dtype='<U5')"
      ]
     },
     "execution_count": 19,
     "metadata": {},
     "output_type": "execute_result"
    }
   ],
   "source": [
    "country=np.random.choice(['india','usa','china','aus'],100)\n",
    "country"
   ]
  },
  {
   "cell_type": "code",
   "execution_count": 20,
   "id": "9616a580-daa3-4935-a2b9-6f279e37575f",
   "metadata": {},
   "outputs": [],
   "source": [
    "import statistics"
   ]
  },
  {
   "cell_type": "code",
   "execution_count": 21,
   "id": "aa61b3d8-6c36-442f-8679-72a902bd0bfe",
   "metadata": {},
   "outputs": [
    {
     "data": {
      "text/plain": [
       "'usa'"
      ]
     },
     "execution_count": 21,
     "metadata": {},
     "output_type": "execute_result"
    }
   ],
   "source": [
    "statistics.mode(country)"
   ]
  },
  {
   "cell_type": "code",
   "execution_count": 22,
   "id": "0ccbb5ab-6470-4221-895a-7e9e4549a8af",
   "metadata": {},
   "outputs": [],
   "source": [
    "d=dict()\n",
    "for i in country: \n",
    "    if i in d: \n",
    "        d[i]+=1\n",
    "    else: \n",
    "        d[i]=1"
   ]
  },
  {
   "cell_type": "code",
   "execution_count": 23,
   "id": "2dbcb16c-cfb7-4636-b29a-fe46db28d851",
   "metadata": {},
   "outputs": [
    {
     "data": {
      "text/plain": [
       "{'usa': 31, 'china': 20, 'india': 21, 'aus': 28}"
      ]
     },
     "execution_count": 23,
     "metadata": {},
     "output_type": "execute_result"
    }
   ],
   "source": [
    "d"
   ]
  },
  {
   "cell_type": "code",
   "execution_count": 27,
   "id": "d6e239d9-33ea-4b44-b8f1-b363730eac6b",
   "metadata": {},
   "outputs": [
    {
     "data": {
      "text/plain": [
       "dict_values([31, 20, 21, 28])"
      ]
     },
     "execution_count": 27,
     "metadata": {},
     "output_type": "execute_result"
    }
   ],
   "source": [
    "d.values()"
   ]
  },
  {
   "cell_type": "code",
   "execution_count": 25,
   "id": "00dc6b43-0372-43cf-98a7-f2601e578382",
   "metadata": {},
   "outputs": [
    {
     "data": {
      "text/plain": [
       "31"
      ]
     },
     "execution_count": 25,
     "metadata": {},
     "output_type": "execute_result"
    }
   ],
   "source": [
    "m=max(d.values())\n",
    "m"
   ]
  },
  {
   "cell_type": "code",
   "execution_count": 26,
   "id": "62139db6-6339-4c2b-bd6d-e0cbe163588f",
   "metadata": {},
   "outputs": [
    {
     "data": {
      "text/plain": [
       "dict_items([('usa', 31), ('china', 20), ('india', 21), ('aus', 28)])"
      ]
     },
     "execution_count": 26,
     "metadata": {},
     "output_type": "execute_result"
    }
   ],
   "source": [
    "d.items()"
   ]
  },
  {
   "cell_type": "code",
   "execution_count": 28,
   "id": "0799907b-5e8e-42db-b3e2-afd2dd181cec",
   "metadata": {},
   "outputs": [
    {
     "name": "stdout",
     "output_type": "stream",
     "text": [
      "usa\n"
     ]
    }
   ],
   "source": [
    "for key, value in d.items(): \n",
    "    if value==m: \n",
    "        print(key)"
   ]
  },
  {
   "cell_type": "code",
   "execution_count": null,
   "id": "8d0db610-70b1-4d6f-95d5-53697b0f1bbc",
   "metadata": {},
   "outputs": [],
   "source": []
  },
  {
   "cell_type": "markdown",
   "id": "49e70f05-451e-4171-a9fd-959da3b85b7b",
   "metadata": {},
   "source": [
    "# Spreadness Of Data\n",
    "1. range-> when we covers the speardness using range then it will covers the outliers \n",
    "2. standard deviation-> the average distance of all datapoints from mean.\n",
    "3. variance\n",
    "4. quantiles, IQR"
   ]
  },
  {
   "cell_type": "code",
   "execution_count": 30,
   "id": "2fd09245-0d8f-45f3-975b-58256127fc5e",
   "metadata": {},
   "outputs": [
    {
     "data": {
      "text/plain": [
       "26.45"
      ]
     },
     "execution_count": 30,
     "metadata": {},
     "output_type": "execute_result"
    }
   ],
   "source": [
    "mean=np.mean(ages)\n",
    "mean"
   ]
  },
  {
   "cell_type": "code",
   "execution_count": 33,
   "id": "263a8ed9-d8c8-47d0-8ec2-9686f8df57e7",
   "metadata": {},
   "outputs": [
    {
     "name": "stdout",
     "output_type": "stream",
     "text": [
      "[-2.5500000000000007, 4.449999999999999, -3.5500000000000007, 4.449999999999999, -3.5500000000000007, -7.550000000000001, 2.4499999999999993, -5.550000000000001, -5.550000000000001, 0.4499999999999993, -0.5500000000000007, 4.449999999999999, -2.5500000000000007, 5.449999999999999, -7.550000000000001, -5.550000000000001, -0.5500000000000007, 1.4499999999999993, -0.5500000000000007, 1.4499999999999993, 4.449999999999999, 5.449999999999999, -6.550000000000001, -5.550000000000001, 0.4499999999999993, 4.449999999999999, -6.550000000000001, 4.449999999999999, -2.5500000000000007, 6.449999999999999, -6.550000000000001, -1.5500000000000007, -0.5500000000000007, 4.449999999999999, -7.550000000000001, 5.449999999999999, -2.5500000000000007, -2.5500000000000007, -5.550000000000001, 3.4499999999999993, 1.4499999999999993, 1.4499999999999993, 5.449999999999999, 6.449999999999999, 0.4499999999999993, -0.5500000000000007, 4.449999999999999, 1.4499999999999993, 6.449999999999999, 6.449999999999999, 5.449999999999999, 4.449999999999999, 0.4499999999999993, 6.449999999999999, 1.4499999999999993, -6.550000000000001, -2.5500000000000007, 4.449999999999999, 6.449999999999999, -3.5500000000000007, -0.5500000000000007, -7.550000000000001, -1.5500000000000007, -1.5500000000000007, -3.5500000000000007, 1.4499999999999993, 3.4499999999999993, 2.4499999999999993, -0.5500000000000007, 5.449999999999999, -1.5500000000000007, 1.4499999999999993, -4.550000000000001, -6.550000000000001, 1.4499999999999993, 2.4499999999999993, -3.5500000000000007, -1.5500000000000007, 1.4499999999999993, -6.550000000000001, -2.5500000000000007, -7.550000000000001, -5.550000000000001, 0.4499999999999993, 3.4499999999999993, -5.550000000000001, -1.5500000000000007, 6.449999999999999, 5.449999999999999, -0.5500000000000007, 3.4499999999999993, -0.5500000000000007, 4.449999999999999, 6.449999999999999, 5.449999999999999, -2.5500000000000007, -4.550000000000001, 5.449999999999999, -3.5500000000000007, -6.550000000000001]\n"
     ]
    }
   ],
   "source": [
    "print([(mean-age)for age in ages])"
   ]
  },
  {
   "cell_type": "code",
   "execution_count": 34,
   "id": "5e35c268-2aa1-4df0-bfd1-cacb604f40f7",
   "metadata": {},
   "outputs": [
    {
     "data": {
      "text/plain": [
       "[2.5500000000000007,\n",
       " 4.449999999999999,\n",
       " 3.5500000000000007,\n",
       " 4.449999999999999,\n",
       " 3.5500000000000007,\n",
       " 7.550000000000001,\n",
       " 2.4499999999999993,\n",
       " 5.550000000000001,\n",
       " 5.550000000000001,\n",
       " 0.4499999999999993,\n",
       " 0.5500000000000007,\n",
       " 4.449999999999999,\n",
       " 2.5500000000000007,\n",
       " 5.449999999999999,\n",
       " 7.550000000000001,\n",
       " 5.550000000000001,\n",
       " 0.5500000000000007,\n",
       " 1.4499999999999993,\n",
       " 0.5500000000000007,\n",
       " 1.4499999999999993,\n",
       " 4.449999999999999,\n",
       " 5.449999999999999,\n",
       " 6.550000000000001,\n",
       " 5.550000000000001,\n",
       " 0.4499999999999993,\n",
       " 4.449999999999999,\n",
       " 6.550000000000001,\n",
       " 4.449999999999999,\n",
       " 2.5500000000000007,\n",
       " 6.449999999999999,\n",
       " 6.550000000000001,\n",
       " 1.5500000000000007,\n",
       " 0.5500000000000007,\n",
       " 4.449999999999999,\n",
       " 7.550000000000001,\n",
       " 5.449999999999999,\n",
       " 2.5500000000000007,\n",
       " 2.5500000000000007,\n",
       " 5.550000000000001,\n",
       " 3.4499999999999993,\n",
       " 1.4499999999999993,\n",
       " 1.4499999999999993,\n",
       " 5.449999999999999,\n",
       " 6.449999999999999,\n",
       " 0.4499999999999993,\n",
       " 0.5500000000000007,\n",
       " 4.449999999999999,\n",
       " 1.4499999999999993,\n",
       " 6.449999999999999,\n",
       " 6.449999999999999,\n",
       " 5.449999999999999,\n",
       " 4.449999999999999,\n",
       " 0.4499999999999993,\n",
       " 6.449999999999999,\n",
       " 1.4499999999999993,\n",
       " 6.550000000000001,\n",
       " 2.5500000000000007,\n",
       " 4.449999999999999,\n",
       " 6.449999999999999,\n",
       " 3.5500000000000007,\n",
       " 0.5500000000000007,\n",
       " 7.550000000000001,\n",
       " 1.5500000000000007,\n",
       " 1.5500000000000007,\n",
       " 3.5500000000000007,\n",
       " 1.4499999999999993,\n",
       " 3.4499999999999993,\n",
       " 2.4499999999999993,\n",
       " 0.5500000000000007,\n",
       " 5.449999999999999,\n",
       " 1.5500000000000007,\n",
       " 1.4499999999999993,\n",
       " 4.550000000000001,\n",
       " 6.550000000000001,\n",
       " 1.4499999999999993,\n",
       " 2.4499999999999993,\n",
       " 3.5500000000000007,\n",
       " 1.5500000000000007,\n",
       " 1.4499999999999993,\n",
       " 6.550000000000001,\n",
       " 2.5500000000000007,\n",
       " 7.550000000000001,\n",
       " 5.550000000000001,\n",
       " 0.4499999999999993,\n",
       " 3.4499999999999993,\n",
       " 5.550000000000001,\n",
       " 1.5500000000000007,\n",
       " 6.449999999999999,\n",
       " 5.449999999999999,\n",
       " 0.5500000000000007,\n",
       " 3.4499999999999993,\n",
       " 0.5500000000000007,\n",
       " 4.449999999999999,\n",
       " 6.449999999999999,\n",
       " 5.449999999999999,\n",
       " 2.5500000000000007,\n",
       " 4.550000000000001,\n",
       " 5.449999999999999,\n",
       " 3.5500000000000007,\n",
       " 6.550000000000001]"
      ]
     },
     "execution_count": 34,
     "metadata": {},
     "output_type": "execute_result"
    }
   ],
   "source": [
    "d=[abs(mean-age)for age in ages]\n",
    "d"
   ]
  },
  {
   "cell_type": "code",
   "execution_count": 36,
   "id": "7d70f8ae-b9cf-48dd-8685-6923161dd292",
   "metadata": {},
   "outputs": [
    {
     "data": {
      "text/plain": [
       "3.75"
      ]
     },
     "execution_count": 36,
     "metadata": {},
     "output_type": "execute_result"
    }
   ],
   "source": [
    "np.mean(d)"
   ]
  },
  {
   "cell_type": "code",
   "execution_count": 37,
   "id": "27fbfa4c-f39f-4051-8bd4-4beac0956e61",
   "metadata": {},
   "outputs": [
    {
     "data": {
      "text/plain": [
       "4.350574674683794"
      ]
     },
     "execution_count": 37,
     "metadata": {},
     "output_type": "execute_result"
    }
   ],
   "source": [
    "np.std(ages)"
   ]
  },
  {
   "cell_type": "code",
   "execution_count": 38,
   "id": "f0ff57c9-c3b8-4fa3-a976-a2e8fcedbb9d",
   "metadata": {},
   "outputs": [
    {
     "data": {
      "text/plain": [
       "18.9275"
      ]
     },
     "execution_count": 38,
     "metadata": {},
     "output_type": "execute_result"
    }
   ],
   "source": [
    "np.var(ages)"
   ]
  },
  {
   "cell_type": "code",
   "execution_count": null,
   "id": "82ebf6e3-a02f-4b3a-a851-f093e044b17b",
   "metadata": {},
   "outputs": [],
   "source": []
  },
  {
   "cell_type": "code",
   "execution_count": 39,
   "id": "f89a3e05-7978-4d18-a719-2533c8f7d1dc",
   "metadata": {},
   "outputs": [
    {
     "data": {
      "text/plain": [
       "array([29, 22, 30, 22, 30, 34, 24, 32, 32, 26, 27, 22, 29, 21, 34, 32, 27,\n",
       "       25, 27, 25, 22, 21, 33, 32, 26, 22, 33, 22, 29, 20, 33, 28, 27, 22,\n",
       "       34, 21, 29, 29, 32, 23, 25, 25, 21, 20, 26, 27, 22, 25, 20, 20, 21,\n",
       "       22, 26, 20, 25, 33, 29, 22, 20, 30, 27, 34, 28, 28, 30, 25, 23, 24,\n",
       "       27, 21, 28, 25, 31, 33, 25, 24, 30, 28, 25, 33, 29, 34, 32, 26, 23,\n",
       "       32, 28, 20, 21, 27, 23, 27, 22, 20, 21, 29, 31, 21, 30, 33])"
      ]
     },
     "execution_count": 39,
     "metadata": {},
     "output_type": "execute_result"
    }
   ],
   "source": [
    "ages"
   ]
  },
  {
   "cell_type": "code",
   "execution_count": 40,
   "id": "33a26f0b-2c27-4541-a24e-34ecd07762d5",
   "metadata": {},
   "outputs": [
    {
     "data": {
      "text/plain": [
       "100"
      ]
     },
     "execution_count": 40,
     "metadata": {},
     "output_type": "execute_result"
    }
   ],
   "source": [
    "ages.size"
   ]
  },
  {
   "cell_type": "code",
   "execution_count": 48,
   "id": "e3b8c7d3-ab98-4f72-919c-7fbd8125235c",
   "metadata": {},
   "outputs": [
    {
     "data": {
      "text/plain": [
       "1"
      ]
     },
     "execution_count": 48,
     "metadata": {},
     "output_type": "execute_result"
    }
   ],
   "source": [
    "ages.ndim"
   ]
  },
  {
   "cell_type": "code",
   "execution_count": 49,
   "id": "8994b46a-01dc-41ca-8d53-592d7565c3bc",
   "metadata": {},
   "outputs": [
    {
     "data": {
      "text/plain": [
       "(100,)"
      ]
     },
     "execution_count": 49,
     "metadata": {},
     "output_type": "execute_result"
    }
   ],
   "source": [
    "ages.shape"
   ]
  },
  {
   "cell_type": "code",
   "execution_count": null,
   "id": "e7eb33fe-9f00-4215-a32b-efe48e3a1b27",
   "metadata": {},
   "outputs": [],
   "source": []
  },
  {
   "cell_type": "code",
   "execution_count": 55,
   "id": "15071316-7365-440b-ba43-2152a86b0295",
   "metadata": {},
   "outputs": [
    {
     "data": {
      "text/plain": [
       "array([ 0,  0,  0,  0, 77, 99, 33, 77])"
      ]
     },
     "execution_count": 55,
     "metadata": {},
     "output_type": "execute_result"
    }
   ],
   "source": [
    "arr=np.array([0,0,0,0,77,99,33,77])\n",
    "arr"
   ]
  },
  {
   "cell_type": "code",
   "execution_count": 56,
   "id": "acb387ab-2bc1-4c4b-8b28-69b164832af9",
   "metadata": {},
   "outputs": [
    {
     "data": {
      "text/plain": [
       "0"
      ]
     },
     "execution_count": 56,
     "metadata": {},
     "output_type": "execute_result"
    }
   ],
   "source": [
    "arr[0]"
   ]
  },
  {
   "cell_type": "code",
   "execution_count": 57,
   "id": "b8080c67-b051-4411-8e3d-2d10c66393f1",
   "metadata": {},
   "outputs": [
    {
     "data": {
      "text/plain": [
       "array([ 0, 77,  0])"
      ]
     },
     "execution_count": 57,
     "metadata": {},
     "output_type": "execute_result"
    }
   ],
   "source": [
    "arr[[3,7,2]]"
   ]
  },
  {
   "cell_type": "code",
   "execution_count": 60,
   "id": "39f807a0-d1f8-47a5-9d0c-b2b80fcab83c",
   "metadata": {},
   "outputs": [
    {
     "data": {
      "text/plain": [
       "array([ 0,  0, 33, 77])"
      ]
     },
     "execution_count": 60,
     "metadata": {},
     "output_type": "execute_result"
    }
   ],
   "source": [
    "arr[[False, True, False, True, False, False, True, True]]"
   ]
  },
  {
   "cell_type": "code",
   "execution_count": null,
   "id": "ed63926c-8af4-4fc9-bee9-ef967c7dd147",
   "metadata": {},
   "outputs": [],
   "source": []
  },
  {
   "cell_type": "code",
   "execution_count": 61,
   "id": "cfa83300-fada-49c6-b4aa-4042c2bda9f1",
   "metadata": {},
   "outputs": [
    {
     "data": {
      "text/plain": [
       "array([ 0,  0,  0,  0, 77, 99, 33, 77])"
      ]
     },
     "execution_count": 61,
     "metadata": {},
     "output_type": "execute_result"
    }
   ],
   "source": [
    "arr"
   ]
  },
  {
   "cell_type": "code",
   "execution_count": 62,
   "id": "6c6e404b-e453-46f8-ac45-d17073206d0f",
   "metadata": {},
   "outputs": [
    {
     "data": {
      "text/plain": [
       "array([False, False, False, False,  True,  True, False,  True])"
      ]
     },
     "execution_count": 62,
     "metadata": {},
     "output_type": "execute_result"
    }
   ],
   "source": [
    "arr > 70 "
   ]
  },
  {
   "cell_type": "code",
   "execution_count": 63,
   "id": "a5c2ab79-23f3-40e1-a1e6-890390b73f18",
   "metadata": {},
   "outputs": [
    {
     "data": {
      "text/plain": [
       "array([77, 99, 77])"
      ]
     },
     "execution_count": 63,
     "metadata": {},
     "output_type": "execute_result"
    }
   ],
   "source": [
    "arr[arr>70]"
   ]
  },
  {
   "cell_type": "code",
   "execution_count": null,
   "id": "4a39585d-b69d-45e4-afd2-9e954d38f2f1",
   "metadata": {},
   "outputs": [],
   "source": [
    "    "
   ]
  },
  {
   "cell_type": "code",
   "execution_count": 64,
   "id": "b28866cb-4658-459a-9f91-e4a48453066d",
   "metadata": {},
   "outputs": [
    {
     "data": {
      "text/plain": [
       "array([20, 25, 30, 35, 40, 45, 50])"
      ]
     },
     "execution_count": 64,
     "metadata": {},
     "output_type": "execute_result"
    }
   ],
   "source": [
    "np.arange(20,51,5)"
   ]
  },
  {
   "cell_type": "code",
   "execution_count": 66,
   "id": "d2cdd46f-1f77-4ae7-9f24-742488f6f88c",
   "metadata": {},
   "outputs": [
    {
     "data": {
      "text/plain": [
       "array([-5. , -4.5, -4. , -3.5, -3. , -2.5, -2. , -1.5, -1. , -0.5,  0. ,\n",
       "        0.5,  1. ,  1.5,  2. ,  2.5,  3. ,  3.5,  4. ,  4.5,  5. ])"
      ]
     },
     "execution_count": 66,
     "metadata": {},
     "output_type": "execute_result"
    }
   ],
   "source": [
    "np.arange(-5,5.5,.5)"
   ]
  },
  {
   "cell_type": "code",
   "execution_count": null,
   "id": "a5b1ad81-2e42-473e-9cb5-844bb972d505",
   "metadata": {},
   "outputs": [],
   "source": []
  },
  {
   "cell_type": "code",
   "execution_count": 68,
   "id": "88c427f5-7419-4927-a25c-9e4b03ec5cf1",
   "metadata": {},
   "outputs": [
    {
     "data": {
      "text/plain": [
       "array([ 1.,  2.,  3.,  4.,  5.,  6.,  7.,  8.,  9., 10.])"
      ]
     },
     "execution_count": 68,
     "metadata": {},
     "output_type": "execute_result"
    }
   ],
   "source": [
    "np.linspace(1,10, 10)"
   ]
  },
  {
   "cell_type": "code",
   "execution_count": 69,
   "id": "c5be89e6-9a64-411b-92be-2a007c1ea087",
   "metadata": {},
   "outputs": [
    {
     "data": {
      "text/plain": [
       "array([ 1.        ,  1.47368421,  1.94736842,  2.42105263,  2.89473684,\n",
       "        3.36842105,  3.84210526,  4.31578947,  4.78947368,  5.26315789,\n",
       "        5.73684211,  6.21052632,  6.68421053,  7.15789474,  7.63157895,\n",
       "        8.10526316,  8.57894737,  9.05263158,  9.52631579, 10.        ])"
      ]
     },
     "execution_count": 69,
     "metadata": {},
     "output_type": "execute_result"
    }
   ],
   "source": [
    "np.linspace(1,10,20)"
   ]
  },
  {
   "cell_type": "code",
   "execution_count": 70,
   "id": "39674430-c0e7-45a2-a13d-c09c9368eecc",
   "metadata": {},
   "outputs": [
    {
     "data": {
      "text/plain": [
       "array([0., 1.])"
      ]
     },
     "execution_count": 70,
     "metadata": {},
     "output_type": "execute_result"
    }
   ],
   "source": [
    "np.linspace(0,1,2)"
   ]
  },
  {
   "cell_type": "code",
   "execution_count": 72,
   "id": "31739530-d73e-473d-8034-bd393b48e0d3",
   "metadata": {},
   "outputs": [
    {
     "data": {
      "text/plain": [
       "array([0. , 0.5, 1. ])"
      ]
     },
     "execution_count": 72,
     "metadata": {},
     "output_type": "execute_result"
    }
   ],
   "source": [
    "np.linspace(0,1,3)"
   ]
  },
  {
   "cell_type": "code",
   "execution_count": 71,
   "id": "e967b3de-5488-47ef-8a90-7a7dde08ab3f",
   "metadata": {},
   "outputs": [
    {
     "data": {
      "text/plain": [
       "array([0.  , 0.25, 0.5 , 0.75, 1.  ])"
      ]
     },
     "execution_count": 71,
     "metadata": {},
     "output_type": "execute_result"
    }
   ],
   "source": [
    "np.linspace(0,1,5)"
   ]
  },
  {
   "cell_type": "code",
   "execution_count": 73,
   "id": "2fb5b3df-fbf1-431c-99a9-1a49f141de0a",
   "metadata": {},
   "outputs": [
    {
     "data": {
      "text/plain": [
       "array([0.        , 0.11111111, 0.22222222, 0.33333333, 0.44444444,\n",
       "       0.55555556, 0.66666667, 0.77777778, 0.88888889, 1.        ])"
      ]
     },
     "execution_count": 73,
     "metadata": {},
     "output_type": "execute_result"
    }
   ],
   "source": [
    "np.linspace(0,1,10)"
   ]
  },
  {
   "cell_type": "code",
   "execution_count": null,
   "id": "c42c802e-6d4e-46f9-9c53-8d5fdb36faa6",
   "metadata": {},
   "outputs": [],
   "source": []
  },
  {
   "cell_type": "markdown",
   "id": "5ed3f1d7-5d80-4f9e-863e-71b7e635ca83",
   "metadata": {},
   "source": [
    "# Multidimensional Arrays"
   ]
  },
  {
   "cell_type": "code",
   "execution_count": 81,
   "id": "abc9412d-6eb0-44a4-aa0f-acd5fa87d696",
   "metadata": {},
   "outputs": [
    {
     "data": {
      "text/plain": [
       "array([21, 30, 42, 31, 35, 30, 36, 24, 46, 47, 42, 46, 49, 25, 27, 26, 41,\n",
       "       33, 44, 49, 50, 32, 46, 43, 37, 38, 28, 27, 41, 29, 39, 28, 39, 31,\n",
       "       23, 34, 21, 23, 44, 43, 36, 28, 46, 38, 36, 50, 41, 47, 49, 26, 26,\n",
       "       24, 37, 30, 31, 28, 30, 48, 31, 39, 37, 41, 25, 23, 31, 40, 34, 37,\n",
       "       32, 36, 38, 22, 29, 44, 29, 37, 48, 34, 33, 47, 47, 21, 34, 38, 33,\n",
       "       29, 38, 50, 49, 34, 24, 42, 50, 32, 28, 24, 32, 26, 44, 24])"
      ]
     },
     "execution_count": 81,
     "metadata": {},
     "output_type": "execute_result"
    }
   ],
   "source": [
    "arr_1d=np.random.randint(20,51,100)\n",
    "arr_1d"
   ]
  },
  {
   "cell_type": "code",
   "execution_count": 82,
   "id": "2d50537d-4349-4cc7-a994-c57f31281fdf",
   "metadata": {},
   "outputs": [
    {
     "data": {
      "text/plain": [
       "array([[21, 30, 42, 31, 35, 30, 36, 24, 46, 47],\n",
       "       [42, 46, 49, 25, 27, 26, 41, 33, 44, 49],\n",
       "       [50, 32, 46, 43, 37, 38, 28, 27, 41, 29],\n",
       "       [39, 28, 39, 31, 23, 34, 21, 23, 44, 43],\n",
       "       [36, 28, 46, 38, 36, 50, 41, 47, 49, 26],\n",
       "       [26, 24, 37, 30, 31, 28, 30, 48, 31, 39],\n",
       "       [37, 41, 25, 23, 31, 40, 34, 37, 32, 36],\n",
       "       [38, 22, 29, 44, 29, 37, 48, 34, 33, 47],\n",
       "       [47, 21, 34, 38, 33, 29, 38, 50, 49, 34],\n",
       "       [24, 42, 50, 32, 28, 24, 32, 26, 44, 24]])"
      ]
     },
     "execution_count": 82,
     "metadata": {},
     "output_type": "execute_result"
    }
   ],
   "source": [
    "arr_2d=arr_1d.reshape(10,10)\n",
    "arr_2d"
   ]
  },
  {
   "cell_type": "code",
   "execution_count": 83,
   "id": "4ea4315f-6d0c-4889-b9b0-6410691833b4",
   "metadata": {},
   "outputs": [
    {
     "data": {
      "text/plain": [
       "array([[[21, 30, 42, 31, 35],\n",
       "        [30, 36, 24, 46, 47],\n",
       "        [42, 46, 49, 25, 27],\n",
       "        [26, 41, 33, 44, 49],\n",
       "        [50, 32, 46, 43, 37],\n",
       "        [38, 28, 27, 41, 29],\n",
       "        [39, 28, 39, 31, 23],\n",
       "        [34, 21, 23, 44, 43],\n",
       "        [36, 28, 46, 38, 36],\n",
       "        [50, 41, 47, 49, 26]],\n",
       "\n",
       "       [[26, 24, 37, 30, 31],\n",
       "        [28, 30, 48, 31, 39],\n",
       "        [37, 41, 25, 23, 31],\n",
       "        [40, 34, 37, 32, 36],\n",
       "        [38, 22, 29, 44, 29],\n",
       "        [37, 48, 34, 33, 47],\n",
       "        [47, 21, 34, 38, 33],\n",
       "        [29, 38, 50, 49, 34],\n",
       "        [24, 42, 50, 32, 28],\n",
       "        [24, 32, 26, 44, 24]]])"
      ]
     },
     "execution_count": 83,
     "metadata": {},
     "output_type": "execute_result"
    }
   ],
   "source": [
    "arr_3d=arr_1d.reshape(2,10,5)\n",
    "arr_3d"
   ]
  },
  {
   "cell_type": "code",
   "execution_count": null,
   "id": "33194bae-a9f8-4c3b-8812-11f3bbd89672",
   "metadata": {},
   "outputs": [],
   "source": []
  },
  {
   "cell_type": "code",
   "execution_count": 84,
   "id": "96f3c7f0-d48e-4212-980d-089d6893309a",
   "metadata": {},
   "outputs": [
    {
     "data": {
      "text/plain": [
       "array([23, 23, 31, 32, 27, 26, 27, 23, 27, 26, 29, 31, 31, 28, 33, 22, 22,\n",
       "       30, 24, 29, 28, 33, 29, 31, 26, 21, 20, 34, 27, 31, 32, 20, 30, 32,\n",
       "       30, 34, 24, 29, 22, 26, 28, 23, 27, 25, 30, 24, 31, 22, 29, 24, 26,\n",
       "       33, 32, 29, 31, 26, 30, 27, 20, 20, 24, 27, 33, 28, 26, 25, 26, 23,\n",
       "       33, 34, 31, 25, 27, 26, 26, 24, 30, 33, 32, 23, 34, 26, 28, 29, 28,\n",
       "       25, 27, 20, 34, 26, 20, 26, 27, 27, 24, 27, 26, 23, 23, 31])"
      ]
     },
     "execution_count": 84,
     "metadata": {},
     "output_type": "execute_result"
    }
   ],
   "source": [
    "np.random.randint(20,35,100)"
   ]
  },
  {
   "cell_type": "code",
   "execution_count": 85,
   "id": "26bb9c60-5c8b-42e4-b4f1-ec333a2f9577",
   "metadata": {},
   "outputs": [
    {
     "data": {
      "text/plain": [
       "array([[29, 20, 28, 31],\n",
       "       [21, 32, 25, 22],\n",
       "       [32, 30, 26, 22],\n",
       "       [27, 30, 27, 22],\n",
       "       [25, 33, 26, 23],\n",
       "       [29, 20, 22, 23],\n",
       "       [31, 27, 20, 28],\n",
       "       [24, 20, 21, 30],\n",
       "       [20, 33, 24, 32],\n",
       "       [29, 20, 21, 24]])"
      ]
     },
     "execution_count": 85,
     "metadata": {},
     "output_type": "execute_result"
    }
   ],
   "source": [
    "np.random.randint(20,35,(10,4))"
   ]
  },
  {
   "cell_type": "code",
   "execution_count": 86,
   "id": "c866172c-6a2d-448e-a537-41ae57528a70",
   "metadata": {},
   "outputs": [
    {
     "data": {
      "text/plain": [
       "array([[[31, 27, 23, 25, 28],\n",
       "        [28, 25, 21, 32, 33],\n",
       "        [34, 28, 21, 29, 26],\n",
       "        [20, 34, 32, 25, 21]],\n",
       "\n",
       "       [[33, 33, 30, 29, 34],\n",
       "        [31, 25, 22, 23, 29],\n",
       "        [27, 21, 20, 33, 20],\n",
       "        [31, 22, 31, 31, 30]],\n",
       "\n",
       "       [[21, 30, 24, 30, 32],\n",
       "        [34, 30, 23, 20, 34],\n",
       "        [23, 31, 34, 21, 33],\n",
       "        [23, 30, 25, 21, 26]],\n",
       "\n",
       "       [[31, 30, 24, 23, 24],\n",
       "        [34, 27, 27, 33, 31],\n",
       "        [30, 33, 30, 29, 27],\n",
       "        [31, 20, 33, 32, 30]],\n",
       "\n",
       "       [[21, 25, 29, 21, 25],\n",
       "        [34, 21, 20, 34, 29],\n",
       "        [24, 32, 30, 30, 26],\n",
       "        [31, 31, 22, 29, 20]]])"
      ]
     },
     "execution_count": 86,
     "metadata": {},
     "output_type": "execute_result"
    }
   ],
   "source": [
    "np.random.randint(20,35,(5,4,5))"
   ]
  },
  {
   "cell_type": "code",
   "execution_count": null,
   "id": "051aec35-36d6-420f-af27-afe75b0609c0",
   "metadata": {},
   "outputs": [],
   "source": []
  },
  {
   "cell_type": "code",
   "execution_count": 97,
   "id": "7a2e7a1f-0bd8-4ffa-9543-59c56e7d94d5",
   "metadata": {},
   "outputs": [
    {
     "data": {
      "text/plain": [
       "array([[20, 43, 33, 26, 36],\n",
       "       [47, 22, 44, 33, 37],\n",
       "       [24, 31, 24, 35, 46],\n",
       "       [41, 23, 34, 46, 25]])"
      ]
     },
     "execution_count": 97,
     "metadata": {},
     "output_type": "execute_result"
    }
   ],
   "source": [
    "arr_2d=np.random.randint(20,50,(4,5))\n",
    "arr_2d"
   ]
  },
  {
   "cell_type": "code",
   "execution_count": 98,
   "id": "272855d2-65e3-45db-a9bc-6d7576296b17",
   "metadata": {},
   "outputs": [
    {
     "data": {
      "text/plain": [
       "array([47, 22, 44, 33, 37])"
      ]
     },
     "execution_count": 98,
     "metadata": {},
     "output_type": "execute_result"
    }
   ],
   "source": [
    "arr_2d[1]"
   ]
  },
  {
   "cell_type": "code",
   "execution_count": 99,
   "id": "f3f48323-f6a5-4dac-8e83-4d28ba6a8e11",
   "metadata": {},
   "outputs": [
    {
     "data": {
      "text/plain": [
       "33"
      ]
     },
     "execution_count": 99,
     "metadata": {},
     "output_type": "execute_result"
    }
   ],
   "source": [
    "arr_2d[1][3]"
   ]
  },
  {
   "cell_type": "code",
   "execution_count": 100,
   "id": "d6e0dd7e-d50f-4f39-89bf-ae940f365331",
   "metadata": {},
   "outputs": [
    {
     "data": {
      "text/plain": [
       "33"
      ]
     },
     "execution_count": 100,
     "metadata": {},
     "output_type": "execute_result"
    }
   ],
   "source": [
    "arr_2d[1,3]"
   ]
  },
  {
   "cell_type": "code",
   "execution_count": 101,
   "id": "5afd08f1-0884-4a93-a5e5-3af375bbcba6",
   "metadata": {},
   "outputs": [
    {
     "data": {
      "text/plain": [
       "33"
      ]
     },
     "execution_count": 101,
     "metadata": {},
     "output_type": "execute_result"
    }
   ],
   "source": [
    "arr_2d[1,-2]"
   ]
  },
  {
   "cell_type": "code",
   "execution_count": 102,
   "id": "52de7efd-603b-4507-8b59-05a8cb53bfa8",
   "metadata": {},
   "outputs": [
    {
     "data": {
      "text/plain": [
       "array([[22],\n",
       "       [31]])"
      ]
     },
     "execution_count": 102,
     "metadata": {},
     "output_type": "execute_result"
    }
   ],
   "source": [
    "arr_2d[1:3, 1:2]"
   ]
  },
  {
   "cell_type": "code",
   "execution_count": 103,
   "id": "5cb19c9f-3ec2-46d8-9578-3c518ad86177",
   "metadata": {},
   "outputs": [
    {
     "data": {
      "text/plain": [
       "array([[22, 44],\n",
       "       [31, 24]])"
      ]
     },
     "execution_count": 103,
     "metadata": {},
     "output_type": "execute_result"
    }
   ],
   "source": [
    "arr_2d[1:3,1:3]    "
   ]
  },
  {
   "cell_type": "code",
   "execution_count": 104,
   "id": "843f690b-03f6-4aa0-8ed4-6bb7b3643267",
   "metadata": {},
   "outputs": [
    {
     "data": {
      "text/plain": [
       "array([[44, 33],\n",
       "       [24, 35]])"
      ]
     },
     "execution_count": 104,
     "metadata": {},
     "output_type": "execute_result"
    }
   ],
   "source": [
    "arr_2d[1:3,2:4]    "
   ]
  },
  {
   "cell_type": "code",
   "execution_count": null,
   "id": "a3b2f4cb-ef19-4f40-95ee-e168253eccfc",
   "metadata": {},
   "outputs": [],
   "source": []
  },
  {
   "cell_type": "code",
   "execution_count": 105,
   "id": "c6c3389d-39cc-487c-a8a5-5623d16cf5ac",
   "metadata": {},
   "outputs": [
    {
     "data": {
      "text/plain": [
       "array([[[30, 45, 20, 25],\n",
       "        [20, 21, 49, 31],\n",
       "        [36, 20, 40, 27]],\n",
       "\n",
       "       [[45, 45, 21, 43],\n",
       "        [49, 30, 20, 22],\n",
       "        [29, 50, 42, 24]],\n",
       "\n",
       "       [[38, 38, 24, 20],\n",
       "        [42, 34, 49, 30],\n",
       "        [27, 45, 44, 22]]])"
      ]
     },
     "execution_count": 105,
     "metadata": {},
     "output_type": "execute_result"
    }
   ],
   "source": [
    "arr_3d=np.random.randint(20,51,(3,3,4))\n",
    "arr_3d"
   ]
  },
  {
   "cell_type": "code",
   "execution_count": 106,
   "id": "6ad28c76-3a83-46aa-804b-ba11f06ec3a3",
   "metadata": {},
   "outputs": [
    {
     "data": {
      "text/plain": [
       "36"
      ]
     },
     "execution_count": 106,
     "metadata": {},
     "output_type": "execute_result"
    }
   ],
   "source": [
    "arr_3d.size"
   ]
  },
  {
   "cell_type": "code",
   "execution_count": 107,
   "id": "8c511ae9-7b89-4555-9b5a-efe47dfe47fb",
   "metadata": {},
   "outputs": [
    {
     "data": {
      "text/plain": [
       "(3, 3, 4)"
      ]
     },
     "execution_count": 107,
     "metadata": {},
     "output_type": "execute_result"
    }
   ],
   "source": [
    "arr_3d.shape"
   ]
  },
  {
   "cell_type": "code",
   "execution_count": 108,
   "id": "787d9130-8572-49ca-9808-e2054a43e33d",
   "metadata": {},
   "outputs": [
    {
     "data": {
      "text/plain": [
       "3"
      ]
     },
     "execution_count": 108,
     "metadata": {},
     "output_type": "execute_result"
    }
   ],
   "source": [
    "arr_3d.ndim"
   ]
  },
  {
   "cell_type": "code",
   "execution_count": 109,
   "id": "621c0e99-e897-47aa-aedf-7c3652db8ae3",
   "metadata": {},
   "outputs": [
    {
     "data": {
      "text/plain": [
       "array([[[30, 45, 20, 25],\n",
       "        [20, 21, 49, 31],\n",
       "        [36, 20, 40, 27]],\n",
       "\n",
       "       [[45, 45, 21, 43],\n",
       "        [49, 30, 20, 22],\n",
       "        [29, 50, 42, 24]],\n",
       "\n",
       "       [[38, 38, 24, 20],\n",
       "        [42, 34, 49, 30],\n",
       "        [27, 45, 44, 22]]])"
      ]
     },
     "execution_count": 109,
     "metadata": {},
     "output_type": "execute_result"
    }
   ],
   "source": [
    "arr_3d"
   ]
  },
  {
   "cell_type": "code",
   "execution_count": 110,
   "id": "48fefbcb-3cfa-4610-9156-0ee3b9749132",
   "metadata": {},
   "outputs": [
    {
     "data": {
      "text/plain": [
       "array([[45, 45, 21, 43],\n",
       "       [49, 30, 20, 22],\n",
       "       [29, 50, 42, 24]])"
      ]
     },
     "execution_count": 110,
     "metadata": {},
     "output_type": "execute_result"
    }
   ],
   "source": [
    "arr_3d[1]"
   ]
  },
  {
   "cell_type": "code",
   "execution_count": 113,
   "id": "d2da7330-1262-4ec7-9946-800d99fe479a",
   "metadata": {},
   "outputs": [
    {
     "data": {
      "text/plain": [
       "42"
      ]
     },
     "execution_count": 113,
     "metadata": {},
     "output_type": "execute_result"
    }
   ],
   "source": [
    "arr_3d[1,-1,-2]"
   ]
  },
  {
   "cell_type": "code",
   "execution_count": 114,
   "id": "473da86a-2522-4eb2-a24e-375c9cc86e41",
   "metadata": {},
   "outputs": [
    {
     "data": {
      "text/plain": [
       "array([[[30, 20],\n",
       "        [36, 40]],\n",
       "\n",
       "       [[38, 24],\n",
       "        [27, 44]]])"
      ]
     },
     "execution_count": 114,
     "metadata": {},
     "output_type": "execute_result"
    }
   ],
   "source": [
    "arr_3d[::2,::2,::2]"
   ]
  },
  {
   "cell_type": "code",
   "execution_count": null,
   "id": "2fac41b9-f127-47fb-b233-8abec1bb7380",
   "metadata": {},
   "outputs": [],
   "source": []
  }
 ],
 "metadata": {
  "kernelspec": {
   "display_name": "Python 3 (ipykernel)",
   "language": "python",
   "name": "python3"
  },
  "language_info": {
   "codemirror_mode": {
    "name": "ipython",
    "version": 3
   },
   "file_extension": ".py",
   "mimetype": "text/x-python",
   "name": "python",
   "nbconvert_exporter": "python",
   "pygments_lexer": "ipython3",
   "version": "3.11.3"
  }
 },
 "nbformat": 4,
 "nbformat_minor": 5
}
