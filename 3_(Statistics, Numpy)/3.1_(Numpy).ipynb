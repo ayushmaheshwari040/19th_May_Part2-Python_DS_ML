{
 "cells": [
  {
   "cell_type": "code",
   "execution_count": 1,
   "id": "ae3960b6-00a8-4db9-a148-3e9ad5b97d08",
   "metadata": {},
   "outputs": [],
   "source": [
    "import numpy as np"
   ]
  },
  {
   "cell_type": "code",
   "execution_count": 4,
   "id": "39506120-d1a2-4470-bb34-d5a7cbdc6fa1",
   "metadata": {},
   "outputs": [
    {
     "data": {
      "text/plain": [
       "array([21,  5,  2, 67, 34, 89, 34, 98])"
      ]
     },
     "execution_count": 4,
     "metadata": {},
     "output_type": "execute_result"
    }
   ],
   "source": [
    "arr=np.array([21,5,2,67,34,89,34,98])\n",
    "arr"
   ]
  },
  {
   "cell_type": "code",
   "execution_count": 5,
   "id": "9671e0cb-8797-4335-a780-546e3422598c",
   "metadata": {},
   "outputs": [
    {
     "data": {
      "text/plain": [
       "array([2, 1, 0, 4, 6, 3, 5, 7], dtype=int64)"
      ]
     },
     "execution_count": 5,
     "metadata": {},
     "output_type": "execute_result"
    }
   ],
   "source": [
    "arr.argsort()"
   ]
  },
  {
   "cell_type": "code",
   "execution_count": 6,
   "id": "45b75af3-9b31-40dc-b9b6-5ce784b9a319",
   "metadata": {},
   "outputs": [
    {
     "data": {
      "text/plain": [
       "array([ 2,  5, 21, 34, 34, 67, 89, 98])"
      ]
     },
     "execution_count": 6,
     "metadata": {},
     "output_type": "execute_result"
    }
   ],
   "source": [
    "arr[arr.argsort()]"
   ]
  },
  {
   "cell_type": "code",
   "execution_count": null,
   "id": "2a8fe70c-067f-471e-8bb2-ff353cf261e6",
   "metadata": {},
   "outputs": [],
   "source": []
  },
  {
   "cell_type": "code",
   "execution_count": 11,
   "id": "6bd406e5-931e-4565-b9a1-936b1380574c",
   "metadata": {},
   "outputs": [],
   "source": [
    "# let colums are like that cost_price, selling_price, quantity. Find out the profit\n",
    "arr_2d=np.array([\n",
    "    [5000,5600,9],\n",
    "    [4300,5000,6],\n",
    "    [2200,3000,8],\n",
    "    [2900,4500,10]\n",
    "])"
   ]
  },
  {
   "cell_type": "code",
   "execution_count": 17,
   "id": "58926428-a4a8-45a0-b733-cb92ab2ae5ea",
   "metadata": {},
   "outputs": [
    {
     "data": {
      "text/plain": [
       "array([[5000, 5600,    9],\n",
       "       [4300, 5000,    6],\n",
       "       [2200, 3000,    8],\n",
       "       [2900, 4500,   10]])"
      ]
     },
     "execution_count": 17,
     "metadata": {},
     "output_type": "execute_result"
    }
   ],
   "source": [
    "arr_2d"
   ]
  },
  {
   "cell_type": "code",
   "execution_count": 22,
   "id": "b762f484-bd5e-4c68-a894-6865dc49de8b",
   "metadata": {},
   "outputs": [
    {
     "data": {
      "text/plain": [
       "array([ 5400,  4200,  6400, 16000])"
      ]
     },
     "execution_count": 22,
     "metadata": {},
     "output_type": "execute_result"
    }
   ],
   "source": [
    "profit=arr_2d[:,2]*(arr_2d[:,1]-arr_2d[:,0])\n",
    "profit"
   ]
  },
  {
   "cell_type": "code",
   "execution_count": 24,
   "id": "3c25c17c-1423-4e54-b27e-196e2f527873",
   "metadata": {},
   "outputs": [
    {
     "data": {
      "text/plain": [
       "32000"
      ]
     },
     "execution_count": 24,
     "metadata": {},
     "output_type": "execute_result"
    }
   ],
   "source": [
    "total_profit=profit.sum()\n",
    "total_profit"
   ]
  },
  {
   "cell_type": "code",
   "execution_count": null,
   "id": "20faa64d-20dc-4246-b414-4cdbe98b5af9",
   "metadata": {},
   "outputs": [],
   "source": []
  },
  {
   "cell_type": "code",
   "execution_count": 30,
   "id": "e6d702ea-4963-4106-9350-bda670871439",
   "metadata": {},
   "outputs": [
    {
     "name": "stdout",
     "output_type": "stream",
     "text": [
      "Overwriting data.csv\n"
     ]
    }
   ],
   "source": [
    "%%writefile data.csv\n",
    "price,selling_price,quantity\n",
    "5000,5600,9\n",
    "4300,5000,6\n",
    "2200,3000,8\n",
    "2900,4500,10"
   ]
  },
  {
   "cell_type": "code",
   "execution_count": 32,
   "id": "fee19454-d855-4a27-a6e6-8b0ae0a236a2",
   "metadata": {},
   "outputs": [
    {
     "data": {
      "text/plain": [
       "array([[5000., 5600.,    9.],\n",
       "       [4300., 5000.,    6.],\n",
       "       [2200., 3000.,    8.],\n",
       "       [2900., 4500.,   10.]])"
      ]
     },
     "execution_count": 32,
     "metadata": {},
     "output_type": "execute_result"
    }
   ],
   "source": [
    "np.genfromtxt('data.csv',delimiter=',',skip_header=1)"
   ]
  },
  {
   "cell_type": "code",
   "execution_count": null,
   "id": "d4bca442-d0b3-45d8-bd98-fb512ed50c74",
   "metadata": {},
   "outputs": [],
   "source": []
  },
  {
   "cell_type": "code",
   "execution_count": 33,
   "id": "173b8490-b2ba-46fa-910e-0cb8e96f1149",
   "metadata": {},
   "outputs": [
    {
     "data": {
      "text/plain": [
       "array([[3.14, 3.14, 3.14, 3.14],\n",
       "       [3.14, 3.14, 3.14, 3.14],\n",
       "       [3.14, 3.14, 3.14, 3.14],\n",
       "       [3.14, 3.14, 3.14, 3.14],\n",
       "       [3.14, 3.14, 3.14, 3.14]])"
      ]
     },
     "execution_count": 33,
     "metadata": {},
     "output_type": "execute_result"
    }
   ],
   "source": [
    "np.full((5,4), fill_value=np.round(np.pi,2))"
   ]
  },
  {
   "cell_type": "code",
   "execution_count": null,
   "id": "31c0febc-ed21-4859-b878-69cb50ad5617",
   "metadata": {},
   "outputs": [],
   "source": []
  },
  {
   "cell_type": "code",
   "execution_count": 39,
   "id": "d8f85920-79ad-4d10-9ede-0fc43d6561bd",
   "metadata": {},
   "outputs": [],
   "source": [
    "arr_2d=np.arange(1,21).reshape(4,5)"
   ]
  },
  {
   "cell_type": "code",
   "execution_count": 40,
   "id": "93947d49-c4a7-4e26-95d9-613bcde57a14",
   "metadata": {},
   "outputs": [
    {
     "data": {
      "text/plain": [
       "array([[ 1,  2,  3,  4,  5],\n",
       "       [ 6,  7,  8,  9, 10],\n",
       "       [11, 12, 13, 14, 15],\n",
       "       [16, 17, 18, 19, 20]])"
      ]
     },
     "execution_count": 40,
     "metadata": {},
     "output_type": "execute_result"
    }
   ],
   "source": [
    "arr_2d"
   ]
  },
  {
   "cell_type": "code",
   "execution_count": 45,
   "id": "4c40fa0c-5b2a-4ead-88a7-5c43d4ba2ce2",
   "metadata": {},
   "outputs": [
    {
     "data": {
      "text/plain": [
       "array([ 1,  2,  3,  4,  5,  6,  7,  8,  9, 10, 11, 12, 13, 14, 15, 16, 17,\n",
       "       18, 19, 20])"
      ]
     },
     "execution_count": 45,
     "metadata": {},
     "output_type": "execute_result"
    }
   ],
   "source": [
    "arr_2d.flatten()"
   ]
  },
  {
   "cell_type": "code",
   "execution_count": 46,
   "id": "ec3143ba-3739-4c70-9428-7699555e5a69",
   "metadata": {},
   "outputs": [
    {
     "data": {
      "text/plain": [
       "array([ 1,  6, 11, 16,  2,  7, 12, 17,  3,  8, 13, 18,  4,  9, 14, 19,  5,\n",
       "       10, 15, 20])"
      ]
     },
     "execution_count": 46,
     "metadata": {},
     "output_type": "execute_result"
    }
   ],
   "source": [
    "arr_2d.flatten(order='F')"
   ]
  },
  {
   "cell_type": "code",
   "execution_count": 47,
   "id": "b8b9265f-a356-40bb-8e03-2cbd4bfaf464",
   "metadata": {},
   "outputs": [
    {
     "data": {
      "text/plain": [
       "array([[ 1,  6, 11, 16,  2],\n",
       "       [ 7, 12, 17,  3,  8],\n",
       "       [13, 18,  4,  9, 14],\n",
       "       [19,  5, 10, 15, 20]])"
      ]
     },
     "execution_count": 47,
     "metadata": {},
     "output_type": "execute_result"
    }
   ],
   "source": [
    "arr_2d.flatten(order='F').reshape(4,5)"
   ]
  },
  {
   "cell_type": "code",
   "execution_count": 48,
   "id": "8ee06789-a0a6-4661-9ff0-df29e6410a34",
   "metadata": {},
   "outputs": [
    {
     "data": {
      "text/plain": [
       "array([[ 1,  2,  3,  4,  5],\n",
       "       [ 6,  7,  8,  9, 10],\n",
       "       [11, 12, 13, 14, 15],\n",
       "       [16, 17, 18, 19, 20]])"
      ]
     },
     "execution_count": 48,
     "metadata": {},
     "output_type": "execute_result"
    }
   ],
   "source": [
    "arr_2d.flatten(order='F').reshape(4,5, order='F')"
   ]
  },
  {
   "cell_type": "code",
   "execution_count": null,
   "id": "1c5b475b-17c6-41c0-9048-db37e0809e74",
   "metadata": {},
   "outputs": [],
   "source": []
  }
 ],
 "metadata": {
  "kernelspec": {
   "display_name": "Python 3 (ipykernel)",
   "language": "python",
   "name": "python3"
  },
  "language_info": {
   "codemirror_mode": {
    "name": "ipython",
    "version": 3
   },
   "file_extension": ".py",
   "mimetype": "text/x-python",
   "name": "python",
   "nbconvert_exporter": "python",
   "pygments_lexer": "ipython3",
   "version": "3.11.3"
  }
 },
 "nbformat": 4,
 "nbformat_minor": 5
}
