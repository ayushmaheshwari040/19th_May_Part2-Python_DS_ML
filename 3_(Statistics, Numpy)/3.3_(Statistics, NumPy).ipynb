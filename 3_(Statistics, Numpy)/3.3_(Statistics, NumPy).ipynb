{
 "cells": [
  {
   "cell_type": "code",
   "execution_count": null,
   "id": "5c98950e-5ce0-48fa-b05b-52ebabd781cb",
   "metadata": {},
   "outputs": [],
   "source": []
  },
  {
   "cell_type": "code",
   "execution_count": 1,
   "id": "696d552a-27f5-41ea-b60c-922c945e6671",
   "metadata": {},
   "outputs": [],
   "source": [
    "import numpy as np"
   ]
  },
  {
   "cell_type": "code",
   "execution_count": 2,
   "id": "7658cc2f-28d5-45aa-9403-88318028157b",
   "metadata": {},
   "outputs": [],
   "source": [
    "import warnings\n",
    "\n",
    "warnings.filterwarnings(action='ignore')"
   ]
  },
  {
   "cell_type": "markdown",
   "id": "e4dd2bce-69c5-401b-a644-80f429bd15d9",
   "metadata": {},
   "source": [
    "    np.array()\n",
    "    np.arange()\n",
    "    np.linspace()\n",
    "    np.random.randint()\n",
    "    np.random.randn()\n",
    "    np.random.normal()\n",
    "    np.random.uniform()\n",
    "    np.ones()\n",
    "    np.zeros()\n",
    "    np.eye()\n",
    "    np.full()\n",
    "    np.empty()\n",
    "    "
   ]
  },
  {
   "cell_type": "code",
   "execution_count": 2,
   "id": "b6955911-8123-4458-bf70-266ba7879102",
   "metadata": {},
   "outputs": [
    {
     "data": {
      "text/plain": [
       "1"
      ]
     },
     "execution_count": 2,
     "metadata": {},
     "output_type": "execute_result"
    }
   ],
   "source": [
    "np.random.randint(10)"
   ]
  },
  {
   "cell_type": "code",
   "execution_count": 3,
   "id": "80a6fb11-4cf3-42fa-944f-f42e25d780d0",
   "metadata": {},
   "outputs": [
    {
     "data": {
      "text/plain": [
       "42"
      ]
     },
     "execution_count": 3,
     "metadata": {},
     "output_type": "execute_result"
    }
   ],
   "source": [
    "\n",
    "np.random.randint(10, 50)\n"
   ]
  },
  {
   "cell_type": "code",
   "execution_count": 4,
   "id": "3ec46d6e-6b97-4e77-9996-762b06eced8a",
   "metadata": {},
   "outputs": [
    {
     "data": {
      "text/plain": [
       "array([44, 40, 14, 42, 38, 44, 43, 14, 39, 43, 46, 38, 33, 34, 45, 16, 38,\n",
       "       42, 37, 33, 43, 35, 23, 26, 34, 20, 17, 32, 23, 49, 14, 49, 12, 43,\n",
       "       28, 23, 48, 15, 42, 36, 20, 31, 42, 30, 18, 44, 49, 25, 37, 25, 39,\n",
       "       41, 33, 35, 19, 25, 33, 15, 20, 46, 24, 35, 19, 36, 23, 45, 32, 46,\n",
       "       32, 26, 22, 18, 30, 33, 16, 25, 49, 17, 49, 44, 36, 41, 24, 14, 25,\n",
       "       23, 34, 45, 12, 20, 20, 43, 25, 32, 42, 23, 39, 15, 15, 45])"
      ]
     },
     "execution_count": 4,
     "metadata": {},
     "output_type": "execute_result"
    }
   ],
   "source": [
    "np.random.randint(10, 50, 100)"
   ]
  },
  {
   "cell_type": "code",
   "execution_count": 5,
   "id": "40697acc-5cf5-4184-8e61-d5e4209109b7",
   "metadata": {},
   "outputs": [
    {
     "data": {
      "text/plain": [
       "array([[39, 39, 42, 45, 22, 38, 26],\n",
       "       [16, 42, 33, 49, 12, 34, 24]])"
      ]
     },
     "execution_count": 5,
     "metadata": {},
     "output_type": "execute_result"
    }
   ],
   "source": [
    "np.random.randint(10, 50, (2,7))\n"
   ]
  },
  {
   "cell_type": "code",
   "execution_count": 6,
   "id": "05ec34f7-e6ad-4625-9016-37f0729bc1c2",
   "metadata": {},
   "outputs": [
    {
     "data": {
      "text/plain": [
       "array([[[20, 10, 48, 44, 27],\n",
       "        [44, 43, 22, 18, 26],\n",
       "        [17, 19, 21, 37, 34],\n",
       "        [33, 29, 17, 24, 40]],\n",
       "\n",
       "       [[49, 42, 15, 18, 12],\n",
       "        [39, 22, 28, 49, 23],\n",
       "        [18, 24, 33, 12, 20],\n",
       "        [32, 26, 11, 40, 35]],\n",
       "\n",
       "       [[43, 25, 12, 13, 32],\n",
       "        [26, 28, 41, 40, 20],\n",
       "        [43, 35, 30, 48, 28],\n",
       "        [22, 38, 24, 31, 23]]])"
      ]
     },
     "execution_count": 6,
     "metadata": {},
     "output_type": "execute_result"
    }
   ],
   "source": [
    "np.random.randint(10, 50, (3,4,5))\n"
   ]
  },
  {
   "cell_type": "code",
   "execution_count": 7,
   "id": "40c60cda-14fc-49f3-be01-4da4583df397",
   "metadata": {},
   "outputs": [
    {
     "data": {
      "text/plain": [
       "array([36, 83, 36, ..., 86, 47, 59])"
      ]
     },
     "execution_count": 7,
     "metadata": {},
     "output_type": "execute_result"
    }
   ],
   "source": [
    "arr = np.random.randint(30, 90, 10000)\n",
    "arr"
   ]
  },
  {
   "cell_type": "code",
   "execution_count": 8,
   "id": "6e40f21d-b9be-499c-8ef1-fc77a6cbf9f7",
   "metadata": {},
   "outputs": [],
   "source": [
    "import seaborn as sns"
   ]
  },
  {
   "cell_type": "code",
   "execution_count": 9,
   "id": "d2154b29-875c-45ff-9566-3c3925acc62f",
   "metadata": {},
   "outputs": [
    {
     "name": "stderr",
     "output_type": "stream",
     "text": [
      "C:\\Users\\hello\\anaconda3\\Lib\\site-packages\\seaborn\\_oldcore.py:1119: FutureWarning: use_inf_as_na option is deprecated and will be removed in a future version. Convert inf values to NaN before operating instead.\n",
      "  with pd.option_context('mode.use_inf_as_na', True):\n"
     ]
    },
    {
     "data": {
      "text/plain": [
       "<Axes: ylabel='Count'>"
      ]
     },
     "execution_count": 9,
     "metadata": {},
     "output_type": "execute_result"
    },
    {
     "data": {
      "image/png": "[encoded data removed]",
      "text/plain": [
       "<Figure size 640x480 with 1 Axes>"
      ]
     },
     "metadata": {},
     "output_type": "display_data"
    }
   ],
   "source": [
    "sns.histplot(arr, kde=True)"
   ]
  },
  {
   "cell_type": "code",
   "execution_count": null,
   "id": "cbf89484-53d6-4f33-80e2-93376f6edcbb",
   "metadata": {},
   "outputs": [],
   "source": []
  },
  {
   "cell_type": "code",
   "execution_count": null,
   "id": "fc8e867a-19fa-4ca3-8941-3caf6bf7f97f",
   "metadata": {},
   "outputs": [],
   "source": []
  },
  {
   "cell_type": "code",
   "execution_count": 10,
   "id": "a7c54570-8390-443d-adb6-f8ae9dd2ce6a",
   "metadata": {},
   "outputs": [
    {
     "data": {
      "text/plain": [
       "0.17892346361493067"
      ]
     },
     "execution_count": 10,
     "metadata": {},
     "output_type": "execute_result"
    }
   ],
   "source": [
    "np.random.randn()"
   ]
  },
  {
   "cell_type": "code",
   "execution_count": 11,
   "id": "f39a9017-9d35-4e62-87e5-d8fc8a78fbbb",
   "metadata": {},
   "outputs": [
    {
     "data": {
      "text/plain": [
       "array([-1.87410785,  0.96169982, -0.42821213,  0.78093062,  0.81888776,\n",
       "       -0.39881558,  1.45031756, -1.62624367, -0.10074945, -1.32377461,\n",
       "       -1.72976145,  0.26928373, -0.65028435,  1.21672766, -0.38165939,\n",
       "        0.66640441,  1.12169718, -0.07648004,  1.26730223, -2.64360632,\n",
       "        0.11352273, -1.05753266, -0.15646297,  1.72348962,  0.61541615,\n",
       "       -1.17555861,  1.88992924,  0.43420041,  0.39607381, -0.84744938,\n",
       "       -0.72289027, -0.64766151,  0.54741997,  1.24638922, -0.67229918,\n",
       "        0.68482885,  1.31109406, -0.33351212,  0.10547153,  0.57463996,\n",
       "        0.81124721,  1.43031215,  0.06493749, -0.39102146,  0.22883963,\n",
       "        0.06302041, -0.92627362, -1.25405826,  0.77703199,  1.95072324,\n",
       "        0.37650257,  0.66433623, -1.19715381,  0.22480144,  0.09915028,\n",
       "        0.34296111, -0.62065796, -0.09257119, -1.24841672, -0.36614673,\n",
       "       -1.20889664, -1.02868853,  1.86520652, -0.11361854, -1.16129175,\n",
       "       -0.1713336 ,  1.58627755, -1.90874579, -2.60903108, -0.31883533,\n",
       "        0.04918319,  0.93155159,  0.24886866,  0.43819246, -0.11836721,\n",
       "        1.0052463 ,  0.56298154, -0.07186623, -0.38444995, -0.78585602,\n",
       "       -0.28067329,  0.58144307, -1.12738952, -0.96175645, -1.53518126,\n",
       "        0.23299951, -0.3893108 ,  0.05303818, -0.21838122, -1.11189765,\n",
       "        0.94609792, -0.2268639 ,  1.11674562, -0.60191048, -0.3862746 ,\n",
       "       -0.04016961,  2.19042734, -0.93327129,  0.3606866 ,  0.53997152])"
      ]
     },
     "execution_count": 11,
     "metadata": {},
     "output_type": "execute_result"
    }
   ],
   "source": [
    "np.random.randn(100)\n"
   ]
  },
  {
   "cell_type": "code",
   "execution_count": null,
   "id": "3b3b2e10-9e1d-405f-9931-21ca974b8616",
   "metadata": {},
   "outputs": [],
   "source": []
  },
  {
   "cell_type": "code",
   "execution_count": 12,
   "id": "51481228-66f3-4b0d-b07f-a57cf306bb29",
   "metadata": {},
   "outputs": [
    {
     "data": {
      "text/plain": [
       "array([[-7.42299340e-01, -7.62665890e-01,  4.33506268e-01,\n",
       "        -6.56653374e-01,  6.47249827e-04],\n",
       "       [ 1.59691485e+00, -4.28471860e-01,  1.06736533e+00,\n",
       "        -8.21225967e-01, -1.78366609e-01],\n",
       "       [-1.25915591e+00,  9.15904253e-02,  6.22604635e-01,\n",
       "         3.74995142e-01, -1.09978840e+00],\n",
       "       [-9.50339823e-01,  1.08054680e+00,  6.01161136e-01,\n",
       "        -3.95716157e-01, -1.32564381e+00]])"
      ]
     },
     "execution_count": 12,
     "metadata": {},
     "output_type": "execute_result"
    }
   ],
   "source": [
    "np.random.randn(4,5)\n"
   ]
  },
  {
   "cell_type": "code",
   "execution_count": null,
   "id": "482d69cf-7b2f-49d9-b56e-e36769d239ad",
   "metadata": {},
   "outputs": [],
   "source": []
  },
  {
   "cell_type": "code",
   "execution_count": 13,
   "id": "818d7672-b459-403f-9011-6e3066c5b9c9",
   "metadata": {},
   "outputs": [
    {
     "data": {
      "text/plain": [
       "array([-1.71213893, -0.45894963, -1.72034573, ...,  0.58230032,\n",
       "        0.67531729,  0.48182883])"
      ]
     },
     "execution_count": 13,
     "metadata": {},
     "output_type": "execute_result"
    }
   ],
   "source": [
    "std_normal = np.random.randn(10000)\n",
    "std_normal"
   ]
  },
  {
   "cell_type": "code",
   "execution_count": 14,
   "id": "3754381f-4ac9-488c-9949-0ae95810ddc7",
   "metadata": {},
   "outputs": [
    {
     "name": "stderr",
     "output_type": "stream",
     "text": [
      "C:\\Users\\hello\\anaconda3\\Lib\\site-packages\\seaborn\\_oldcore.py:1119: FutureWarning: use_inf_as_na option is deprecated and will be removed in a future version. Convert inf values to NaN before operating instead.\n",
      "  with pd.option_context('mode.use_inf_as_na', True):\n"
     ]
    },
    {
     "data": {
      "text/plain": [
       "<Axes: ylabel='Count'>"
      ]
     },
     "execution_count": 14,
     "metadata": {},
     "output_type": "execute_result"
    },
    {
     "data": {
      "image/png": "[encoded data removed]",
      "text/plain": [
       "<Figure size 640x480 with 1 Axes>"
      ]
     },
     "metadata": {},
     "output_type": "display_data"
    }
   ],
   "source": [
    "sns.histplot(std_normal, kde=True)"
   ]
  },
  {
   "cell_type": "code",
   "execution_count": 16,
   "id": "274ac234-bbf2-4908-a42c-7a631aa110d9",
   "metadata": {},
   "outputs": [],
   "source": [
    "import matplotlib.pyplot as plt"
   ]
  },
  {
   "cell_type": "code",
   "execution_count": 15,
   "id": "7f449cea-399a-466e-99d2-c73fcaacc987",
   "metadata": {},
   "outputs": [
    {
     "data": {
      "text/plain": [
       "array([157.96798541, 149.35021082, 153.82747082, ..., 162.18976112,\n",
       "       152.12600946, 144.70109959])"
      ]
     },
     "execution_count": 15,
     "metadata": {},
     "output_type": "execute_result"
    }
   ],
   "source": [
    "normal = np.random.normal(150, 20, 10000)\n",
    "normal"
   ]
  },
  {
   "cell_type": "code",
   "execution_count": 19,
   "id": "c4525f32-9f60-4076-a2ee-28e4631f39b9",
   "metadata": {},
   "outputs": [
    {
     "data": {
      "image/png": "[encoded data removed]",
      "text/plain": [
       "<Figure size 640x480 with 1 Axes>"
      ]
     },
     "metadata": {},
     "output_type": "display_data"
    }
   ],
   "source": [
    "sns.histplot(normal, kde=True)\n",
    "plt.show()"
   ]
  },
  {
   "cell_type": "code",
   "execution_count": 20,
   "id": "2cf52f69-8262-4652-b523-b0f1a41ffec1",
   "metadata": {},
   "outputs": [
    {
     "data": {
      "text/plain": [
       "150.39981118956675"
      ]
     },
     "execution_count": 20,
     "metadata": {},
     "output_type": "execute_result"
    }
   ],
   "source": [
    "normal.mean()"
   ]
  },
  {
   "cell_type": "code",
   "execution_count": 21,
   "id": "c6ef3304-ed0f-4c8d-84e3-cc03d6686afa",
   "metadata": {},
   "outputs": [
    {
     "data": {
      "text/plain": [
       "20.013668554341226"
      ]
     },
     "execution_count": 21,
     "metadata": {},
     "output_type": "execute_result"
    }
   ],
   "source": [
    "normal.std()"
   ]
  },
  {
   "cell_type": "code",
   "execution_count": null,
   "id": "63a74323-1d44-4666-b6a1-f7c7f0786939",
   "metadata": {},
   "outputs": [],
   "source": []
  },
  {
   "cell_type": "code",
   "execution_count": 22,
   "id": "7f890401-9fc2-40a1-bfcc-167effb7d591",
   "metadata": {},
   "outputs": [
    {
     "data": {
      "text/plain": [
       "array([1., 1., 1., 1., 1.])"
      ]
     },
     "execution_count": 22,
     "metadata": {},
     "output_type": "execute_result"
    }
   ],
   "source": [
    "np.ones(5)"
   ]
  },
  {
   "cell_type": "code",
   "execution_count": 23,
   "id": "a7cfaa0d-6330-46ad-ba87-aeae6615649e",
   "metadata": {},
   "outputs": [
    {
     "data": {
      "text/plain": [
       "array([[1., 1., 1.],\n",
       "       [1., 1., 1.]])"
      ]
     },
     "execution_count": 23,
     "metadata": {},
     "output_type": "execute_result"
    }
   ],
   "source": [
    "np.ones((2,3))"
   ]
  },
  {
   "cell_type": "code",
   "execution_count": 24,
   "id": "24647618-180b-4ae5-8246-7e0faa0d521d",
   "metadata": {},
   "outputs": [
    {
     "data": {
      "text/plain": [
       "array([[1., 1., 1., 1., 1., 1., 1.],\n",
       "       [1., 1., 1., 1., 1., 1., 1.],\n",
       "       [1., 1., 1., 1., 1., 1., 1.],\n",
       "       [1., 1., 1., 1., 1., 1., 1.]])"
      ]
     },
     "execution_count": 24,
     "metadata": {},
     "output_type": "execute_result"
    }
   ],
   "source": [
    "np.ones((4,7))"
   ]
  },
  {
   "cell_type": "code",
   "execution_count": 26,
   "id": "fb3cc9ab-ffb1-4fc3-bbf3-d63d9e99a3f0",
   "metadata": {},
   "outputs": [
    {
     "data": {
      "text/plain": [
       "array([[[1., 1., 1., 1., 1.],\n",
       "        [1., 1., 1., 1., 1.],\n",
       "        [1., 1., 1., 1., 1.],\n",
       "        [1., 1., 1., 1., 1.]],\n",
       "\n",
       "       [[1., 1., 1., 1., 1.],\n",
       "        [1., 1., 1., 1., 1.],\n",
       "        [1., 1., 1., 1., 1.],\n",
       "        [1., 1., 1., 1., 1.]],\n",
       "\n",
       "       [[1., 1., 1., 1., 1.],\n",
       "        [1., 1., 1., 1., 1.],\n",
       "        [1., 1., 1., 1., 1.],\n",
       "        [1., 1., 1., 1., 1.]]])"
      ]
     },
     "execution_count": 26,
     "metadata": {},
     "output_type": "execute_result"
    }
   ],
   "source": [
    "np.ones((3,4,5))"
   ]
  },
  {
   "cell_type": "code",
   "execution_count": null,
   "id": "3410f57f-0043-4e3a-a1eb-88f12eff36f0",
   "metadata": {},
   "outputs": [],
   "source": []
  },
  {
   "cell_type": "code",
   "execution_count": 27,
   "id": "c0aea11e-afab-4373-abd5-d8fa9811fbb0",
   "metadata": {},
   "outputs": [
    {
     "data": {
      "text/plain": [
       "array([0., 0., 0., 0., 0.])"
      ]
     },
     "execution_count": 27,
     "metadata": {},
     "output_type": "execute_result"
    }
   ],
   "source": [
    "np.zeros(5)"
   ]
  },
  {
   "cell_type": "code",
   "execution_count": 28,
   "id": "88e4c2d7-9a9e-45c9-b269-a93d769d1e85",
   "metadata": {},
   "outputs": [
    {
     "data": {
      "text/plain": [
       "array([[0., 0., 0.],\n",
       "       [0., 0., 0.],\n",
       "       [0., 0., 0.],\n",
       "       [0., 0., 0.]])"
      ]
     },
     "execution_count": 28,
     "metadata": {},
     "output_type": "execute_result"
    }
   ],
   "source": [
    "np.zeros((4,3))\n"
   ]
  },
  {
   "cell_type": "code",
   "execution_count": 29,
   "id": "9ecc68e0-4b9a-4d2d-bde1-064423619b55",
   "metadata": {},
   "outputs": [
    {
     "data": {
      "text/plain": [
       "array([[[0., 0., 0., 0.],\n",
       "        [0., 0., 0., 0.],\n",
       "        [0., 0., 0., 0.]],\n",
       "\n",
       "       [[0., 0., 0., 0.],\n",
       "        [0., 0., 0., 0.],\n",
       "        [0., 0., 0., 0.]],\n",
       "\n",
       "       [[0., 0., 0., 0.],\n",
       "        [0., 0., 0., 0.],\n",
       "        [0., 0., 0., 0.]],\n",
       "\n",
       "       [[0., 0., 0., 0.],\n",
       "        [0., 0., 0., 0.],\n",
       "        [0., 0., 0., 0.]],\n",
       "\n",
       "       [[0., 0., 0., 0.],\n",
       "        [0., 0., 0., 0.],\n",
       "        [0., 0., 0., 0.]]])"
      ]
     },
     "execution_count": 29,
     "metadata": {},
     "output_type": "execute_result"
    }
   ],
   "source": [
    "np.zeros((5,3,4))\n"
   ]
  },
  {
   "cell_type": "code",
   "execution_count": null,
   "id": "2b59613d-84db-4a7b-a6c8-46f43dc7cb48",
   "metadata": {},
   "outputs": [],
   "source": []
  },
  {
   "cell_type": "code",
   "execution_count": 30,
   "id": "c76e6182-0abf-4f51-8063-e7130fe3e754",
   "metadata": {},
   "outputs": [
    {
     "data": {
      "text/plain": [
       "array([[1., 0., 0., 0., 0.],\n",
       "       [0., 1., 0., 0., 0.],\n",
       "       [0., 0., 1., 0., 0.],\n",
       "       [0., 0., 0., 1., 0.],\n",
       "       [0., 0., 0., 0., 1.]])"
      ]
     },
     "execution_count": 30,
     "metadata": {},
     "output_type": "execute_result"
    }
   ],
   "source": [
    "np.eye(5)"
   ]
  },
  {
   "cell_type": "code",
   "execution_count": null,
   "id": "c1e1e79d-d7ca-4303-b0dc-739f83cbbc11",
   "metadata": {},
   "outputs": [],
   "source": []
  },
  {
   "cell_type": "code",
   "execution_count": 33,
   "id": "48e2c9b8-bdb7-4195-b9b0-55a3805e46e7",
   "metadata": {},
   "outputs": [
    {
     "data": {
      "text/plain": [
       "array([[0., 1., 0., 0.],\n",
       "       [0., 0., 1., 0.],\n",
       "       [0., 0., 0., 1.],\n",
       "       [0., 0., 0., 0.],\n",
       "       [0., 0., 0., 0.]])"
      ]
     },
     "execution_count": 33,
     "metadata": {},
     "output_type": "execute_result"
    }
   ],
   "source": [
    "np.eye(5, M=4, k=1)\n"
   ]
  },
  {
   "cell_type": "code",
   "execution_count": 34,
   "id": "e5ea2fac-e61c-4c16-bb56-401ea3f6dca4",
   "metadata": {},
   "outputs": [
    {
     "data": {
      "text/plain": [
       "array([[0., 0., 1., 0.],\n",
       "       [0., 0., 0., 1.],\n",
       "       [0., 0., 0., 0.],\n",
       "       [0., 0., 0., 0.],\n",
       "       [0., 0., 0., 0.]])"
      ]
     },
     "execution_count": 34,
     "metadata": {},
     "output_type": "execute_result"
    }
   ],
   "source": [
    "np.eye(5, M=4, k=2)\n"
   ]
  },
  {
   "cell_type": "code",
   "execution_count": 35,
   "id": "e0f2dbdd-188c-4165-bd78-210a64a627fa",
   "metadata": {},
   "outputs": [
    {
     "data": {
      "text/plain": [
       "array([[0., 0., 0., 0.],\n",
       "       [1., 0., 0., 0.],\n",
       "       [0., 1., 0., 0.],\n",
       "       [0., 0., 1., 0.],\n",
       "       [0., 0., 0., 1.]])"
      ]
     },
     "execution_count": 35,
     "metadata": {},
     "output_type": "execute_result"
    }
   ],
   "source": [
    "np.eye(5, M=4, k=-1)\n"
   ]
  },
  {
   "cell_type": "code",
   "execution_count": null,
   "id": "09d18cb5-0580-4df7-9c58-5877d3113858",
   "metadata": {},
   "outputs": [],
   "source": []
  },
  {
   "cell_type": "code",
   "execution_count": 37,
   "id": "59f19678-e045-46d1-a218-4314acd9b560",
   "metadata": {},
   "outputs": [
    {
     "data": {
      "text/plain": [
       "array([[5, 5, 5, 5, 5],\n",
       "       [5, 5, 5, 5, 5],\n",
       "       [5, 5, 5, 5, 5],\n",
       "       [5, 5, 5, 5, 5]])"
      ]
     },
     "execution_count": 37,
     "metadata": {},
     "output_type": "execute_result"
    }
   ],
   "source": [
    "np.full((4,5), fill_value=5)"
   ]
  },
  {
   "cell_type": "code",
   "execution_count": null,
   "id": "48d81c96-fc11-4853-a601-dbadea169452",
   "metadata": {},
   "outputs": [],
   "source": []
  },
  {
   "cell_type": "code",
   "execution_count": 39,
   "id": "4b31eee4-c48f-45fe-a852-486ae0af89e0",
   "metadata": {},
   "outputs": [
    {
     "data": {
      "text/plain": [
       "array([[3.14, 3.14, 3.14, 3.14, 3.14, 3.14, 3.14],\n",
       "       [3.14, 3.14, 3.14, 3.14, 3.14, 3.14, 3.14],\n",
       "       [3.14, 3.14, 3.14, 3.14, 3.14, 3.14, 3.14],\n",
       "       [3.14, 3.14, 3.14, 3.14, 3.14, 3.14, 3.14],\n",
       "       [3.14, 3.14, 3.14, 3.14, 3.14, 3.14, 3.14]])"
      ]
     },
     "execution_count": 39,
     "metadata": {},
     "output_type": "execute_result"
    }
   ],
   "source": [
    "np.full((5,7), fill_value=round(np.pi,2))\n"
   ]
  },
  {
   "cell_type": "code",
   "execution_count": 40,
   "id": "f6c33b6d-36cf-47a6-a259-31ccb92b4a6c",
   "metadata": {},
   "outputs": [
    {
     "data": {
      "text/plain": [
       "array([[nan, nan, nan, nan, nan, nan, nan],\n",
       "       [nan, nan, nan, nan, nan, nan, nan],\n",
       "       [nan, nan, nan, nan, nan, nan, nan],\n",
       "       [nan, nan, nan, nan, nan, nan, nan],\n",
       "       [nan, nan, nan, nan, nan, nan, nan]])"
      ]
     },
     "execution_count": 40,
     "metadata": {},
     "output_type": "execute_result"
    }
   ],
   "source": [
    "np.full((5,7), fill_value=np.nan)\n"
   ]
  },
  {
   "cell_type": "code",
   "execution_count": null,
   "id": "5f3061e3-1cc0-4d54-9a8f-516fcfd48aa0",
   "metadata": {},
   "outputs": [],
   "source": []
  },
  {
   "cell_type": "code",
   "execution_count": 41,
   "id": "cf5a3644-9b23-4a53-a64e-cda43dcd668c",
   "metadata": {},
   "outputs": [
    {
     "data": {
      "text/plain": [
       "array([[0., 0., 0., 0.],\n",
       "       [0., 0., 0., 0.],\n",
       "       [0., 0., 0., 0.]])"
      ]
     },
     "execution_count": 41,
     "metadata": {},
     "output_type": "execute_result"
    }
   ],
   "source": [
    "np.empty((3,4))"
   ]
  },
  {
   "cell_type": "code",
   "execution_count": null,
   "id": "555f4154-3fcf-4ddf-b4da-00b24fb6870c",
   "metadata": {},
   "outputs": [],
   "source": []
  },
  {
   "cell_type": "code",
   "execution_count": 44,
   "id": "e04a3d81-5b0b-4df1-9930-57e721486ee1",
   "metadata": {},
   "outputs": [
    {
     "data": {
      "text/plain": [
       "array([[3.71505037, 3.59078635, 3.46652234, 3.34225832, 3.2179943 ,\n",
       "        3.09373028, 2.96946627, 2.84520225],\n",
       "       [2.72093823, 2.59667421, 2.4724102 , 2.34814618, 2.22388216,\n",
       "        2.09961814, 1.97535413, 1.85109011],\n",
       "       [1.72682609, 1.60256207, 1.47829806, 1.35403404, 1.22977002,\n",
       "        1.105506  , 0.98124199, 0.85697797],\n",
       "       [0.73271395, 0.60844993, 0.48418592, 0.3599219 , 0.23565788,\n",
       "        0.11139386, 0.01287015, 0.13713417],\n",
       "       [0.26139819, 0.38566221, 0.50992622, 0.63419024, 0.75845426,\n",
       "        0.88271828, 1.00698229, 1.13124631],\n",
       "       [1.25551033, 1.37977435, 1.50403836, 1.62830238, 1.7525664 ,\n",
       "        1.87683042, 2.00109443, 2.12535845],\n",
       "       [2.24962247, 2.37388649, 2.4981505 , 2.62241452, 2.74667854,\n",
       "        2.87094256, 2.99520657, 3.11947059]])"
      ]
     },
     "execution_count": 44,
     "metadata": {},
     "output_type": "execute_result"
    }
   ],
   "source": [
    "arr = np.empty((7,8))\n",
    "arr"
   ]
  },
  {
   "cell_type": "code",
   "execution_count": 45,
   "id": "16a21600-39c4-4bed-8dd4-7a571da86333",
   "metadata": {
    "scrolled": true
   },
   "outputs": [
    {
     "data": {
      "text/plain": [
       "array([1.87410785, 0.96169982, 0.42821213, 0.78093062, 0.81888776,\n",
       "       0.39881558, 1.45031756, 1.62624367, 0.10074945, 1.32377461,\n",
       "       1.72976145, 0.26928373, 0.65028435, 1.21672766, 0.38165939,\n",
       "       0.66640441, 1.12169718, 0.07648004, 1.26730223, 2.64360632,\n",
       "       0.11352273, 1.05753266, 0.15646297, 1.72348962, 0.61541615,\n",
       "       1.17555861, 1.88992924, 0.43420041, 0.39607381, 0.84744938,\n",
       "       0.72289027, 0.64766151, 0.54741997, 1.24638922, 0.67229918,\n",
       "       0.68482885, 1.31109406, 0.33351212, 0.10547153, 0.57463996,\n",
       "       0.81124721, 1.43031215, 0.06493749, 0.39102146, 0.22883963,\n",
       "       0.06302041, 0.92627362, 1.25405826, 0.77703199, 1.95072324,\n",
       "       0.37650257, 0.66433623, 1.19715381, 0.22480144, 0.09915028,\n",
       "       0.34296111, 0.62065796, 0.09257119, 1.24841672, 0.36614673,\n",
       "       1.20889664, 1.02868853, 1.86520652, 0.11361854, 1.16129175,\n",
       "       0.1713336 , 1.58627755, 1.90874579, 2.60903108, 0.31883533,\n",
       "       0.04918319, 0.93155159, 0.24886866, 0.43819246, 0.11836721,\n",
       "       1.0052463 , 0.56298154, 0.07186623, 0.38444995, 0.78585602,\n",
       "       0.28067329, 0.58144307, 1.12738952, 0.96175645, 1.53518126,\n",
       "       0.23299951, 0.3893108 , 0.05303818, 0.21838122, 1.11189765,\n",
       "       0.94609792, 0.2268639 , 1.11674562, 0.60191048, 0.3862746 ,\n",
       "       0.04016961, 2.19042734, 0.93327129, 0.3606866 , 0.53997152])"
      ]
     },
     "execution_count": 45,
     "metadata": {},
     "output_type": "execute_result"
    }
   ],
   "source": [
    "np.empty(100)"
   ]
  },
  {
   "cell_type": "code",
   "execution_count": null,
   "id": "198b6d85-c560-452e-b28f-8c62024deffe",
   "metadata": {},
   "outputs": [],
   "source": []
  },
  {
   "cell_type": "markdown",
   "id": "7bcac40b-91c5-45ea-8179-968ba669fe54",
   "metadata": {},
   "source": [
    "#### matrix multiplication"
   ]
  },
  {
   "cell_type": "code",
   "execution_count": null,
   "id": "0803958c-469e-4e84-bdc2-b81870684da3",
   "metadata": {},
   "outputs": [],
   "source": []
  },
  {
   "cell_type": "code",
   "execution_count": 48,
   "id": "e1d45b2f-f724-4d77-a6c7-85038873e60a",
   "metadata": {},
   "outputs": [
    {
     "data": {
      "text/plain": [
       "array([[ 1,  2,  3,  4,  5],\n",
       "       [ 6,  7,  8,  9, 10],\n",
       "       [11, 12, 13, 14, 15],\n",
       "       [16, 17, 18, 19, 20]])"
      ]
     },
     "execution_count": 48,
     "metadata": {},
     "output_type": "execute_result"
    }
   ],
   "source": [
    "arr1 = np.arange(1,21).reshape(4,5)\n",
    "arr1"
   ]
  },
  {
   "cell_type": "code",
   "execution_count": 53,
   "id": "3ea50e12-0f4f-4bd3-887b-8914cb7f3f0d",
   "metadata": {},
   "outputs": [
    {
     "data": {
      "text/plain": [
       "array([[21, 22, 23, 24, 25],\n",
       "       [26, 27, 28, 29, 30],\n",
       "       [31, 32, 33, 34, 35],\n",
       "       [36, 37, 38, 39, 40]])"
      ]
     },
     "execution_count": 53,
     "metadata": {},
     "output_type": "execute_result"
    }
   ],
   "source": [
    "arr2 = np.arange(21, 41).reshape(4,5)\n",
    "arr2"
   ]
  },
  {
   "cell_type": "code",
   "execution_count": 54,
   "id": "1dc4ad4e-b3c4-4137-8e49-032be64703a5",
   "metadata": {},
   "outputs": [
    {
     "data": {
      "text/plain": [
       "array([[21, 22, 23, 24, 25],\n",
       "       [26, 27, 28, 29, 30],\n",
       "       [31, 32, 33, 34, 35],\n",
       "       [36, 37, 38, 39, 40]])"
      ]
     },
     "execution_count": 54,
     "metadata": {},
     "output_type": "execute_result"
    }
   ],
   "source": [
    "arr1"
   ]
  },
  {
   "cell_type": "code",
   "execution_count": 55,
   "id": "590d4710-9067-406a-a420-96bb1f552ea5",
   "metadata": {},
   "outputs": [
    {
     "data": {
      "text/plain": [
       "array([[21, 22, 23, 24, 25],\n",
       "       [26, 27, 28, 29, 30],\n",
       "       [31, 32, 33, 34, 35],\n",
       "       [36, 37, 38, 39, 40]])"
      ]
     },
     "execution_count": 55,
     "metadata": {},
     "output_type": "execute_result"
    }
   ],
   "source": [
    "arr2"
   ]
  },
  {
   "cell_type": "code",
   "execution_count": 56,
   "id": "19783828-a70b-48ee-a803-b40163702965",
   "metadata": {},
   "outputs": [
    {
     "data": {
      "text/plain": [
       "array([[ 441,  484,  529,  576,  625],\n",
       "       [ 676,  729,  784,  841,  900],\n",
       "       [ 961, 1024, 1089, 1156, 1225],\n",
       "       [1296, 1369, 1444, 1521, 1600]])"
      ]
     },
     "execution_count": 56,
     "metadata": {},
     "output_type": "execute_result"
    }
   ],
   "source": [
    "arr1 * arr2"
   ]
  },
  {
   "cell_type": "code",
   "execution_count": null,
   "id": "fd90c938-268d-46be-9128-5d0693b44c8e",
   "metadata": {},
   "outputs": [],
   "source": []
  },
  {
   "cell_type": "code",
   "execution_count": null,
   "id": "dddd0bf9-41c7-4186-bb56-2f8c733db28e",
   "metadata": {},
   "outputs": [],
   "source": []
  },
  {
   "cell_type": "code",
   "execution_count": 57,
   "id": "14274512-d0dc-43e2-b10a-9215a220687f",
   "metadata": {},
   "outputs": [
    {
     "ename": "ValueError",
     "evalue": "matmul: Input operand 1 has a mismatch in its core dimension 0, with gufunc signature (n?,k),(k,m?)->(n?,m?) (size 4 is different from 5)",
     "output_type": "error",
     "traceback": [
      "\u001b[1;31m---------------------------------------------------------------------------\u001b[0m",
      "\u001b[1;31mValueError\u001b[0m                                Traceback (most recent call last)",
      "Cell \u001b[1;32mIn[57], line 1\u001b[0m\n\u001b[1;32m----> 1\u001b[0m np\u001b[38;5;241m.\u001b[39mmatmul(arr1,arr2)\n",
      "\u001b[1;31mValueError\u001b[0m: matmul: Input operand 1 has a mismatch in its core dimension 0, with gufunc signature (n?,k),(k,m?)->(n?,m?) (size 4 is different from 5)"
     ]
    }
   ],
   "source": [
    "np.matmul(arr1,arr2)"
   ]
  },
  {
   "cell_type": "code",
   "execution_count": null,
   "id": "737ce361-8b22-4bc4-bffd-dd483acc0f15",
   "metadata": {},
   "outputs": [],
   "source": []
  },
  {
   "cell_type": "code",
   "execution_count": 58,
   "id": "ac577adc-a8ee-4210-9029-68d57656d0a4",
   "metadata": {},
   "outputs": [
    {
     "data": {
      "text/plain": [
       "array([[2, 5],\n",
       "       [3, 4]])"
      ]
     },
     "execution_count": 58,
     "metadata": {},
     "output_type": "execute_result"
    }
   ],
   "source": [
    "arr1 = np.array([\n",
    "    [2,5],\n",
    "    [3,4]\n",
    "])\n",
    "arr1"
   ]
  },
  {
   "cell_type": "code",
   "execution_count": 59,
   "id": "02e77ec3-88f4-4e80-bd01-803f4b3932f5",
   "metadata": {},
   "outputs": [
    {
     "data": {
      "text/plain": [
       "array([[3, 2, 5],\n",
       "       [5, 4, 2]])"
      ]
     },
     "execution_count": 59,
     "metadata": {},
     "output_type": "execute_result"
    }
   ],
   "source": [
    "arr2 = np.array([\n",
    "    [3,2,5],\n",
    "    [5,4,2]\n",
    "])\n",
    "arr2"
   ]
  },
  {
   "cell_type": "code",
   "execution_count": 60,
   "id": "01418233-a12a-4343-87f6-413348ae4207",
   "metadata": {},
   "outputs": [
    {
     "data": {
      "text/plain": [
       "array([[31, 24, 20],\n",
       "       [29, 22, 23]])"
      ]
     },
     "execution_count": 60,
     "metadata": {},
     "output_type": "execute_result"
    }
   ],
   "source": [
    "np.matmul(arr1,arr2)"
   ]
  },
  {
   "cell_type": "code",
   "execution_count": 61,
   "id": "71db6741-2c73-447b-9972-0e5d762850c5",
   "metadata": {},
   "outputs": [
    {
     "data": {
      "text/plain": [
       "array([[31, 24, 20],\n",
       "       [29, 22, 23]])"
      ]
     },
     "execution_count": 61,
     "metadata": {},
     "output_type": "execute_result"
    }
   ],
   "source": [
    "arr1@arr2"
   ]
  },
  {
   "cell_type": "code",
   "execution_count": 62,
   "id": "3969644f-1af4-4d42-b756-99043c9fd912",
   "metadata": {},
   "outputs": [
    {
     "data": {
      "text/plain": [
       "array([[31, 24, 20],\n",
       "       [29, 22, 23]])"
      ]
     },
     "execution_count": 62,
     "metadata": {},
     "output_type": "execute_result"
    }
   ],
   "source": [
    "arr1.dot(arr2)"
   ]
  },
  {
   "cell_type": "code",
   "execution_count": null,
   "id": "5de1d4c2-b89e-44cf-a528-19ec7467f54e",
   "metadata": {},
   "outputs": [],
   "source": []
  },
  {
   "cell_type": "markdown",
   "id": "8e66b8fd-bc48-498f-9b5e-134cbab06abf",
   "metadata": {},
   "source": [
    "**Task:    write a python program for matrix multiplication of given matrix.**"
   ]
  },
  {
   "cell_type": "code",
   "execution_count": null,
   "id": "69e79a61-3f1e-4d63-8887-585f0db128c5",
   "metadata": {},
   "outputs": [],
   "source": []
  },
  {
   "cell_type": "markdown",
   "id": "682fc3fc-d220-4b2a-b269-a0c3e7e967eb",
   "metadata": {},
   "source": [
    "#### transpose"
   ]
  },
  {
   "cell_type": "code",
   "execution_count": 63,
   "id": "249e6c72-9ffd-46cb-b64e-8879b98dca17",
   "metadata": {},
   "outputs": [
    {
     "data": {
      "text/plain": [
       "array([[ 1,  2,  3,  4,  5],\n",
       "       [ 6,  7,  8,  9, 10],\n",
       "       [11, 12, 13, 14, 15],\n",
       "       [16, 17, 18, 19, 20]])"
      ]
     },
     "execution_count": 63,
     "metadata": {},
     "output_type": "execute_result"
    }
   ],
   "source": [
    "arr"
   ]
  },
  {
   "cell_type": "code",
   "execution_count": 64,
   "id": "0c42b03b-fb94-4cc8-a489-7bb70927987f",
   "metadata": {},
   "outputs": [
    {
     "data": {
      "text/plain": [
       "array([[ 1,  6, 11, 16],\n",
       "       [ 2,  7, 12, 17],\n",
       "       [ 3,  8, 13, 18],\n",
       "       [ 4,  9, 14, 19],\n",
       "       [ 5, 10, 15, 20]])"
      ]
     },
     "execution_count": 64,
     "metadata": {},
     "output_type": "execute_result"
    }
   ],
   "source": [
    "arr.transpose()"
   ]
  },
  {
   "cell_type": "code",
   "execution_count": 67,
   "id": "fd2adf34-15fe-49e8-b84f-c23b222d00fd",
   "metadata": {},
   "outputs": [
    {
     "data": {
      "text/plain": [
       "array([[ 1,  6, 11, 16],\n",
       "       [ 2,  7, 12, 17],\n",
       "       [ 3,  8, 13, 18],\n",
       "       [ 4,  9, 14, 19],\n",
       "       [ 5, 10, 15, 20]])"
      ]
     },
     "execution_count": 67,
     "metadata": {},
     "output_type": "execute_result"
    }
   ],
   "source": [
    "arr.T"
   ]
  },
  {
   "cell_type": "code",
   "execution_count": 68,
   "id": "0c564861-f523-4a11-bfac-5911fc0bd164",
   "metadata": {},
   "outputs": [
    {
     "data": {
      "text/plain": [
       "array([[ 1,  2,  3,  4,  5],\n",
       "       [ 6,  7,  8,  9, 10],\n",
       "       [11, 12, 13, 14, 15],\n",
       "       [16, 17, 18, 19, 20]])"
      ]
     },
     "execution_count": 68,
     "metadata": {},
     "output_type": "execute_result"
    }
   ],
   "source": [
    "arr.T.T"
   ]
  },
  {
   "cell_type": "code",
   "execution_count": 69,
   "id": "e5884a26-48df-42ac-94b0-eb474f74464b",
   "metadata": {},
   "outputs": [
    {
     "data": {
      "text/plain": [
       "array([[ 1,  6, 11, 16],\n",
       "       [ 2,  7, 12, 17],\n",
       "       [ 3,  8, 13, 18],\n",
       "       [ 4,  9, 14, 19],\n",
       "       [ 5, 10, 15, 20]])"
      ]
     },
     "execution_count": 69,
     "metadata": {},
     "output_type": "execute_result"
    }
   ],
   "source": [
    "np.transpose(arr)"
   ]
  },
  {
   "cell_type": "code",
   "execution_count": null,
   "id": "e8b446b9-ab31-481e-bfc4-8b30aa243fe1",
   "metadata": {},
   "outputs": [],
   "source": []
  },
  {
   "cell_type": "code",
   "execution_count": 70,
   "id": "3bcbc7d2-3d18-4862-a790-9d3a36cbdb95",
   "metadata": {},
   "outputs": [
    {
     "data": {
      "text/plain": [
       "array([[ 1,  2,  3,  4,  5],\n",
       "       [ 6,  7,  8,  9, 10],\n",
       "       [11, 12, 13, 14, 15],\n",
       "       [16, 17, 18, 19, 20]])"
      ]
     },
     "execution_count": 70,
     "metadata": {},
     "output_type": "execute_result"
    }
   ],
   "source": [
    "arr"
   ]
  },
  {
   "cell_type": "code",
   "execution_count": null,
   "id": "b35a5286-21f9-4a5f-8c13-76a3538e90b3",
   "metadata": {},
   "outputs": [],
   "source": []
  },
  {
   "cell_type": "markdown",
   "id": "59afad03-522f-40e0-92e7-bd0590ac3b14",
   "metadata": {},
   "source": [
    "    write down a python program to transpose a given matrix"
   ]
  },
  {
   "cell_type": "code",
   "execution_count": 72,
   "id": "9f72eaf3-dc01-4fbd-8b31-459880f3c883",
   "metadata": {},
   "outputs": [
    {
     "data": {
      "text/plain": [
       "[(1, 6, 11, 16),\n",
       " (2, 7, 12, 17),\n",
       " (3, 8, 13, 18),\n",
       " (4, 9, 14, 19),\n",
       " (5, 10, 15, 20)]"
      ]
     },
     "execution_count": 72,
     "metadata": {},
     "output_type": "execute_result"
    }
   ],
   "source": [
    "list(zip(*arr))"
   ]
  },
  {
   "cell_type": "code",
   "execution_count": null,
   "id": "e2c6fe06-d229-4bea-b788-bbf460cb2298",
   "metadata": {},
   "outputs": [],
   "source": []
  },
  {
   "cell_type": "code",
   "execution_count": 3,
   "id": "2f6a0897-2f18-4d19-a9a1-afa9f2a151ca",
   "metadata": {
    "scrolled": true
   },
   "outputs": [
    {
     "name": "stdout",
     "output_type": "stream",
     "text": [
      "['ALLOW_THREADS', 'BUFSIZE', 'CLIP', 'DataSource', 'ERR_CALL', 'ERR_DEFAULT', 'ERR_IGNORE', 'ERR_LOG', 'ERR_PRINT', 'ERR_RAISE', 'ERR_WARN', 'FLOATING_POINT_SUPPORT', 'FPE_DIVIDEBYZERO', 'FPE_INVALID', 'FPE_OVERFLOW', 'FPE_UNDERFLOW', 'False_', 'Inf', 'Infinity', 'MAXDIMS', 'MAY_SHARE_BOUNDS', 'MAY_SHARE_EXACT', 'NAN', 'NINF', 'NZERO', 'NaN', 'PINF', 'PZERO', 'RAISE', 'RankWarning', 'SHIFT_DIVIDEBYZERO', 'SHIFT_INVALID', 'SHIFT_OVERFLOW', 'SHIFT_UNDERFLOW', 'ScalarType', 'True_', 'UFUNC_BUFSIZE_DEFAULT', 'UFUNC_PYVALS_NAME', 'WRAP', '_CopyMode', '_NoValue', '_UFUNC_API', '__NUMPY_SETUP__', '__all__', '__builtins__', '__cached__', '__config__', '__deprecated_attrs__', '__dir__', '__doc__', '__expired_functions__', '__file__', '__former_attrs__', '__future_scalars__', '__getattr__', '__loader__', '__name__', '__package__', '__path__', '__spec__', '__version__', '_add_newdoc_ufunc', '_builtins', '_distributor_init', '_financial_names', '_get_promotion_state', '_globals', '_int_extended_msg', '_mat', '_no_nep50_warning', '_pyinstaller_hooks_dir', '_pytesttester', '_set_promotion_state', '_specific_msg', '_typing', '_using_numpy2_behavior', '_utils', 'abs', 'absolute', 'add', 'add_docstring', 'add_newdoc', 'add_newdoc_ufunc', 'all', 'allclose', 'alltrue', 'amax', 'amin', 'angle', 'any', 'append', 'apply_along_axis', 'apply_over_axes', 'arange', 'arccos', 'arccosh', 'arcsin', 'arcsinh', 'arctan', 'arctan2', 'arctanh', 'argmax', 'argmin', 'argpartition', 'argsort', 'argwhere', 'around', 'array', 'array2string', 'array_equal', 'array_equiv', 'array_repr', 'array_split', 'array_str', 'asanyarray', 'asarray', 'asarray_chkfinite', 'ascontiguousarray', 'asfarray', 'asfortranarray', 'asmatrix', 'atleast_1d', 'atleast_2d', 'atleast_3d', 'average', 'bartlett', 'base_repr', 'binary_repr', 'bincount', 'bitwise_and', 'bitwise_not', 'bitwise_or', 'bitwise_xor', 'blackman', 'block', 'bmat', 'bool_', 'broadcast', 'broadcast_arrays', 'broadcast_shapes', 'broadcast_to', 'busday_count', 'busday_offset', 'busdaycalendar', 'byte', 'byte_bounds', 'bytes_', 'c_', 'can_cast', 'cast', 'cbrt', 'cdouble', 'ceil', 'cfloat', 'char', 'character', 'chararray', 'choose', 'clip', 'clongdouble', 'clongfloat', 'column_stack', 'common_type', 'compare_chararrays', 'compat', 'complex128', 'complex64', 'complex_', 'complexfloating', 'compress', 'concatenate', 'conj', 'conjugate', 'convolve', 'copy', 'copysign', 'copyto', 'corrcoef', 'correlate', 'cos', 'cosh', 'count_nonzero', 'cov', 'cross', 'csingle', 'ctypeslib', 'cumprod', 'cumproduct', 'cumsum', 'datetime64', 'datetime_as_string', 'datetime_data', 'deg2rad', 'degrees', 'delete', 'deprecate', 'deprecate_with_doc', 'diag', 'diag_indices', 'diag_indices_from', 'diagflat', 'diagonal', 'diff', 'digitize', 'disp', 'divide', 'divmod', 'dot', 'double', 'dsplit', 'dstack', 'dtype', 'dtypes', 'e', 'ediff1d', 'einsum', 'einsum_path', 'emath', 'empty', 'empty_like', 'equal', 'errstate', 'euler_gamma', 'exceptions', 'exp', 'exp2', 'expand_dims', 'expm1', 'extract', 'eye', 'fabs', 'fastCopyAndTranspose', 'fft', 'fill_diagonal', 'find_common_type', 'finfo', 'fix', 'flatiter', 'flatnonzero', 'flexible', 'flip', 'fliplr', 'flipud', 'float16', 'float32', 'float64', 'float_', 'float_power', 'floating', 'floor', 'floor_divide', 'fmax', 'fmin', 'fmod', 'format_float_positional', 'format_float_scientific', 'format_parser', 'frexp', 'from_dlpack', 'frombuffer', 'fromfile', 'fromfunction', 'fromiter', 'frompyfunc', 'fromregex', 'fromstring', 'full', 'full_like', 'gcd', 'generic', 'genfromtxt', 'geomspace', 'get_array_wrap', 'get_include', 'get_printoptions', 'getbufsize', 'geterr', 'geterrcall', 'geterrobj', 'gradient', 'greater', 'greater_equal', 'half', 'hamming', 'hanning', 'heaviside', 'histogram', 'histogram2d', 'histogram_bin_edges', 'histogramdd', 'hsplit', 'hstack', 'hypot', 'i0', 'identity', 'iinfo', 'imag', 'in1d', 'index_exp', 'indices', 'inexact', 'inf', 'info', 'infty', 'inner', 'insert', 'int16', 'int32', 'int64', 'int8', 'int_', 'intc', 'integer', 'interp', 'intersect1d', 'intp', 'invert', 'is_busday', 'isclose', 'iscomplex', 'iscomplexobj', 'isfinite', 'isfortran', 'isin', 'isinf', 'isnan', 'isnat', 'isneginf', 'isposinf', 'isreal', 'isrealobj', 'isscalar', 'issctype', 'issubclass_', 'issubdtype', 'issubsctype', 'iterable', 'ix_', 'kaiser', 'kron', 'lcm', 'ldexp', 'left_shift', 'less', 'less_equal', 'lexsort', 'lib', 'linalg', 'linspace', 'little_endian', 'load', 'loadtxt', 'log', 'log10', 'log1p', 'log2', 'logaddexp', 'logaddexp2', 'logical_and', 'logical_not', 'logical_or', 'logical_xor', 'logspace', 'longcomplex', 'longdouble', 'longfloat', 'longlong', 'lookfor', 'ma', 'mask_indices', 'mat', 'matmul', 'matrix', 'max', 'maximum', 'maximum_sctype', 'may_share_memory', 'mean', 'median', 'memmap', 'meshgrid', 'mgrid', 'min', 'min_scalar_type', 'minimum', 'mintypecode', 'mod', 'modf', 'moveaxis', 'msort', 'multiply', 'nan', 'nan_to_num', 'nanargmax', 'nanargmin', 'nancumprod', 'nancumsum', 'nanmax', 'nanmean', 'nanmedian', 'nanmin', 'nanpercentile', 'nanprod', 'nanquantile', 'nanstd', 'nansum', 'nanvar', 'nbytes', 'ndarray', 'ndenumerate', 'ndim', 'ndindex', 'nditer', 'negative', 'nested_iters', 'newaxis', 'nextafter', 'nonzero', 'not_equal', 'numarray', 'number', 'obj2sctype', 'object_', 'ogrid', 'oldnumeric', 'ones', 'ones_like', 'outer', 'packbits', 'pad', 'partition', 'percentile', 'pi', 'piecewise', 'place', 'poly', 'poly1d', 'polyadd', 'polyder', 'polydiv', 'polyfit', 'polyint', 'polymul', 'polynomial', 'polysub', 'polyval', 'positive', 'power', 'printoptions', 'prod', 'product', 'promote_types', 'ptp', 'put', 'put_along_axis', 'putmask', 'quantile', 'r_', 'rad2deg', 'radians', 'random', 'ravel', 'ravel_multi_index', 'real', 'real_if_close', 'rec', 'recarray', 'recfromcsv', 'recfromtxt', 'reciprocal', 'record', 'remainder', 'repeat', 'require', 'reshape', 'resize', 'result_type', 'right_shift', 'rint', 'roll', 'rollaxis', 'roots', 'rot90', 'round', 'round_', 'row_stack', 's_', 'safe_eval', 'save', 'savetxt', 'savez', 'savez_compressed', 'sctype2char', 'sctypeDict', 'sctypes', 'searchsorted', 'select', 'set_numeric_ops', 'set_printoptions', 'set_string_function', 'setbufsize', 'setdiff1d', 'seterr', 'seterrcall', 'seterrobj', 'setxor1d', 'shape', 'shares_memory', 'short', 'show_config', 'show_runtime', 'sign', 'signbit', 'signedinteger', 'sin', 'sinc', 'single', 'singlecomplex', 'sinh', 'size', 'sometrue', 'sort', 'sort_complex', 'source', 'spacing', 'split', 'sqrt', 'square', 'squeeze', 'stack', 'std', 'str_', 'string_', 'subtract', 'sum', 'swapaxes', 'take', 'take_along_axis', 'tan', 'tanh', 'tensordot', 'test', 'testing', 'tile', 'timedelta64', 'trace', 'tracemalloc_domain', 'transpose', 'trapz', 'tri', 'tril', 'tril_indices', 'tril_indices_from', 'trim_zeros', 'triu', 'triu_indices', 'triu_indices_from', 'true_divide', 'trunc', 'typecodes', 'typename', 'ubyte', 'ufunc', 'uint', 'uint16', 'uint32', 'uint64', 'uint8', 'uintc', 'uintp', 'ulonglong', 'unicode_', 'union1d', 'unique', 'unpackbits', 'unravel_index', 'unsignedinteger', 'unwrap', 'ushort', 'vander', 'var', 'vdot', 'vectorize', 'version', 'void', 'vsplit', 'vstack', 'where', 'who', 'zeros', 'zeros_like']\n"
     ]
    }
   ],
   "source": [
    "print(dir(np))"
   ]
  },
  {
   "cell_type": "code",
   "execution_count": null,
   "id": "105d7388-1ba6-4d16-854f-5b871028fed4",
   "metadata": {},
   "outputs": [],
   "source": []
  },
  {
   "cell_type": "code",
   "execution_count": 4,
   "id": "b914aa2c-495c-40eb-9639-34f186c49bd7",
   "metadata": {},
   "outputs": [],
   "source": [
    "arr1 = np.random.randint(34,89,100)"
   ]
  },
  {
   "cell_type": "code",
   "execution_count": 5,
   "id": "c99c6869-5282-4014-927b-4a733b3a95bb",
   "metadata": {},
   "outputs": [
    {
     "data": {
      "text/plain": [
       "array([82, 43, 62, 81, 88, 67, 85, 58, 80, 87, 35, 69, 44, 79, 82, 65, 49,\n",
       "       83, 34, 65, 57, 71, 51, 64, 67, 77, 60, 84, 70, 55, 46, 81, 73, 36,\n",
       "       35, 49, 85, 37, 71, 40, 73, 86, 75, 48, 44, 55, 53, 35, 88, 48, 37,\n",
       "       69, 65, 68, 76, 79, 81, 85, 40, 43, 51, 68, 59, 56, 68, 42, 85, 61,\n",
       "       37, 71, 88, 51, 62, 63, 66, 76, 66, 74, 69, 56, 76, 57, 55, 66, 52,\n",
       "       35, 42, 75, 79, 64, 60, 52, 70, 60, 52, 52, 36, 50, 48, 40])"
      ]
     },
     "execution_count": 5,
     "metadata": {},
     "output_type": "execute_result"
    }
   ],
   "source": [
    "arr1"
   ]
  },
  {
   "cell_type": "code",
   "execution_count": null,
   "id": "04e9bd16-28e1-4460-ad22-25fdc5dd096a",
   "metadata": {},
   "outputs": [],
   "source": []
  },
  {
   "cell_type": "code",
   "execution_count": 6,
   "id": "e03ffe81-f8ea-43b3-8418-a80af68dcc0c",
   "metadata": {},
   "outputs": [
    {
     "data": {
      "text/plain": [
       "array([92, 53, 72, 91, 98, 77, 95, 68, 90, 97, 45, 79, 54, 89, 92, 75, 59,\n",
       "       93, 44, 75, 67, 81, 61, 74, 77, 87, 70, 94, 80, 65, 56, 91, 83, 46,\n",
       "       45, 59, 95, 47, 81, 50, 83, 96, 85, 58, 54, 65, 63, 45, 98, 58, 47,\n",
       "       79, 75, 78, 86, 89, 91, 95, 50, 53, 61, 78, 69, 66, 78, 52, 95, 71,\n",
       "       47, 81, 98, 61, 72, 73, 76, 86, 76, 84, 79, 66, 86, 67, 65, 76, 62,\n",
       "       45, 52, 85, 89, 74, 70, 62, 80, 70, 62, 62, 46, 60, 58, 50])"
      ]
     },
     "execution_count": 6,
     "metadata": {},
     "output_type": "execute_result"
    }
   ],
   "source": [
    "arr1 + 10"
   ]
  },
  {
   "cell_type": "code",
   "execution_count": null,
   "id": "d20e746d-9e03-4aca-ab7d-776c9353b70e",
   "metadata": {},
   "outputs": [],
   "source": []
  },
  {
   "cell_type": "code",
   "execution_count": 7,
   "id": "6f264e95-b137-402d-aabe-9c90b48818da",
   "metadata": {},
   "outputs": [
    {
     "data": {
      "text/plain": [
       "array([ True, False,  True,  True,  True,  True,  True,  True,  True,\n",
       "        True, False,  True, False,  True,  True,  True, False,  True,\n",
       "       False,  True,  True,  True,  True,  True,  True,  True,  True,\n",
       "        True,  True,  True, False,  True,  True, False, False, False,\n",
       "        True, False,  True, False,  True,  True,  True, False, False,\n",
       "        True,  True, False,  True, False, False,  True,  True,  True,\n",
       "        True,  True,  True,  True, False, False,  True,  True,  True,\n",
       "        True,  True, False,  True,  True, False,  True,  True,  True,\n",
       "        True,  True,  True,  True,  True,  True,  True,  True,  True,\n",
       "        True,  True,  True,  True, False, False,  True,  True,  True,\n",
       "        True,  True,  True,  True,  True,  True, False, False, False,\n",
       "       False])"
      ]
     },
     "execution_count": 7,
     "metadata": {},
     "output_type": "execute_result"
    }
   ],
   "source": [
    "arr1 > 50"
   ]
  },
  {
   "cell_type": "code",
   "execution_count": 8,
   "id": "f278f26a-ef75-4d12-93da-34490db9a541",
   "metadata": {},
   "outputs": [
    {
     "data": {
      "text/plain": [
       "array([82, 62, 81, 88, 67, 85, 58, 80, 87, 69, 79, 82, 65, 83, 65, 57, 71,\n",
       "       51, 64, 67, 77, 60, 84, 70, 55, 81, 73, 85, 71, 73, 86, 75, 55, 53,\n",
       "       88, 69, 65, 68, 76, 79, 81, 85, 51, 68, 59, 56, 68, 85, 61, 71, 88,\n",
       "       51, 62, 63, 66, 76, 66, 74, 69, 56, 76, 57, 55, 66, 52, 75, 79, 64,\n",
       "       60, 52, 70, 60, 52, 52])"
      ]
     },
     "execution_count": 8,
     "metadata": {},
     "output_type": "execute_result"
    }
   ],
   "source": [
    "arr1[arr1 > 50]"
   ]
  },
  {
   "cell_type": "code",
   "execution_count": null,
   "id": "67345b4d-301f-494b-8665-15977e142120",
   "metadata": {},
   "outputs": [],
   "source": []
  },
  {
   "cell_type": "code",
   "execution_count": 9,
   "id": "d9d902ab-b5e2-442e-9cf4-51bf97076832",
   "metadata": {},
   "outputs": [
    {
     "data": {
      "text/plain": [
       "array([82, 43, 62, 81, 88, 67, 85, 58, 80, 87, 35, 69, 44, 79, 82, 65, 49,\n",
       "       83, 34, 65, 57, 71, 51, 64, 67, 77, 60, 84, 70, 55, 46, 81, 73, 36,\n",
       "       35, 49, 85, 37, 71, 40, 73, 86, 75, 48, 44, 55, 53, 35, 88, 48, 37,\n",
       "       69, 65, 68, 76, 79, 81, 85, 40, 43, 51, 68, 59, 56, 68, 42, 85, 61,\n",
       "       37, 71, 88, 51, 62, 63, 66, 76, 66, 74, 69, 56, 76, 57, 55, 66, 52,\n",
       "       35, 42, 75, 79, 64, 60, 52, 70, 60, 52, 52, 36, 50, 48, 40])"
      ]
     },
     "execution_count": 9,
     "metadata": {},
     "output_type": "execute_result"
    }
   ],
   "source": [
    "arr1"
   ]
  },
  {
   "cell_type": "code",
   "execution_count": null,
   "id": "b54bb27a-92eb-4f59-b4ee-65552848676d",
   "metadata": {},
   "outputs": [],
   "source": []
  },
  {
   "cell_type": "code",
   "execution_count": 10,
   "id": "980d9494-1abb-4a54-9cf8-63f3343a69ae",
   "metadata": {},
   "outputs": [
    {
     "data": {
      "text/plain": [
       "array([ True,  True,  True,  True,  True,  True,  True,  True,  True,\n",
       "        True,  True,  True,  True,  True,  True,  True,  True,  True,\n",
       "        True,  True,  True,  True,  True,  True,  True,  True,  True,\n",
       "        True,  True,  True,  True,  True,  True,  True,  True,  True,\n",
       "        True,  True,  True,  True,  True,  True,  True,  True,  True,\n",
       "        True,  True,  True,  True,  True,  True,  True,  True,  True,\n",
       "        True,  True,  True,  True,  True,  True,  True,  True,  True,\n",
       "        True,  True,  True,  True,  True,  True,  True,  True,  True,\n",
       "        True,  True,  True,  True,  True,  True,  True,  True,  True,\n",
       "        True,  True,  True,  True,  True,  True,  True,  True,  True,\n",
       "        True,  True,  True,  True,  True,  True,  True,  True,  True,\n",
       "        True])"
      ]
     },
     "execution_count": 10,
     "metadata": {},
     "output_type": "execute_result"
    }
   ],
   "source": [
    "(arr1 > 50) | (arr1 < 80)"
   ]
  },
  {
   "cell_type": "code",
   "execution_count": 11,
   "id": "9c085acb-3097-4745-a9c9-30d1c61a6046",
   "metadata": {},
   "outputs": [
    {
     "data": {
      "text/plain": [
       "array([82, 43, 62, 81, 88, 67, 85, 58, 80, 87, 35, 69, 44, 79, 82, 65, 49,\n",
       "       83, 34, 65, 57, 71, 51, 64, 67, 77, 60, 84, 70, 55, 46, 81, 73, 36,\n",
       "       35, 49, 85, 37, 71, 40, 73, 86, 75, 48, 44, 55, 53, 35, 88, 48, 37,\n",
       "       69, 65, 68, 76, 79, 81, 85, 40, 43, 51, 68, 59, 56, 68, 42, 85, 61,\n",
       "       37, 71, 88, 51, 62, 63, 66, 76, 66, 74, 69, 56, 76, 57, 55, 66, 52,\n",
       "       35, 42, 75, 79, 64, 60, 52, 70, 60, 52, 52, 36, 50, 48, 40])"
      ]
     },
     "execution_count": 11,
     "metadata": {},
     "output_type": "execute_result"
    }
   ],
   "source": [
    "arr1[(arr1 > 50) | (arr1 < 80)]\n"
   ]
  },
  {
   "cell_type": "code",
   "execution_count": 12,
   "id": "8a6f741e-dff5-4f72-9ac3-f6f22f391eaf",
   "metadata": {},
   "outputs": [
    {
     "data": {
      "text/plain": [
       "array([82, 43, 62, 81, 88, 67, 85, 58, 80, 87, 35, 69, 44, 79, 82, 65, 49,\n",
       "       83, 34, 65, 57, 71, 51, 64, 67, 77, 60, 84, 70, 55, 46, 81, 73, 36,\n",
       "       35, 49, 85, 37, 71, 40, 73, 86, 75, 48, 44, 55, 53, 35, 88, 48, 37,\n",
       "       69, 65, 68, 76, 79, 81, 85, 40, 43, 51, 68, 59, 56, 68, 42, 85, 61,\n",
       "       37, 71, 88, 51, 62, 63, 66, 76, 66, 74, 69, 56, 76, 57, 55, 66, 52,\n",
       "       35, 42, 75, 79, 64, 60, 52, 70, 60, 52, 52, 36, 50, 48, 40])"
      ]
     },
     "execution_count": 12,
     "metadata": {},
     "output_type": "execute_result"
    }
   ],
   "source": [
    "arr1"
   ]
  },
  {
   "cell_type": "code",
   "execution_count": 13,
   "id": "b565713c-caad-47be-89c2-dcdc540f0f88",
   "metadata": {},
   "outputs": [
    {
     "data": {
      "text/plain": [
       "array([62, 67, 58, 69, 79, 65, 65, 57, 71, 51, 64, 67, 77, 60, 70, 55, 73,\n",
       "       71, 73, 75, 55, 53, 69, 65, 68, 76, 79, 51, 68, 59, 56, 68, 61, 71,\n",
       "       51, 62, 63, 66, 76, 66, 74, 69, 56, 76, 57, 55, 66, 52, 75, 79, 64,\n",
       "       60, 52, 70, 60, 52, 52])"
      ]
     },
     "execution_count": 13,
     "metadata": {},
     "output_type": "execute_result"
    }
   ],
   "source": [
    "arr1[(arr1 > 50) & (arr1 < 80)]\n"
   ]
  },
  {
   "cell_type": "code",
   "execution_count": null,
   "id": "38c7219b-f4f2-411c-ba1a-0eb0984831bc",
   "metadata": {},
   "outputs": [],
   "source": []
  },
  {
   "cell_type": "code",
   "execution_count": null,
   "id": "0713c53a-bf05-48b8-80fe-965b5a5f8515",
   "metadata": {},
   "outputs": [],
   "source": []
  },
  {
   "cell_type": "code",
   "execution_count": 14,
   "id": "daed54e1-bd19-4480-9f9e-4dd5a4497bba",
   "metadata": {},
   "outputs": [
    {
     "data": {
      "text/plain": [
       "array([82, 43, 62, 81, 88, 67, 85, 58, 80, 87, 35, 69, 44, 79, 82, 65, 49,\n",
       "       83, 34, 65, 57, 71, 51, 64, 67, 77, 60, 84, 70, 55, 46, 81, 73, 36,\n",
       "       35, 49, 85, 37, 71, 40, 73, 86, 75, 48, 44, 55, 53, 35, 88, 48, 37,\n",
       "       69, 65, 68, 76, 79, 81, 85, 40, 43, 51, 68, 59, 56, 68, 42, 85, 61,\n",
       "       37, 71, 88, 51, 62, 63, 66, 76, 66, 74, 69, 56, 76, 57, 55, 66, 52,\n",
       "       35, 42, 75, 79, 64, 60, 52, 70, 60, 52, 52, 36, 50, 48, 40])"
      ]
     },
     "execution_count": 14,
     "metadata": {},
     "output_type": "execute_result"
    }
   ],
   "source": [
    "arr1"
   ]
  },
  {
   "cell_type": "code",
   "execution_count": 15,
   "id": "760d85fd-a676-4298-ae54-9888f551109b",
   "metadata": {},
   "outputs": [
    {
     "data": {
      "text/plain": [
       "array([43, 62, 67, 58, 35, 69, 44, 65, 49, 34, 65, 57, 51, 64, 67, 60, 55,\n",
       "       46, 36, 35, 49, 37, 40, 48, 44, 55, 53, 35, 48, 37, 69, 65, 68, 40,\n",
       "       43, 51, 68, 59, 56, 68, 42, 61, 37, 51, 62, 63, 66, 66, 69, 56, 57,\n",
       "       55, 66, 52, 35, 42, 64, 60, 52, 60, 52, 52, 36, 50, 48, 40])"
      ]
     },
     "execution_count": 15,
     "metadata": {},
     "output_type": "execute_result"
    }
   ],
   "source": [
    "arr1[~(arr1 >= 70)]"
   ]
  },
  {
   "cell_type": "code",
   "execution_count": null,
   "id": "6197f440-1e29-44b8-8f10-52a20846e666",
   "metadata": {},
   "outputs": [],
   "source": []
  },
  {
   "cell_type": "code",
   "execution_count": 18,
   "id": "744ecfb3-8dea-447e-914d-e70a9ab52185",
   "metadata": {},
   "outputs": [],
   "source": [
    "data = np.random.normal(150,20,1000)"
   ]
  },
  {
   "cell_type": "code",
   "execution_count": 19,
   "id": "928af4c0-f7ee-4319-aec1-10537dcb4428",
   "metadata": {
    "scrolled": true
   },
   "outputs": [
    {
     "data": {
      "text/plain": [
       "array([104.20919871, 151.12519281, 111.76569771, 176.0835479 ,\n",
       "       173.34083952, 158.80457637, 160.59510963, 154.04512083,\n",
       "       173.78128206, 155.3681108 , 169.08627515, 137.91944941,\n",
       "       139.65985862, 171.95030491, 155.46687171, 130.59053759,\n",
       "       146.48026242, 180.65481799, 178.5543983 , 157.61854599,\n",
       "       152.25526629, 187.40769302, 131.41401537, 160.18019918,\n",
       "       185.97886753, 111.03062741, 137.53730307, 143.06770194,\n",
       "       202.54034686, 138.80424228, 146.3070373 , 140.69604185,\n",
       "       168.22367744, 183.59974424, 145.10336001, 154.95529851,\n",
       "       131.29994994, 170.728574  , 164.25859089, 159.04946845,\n",
       "       161.11690098, 152.5746925 , 191.28852945, 171.64307235,\n",
       "       151.25955769, 159.38158317, 113.27571441, 154.81676245,\n",
       "       128.7816927 , 161.53958564, 149.98590151, 140.50210579,\n",
       "       167.5843353 , 139.19885156, 153.66170406, 148.20367834,\n",
       "       194.99443343, 175.56940102, 140.97700635, 163.52173766,\n",
       "       141.70638418, 126.39278701, 168.80249657, 155.03820781,\n",
       "       121.77432086, 154.57059095, 174.98180368, 147.55045446,\n",
       "        86.88386056, 136.78750204, 144.558814  , 171.15886532,\n",
       "       123.53277862, 170.08931509, 129.31852967, 164.94803776,\n",
       "       133.37769873, 152.3273084 , 151.14685903, 201.08665528,\n",
       "       134.38281012, 132.12209535, 157.8347292 , 156.00177011,\n",
       "       202.29020989, 143.75279249, 168.72289013, 162.36774969,\n",
       "       159.6750984 , 148.19497852, 167.60791269, 106.31787483,\n",
       "       164.03335014, 130.48468674, 177.98863974, 149.12117025,\n",
       "       151.42594517, 161.82817917, 125.80964819, 118.84327932,\n",
       "       188.34571496, 131.7417479 , 136.52175558, 172.33461014,\n",
       "       172.89768296, 155.35450459, 154.54347919, 130.98483715,\n",
       "       108.97626424, 163.71766904, 131.78891802, 137.8672282 ,\n",
       "       180.05598529, 177.47071586, 143.97107412, 147.86427288,\n",
       "       138.45969671, 151.7462697 , 173.04074609, 168.08005548,\n",
       "       132.59949752, 146.35719229, 185.30425861, 104.36373218,\n",
       "       185.80736919, 177.76546338, 149.53736876, 116.55619716,\n",
       "       157.7122966 , 134.87528987, 147.02414822, 135.88029509,\n",
       "       155.22143769, 166.29514569, 132.22501917, 157.34974976,\n",
       "       102.79754625, 160.87134195, 186.8526275 , 159.2589215 ,\n",
       "       176.5862384 , 127.76225178, 184.30335065, 134.87305684,\n",
       "       186.16029071, 150.39911475, 133.06092435, 146.80622336,\n",
       "       189.02448081, 104.41257114, 146.82294639, 171.29884546,\n",
       "       160.44170591, 174.85936173, 183.82560012, 123.9585186 ,\n",
       "       209.5522617 , 149.16485936, 180.43113331, 129.02353002,\n",
       "       145.08824591, 145.70479733, 125.24507798, 167.4362401 ,\n",
       "       136.86721949, 169.50709409, 132.4945175 , 155.81401577,\n",
       "       166.95679239, 148.93632482, 134.5122599 , 158.197262  ,\n",
       "       136.76226066, 148.11278857, 161.95330329, 142.51565179,\n",
       "       149.20105143, 158.50201495, 162.53643685, 146.55677812,\n",
       "       127.66745985, 170.63060842, 149.03855223, 149.11948513,\n",
       "       165.05568896, 131.33999028, 194.88187874, 190.8875722 ,\n",
       "       149.76805571, 146.06344123, 140.26167109, 180.29137885,\n",
       "       158.29188098, 151.65902414, 148.70633048, 157.68684159,\n",
       "       147.08717631, 155.63015803, 126.42288181, 155.53787767,\n",
       "       125.98118954, 160.42054018, 134.56764852, 112.91825052,\n",
       "       130.56350194, 140.23533176, 139.36598046, 162.48601641,\n",
       "       157.0423198 , 152.19047143, 182.6145121 , 165.12512198,\n",
       "       153.17669166, 147.71453931, 154.46506742, 109.0014524 ,\n",
       "       134.50124309, 150.80919342, 149.8008619 , 161.36028323,\n",
       "       133.98713294, 151.33158764, 131.52521238, 153.76734798,\n",
       "       161.60417273, 122.03783763, 177.30433133, 158.72204344,\n",
       "       188.4472913 , 147.73163813, 166.29935901, 155.65319826,\n",
       "       132.9634825 , 125.37110338, 171.63433217, 155.30763497,\n",
       "       126.80683551, 129.73144044, 125.22161233, 151.59141725,\n",
       "       121.50927719, 181.75711269, 176.57571764, 132.95381055,\n",
       "       154.14700321, 134.35591409, 164.80231842, 139.90568229,\n",
       "       147.35006359, 139.50908513, 200.56499374, 148.72240927,\n",
       "       131.31796747, 163.54525482, 128.9137972 , 138.76743703,\n",
       "       148.91331078, 124.75317671, 158.33987635, 141.51068475,\n",
       "       131.12712732, 126.42041132, 181.84676055, 160.35016731,\n",
       "       173.16260403, 161.72267142, 128.92935659, 157.67288866,\n",
       "       172.20878529, 133.70859278, 135.21947115, 153.25788685,\n",
       "       178.9628134 , 148.44691287, 160.67008445, 143.93200371,\n",
       "       150.8370599 , 130.04508697, 127.30235692, 118.31509671,\n",
       "       152.9211425 , 168.50875378, 128.73584506, 169.10444662,\n",
       "       123.87165626, 147.27047539, 113.18100372, 131.6709599 ,\n",
       "       133.17359813, 149.26560877, 122.15583494, 131.68602371,\n",
       "       160.62507542, 193.45062055, 136.22208512, 154.22178334,\n",
       "       155.8136289 , 148.27065682, 158.61083646, 128.91456065,\n",
       "       173.2606635 , 176.88835026, 132.96809166, 127.14222842,\n",
       "       190.20123519, 151.19145136, 146.65219047, 112.52192467,\n",
       "       181.12305194, 155.87739563, 138.32602095, 184.20470425,\n",
       "       145.98978746, 143.57133807, 149.6930996 , 123.93687617,\n",
       "       146.62461547, 189.81875651, 175.10704521, 179.50195698,\n",
       "       132.09921583, 164.60913191, 147.69419891, 172.10150925,\n",
       "       176.64467019, 170.20854114, 145.39116323, 104.41674271,\n",
       "       165.0654441 , 153.43916546, 178.45952514, 171.14272119,\n",
       "       147.106468  , 147.09630695, 176.23233447, 156.05959589,\n",
       "       154.14901859, 159.07437529, 156.02605576, 126.81377834,\n",
       "       147.24137382, 165.69437648, 158.9211895 , 152.84039174,\n",
       "       168.43279688, 143.50229095, 184.54012708, 151.05058081,\n",
       "       156.13136035, 177.41964176, 173.00492591, 138.2907774 ,\n",
       "       133.23167631, 159.33815935, 167.78429443, 142.30451673,\n",
       "       163.81894395, 168.55457789, 176.52727666, 184.45924159,\n",
       "       128.44119831, 137.74374939, 152.11278788, 149.50238152,\n",
       "       134.97711854, 160.89607295, 147.13358334, 157.37368631,\n",
       "       149.82098212, 126.43923798, 130.93253915, 142.39354919,\n",
       "       176.72231199, 159.48362944, 164.45877414, 126.86835989,\n",
       "       142.16663335, 149.67215092, 128.13633794, 123.52756128,\n",
       "       141.42762675, 145.43514063, 131.36425851, 112.82513354,\n",
       "       145.89877704, 175.22305301, 158.83999567, 165.62134258,\n",
       "       134.63278778, 115.3158305 , 141.23762559, 157.09697075,\n",
       "       154.35624218, 156.08554378, 144.23519324, 125.68881739,\n",
       "       145.52146761, 150.27631609, 142.20764169, 194.26528935,\n",
       "       153.2468896 , 185.62321889, 133.94338283, 159.41587871,\n",
       "       126.09603946, 141.76082432, 186.85767658, 136.33053463,\n",
       "       198.12790488, 134.88039782, 127.15765985, 172.19607161,\n",
       "       124.44465538, 167.01763547, 171.66836808, 139.38097934,\n",
       "       115.89115073, 166.24891315, 135.4930815 , 152.20764428,\n",
       "       178.90193632, 149.50196057, 149.04726861, 165.90975713,\n",
       "       146.87600729, 144.21550798, 157.89779204,  91.86809071,\n",
       "       149.19275904, 167.83799012, 177.05988245, 149.32795876,\n",
       "       149.90394925, 147.78305401, 156.57221447, 149.92863182,\n",
       "       168.7745034 , 162.96716259, 124.41571482, 188.58998416,\n",
       "       164.53975847, 143.13171604, 106.58733649, 133.19481468,\n",
       "       157.1883572 , 141.6427094 , 122.37999655, 147.99602727,\n",
       "       136.27556859, 114.15949555, 129.03960913, 146.39707184,\n",
       "       137.26107865, 143.09868715, 158.21167477, 111.68885652,\n",
       "       128.95306181, 142.78455847, 139.27384442, 169.47455208,\n",
       "       150.35067457, 144.75429338, 115.8840893 , 147.68614116,\n",
       "       114.33285082, 166.96379339, 141.02011889, 107.64415828,\n",
       "       167.29182069, 152.33480901, 136.70598627, 141.36002126,\n",
       "       147.10068168, 107.16228916, 164.01910697, 176.21120482,\n",
       "       172.51980497, 122.16998932, 152.85376011, 148.38616254,\n",
       "       130.16336701, 121.06963294, 174.94189794, 201.72469319,\n",
       "       168.43563451, 161.03820291, 106.78354317, 141.67703486,\n",
       "       151.11538486, 104.99271276, 154.27691654, 139.44636205,\n",
       "       165.24015596, 151.99194894, 180.21617834, 147.31998807,\n",
       "       167.13103968, 143.05606896, 174.20931194, 111.82091589,\n",
       "       155.26103819, 130.33282229, 164.42772164, 101.29965134,\n",
       "       144.32311835, 155.69215714, 131.63275436, 173.09111705,\n",
       "       170.3679087 , 120.65768303, 113.52605195, 131.79069743,\n",
       "       153.74579521, 169.01312751, 162.75930335, 174.14454939,\n",
       "       150.35783592, 124.33932515, 156.90349563, 105.29738488,\n",
       "       186.72434411, 152.10680449, 130.65054878, 103.92106649,\n",
       "       138.87046621, 131.85449707, 151.10411563, 162.77886134,\n",
       "       161.66905295, 156.52637412, 156.83098966, 148.14693832,\n",
       "       175.83631249, 151.14698233, 139.15805529, 139.68213398,\n",
       "       130.50390544, 157.93971952, 141.88806075, 125.38239895,\n",
       "       140.37122666, 173.10492887, 154.0771287 , 171.45079398,\n",
       "       165.6952957 , 154.8097237 , 182.01366627, 181.81571732,\n",
       "       127.96942954, 172.27334677, 157.26894402, 139.90727641,\n",
       "       161.89666212, 153.150953  , 142.13832578, 154.40178561,\n",
       "       176.72204669, 152.27977418, 171.15341209, 147.00081443,\n",
       "       155.03041901, 117.29267136, 144.92499048, 174.99936817,\n",
       "       159.48118702, 131.65202927, 141.72327888, 144.82940008,\n",
       "       120.32467637, 178.54449721, 168.22955052, 142.66344187,\n",
       "       140.844996  , 145.23046052, 164.31589621, 141.32899898,\n",
       "       157.18720902, 160.25640028, 166.71388162, 154.17797159,\n",
       "       145.98688776, 133.50106023, 161.37353005, 162.94768756,\n",
       "       139.97320798, 172.23860871, 107.44412631, 109.65223945,\n",
       "       156.21047236, 128.88229928, 128.45577359, 131.41935775,\n",
       "       139.90415873, 131.20251211, 142.79756263, 150.14419557,\n",
       "       143.58113211, 169.06859438, 153.4291993 , 147.10841945,\n",
       "       151.27428295, 112.63807222, 160.25951095, 169.15833482,\n",
       "       154.60398712, 154.45455176, 156.21674169, 147.26316682,\n",
       "       137.5888438 , 140.45585365, 161.94864299, 129.20316524,\n",
       "       140.13996438, 177.3868919 , 143.99645738, 149.45079418,\n",
       "       136.58989202, 190.75595479, 157.50320425, 146.98163345,\n",
       "       162.84226703, 156.96146444,  92.50192306, 144.63079026,\n",
       "       180.56002741, 154.28909623, 125.48903137, 146.98120517,\n",
       "       127.82728654, 142.41003319, 133.7912719 , 161.64999009,\n",
       "       126.02465404, 115.9498808 , 211.08182433, 168.94240277,\n",
       "       117.86101082, 178.94408742, 133.50841583, 130.28637449,\n",
       "       145.91636347, 160.40296531, 178.54697312, 151.51047474,\n",
       "       140.55650518, 152.40524281, 159.6036636 , 152.62460915,\n",
       "       145.17041869, 138.65346017, 175.22644029, 163.40084744,\n",
       "       142.39499098, 123.25332642, 125.34794116, 156.44342105,\n",
       "       129.69075103, 154.67366371, 165.56549171, 136.8130372 ,\n",
       "       150.94329307, 156.11354123, 195.48508396, 147.14305304,\n",
       "       143.271636  , 149.61794138, 168.93987736, 160.39644167,\n",
       "       126.95307689, 166.26456615,  98.37417945, 156.57846043,\n",
       "       143.97563112, 175.77763193, 160.88129201, 113.38183946,\n",
       "       119.19299608, 145.05694089, 161.83133294, 139.02919355,\n",
       "       138.77770013, 120.97466021, 148.43563755, 110.04519348,\n",
       "       143.75794666, 128.45905822, 180.04453573, 156.53870362,\n",
       "       155.50375236, 151.65141631, 128.94568664, 143.31531577,\n",
       "       147.33624892, 121.40790905, 143.06861954, 136.14150322,\n",
       "       160.97426299, 146.79745647, 147.09959212, 142.04934557,\n",
       "       129.47289983, 116.49263996, 128.03865982, 188.13208035,\n",
       "       172.70339193, 165.9420358 , 150.46122549, 133.55233294,\n",
       "       108.63984535, 103.77016187, 128.11445752, 148.7543856 ,\n",
       "       144.44488062, 139.84401071, 150.84028823, 121.09015433,\n",
       "       141.27598519, 127.78831542, 155.73298253, 148.37313065,\n",
       "       170.49546694, 143.11757466, 142.09490958, 127.70321402,\n",
       "       118.15231289, 174.14061582, 157.12406357, 177.39997591,\n",
       "       122.06711547, 133.424096  , 117.85045062, 160.54282855,\n",
       "       106.99232386, 157.76242553, 181.65345824, 144.75949693,\n",
       "       179.059949  , 130.30828802, 122.52529472, 142.52464988,\n",
       "       170.24555381, 127.05386967, 188.46951439, 163.97128889,\n",
       "       148.60160088, 143.8120656 , 152.16302281, 138.10573471,\n",
       "       137.64923113, 136.8331041 , 130.99954654, 163.88046683,\n",
       "       142.8436042 , 150.43400378, 159.43140964, 163.86361559,\n",
       "       165.08314059, 111.7666813 , 178.46912562, 149.32478236,\n",
       "       176.31986989, 152.34372143, 166.75913248, 148.72313885,\n",
       "       131.74448277, 117.35570428, 148.72594664, 141.87540516,\n",
       "       130.36583097, 185.15095827, 160.05761805, 183.56038894,\n",
       "       148.80365556, 143.59165558, 162.70170218, 150.4355815 ,\n",
       "       175.49042219, 182.2065695 , 141.73354141, 156.6112524 ,\n",
       "       153.10452061, 167.04704697, 179.05498258, 128.29677188,\n",
       "       175.43671343, 173.99824037, 124.55191442, 123.78976817,\n",
       "       156.88746819, 148.76180871, 170.29484007, 160.37915229,\n",
       "       125.31513273, 160.76908685, 100.08963237, 131.02777199,\n",
       "       154.88348639, 163.44524109, 125.5264362 , 158.92164352,\n",
       "       161.25115764, 151.38417498, 188.33418239, 167.98373862,\n",
       "       135.22827157, 130.85323461, 146.70554292, 174.57000565,\n",
       "       116.04385341, 149.81927199, 150.65316041, 155.62804398,\n",
       "       127.54488861, 136.55450928, 144.79032015, 176.70630446,\n",
       "       147.13111854, 149.85396914, 130.31450628, 125.81677896,\n",
       "       150.75093956, 173.983102  , 154.7847456 , 174.70673557,\n",
       "       167.10950177, 161.34984396, 168.6573478 , 159.02473605,\n",
       "       184.3480057 , 129.74107434, 171.59915294, 132.12140624,\n",
       "       117.85024339, 102.00184503, 118.24953701, 143.80641177,\n",
       "       159.96222592, 145.99538169, 111.86841243, 123.27361773,\n",
       "       126.11906264, 147.98887318, 170.12774968, 156.5064954 ,\n",
       "       142.80597511, 117.87371994, 124.17231966, 159.82264503,\n",
       "       171.56893281, 142.04354569, 138.63967855, 135.84255791,\n",
       "       127.39956431, 154.38825116, 151.68737167, 144.90681204,\n",
       "       159.20729031, 147.29538824, 113.60976955, 113.55127924,\n",
       "       141.28508225, 145.2093733 , 154.53191052, 131.64254096,\n",
       "       209.06626279, 177.72181016, 141.316882  , 159.09091236,\n",
       "       160.80701706, 167.95696761, 156.70852521, 126.49021747,\n",
       "       103.535274  , 130.63467442, 167.78143921, 126.3879488 ,\n",
       "       179.52421038, 134.99051957, 194.88615269, 125.0994663 ,\n",
       "       163.29010402, 186.47958974, 146.99613367, 155.56206827,\n",
       "       113.39173751, 135.13773021, 107.80830059, 125.20528583,\n",
       "       151.47183524, 154.66523673, 152.64449663, 147.66773916,\n",
       "       142.42046462, 130.73975739, 123.80069695, 108.69214135,\n",
       "       165.41189195, 159.56843351, 145.10786591, 136.69740369,\n",
       "       102.96977845, 150.06068467, 134.96192825, 148.00889189,\n",
       "       128.51956313, 105.16533647, 165.85838294, 147.65291434,\n",
       "       176.89606946, 136.17525782, 184.5814125 , 147.13033555,\n",
       "       148.15502504, 139.99482066, 152.76891718, 178.90358834,\n",
       "       125.41609639, 175.02990131, 121.54958831, 168.95874781,\n",
       "       115.2895694 , 151.96557235, 116.56878607, 131.73917781,\n",
       "       146.03878768, 159.72264784, 135.76634789, 147.86633829,\n",
       "       138.56998675, 126.97716252, 131.55300298, 165.07290772,\n",
       "       124.19681895, 175.93028899, 146.30283082, 131.02650044,\n",
       "       158.87000116, 156.47597066, 172.20802219, 168.14170406,\n",
       "       170.32613889, 158.00830811, 182.38567587, 124.52443763,\n",
       "       196.87866393, 151.56813449, 152.52416437, 128.47263975,\n",
       "       136.55558645, 175.59080151, 172.34033243, 129.98192996,\n",
       "       154.10647357, 164.06939092, 126.93767882, 142.46376601,\n",
       "       164.9100405 , 163.83445588, 181.66656167, 139.3294688 ,\n",
       "       155.47524793, 182.33155232, 163.66766919, 148.0695362 ,\n",
       "       143.18259594, 153.18879971, 126.61280359, 177.01210476,\n",
       "       160.93624754, 130.38573483, 155.31477523, 101.97424503,\n",
       "       179.4443594 , 126.66842013, 177.11629005, 110.50447105,\n",
       "       159.52953305, 131.9063761 , 136.32313159, 134.21995594,\n",
       "       104.99936514, 169.60936605, 130.55012349, 153.24899861,\n",
       "       139.1477184 , 138.09711442, 164.05630489, 118.46880804,\n",
       "       148.35292895, 176.00122656, 180.11081678, 174.5833626 ,\n",
       "       152.35542881, 138.34187747, 137.75048985, 152.68045852,\n",
       "       155.71813417, 161.45262449, 130.88960389, 144.84330064])"
      ]
     },
     "execution_count": 19,
     "metadata": {},
     "output_type": "execute_result"
    }
   ],
   "source": [
    "data"
   ]
  },
  {
   "cell_type": "code",
   "execution_count": null,
   "id": "d92cf490-c2e0-4859-9a22-79899f2c6866",
   "metadata": {},
   "outputs": [],
   "source": []
  },
  {
   "cell_type": "code",
   "execution_count": 20,
   "id": "54704954-5b7e-43ca-9210-d1bbe8966411",
   "metadata": {},
   "outputs": [
    {
     "data": {
      "text/plain": [
       "array([104.20919871, 151.12519281, 111.76569771, ..., 225.10659083,\n",
       "       137.72556536, 149.06268834])"
      ]
     },
     "execution_count": 20,
     "metadata": {},
     "output_type": "execute_result"
    }
   ],
   "source": [
    "new_data = np.append(data, np.random.normal(180, 30, 500))\n",
    "new_data"
   ]
  },
  {
   "cell_type": "code",
   "execution_count": 21,
   "id": "87b021c5-fb5f-4a32-a04a-fb3cb05b284d",
   "metadata": {},
   "outputs": [],
   "source": [
    "import matplotlib.pyplot as plt\n",
    "import seaborn as sns"
   ]
  },
  {
   "cell_type": "code",
   "execution_count": 22,
   "id": "f18070c4-af93-4598-8c5a-4cbad77d4c63",
   "metadata": {},
   "outputs": [
    {
     "data": {
      "image/png": "[encoded data removed]",
      "text/plain": [
       "<Figure size 640x480 with 1 Axes>"
      ]
     },
     "metadata": {},
     "output_type": "display_data"
    }
   ],
   "source": [
    "sns.histplot(new_data, kde=True)\n",
    "plt.show()"
   ]
  },
  {
   "cell_type": "code",
   "execution_count": 24,
   "id": "91d5c788-bed0-40e0-acd1-180127386479",
   "metadata": {},
   "outputs": [],
   "source": []
  },
  {
   "cell_type": "code",
   "execution_count": 25,
   "id": "ccd19b7b-3311-4109-aa7e-c40510ab6acc",
   "metadata": {},
   "outputs": [
    {
     "data": {
      "text/plain": [
       "array([141.28280798, 156.93248003, 177.77109892])"
      ]
     },
     "execution_count": 25,
     "metadata": {},
     "output_type": "execute_result"
    }
   ],
   "source": [
    "quantiles = np.quantile(new_data, [0.25, 0.50, 0.75])\n",
    "quantiles"
   ]
  },
  {
   "cell_type": "code",
   "execution_count": 26,
   "id": "fce1d47d-6a83-49da-a8ee-ccc6726a3cad",
   "metadata": {},
   "outputs": [],
   "source": [
    "q1 = quantiles[0]\n",
    "q3 = quantiles[2]\n",
    "IQR = q3 - q1\n"
   ]
  },
  {
   "cell_type": "code",
   "execution_count": 27,
   "id": "38f3a84f-34d7-486d-a3e5-5c26fe446065",
   "metadata": {},
   "outputs": [
    {
     "data": {
      "text/plain": [
       "141.28280798039287"
      ]
     },
     "execution_count": 27,
     "metadata": {},
     "output_type": "execute_result"
    }
   ],
   "source": [
    "q1"
   ]
  },
  {
   "cell_type": "code",
   "execution_count": 28,
   "id": "c5aaec21-8810-428f-b4e9-7ee5b807c2ab",
   "metadata": {},
   "outputs": [
    {
     "data": {
      "text/plain": [
       "177.77109891829537"
      ]
     },
     "execution_count": 28,
     "metadata": {},
     "output_type": "execute_result"
    }
   ],
   "source": [
    "q3"
   ]
  },
  {
   "cell_type": "code",
   "execution_count": 29,
   "id": "c0d853d7-3891-4af0-b212-73e73eb3889b",
   "metadata": {},
   "outputs": [
    {
     "data": {
      "text/plain": [
       "36.48829093790249"
      ]
     },
     "execution_count": 29,
     "metadata": {},
     "output_type": "execute_result"
    }
   ],
   "source": [
    "IQR"
   ]
  },
  {
   "cell_type": "code",
   "execution_count": 30,
   "id": "7ce43363-5150-46a3-aaae-8f0db6d2fae2",
   "metadata": {},
   "outputs": [],
   "source": [
    "lower_bound = q1 - 1.5 * IQR\n",
    "upper_bound = q3 + 1.5 * IQR"
   ]
  },
  {
   "cell_type": "code",
   "execution_count": 31,
   "id": "5cbf03c2-635c-49a6-8929-d8f013f055cb",
   "metadata": {},
   "outputs": [
    {
     "data": {
      "text/plain": [
       "86.55037157353914"
      ]
     },
     "execution_count": 31,
     "metadata": {},
     "output_type": "execute_result"
    }
   ],
   "source": [
    "lower_bound"
   ]
  },
  {
   "cell_type": "code",
   "execution_count": 32,
   "id": "329ff2b9-1795-4f49-8fc4-50e7c08b85b7",
   "metadata": {},
   "outputs": [
    {
     "data": {
      "text/plain": [
       "232.5035353251491"
      ]
     },
     "execution_count": 32,
     "metadata": {},
     "output_type": "execute_result"
    }
   ],
   "source": [
    "upper_bound"
   ]
  },
  {
   "cell_type": "code",
   "execution_count": null,
   "id": "33fa42fd-4ea7-4db4-9862-6b64e7e16d6d",
   "metadata": {},
   "outputs": [],
   "source": []
  },
  {
   "cell_type": "code",
   "execution_count": 33,
   "id": "bbeffc16-5cc3-4c56-91d8-16bfb7924177",
   "metadata": {},
   "outputs": [
    {
     "data": {
      "text/plain": [
       "array([236.84073006, 245.94204301, 233.90589038, 240.84635878,\n",
       "       238.51397718, 245.90575671, 264.82112193, 240.88427026,\n",
       "       248.04327353, 276.49364878, 287.88498946, 239.75792524,\n",
       "       234.94468844, 266.85810527, 245.7442493 , 258.69640622,\n",
       "       247.13219085, 248.30527907, 244.09979866, 276.3830563 ,\n",
       "       243.91540801, 237.41647515])"
      ]
     },
     "execution_count": 33,
     "metadata": {},
     "output_type": "execute_result"
    }
   ],
   "source": [
    "new_data[(new_data < lower_bound) | (new_data > upper_bound)]"
   ]
  },
  {
   "cell_type": "code",
   "execution_count": 34,
   "id": "174cbbeb-3249-4d89-8b8b-66e266a4de06",
   "metadata": {},
   "outputs": [
    {
     "data": {
      "text/plain": [
       "160.57406215087903"
      ]
     },
     "execution_count": 34,
     "metadata": {},
     "output_type": "execute_result"
    }
   ],
   "source": [
    "new_data.mean()"
   ]
  },
  {
   "cell_type": "code",
   "execution_count": 35,
   "id": "14f51416-ce32-4ba5-b8b9-ae986222ae3b",
   "metadata": {},
   "outputs": [
    {
     "data": {
      "text/plain": [
       "156.93248003431262"
      ]
     },
     "execution_count": 35,
     "metadata": {},
     "output_type": "execute_result"
    }
   ],
   "source": [
    "np.median(new_data)"
   ]
  },
  {
   "cell_type": "code",
   "execution_count": 37,
   "id": "d4d55dc2-ac5d-4ea3-a0d5-c5c5410eff02",
   "metadata": {},
   "outputs": [],
   "source": [
    "new_data[(new_data < lower_bound) | (new_data > upper_bound)] = np.median(new_data)\n"
   ]
  },
  {
   "cell_type": "code",
   "execution_count": 38,
   "id": "fb849d4f-f694-48b8-b552-91760423d0af",
   "metadata": {},
   "outputs": [
    {
     "data": {
      "text/plain": [
       "array([104.20919871, 151.12519281, 111.76569771, ..., 225.10659083,\n",
       "       137.72556536, 149.06268834])"
      ]
     },
     "execution_count": 38,
     "metadata": {},
     "output_type": "execute_result"
    }
   ],
   "source": [
    "new_data"
   ]
  },
  {
   "cell_type": "code",
   "execution_count": 39,
   "id": "c2a8ec85-21b5-4343-8112-8eed186851d8",
   "metadata": {},
   "outputs": [
    {
     "data": {
      "text/plain": [
       "159.20684809632888"
      ]
     },
     "execution_count": 39,
     "metadata": {},
     "output_type": "execute_result"
    }
   ],
   "source": [
    "np.mean(new_data)"
   ]
  },
  {
   "cell_type": "code",
   "execution_count": 40,
   "id": "b989e7dd-f874-44ca-b9a2-2a989ac79884",
   "metadata": {},
   "outputs": [
    {
     "data": {
      "text/plain": [
       "156.91798783392423"
      ]
     },
     "execution_count": 40,
     "metadata": {},
     "output_type": "execute_result"
    }
   ],
   "source": [
    "np.median(new_data)"
   ]
  },
  {
   "cell_type": "code",
   "execution_count": null,
   "id": "52ef60fd-dc5b-45c1-8d12-590ce0d0069e",
   "metadata": {},
   "outputs": [],
   "source": []
  },
  {
   "cell_type": "code",
   "execution_count": 42,
   "id": "aefefcbb-e255-476e-a941-8e442a83b1b1",
   "metadata": {},
   "outputs": [
    {
     "data": {
      "text/plain": [
       "array([[32, 20, 36, 27, 20],\n",
       "       [32, 36, 40, 32, 22],\n",
       "       [21, 32, 42, 36, 31],\n",
       "       [20, 40, 21, 37, 38]])"
      ]
     },
     "execution_count": 42,
     "metadata": {},
     "output_type": "execute_result"
    }
   ],
   "source": [
    "arr1 = np.random.randint(20, 50, (4,5))\n",
    "arr1"
   ]
  },
  {
   "cell_type": "code",
   "execution_count": 44,
   "id": "29d94c4f-1e29-4083-9dd0-b761c6cf9663",
   "metadata": {},
   "outputs": [
    {
     "data": {
      "text/plain": [
       "[array([[32, 20, 36, 27, 20],\n",
       "        [32, 36, 40, 32, 22]]),\n",
       " array([[21, 32, 42, 36, 31],\n",
       "        [20, 40, 21, 37, 38]])]"
      ]
     },
     "execution_count": 44,
     "metadata": {},
     "output_type": "execute_result"
    }
   ],
   "source": [
    "np.split(arr1, 2)"
   ]
  },
  {
   "cell_type": "code",
   "execution_count": null,
   "id": "8afdbd92-0b59-4a57-b5b1-ae3abf2b0678",
   "metadata": {},
   "outputs": [],
   "source": []
  },
  {
   "cell_type": "code",
   "execution_count": 45,
   "id": "665e3ed4-0f6c-4e17-974d-c0a6eebc6005",
   "metadata": {},
   "outputs": [
    {
     "data": {
      "text/plain": [
       "[array([[32, 20, 36, 27, 20],\n",
       "        [32, 36, 40, 32, 22]]),\n",
       " array([[21, 32, 42, 36, 31]]),\n",
       " array([[20, 40, 21, 37, 38]])]"
      ]
     },
     "execution_count": 45,
     "metadata": {},
     "output_type": "execute_result"
    }
   ],
   "source": [
    "np.split(arr1, [2,3])"
   ]
  },
  {
   "cell_type": "markdown",
   "id": "d6350e41-6626-45e2-9e64-dafe56c09919",
   "metadata": {},
   "source": [
    "    0:2, 2:3, 3:"
   ]
  },
  {
   "cell_type": "code",
   "execution_count": null,
   "id": "4fcf013f-0d0b-4bea-a458-5f1794c263d5",
   "metadata": {},
   "outputs": [],
   "source": []
  },
  {
   "cell_type": "code",
   "execution_count": 46,
   "id": "b30da94b-b916-4ca9-a143-88d1df55f367",
   "metadata": {},
   "outputs": [
    {
     "data": {
      "text/plain": [
       "array([[24, 32, 40, 41, 37, 46, 44, 32],\n",
       "       [47, 48, 38, 44, 36, 32, 32, 44],\n",
       "       [47, 28, 21, 35, 48, 46, 33, 33],\n",
       "       [21, 45, 39, 29, 23, 45, 32, 27],\n",
       "       [46, 38, 46, 29, 31, 26, 22, 35],\n",
       "       [24, 42, 36, 33, 30, 37, 27, 46],\n",
       "       [39, 25, 45, 25, 21, 33, 30, 47]])"
      ]
     },
     "execution_count": 46,
     "metadata": {},
     "output_type": "execute_result"
    }
   ],
   "source": [
    "arr2 = np.random.randint(20, 50, (7,8))\n",
    "arr2"
   ]
  },
  {
   "cell_type": "code",
   "execution_count": 47,
   "id": "9056bd48-a710-49dc-9d33-6d337c21d971",
   "metadata": {},
   "outputs": [
    {
     "data": {
      "text/plain": [
       "[array([[24, 32, 40, 41, 37, 46, 44, 32],\n",
       "        [47, 48, 38, 44, 36, 32, 32, 44]]),\n",
       " array([[47, 28, 21, 35, 48, 46, 33, 33],\n",
       "        [21, 45, 39, 29, 23, 45, 32, 27],\n",
       "        [46, 38, 46, 29, 31, 26, 22, 35]]),\n",
       " array([[24, 42, 36, 33, 30, 37, 27, 46],\n",
       "        [39, 25, 45, 25, 21, 33, 30, 47]]),\n",
       " array([], shape=(0, 8), dtype=int32),\n",
       " array([], shape=(0, 8), dtype=int32)]"
      ]
     },
     "execution_count": 47,
     "metadata": {},
     "output_type": "execute_result"
    }
   ],
   "source": [
    "np.split(arr2, [2,5,7,8])"
   ]
  },
  {
   "cell_type": "code",
   "execution_count": null,
   "id": "33076638-4363-4ea4-b54a-5c7f62133a4a",
   "metadata": {},
   "outputs": [],
   "source": []
  },
  {
   "cell_type": "code",
   "execution_count": 49,
   "id": "cc2b425c-9e21-4b02-90e9-451c95cf0df4",
   "metadata": {},
   "outputs": [
    {
     "data": {
      "text/plain": [
       "array([[24, 32, 40, 41, 37, 46, 44, 32],\n",
       "       [47, 48, 38, 44, 36, 32, 32, 44],\n",
       "       [47, 28, 21, 35, 48, 46, 33, 33],\n",
       "       [21, 45, 39, 29, 23, 45, 32, 27],\n",
       "       [46, 38, 46, 29, 31, 26, 22, 35],\n",
       "       [24, 42, 36, 33, 30, 37, 27, 46],\n",
       "       [39, 25, 45, 25, 21, 33, 30, 47]])"
      ]
     },
     "execution_count": 49,
     "metadata": {},
     "output_type": "execute_result"
    }
   ],
   "source": [
    "arr2"
   ]
  },
  {
   "cell_type": "code",
   "execution_count": null,
   "id": "2a1da0ad-c7b4-4887-8350-af9422f1b80b",
   "metadata": {},
   "outputs": [],
   "source": []
  },
  {
   "cell_type": "code",
   "execution_count": 50,
   "id": "48a685f4-7675-4343-a728-30b38eba865a",
   "metadata": {},
   "outputs": [
    {
     "data": {
      "text/plain": [
       "[array([[24, 32, 40],\n",
       "        [47, 48, 38],\n",
       "        [47, 28, 21],\n",
       "        [21, 45, 39],\n",
       "        [46, 38, 46],\n",
       "        [24, 42, 36],\n",
       "        [39, 25, 45]]),\n",
       " array([[41, 37],\n",
       "        [44, 36],\n",
       "        [35, 48],\n",
       "        [29, 23],\n",
       "        [29, 31],\n",
       "        [33, 30],\n",
       "        [25, 21]]),\n",
       " array([[46, 44, 32],\n",
       "        [32, 32, 44],\n",
       "        [46, 33, 33],\n",
       "        [45, 32, 27],\n",
       "        [26, 22, 35],\n",
       "        [37, 27, 46],\n",
       "        [33, 30, 47]]),\n",
       " array([], shape=(7, 0), dtype=int32)]"
      ]
     },
     "execution_count": 50,
     "metadata": {},
     "output_type": "execute_result"
    }
   ],
   "source": [
    "np.split(arr2, [3,5,8], axis=1)"
   ]
  },
  {
   "cell_type": "code",
   "execution_count": null,
   "id": "2116bc5c-33e6-4ff9-8046-c5036a9dcb44",
   "metadata": {},
   "outputs": [],
   "source": []
  },
  {
   "cell_type": "code",
   "execution_count": 51,
   "id": "a60c2134-d96b-43ba-b221-916319c3c430",
   "metadata": {},
   "outputs": [
    {
     "data": {
      "text/plain": [
       "array([[32, 20, 36, 27, 20],\n",
       "       [32, 36, 40, 32, 22],\n",
       "       [21, 32, 42, 36, 31],\n",
       "       [20, 40, 21, 37, 38]])"
      ]
     },
     "execution_count": 51,
     "metadata": {},
     "output_type": "execute_result"
    }
   ],
   "source": [
    "arr1"
   ]
  },
  {
   "cell_type": "code",
   "execution_count": 53,
   "id": "9b8197f7-0e5a-4360-81b7-bed6d044e7de",
   "metadata": {},
   "outputs": [
    {
     "data": {
      "text/plain": [
       "array([[40, 53, 42, 48, 34],\n",
       "       [46, 37, 47, 35, 54],\n",
       "       [38, 34, 45, 55, 53],\n",
       "       [39, 50, 36, 39, 42]])"
      ]
     },
     "execution_count": 53,
     "metadata": {},
     "output_type": "execute_result"
    }
   ],
   "source": [
    "arr1 = np.random.randint(34, 56, (4,5))\n",
    "arr1"
   ]
  },
  {
   "cell_type": "code",
   "execution_count": 54,
   "id": "a55b3ea6-f4d3-4156-99d0-2636e503898a",
   "metadata": {},
   "outputs": [
    {
     "data": {
      "text/plain": [
       "array([[47, 49, 52, 66, 40],\n",
       "       [57, 66, 37, 68, 49],\n",
       "       [54, 42, 65, 39, 50],\n",
       "       [35, 62, 38, 64, 42]])"
      ]
     },
     "execution_count": 54,
     "metadata": {},
     "output_type": "execute_result"
    }
   ],
   "source": [
    "arr2 = np.random.randint(34, 70, (4,5))\n",
    "arr2"
   ]
  },
  {
   "cell_type": "code",
   "execution_count": 55,
   "id": "04d0325c-7350-4eb8-b82c-84229ea0bc5c",
   "metadata": {},
   "outputs": [
    {
     "data": {
      "text/plain": [
       "array([[40, 53, 42, 48, 34],\n",
       "       [46, 37, 47, 35, 54],\n",
       "       [38, 34, 45, 55, 53],\n",
       "       [39, 50, 36, 39, 42],\n",
       "       [47, 49, 52, 66, 40],\n",
       "       [57, 66, 37, 68, 49],\n",
       "       [54, 42, 65, 39, 50],\n",
       "       [35, 62, 38, 64, 42]])"
      ]
     },
     "execution_count": 55,
     "metadata": {},
     "output_type": "execute_result"
    }
   ],
   "source": [
    "np.concatenate((arr1, arr2))"
   ]
  },
  {
   "cell_type": "code",
   "execution_count": 56,
   "id": "27f80557-f4df-49be-b90d-30f7c7ee5288",
   "metadata": {},
   "outputs": [
    {
     "data": {
      "text/plain": [
       "array([[40, 53, 42, 48, 34, 47, 49, 52, 66, 40],\n",
       "       [46, 37, 47, 35, 54, 57, 66, 37, 68, 49],\n",
       "       [38, 34, 45, 55, 53, 54, 42, 65, 39, 50],\n",
       "       [39, 50, 36, 39, 42, 35, 62, 38, 64, 42]])"
      ]
     },
     "execution_count": 56,
     "metadata": {},
     "output_type": "execute_result"
    }
   ],
   "source": [
    "np.concatenate((arr1, arr2), axis=1)"
   ]
  },
  {
   "cell_type": "code",
   "execution_count": 57,
   "id": "3da56690-e7d8-49c8-9361-2a07a18ad773",
   "metadata": {},
   "outputs": [
    {
     "data": {
      "text/plain": [
       "array([[40, 53, 42, 48, 34],\n",
       "       [46, 37, 47, 35, 54],\n",
       "       [38, 34, 45, 55, 53],\n",
       "       [39, 50, 36, 39, 42]])"
      ]
     },
     "execution_count": 57,
     "metadata": {},
     "output_type": "execute_result"
    }
   ],
   "source": [
    "arr1"
   ]
  },
  {
   "cell_type": "code",
   "execution_count": 58,
   "id": "20b15657-d39f-433c-80d8-8ba43ee6231b",
   "metadata": {},
   "outputs": [
    {
     "data": {
      "text/plain": [
       "array([[53, 46, 35, 37, 50, 54],\n",
       "       [54, 50, 42, 41, 41, 49],\n",
       "       [50, 39, 51, 40, 38, 50],\n",
       "       [39, 41, 41, 51, 45, 49]])"
      ]
     },
     "execution_count": 58,
     "metadata": {},
     "output_type": "execute_result"
    }
   ],
   "source": [
    "arr3 = np.random.randint(34, 56, (4,6))\n",
    "arr3"
   ]
  },
  {
   "cell_type": "code",
   "execution_count": 60,
   "id": "a00ca0cc-8f18-4337-8f03-9b45aaab2a26",
   "metadata": {},
   "outputs": [
    {
     "ename": "ValueError",
     "evalue": "all the input array dimensions except for the concatenation axis must match exactly, but along dimension 1, the array at index 0 has size 5 and the array at index 1 has size 6",
     "output_type": "error",
     "traceback": [
      "\u001b[1;31m---------------------------------------------------------------------------\u001b[0m",
      "\u001b[1;31mValueError\u001b[0m                                Traceback (most recent call last)",
      "Cell \u001b[1;32mIn[60], line 1\u001b[0m\n\u001b[1;32m----> 1\u001b[0m np\u001b[38;5;241m.\u001b[39mconcatenate((arr1, arr3))\n",
      "\u001b[1;31mValueError\u001b[0m: all the input array dimensions except for the concatenation axis must match exactly, but along dimension 1, the array at index 0 has size 5 and the array at index 1 has size 6"
     ]
    }
   ],
   "source": [
    "np.concatenate((arr1, arr3))"
   ]
  },
  {
   "cell_type": "code",
   "execution_count": 61,
   "id": "9dcf7fa6-2329-4a75-97f9-da930563d0f5",
   "metadata": {},
   "outputs": [
    {
     "data": {
      "text/plain": [
       "array([[40, 53, 42, 48, 34, 53, 46, 35, 37, 50, 54],\n",
       "       [46, 37, 47, 35, 54, 54, 50, 42, 41, 41, 49],\n",
       "       [38, 34, 45, 55, 53, 50, 39, 51, 40, 38, 50],\n",
       "       [39, 50, 36, 39, 42, 39, 41, 41, 51, 45, 49]])"
      ]
     },
     "execution_count": 61,
     "metadata": {},
     "output_type": "execute_result"
    }
   ],
   "source": [
    "np.concatenate((arr1, arr3), axis=1)\n"
   ]
  },
  {
   "cell_type": "code",
   "execution_count": null,
   "id": "fec96017-407a-45a3-b2fe-022c668c0381",
   "metadata": {},
   "outputs": [],
   "source": []
  },
  {
   "cell_type": "markdown",
   "id": "9a59cfa8-93fe-40fe-a222-084c90256239",
   "metadata": {},
   "source": [
    "    np.row_stack()\n",
    "    np.column_stack()"
   ]
  },
  {
   "cell_type": "code",
   "execution_count": null,
   "id": "8760c928-361a-49af-a1b6-8deb527b76f3",
   "metadata": {},
   "outputs": [],
   "source": []
  },
  {
   "cell_type": "code",
   "execution_count": null,
   "id": "7ac9635e-8c66-4040-b31c-173e6dd73d27",
   "metadata": {},
   "outputs": [],
   "source": []
  },
  {
   "cell_type": "code",
   "execution_count": null,
   "id": "ea1f35f4-54d3-4a2a-a4be-313383f6dc37",
   "metadata": {},
   "outputs": [],
   "source": []
  }
 ],
 "metadata": {
  "kernelspec": {
   "display_name": "Python 3 (ipykernel)",
   "language": "python",
   "name": "python3"
  },
  "language_info": {
   "codemirror_mode": {
    "name": "ipython",
    "version": 3
   },
   "file_extension": ".py",
   "mimetype": "text/x-python",
   "name": "python",
   "nbconvert_exporter": "python",
   "pygments_lexer": "ipython3",
   "version": "3.11.3"
  }
 },
 "nbformat": 4,
 "nbformat_minor": 5
}
