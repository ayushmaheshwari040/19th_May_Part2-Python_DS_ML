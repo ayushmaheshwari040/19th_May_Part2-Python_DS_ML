{
 "cells": [
  {
   "cell_type": "markdown",
   "id": "6c3caeb5-13ec-4a07-83d9-00333b0b68d4",
   "metadata": {},
   "source": [
    "# Center of data"
   ]
  },
  {
   "cell_type": "code",
   "execution_count": null,
   "id": "7a61801f-d104-40da-ac19-7c917f49cef7",
   "metadata": {},
   "outputs": [],
   "source": []
  },
  {
   "cell_type": "code",
   "execution_count": 1,
   "id": "63671b10-8720-4329-8e9a-0be2d5f6272a",
   "metadata": {},
   "outputs": [],
   "source": [
    "import numpy as np"
   ]
  },
  {
   "cell_type": "code",
   "execution_count": 2,
   "id": "00f837cb-b59c-4538-8010-f021453b9f02",
   "metadata": {},
   "outputs": [
    {
     "data": {
      "text/plain": [
       "array([23, 45, 67, 34, 67, 89, 23, 67])"
      ]
     },
     "execution_count": 2,
     "metadata": {},
     "output_type": "execute_result"
    }
   ],
   "source": [
    "arr = np.array([23,45,67,34,67,89,23,67])\n",
    "arr"
   ]
  },
  {
   "cell_type": "code",
   "execution_count": 3,
   "id": "6a882e32-7f78-4f82-b11b-ef81a8e9e282",
   "metadata": {},
   "outputs": [
    {
     "data": {
      "text/plain": [
       "(8,)"
      ]
     },
     "execution_count": 3,
     "metadata": {},
     "output_type": "execute_result"
    }
   ],
   "source": [
    "arr.shape"
   ]
  },
  {
   "cell_type": "code",
   "execution_count": 4,
   "id": "85818dcb-02e5-43e1-ab09-b79e19e8aff9",
   "metadata": {},
   "outputs": [
    {
     "data": {
      "text/plain": [
       "8"
      ]
     },
     "execution_count": 4,
     "metadata": {},
     "output_type": "execute_result"
    }
   ],
   "source": [
    "arr.size"
   ]
  },
  {
   "cell_type": "code",
   "execution_count": 5,
   "id": "01754d5f-854a-4559-9e80-756ec7d7ba67",
   "metadata": {},
   "outputs": [
    {
     "data": {
      "text/plain": [
       "1"
      ]
     },
     "execution_count": 5,
     "metadata": {},
     "output_type": "execute_result"
    }
   ],
   "source": [
    "arr.ndim"
   ]
  },
  {
   "cell_type": "code",
   "execution_count": 6,
   "id": "53cf0d63-7f22-48c7-ae86-c1bbfdbf1ff2",
   "metadata": {},
   "outputs": [
    {
     "data": {
      "text/plain": [
       "dtype('int32')"
      ]
     },
     "execution_count": 6,
     "metadata": {},
     "output_type": "execute_result"
    }
   ],
   "source": [
    "arr.dtype"
   ]
  },
  {
   "cell_type": "code",
   "execution_count": null,
   "id": "dbee7908-6228-4310-8afd-fd8fb57223cd",
   "metadata": {},
   "outputs": [],
   "source": []
  },
  {
   "cell_type": "code",
   "execution_count": 7,
   "id": "d7da1ffa-f9e7-4d35-b158-8a8f60a94e7e",
   "metadata": {},
   "outputs": [
    {
     "data": {
      "text/plain": [
       "array([23, 45, 67, 34, 67, 89, 23, 67])"
      ]
     },
     "execution_count": 7,
     "metadata": {},
     "output_type": "execute_result"
    }
   ],
   "source": [
    "arr"
   ]
  },
  {
   "cell_type": "code",
   "execution_count": 8,
   "id": "a1613e44-e8a5-40b2-9312-ff92c8942b45",
   "metadata": {},
   "outputs": [
    {
     "data": {
      "text/plain": [
       "array([33, 55, 77, 44, 77, 99, 33, 77])"
      ]
     },
     "execution_count": 8,
     "metadata": {},
     "output_type": "execute_result"
    }
   ],
   "source": [
    "arr + 10"
   ]
  },
  {
   "cell_type": "code",
   "execution_count": 9,
   "id": "d1b4b2d2-191d-44bc-8c70-76051fba6966",
   "metadata": {},
   "outputs": [
    {
     "data": {
      "text/plain": [
       "array([2.3, 4.5, 6.7, 3.4, 6.7, 8.9, 2.3, 6.7])"
      ]
     },
     "execution_count": 9,
     "metadata": {},
     "output_type": "execute_result"
    }
   ],
   "source": [
    "arr / 10"
   ]
  },
  {
   "cell_type": "code",
   "execution_count": 10,
   "id": "02ad5c33-fa28-46cb-8b3a-866d32df6431",
   "metadata": {},
   "outputs": [
    {
     "data": {
      "text/plain": [
       "array([23, 45, 67, 34, 67, 89, 23, 67])"
      ]
     },
     "execution_count": 10,
     "metadata": {},
     "output_type": "execute_result"
    }
   ],
   "source": [
    "arr"
   ]
  },
  {
   "cell_type": "code",
   "execution_count": 11,
   "id": "317bf62c-57f6-405d-80e8-8a495e17dfd4",
   "metadata": {},
   "outputs": [
    {
     "data": {
      "text/plain": [
       "array([23, 45, 67, 34, 67, 89, 23, 67])"
      ]
     },
     "execution_count": 11,
     "metadata": {},
     "output_type": "execute_result"
    }
   ],
   "source": [
    "arr"
   ]
  },
  {
   "cell_type": "code",
   "execution_count": 12,
   "id": "da91f88e-d93c-47b9-b640-b0b8e0a447bb",
   "metadata": {},
   "outputs": [],
   "source": [
    "arr += 10"
   ]
  },
  {
   "cell_type": "code",
   "execution_count": 13,
   "id": "385c60c0-e217-4b08-b246-fbb369972c7a",
   "metadata": {},
   "outputs": [
    {
     "data": {
      "text/plain": [
       "array([33, 55, 77, 44, 77, 99, 33, 77])"
      ]
     },
     "execution_count": 13,
     "metadata": {},
     "output_type": "execute_result"
    }
   ],
   "source": [
    "arr"
   ]
  },
  {
   "cell_type": "code",
   "execution_count": null,
   "id": "1db094c5-3db7-49a7-aa48-c8877c449698",
   "metadata": {},
   "outputs": [],
   "source": []
  },
  {
   "cell_type": "code",
   "execution_count": 14,
   "id": "18ea3833-b926-404f-8ce2-3eff2de91013",
   "metadata": {},
   "outputs": [
    {
     "data": {
      "text/plain": [
       "array([33, 55, 77, 44, 77, 99, 33, 77])"
      ]
     },
     "execution_count": 14,
     "metadata": {},
     "output_type": "execute_result"
    }
   ],
   "source": [
    "arr"
   ]
  },
  {
   "cell_type": "code",
   "execution_count": 15,
   "id": "d4aa0a81-143b-4410-8b53-d4dca05b87fd",
   "metadata": {},
   "outputs": [
    {
     "data": {
      "text/plain": [
       "33"
      ]
     },
     "execution_count": 15,
     "metadata": {},
     "output_type": "execute_result"
    }
   ],
   "source": [
    "arr[0]"
   ]
  },
  {
   "cell_type": "code",
   "execution_count": 16,
   "id": "8ac13d7a-0316-458c-a77f-8f7d2e36a7a4",
   "metadata": {},
   "outputs": [
    {
     "data": {
      "text/plain": [
       "33"
      ]
     },
     "execution_count": 16,
     "metadata": {},
     "output_type": "execute_result"
    }
   ],
   "source": [
    "arr[-2]"
   ]
  },
  {
   "cell_type": "code",
   "execution_count": 17,
   "id": "08037f1b-c6d7-40d9-bc34-6946dca69ada",
   "metadata": {},
   "outputs": [
    {
     "data": {
      "text/plain": [
       "array([33, 55, 77, 44, 77])"
      ]
     },
     "execution_count": 17,
     "metadata": {},
     "output_type": "execute_result"
    }
   ],
   "source": [
    "arr[:5]"
   ]
  },
  {
   "cell_type": "code",
   "execution_count": null,
   "id": "67693976-46aa-483a-abfa-137771bb0629",
   "metadata": {},
   "outputs": [],
   "source": []
  },
  {
   "cell_type": "code",
   "execution_count": 18,
   "id": "a84287f5-31ee-4512-a774-03041d713612",
   "metadata": {},
   "outputs": [
    {
     "data": {
      "text/plain": [
       "array([33, 55, 77, 44, 77, 99, 33, 77])"
      ]
     },
     "execution_count": 18,
     "metadata": {},
     "output_type": "execute_result"
    }
   ],
   "source": [
    "arr"
   ]
  },
  {
   "cell_type": "code",
   "execution_count": 19,
   "id": "fad3d3dc-f968-4d33-9d79-4a37a92fa2f9",
   "metadata": {},
   "outputs": [],
   "source": [
    "arr[1] = 100"
   ]
  },
  {
   "cell_type": "code",
   "execution_count": 20,
   "id": "ee113cb5-8093-40e9-8c44-5d4a3bec6072",
   "metadata": {},
   "outputs": [
    {
     "data": {
      "text/plain": [
       "array([ 33, 100,  77,  44,  77,  99,  33,  77])"
      ]
     },
     "execution_count": 20,
     "metadata": {},
     "output_type": "execute_result"
    }
   ],
   "source": [
    "arr"
   ]
  },
  {
   "cell_type": "code",
   "execution_count": 21,
   "id": "f8e6a108-f73a-4158-8925-3bca6c55bdce",
   "metadata": {},
   "outputs": [
    {
     "data": {
      "text/plain": [
       "array([ 33, 100,  77,  44])"
      ]
     },
     "execution_count": 21,
     "metadata": {},
     "output_type": "execute_result"
    }
   ],
   "source": [
    "arr[:4]"
   ]
  },
  {
   "cell_type": "code",
   "execution_count": 22,
   "id": "dacdde97-3eaa-458e-af4e-df7d3c9449ee",
   "metadata": {},
   "outputs": [],
   "source": [
    "arr[:4] = 0\n"
   ]
  },
  {
   "cell_type": "code",
   "execution_count": 23,
   "id": "db4c5d8e-ae02-4290-bfff-326ec3246a05",
   "metadata": {},
   "outputs": [
    {
     "data": {
      "text/plain": [
       "array([ 0,  0,  0,  0, 77, 99, 33, 77])"
      ]
     },
     "execution_count": 23,
     "metadata": {},
     "output_type": "execute_result"
    }
   ],
   "source": [
    "arr"
   ]
  },
  {
   "cell_type": "markdown",
   "id": "e314a0a1-1fb0-4260-809c-160c4a740ef1",
   "metadata": {},
   "source": [
    "    range()"
   ]
  },
  {
   "cell_type": "code",
   "execution_count": 24,
   "id": "7e8a9d58-d403-4a75-a3be-e042b70ff4f2",
   "metadata": {},
   "outputs": [
    {
     "data": {
      "text/plain": [
       "array([10, 12, 14, 16, 18, 20])"
      ]
     },
     "execution_count": 24,
     "metadata": {},
     "output_type": "execute_result"
    }
   ],
   "source": [
    "np.arange(10, 21, 2)"
   ]
  },
  {
   "cell_type": "code",
   "execution_count": null,
   "id": "cc7c0496-0e9d-4358-818b-b200b21b2570",
   "metadata": {},
   "outputs": [],
   "source": []
  },
  {
   "cell_type": "code",
   "execution_count": 25,
   "id": "5cc34dcd-224e-4639-9718-6f6494ca7447",
   "metadata": {},
   "outputs": [
    {
     "data": {
      "text/plain": [
       "array([ 2,  4,  6,  8, 10, 12, 14, 16, 18, 20])"
      ]
     },
     "execution_count": 25,
     "metadata": {},
     "output_type": "execute_result"
    }
   ],
   "source": [
    "np.arange(2, 21, 2)"
   ]
  },
  {
   "cell_type": "code",
   "execution_count": 26,
   "id": "39c7ab24-0b89-4db9-a8a8-2fd92165d337",
   "metadata": {},
   "outputs": [
    {
     "data": {
      "text/plain": [
       "array([10. , 10.5, 11. , 11.5, 12. , 12.5, 13. , 13.5, 14. , 14.5, 15. ,\n",
       "       15.5, 16. , 16.5, 17. , 17.5, 18. , 18.5, 19. , 19.5, 20. , 20.5])"
      ]
     },
     "execution_count": 26,
     "metadata": {},
     "output_type": "execute_result"
    }
   ],
   "source": [
    "np.arange(10, 21, 0.5)"
   ]
  },
  {
   "cell_type": "code",
   "execution_count": 27,
   "id": "295b48f0-bb22-4ffa-ad08-837547962e47",
   "metadata": {},
   "outputs": [
    {
     "data": {
      "text/plain": [
       "array([0. , 0.1, 0.2, 0.3, 0.4, 0.5, 0.6, 0.7, 0.8, 0.9, 1. ])"
      ]
     },
     "execution_count": 27,
     "metadata": {},
     "output_type": "execute_result"
    }
   ],
   "source": [
    "np.arange(0, 1.1, 0.1)"
   ]
  },
  {
   "cell_type": "code",
   "execution_count": null,
   "id": "4cefd75a-6f0a-4274-82c0-404242e79de7",
   "metadata": {},
   "outputs": [],
   "source": []
  },
  {
   "cell_type": "code",
   "execution_count": 28,
   "id": "8499af49-1e45-4353-a979-2359f117e1b0",
   "metadata": {},
   "outputs": [
    {
     "data": {
      "text/plain": [
       "array([29, 34, 32, 24, 26, 21, 30, 27, 23, 28, 21, 30, 23, 20, 33, 31, 31,\n",
       "       27, 30, 24, 34, 34, 27, 21, 29, 26, 23, 31, 22, 25, 25, 33, 28, 32,\n",
       "       32, 24, 30, 33, 29, 29, 21, 21, 29, 28, 20, 30, 24, 33, 20, 29, 27,\n",
       "       25, 29, 26, 31, 20, 21, 23, 22, 31, 29, 33, 26, 30, 26, 32, 31, 26,\n",
       "       29, 31, 28, 23, 33, 23, 26, 25, 22, 28, 29, 27, 32, 23, 21, 32, 22,\n",
       "       22, 30, 30, 33, 21, 22, 30, 29, 32, 34, 23, 25, 25, 33, 22])"
      ]
     },
     "execution_count": 28,
     "metadata": {},
     "output_type": "execute_result"
    }
   ],
   "source": [
    "ages = np.random.randint(20,35,100)\n",
    "ages"
   ]
  },
  {
   "cell_type": "markdown",
   "id": "e496116e-9bfb-4a74-b3c0-f78cc3782eff",
   "metadata": {},
   "source": [
    "#### Mean\n",
    "- avg of values\n"
   ]
  },
  {
   "cell_type": "code",
   "execution_count": 29,
   "id": "c77b24f5-bcce-4deb-b485-44c9c6b2f090",
   "metadata": {},
   "outputs": [
    {
     "data": {
      "text/plain": [
       "27.19"
      ]
     },
     "execution_count": 29,
     "metadata": {},
     "output_type": "execute_result"
    }
   ],
   "source": [
    "sum(ages) / len(ages)"
   ]
  },
  {
   "cell_type": "code",
   "execution_count": 30,
   "id": "5faae242-6749-4f44-955d-01418e7d5835",
   "metadata": {},
   "outputs": [
    {
     "data": {
      "text/plain": [
       "27.19"
      ]
     },
     "execution_count": 30,
     "metadata": {},
     "output_type": "execute_result"
    }
   ],
   "source": [
    "ages.mean()"
   ]
  },
  {
   "cell_type": "code",
   "execution_count": 31,
   "id": "63ebb7e0-4030-4468-8629-9aa07de1648c",
   "metadata": {},
   "outputs": [
    {
     "data": {
      "text/plain": [
       "27.19"
      ]
     },
     "execution_count": 31,
     "metadata": {},
     "output_type": "execute_result"
    }
   ],
   "source": [
    "np.mean(ages)"
   ]
  },
  {
   "cell_type": "code",
   "execution_count": 32,
   "id": "5f306516-03f6-43ac-b2a1-7de3327cd6e4",
   "metadata": {},
   "outputs": [
    {
     "data": {
      "text/plain": [
       "28.0"
      ]
     },
     "execution_count": 32,
     "metadata": {},
     "output_type": "execute_result"
    }
   ],
   "source": [
    "np.median(ages)"
   ]
  },
  {
   "cell_type": "code",
   "execution_count": 33,
   "id": "8a9437b1-3745-45f4-9ec9-c35efed87699",
   "metadata": {},
   "outputs": [
    {
     "data": {
      "text/plain": [
       "array([29, 34, 32, 24, 26, 21, 30, 27, 23, 28, 21, 30, 23, 20, 33, 31, 31,\n",
       "       27, 30, 24, 34, 34, 27, 21, 29, 26, 23, 31, 22, 25, 25, 33, 28, 32,\n",
       "       32, 24, 30, 33, 29, 29, 21, 21, 29, 28, 20, 30, 24, 33, 20, 29, 27,\n",
       "       25, 29, 26, 31, 20, 21, 23, 22, 31, 29, 33, 26, 30, 26, 32, 31, 26,\n",
       "       29, 31, 28, 23, 33, 23, 26, 25, 22, 28, 29, 27, 32, 23, 21, 32, 22,\n",
       "       22, 30, 30, 33, 21, 22, 30, 29, 32, 34, 23, 25, 25, 33, 22])"
      ]
     },
     "execution_count": 33,
     "metadata": {},
     "output_type": "execute_result"
    }
   ],
   "source": [
    "ages"
   ]
  },
  {
   "cell_type": "code",
   "execution_count": null,
   "id": "a0b715e3-375f-434b-a330-b10aa0d20066",
   "metadata": {},
   "outputs": [],
   "source": []
  },
  {
   "cell_type": "code",
   "execution_count": 42,
   "id": "56417cd1-2a58-4a68-a06e-1a445a6e0e05",
   "metadata": {},
   "outputs": [
    {
     "data": {
      "text/plain": [
       "array([86, 82, 82, 84, 89, 90, 86, 87, 84, 89])"
      ]
     },
     "execution_count": 42,
     "metadata": {},
     "output_type": "execute_result"
    }
   ],
   "source": [
    "new_ages = np.random.randint(80, 91, 10)\n",
    "new_ages"
   ]
  },
  {
   "cell_type": "code",
   "execution_count": null,
   "id": "f07e5f12-02a1-46bb-930a-dfadfa14481c",
   "metadata": {},
   "outputs": [],
   "source": []
  },
  {
   "cell_type": "code",
   "execution_count": 44,
   "id": "6cd3b359-4dca-4113-9ea6-ad6c761adf2d",
   "metadata": {},
   "outputs": [
    {
     "data": {
      "text/plain": [
       "array([29, 34, 32, 24, 26, 21, 30, 27, 23, 28, 21, 30, 23, 20, 33, 31, 31,\n",
       "       27, 30, 24, 34, 34, 27, 21, 29, 26, 23, 31, 22, 25, 25, 33, 28, 32,\n",
       "       32, 24, 30, 33, 29, 29, 21, 21, 29, 28, 20, 30, 24, 33, 20, 29, 27,\n",
       "       25, 29, 26, 31, 20, 21, 23, 22, 31, 29, 33, 26, 30, 26, 32, 31, 26,\n",
       "       29, 31, 28, 23, 33, 23, 26, 25, 22, 28, 29, 27, 32, 23, 21, 32, 22,\n",
       "       22, 30, 30, 33, 21, 22, 30, 29, 32, 34, 23, 25, 25, 33, 22, 86, 82,\n",
       "       82, 84, 89, 90, 86, 87, 84, 89])"
      ]
     },
     "execution_count": 44,
     "metadata": {},
     "output_type": "execute_result"
    }
   ],
   "source": [
    "new_arr = np.append(ages, new_ages)\n",
    "new_arr"
   ]
  },
  {
   "cell_type": "code",
   "execution_count": 45,
   "id": "9846e531-7d41-4b78-81cd-83e706713a98",
   "metadata": {},
   "outputs": [
    {
     "data": {
      "text/plain": [
       "32.527272727272724"
      ]
     },
     "execution_count": 45,
     "metadata": {},
     "output_type": "execute_result"
    }
   ],
   "source": [
    "np.mean(new_arr)"
   ]
  },
  {
   "cell_type": "code",
   "execution_count": 46,
   "id": "64ef13e4-5eec-4c21-88e9-5848f4f2f20c",
   "metadata": {},
   "outputs": [
    {
     "data": {
      "text/plain": [
       "29.0"
      ]
     },
     "execution_count": 46,
     "metadata": {},
     "output_type": "execute_result"
    }
   ],
   "source": [
    "np.median(new_arr)"
   ]
  },
  {
   "cell_type": "code",
   "execution_count": null,
   "id": "e664d488-24cf-49b8-b7c7-9f74b0506eca",
   "metadata": {},
   "outputs": [],
   "source": []
  },
  {
   "cell_type": "code",
   "execution_count": 48,
   "id": "bc32bc44-663a-4400-a17f-ecd98e5a154f",
   "metadata": {},
   "outputs": [
    {
     "data": {
      "text/plain": [
       "array(['usa', 'usa', 'china', 'india', 'usa', 'usa', 'india', 'usa',\n",
       "       'aus', 'china', 'usa', 'usa', 'aus', 'china', 'china', 'china',\n",
       "       'india', 'usa', 'aus', 'india', 'india', 'aus', 'aus', 'india',\n",
       "       'china', 'china', 'aus', 'aus', 'usa', 'india', 'china', 'india',\n",
       "       'china', 'usa', 'china', 'aus', 'aus', 'china', 'china', 'aus',\n",
       "       'india', 'china', 'aus', 'india', 'aus', 'usa', 'aus', 'aus',\n",
       "       'china', 'aus', 'india', 'china', 'india', 'india', 'india', 'aus',\n",
       "       'usa', 'aus', 'china', 'usa', 'aus', 'india', 'china', 'aus',\n",
       "       'china', 'usa', 'aus', 'china', 'india', 'india', 'aus', 'china',\n",
       "       'usa', 'india', 'china', 'aus', 'china', 'usa', 'china', 'china',\n",
       "       'usa', 'china', 'usa', 'china', 'aus', 'china', 'china', 'india',\n",
       "       'china', 'aus', 'aus', 'usa', 'usa', 'china', 'india', 'aus',\n",
       "       'india', 'aus', 'china', 'usa'], dtype='<U5')"
      ]
     },
     "execution_count": 48,
     "metadata": {},
     "output_type": "execute_result"
    }
   ],
   "source": [
    "country = np.random.choice(['india', 'usa', 'china', 'aus'], 100)\n",
    "country"
   ]
  },
  {
   "cell_type": "code",
   "execution_count": null,
   "id": "112ecbef-aeeb-4599-8a17-0a2862a41314",
   "metadata": {},
   "outputs": [],
   "source": []
  },
  {
   "cell_type": "code",
   "execution_count": 49,
   "id": "7c3532b7-31b5-471f-a9d2-d36b3dcfa4a6",
   "metadata": {},
   "outputs": [],
   "source": [
    "import statistics"
   ]
  },
  {
   "cell_type": "code",
   "execution_count": 50,
   "id": "1f9b8f04-3b82-49d2-9ac6-84f8001b7113",
   "metadata": {},
   "outputs": [
    {
     "data": {
      "text/plain": [
       "'china'"
      ]
     },
     "execution_count": 50,
     "metadata": {},
     "output_type": "execute_result"
    }
   ],
   "source": [
    "statistics.mode(country)"
   ]
  },
  {
   "cell_type": "code",
   "execution_count": 51,
   "id": "be0fff34-df81-4d13-83f6-05d13326a7d7",
   "metadata": {},
   "outputs": [],
   "source": [
    "d = dict()\n",
    "\n",
    "for i in country:\n",
    "    if i in d:\n",
    "        d[i] += 1\n",
    "    else:\n",
    "        d[i] = 1"
   ]
  },
  {
   "cell_type": "code",
   "execution_count": 52,
   "id": "5478c0ac-456d-4e4b-adb3-446e787ff410",
   "metadata": {},
   "outputs": [
    {
     "data": {
      "text/plain": [
       "{'usa': 21, 'china': 31, 'india': 21, 'aus': 27}"
      ]
     },
     "execution_count": 52,
     "metadata": {},
     "output_type": "execute_result"
    }
   ],
   "source": [
    "d"
   ]
  },
  {
   "cell_type": "code",
   "execution_count": 55,
   "id": "4d75fd6d-6135-446b-a216-adb0275e4388",
   "metadata": {},
   "outputs": [
    {
     "data": {
      "text/plain": [
       "31"
      ]
     },
     "execution_count": 55,
     "metadata": {},
     "output_type": "execute_result"
    }
   ],
   "source": [
    "m = max(d.values())\n",
    "m"
   ]
  },
  {
   "cell_type": "code",
   "execution_count": 56,
   "id": "d653acee-eae4-479d-8435-e2beab0222ce",
   "metadata": {},
   "outputs": [
    {
     "data": {
      "text/plain": [
       "dict_items([('usa', 21), ('china', 31), ('india', 21), ('aus', 27)])"
      ]
     },
     "execution_count": 56,
     "metadata": {},
     "output_type": "execute_result"
    }
   ],
   "source": [
    "d.items()"
   ]
  },
  {
   "cell_type": "code",
   "execution_count": 57,
   "id": "4a8a6cc2-6ea7-415a-b6cf-02019952e1d8",
   "metadata": {},
   "outputs": [
    {
     "name": "stdout",
     "output_type": "stream",
     "text": [
      "china\n"
     ]
    }
   ],
   "source": [
    "for key,value in d.items():\n",
    "    if value == m:\n",
    "        print(key)"
   ]
  },
  {
   "cell_type": "code",
   "execution_count": null,
   "id": "f6bc8156-9111-40be-80e6-4d30708e5b12",
   "metadata": {},
   "outputs": [],
   "source": []
  },
  {
   "cell_type": "markdown",
   "id": "9348d50d-c3b7-4c99-8c0f-7781a7bbbcb9",
   "metadata": {},
   "source": [
    "### Spreadness of data"
   ]
  },
  {
   "cell_type": "markdown",
   "id": "dd2d49a6-ebc5-431e-977b-b3c23922a401",
   "metadata": {},
   "source": [
    "    Range\n",
    "    std\n",
    "    var\n",
    "    qunatiles, IQR"
   ]
  },
  {
   "cell_type": "code",
   "execution_count": null,
   "id": "edf728a0-4433-453c-a7d5-cfde2b08ab5f",
   "metadata": {},
   "outputs": [],
   "source": []
  },
  {
   "cell_type": "code",
   "execution_count": 58,
   "id": "415f8526-cd32-4315-abdf-c87d9da0747e",
   "metadata": {},
   "outputs": [
    {
     "data": {
      "text/plain": [
       "array([29, 34, 32, 24, 26, 21, 30, 27, 23, 28, 21, 30, 23, 20, 33, 31, 31,\n",
       "       27, 30, 24, 34, 34, 27, 21, 29, 26, 23, 31, 22, 25, 25, 33, 28, 32,\n",
       "       32, 24, 30, 33, 29, 29, 21, 21, 29, 28, 20, 30, 24, 33, 20, 29, 27,\n",
       "       25, 29, 26, 31, 20, 21, 23, 22, 31, 29, 33, 26, 30, 26, 32, 31, 26,\n",
       "       29, 31, 28, 23, 33, 23, 26, 25, 22, 28, 29, 27, 32, 23, 21, 32, 22,\n",
       "       22, 30, 30, 33, 21, 22, 30, 29, 32, 34, 23, 25, 25, 33, 22])"
      ]
     },
     "execution_count": 58,
     "metadata": {},
     "output_type": "execute_result"
    }
   ],
   "source": [
    "ages"
   ]
  },
  {
   "cell_type": "code",
   "execution_count": 60,
   "id": "fbee10c5-6c05-4eb2-8551-d3e8d887a06a",
   "metadata": {},
   "outputs": [
    {
     "data": {
      "text/plain": [
       "27.19"
      ]
     },
     "execution_count": 60,
     "metadata": {},
     "output_type": "execute_result"
    }
   ],
   "source": [
    "mean = np.mean(ages)\n",
    "mean"
   ]
  },
  {
   "cell_type": "code",
   "execution_count": 62,
   "id": "2fe8cb41-be2b-44f0-b0a8-25fd0a06e3ad",
   "metadata": {},
   "outputs": [
    {
     "name": "stdout",
     "output_type": "stream",
     "text": [
      "[-1.8099999999999987, -6.809999999999999, -4.809999999999999, 3.1900000000000013, 1.1900000000000013, 6.190000000000001, -2.8099999999999987, 0.19000000000000128, 4.190000000000001, -0.8099999999999987, 6.190000000000001, -2.8099999999999987, 4.190000000000001, 7.190000000000001, -5.809999999999999, -3.8099999999999987, -3.8099999999999987, 0.19000000000000128, -2.8099999999999987, 3.1900000000000013, -6.809999999999999, -6.809999999999999, 0.19000000000000128, 6.190000000000001, -1.8099999999999987, 1.1900000000000013, 4.190000000000001, -3.8099999999999987, 5.190000000000001, 2.1900000000000013, 2.1900000000000013, -5.809999999999999, -0.8099999999999987, -4.809999999999999, -4.809999999999999, 3.1900000000000013, -2.8099999999999987, -5.809999999999999, -1.8099999999999987, -1.8099999999999987, 6.190000000000001, 6.190000000000001, -1.8099999999999987, -0.8099999999999987, 7.190000000000001, -2.8099999999999987, 3.1900000000000013, -5.809999999999999, 7.190000000000001, -1.8099999999999987, 0.19000000000000128, 2.1900000000000013, -1.8099999999999987, 1.1900000000000013, -3.8099999999999987, 7.190000000000001, 6.190000000000001, 4.190000000000001, 5.190000000000001, -3.8099999999999987, -1.8099999999999987, -5.809999999999999, 1.1900000000000013, -2.8099999999999987, 1.1900000000000013, -4.809999999999999, -3.8099999999999987, 1.1900000000000013, -1.8099999999999987, -3.8099999999999987, -0.8099999999999987, 4.190000000000001, -5.809999999999999, 4.190000000000001, 1.1900000000000013, 2.1900000000000013, 5.190000000000001, -0.8099999999999987, -1.8099999999999987, 0.19000000000000128, -4.809999999999999, 4.190000000000001, 6.190000000000001, -4.809999999999999, 5.190000000000001, 5.190000000000001, -2.8099999999999987, -2.8099999999999987, -5.809999999999999, 6.190000000000001, 5.190000000000001, -2.8099999999999987, -1.8099999999999987, -4.809999999999999, -6.809999999999999, 4.190000000000001, 2.1900000000000013, 2.1900000000000013, -5.809999999999999, 5.190000000000001]\n"
     ]
    }
   ],
   "source": [
    "print([(mean-age) for age in ages])"
   ]
  },
  {
   "cell_type": "code",
   "execution_count": 64,
   "id": "3b032993-acce-4c59-9729-3f9f4338b8c3",
   "metadata": {
    "scrolled": true
   },
   "outputs": [
    {
     "data": {
      "text/plain": [
       "[1.8099999999999987,\n",
       " 6.809999999999999,\n",
       " 4.809999999999999,\n",
       " 3.1900000000000013,\n",
       " 1.1900000000000013,\n",
       " 6.190000000000001,\n",
       " 2.8099999999999987,\n",
       " 0.19000000000000128,\n",
       " 4.190000000000001,\n",
       " 0.8099999999999987,\n",
       " 6.190000000000001,\n",
       " 2.8099999999999987,\n",
       " 4.190000000000001,\n",
       " 7.190000000000001,\n",
       " 5.809999999999999,\n",
       " 3.8099999999999987,\n",
       " 3.8099999999999987,\n",
       " 0.19000000000000128,\n",
       " 2.8099999999999987,\n",
       " 3.1900000000000013,\n",
       " 6.809999999999999,\n",
       " 6.809999999999999,\n",
       " 0.19000000000000128,\n",
       " 6.190000000000001,\n",
       " 1.8099999999999987,\n",
       " 1.1900000000000013,\n",
       " 4.190000000000001,\n",
       " 3.8099999999999987,\n",
       " 5.190000000000001,\n",
       " 2.1900000000000013,\n",
       " 2.1900000000000013,\n",
       " 5.809999999999999,\n",
       " 0.8099999999999987,\n",
       " 4.809999999999999,\n",
       " 4.809999999999999,\n",
       " 3.1900000000000013,\n",
       " 2.8099999999999987,\n",
       " 5.809999999999999,\n",
       " 1.8099999999999987,\n",
       " 1.8099999999999987,\n",
       " 6.190000000000001,\n",
       " 6.190000000000001,\n",
       " 1.8099999999999987,\n",
       " 0.8099999999999987,\n",
       " 7.190000000000001,\n",
       " 2.8099999999999987,\n",
       " 3.1900000000000013,\n",
       " 5.809999999999999,\n",
       " 7.190000000000001,\n",
       " 1.8099999999999987,\n",
       " 0.19000000000000128,\n",
       " 2.1900000000000013,\n",
       " 1.8099999999999987,\n",
       " 1.1900000000000013,\n",
       " 3.8099999999999987,\n",
       " 7.190000000000001,\n",
       " 6.190000000000001,\n",
       " 4.190000000000001,\n",
       " 5.190000000000001,\n",
       " 3.8099999999999987,\n",
       " 1.8099999999999987,\n",
       " 5.809999999999999,\n",
       " 1.1900000000000013,\n",
       " 2.8099999999999987,\n",
       " 1.1900000000000013,\n",
       " 4.809999999999999,\n",
       " 3.8099999999999987,\n",
       " 1.1900000000000013,\n",
       " 1.8099999999999987,\n",
       " 3.8099999999999987,\n",
       " 0.8099999999999987,\n",
       " 4.190000000000001,\n",
       " 5.809999999999999,\n",
       " 4.190000000000001,\n",
       " 1.1900000000000013,\n",
       " 2.1900000000000013,\n",
       " 5.190000000000001,\n",
       " 0.8099999999999987,\n",
       " 1.8099999999999987,\n",
       " 0.19000000000000128,\n",
       " 4.809999999999999,\n",
       " 4.190000000000001,\n",
       " 6.190000000000001,\n",
       " 4.809999999999999,\n",
       " 5.190000000000001,\n",
       " 5.190000000000001,\n",
       " 2.8099999999999987,\n",
       " 2.8099999999999987,\n",
       " 5.809999999999999,\n",
       " 6.190000000000001,\n",
       " 5.190000000000001,\n",
       " 2.8099999999999987,\n",
       " 1.8099999999999987,\n",
       " 4.809999999999999,\n",
       " 6.809999999999999,\n",
       " 4.190000000000001,\n",
       " 2.1900000000000013,\n",
       " 2.1900000000000013,\n",
       " 5.809999999999999,\n",
       " 5.190000000000001]"
      ]
     },
     "execution_count": 64,
     "metadata": {},
     "output_type": "execute_result"
    }
   ],
   "source": [
    "d = [abs(mean-age) for age in ages]\n",
    "d"
   ]
  },
  {
   "cell_type": "code",
   "execution_count": 65,
   "id": "9289c139-d1de-4b39-8eab-69d3713368cb",
   "metadata": {},
   "outputs": [
    {
     "data": {
      "text/plain": [
       "3.6662"
      ]
     },
     "execution_count": 65,
     "metadata": {},
     "output_type": "execute_result"
    }
   ],
   "source": [
    "np.mean(d)"
   ]
  },
  {
   "cell_type": "code",
   "execution_count": null,
   "id": "1e5a8ddd-f70d-4b52-921a-0a0507d8906c",
   "metadata": {},
   "outputs": [],
   "source": []
  },
  {
   "cell_type": "code",
   "execution_count": 66,
   "id": "dda4ba3d-1568-4b03-82c9-3d22f0caad29",
   "metadata": {},
   "outputs": [
    {
     "data": {
      "text/plain": [
       "4.184961170668134"
      ]
     },
     "execution_count": 66,
     "metadata": {},
     "output_type": "execute_result"
    }
   ],
   "source": [
    "np.std(ages)"
   ]
  },
  {
   "cell_type": "code",
   "execution_count": 67,
   "id": "c808eb1e-14b3-4888-a360-9aa5edff2c7e",
   "metadata": {},
   "outputs": [
    {
     "data": {
      "text/plain": [
       "17.5139"
      ]
     },
     "execution_count": 67,
     "metadata": {},
     "output_type": "execute_result"
    }
   ],
   "source": [
    "np.var(ages)"
   ]
  },
  {
   "cell_type": "code",
   "execution_count": null,
   "id": "54aa6c8c-65d4-4da1-9230-f33ee348f94c",
   "metadata": {},
   "outputs": [],
   "source": []
  },
  {
   "cell_type": "code",
   "execution_count": 68,
   "id": "9c905a3a-6e61-4cce-9684-cc8bbe386733",
   "metadata": {},
   "outputs": [
    {
     "data": {
      "text/plain": [
       "array([29, 34, 32, 24, 26, 21, 30, 27, 23, 28, 21, 30, 23, 20, 33, 31, 31,\n",
       "       27, 30, 24, 34, 34, 27, 21, 29, 26, 23, 31, 22, 25, 25, 33, 28, 32,\n",
       "       32, 24, 30, 33, 29, 29, 21, 21, 29, 28, 20, 30, 24, 33, 20, 29, 27,\n",
       "       25, 29, 26, 31, 20, 21, 23, 22, 31, 29, 33, 26, 30, 26, 32, 31, 26,\n",
       "       29, 31, 28, 23, 33, 23, 26, 25, 22, 28, 29, 27, 32, 23, 21, 32, 22,\n",
       "       22, 30, 30, 33, 21, 22, 30, 29, 32, 34, 23, 25, 25, 33, 22])"
      ]
     },
     "execution_count": 68,
     "metadata": {},
     "output_type": "execute_result"
    }
   ],
   "source": [
    "ages"
   ]
  },
  {
   "cell_type": "code",
   "execution_count": 69,
   "id": "5f9b362e-a41f-4516-b156-3ebb12d896c3",
   "metadata": {},
   "outputs": [
    {
     "data": {
      "text/plain": [
       "100"
      ]
     },
     "execution_count": 69,
     "metadata": {},
     "output_type": "execute_result"
    }
   ],
   "source": [
    "ages.size"
   ]
  },
  {
   "cell_type": "code",
   "execution_count": 70,
   "id": "cbd2bc65-e2fe-4067-8554-ec3895160cfc",
   "metadata": {},
   "outputs": [
    {
     "data": {
      "text/plain": [
       "1"
      ]
     },
     "execution_count": 70,
     "metadata": {},
     "output_type": "execute_result"
    }
   ],
   "source": [
    "ages.ndim"
   ]
  },
  {
   "cell_type": "code",
   "execution_count": 71,
   "id": "0b2652f3-e7fe-4e6c-be2f-27b5eab0f37d",
   "metadata": {},
   "outputs": [
    {
     "data": {
      "text/plain": [
       "(100,)"
      ]
     },
     "execution_count": 71,
     "metadata": {},
     "output_type": "execute_result"
    }
   ],
   "source": [
    "ages.shape"
   ]
  },
  {
   "cell_type": "code",
   "execution_count": 72,
   "id": "fc333690-4479-4fd3-9fa5-2a64bb709ab1",
   "metadata": {},
   "outputs": [
    {
     "data": {
      "text/plain": [
       "array([ 0,  0,  0,  0, 77, 99, 33, 77])"
      ]
     },
     "execution_count": 72,
     "metadata": {},
     "output_type": "execute_result"
    }
   ],
   "source": [
    "arr"
   ]
  },
  {
   "cell_type": "code",
   "execution_count": 73,
   "id": "ef1a43eb-d8e7-41ab-bb8a-5390d7d956fd",
   "metadata": {},
   "outputs": [
    {
     "data": {
      "text/plain": [
       "array([ 0,  0,  0,  0, 77, 99, 33, 77])"
      ]
     },
     "execution_count": 73,
     "metadata": {},
     "output_type": "execute_result"
    }
   ],
   "source": [
    "arr"
   ]
  },
  {
   "cell_type": "code",
   "execution_count": 74,
   "id": "6dbf4a8f-c25b-4cab-914f-4fde22259857",
   "metadata": {},
   "outputs": [
    {
     "data": {
      "text/plain": [
       "0"
      ]
     },
     "execution_count": 74,
     "metadata": {},
     "output_type": "execute_result"
    }
   ],
   "source": [
    "arr[0]"
   ]
  },
  {
   "cell_type": "code",
   "execution_count": 75,
   "id": "c8871c4c-3011-4df3-b331-d7cd070e737a",
   "metadata": {},
   "outputs": [
    {
     "data": {
      "text/plain": [
       "array([ 0, 77,  0])"
      ]
     },
     "execution_count": 75,
     "metadata": {},
     "output_type": "execute_result"
    }
   ],
   "source": [
    "arr[[3,7,2]]"
   ]
  },
  {
   "cell_type": "code",
   "execution_count": null,
   "id": "875dd024-817d-4c1c-9231-cd5448560cfb",
   "metadata": {},
   "outputs": [],
   "source": []
  },
  {
   "cell_type": "code",
   "execution_count": 76,
   "id": "1cd83089-b99f-4f8d-b691-cd3cdb5258e7",
   "metadata": {},
   "outputs": [
    {
     "data": {
      "text/plain": [
       "array([ 0,  0,  0,  0, 77, 99, 33, 77])"
      ]
     },
     "execution_count": 76,
     "metadata": {},
     "output_type": "execute_result"
    }
   ],
   "source": [
    "arr"
   ]
  },
  {
   "cell_type": "code",
   "execution_count": 78,
   "id": "cdd3b21d-9786-4d32-9a3d-cddc91390809",
   "metadata": {},
   "outputs": [
    {
     "data": {
      "text/plain": [
       "array([ 0,  0, 33, 77])"
      ]
     },
     "execution_count": 78,
     "metadata": {},
     "output_type": "execute_result"
    }
   ],
   "source": [
    "arr[[False, True, False, True, False, False, True, True]]"
   ]
  },
  {
   "cell_type": "code",
   "execution_count": null,
   "id": "f9db4aa6-ae67-4b71-be04-92cf9087ddd8",
   "metadata": {},
   "outputs": [],
   "source": []
  },
  {
   "cell_type": "code",
   "execution_count": 79,
   "id": "5172c20a-2dfd-4373-ac3b-980c75be8793",
   "metadata": {},
   "outputs": [
    {
     "data": {
      "text/plain": [
       "array([ 0,  0,  0,  0, 77, 99, 33, 77])"
      ]
     },
     "execution_count": 79,
     "metadata": {},
     "output_type": "execute_result"
    }
   ],
   "source": [
    "arr"
   ]
  },
  {
   "cell_type": "code",
   "execution_count": 80,
   "id": "65335337-ced5-446d-88b4-2e3c5e95a91d",
   "metadata": {},
   "outputs": [
    {
     "data": {
      "text/plain": [
       "array([False, False, False, False,  True,  True, False,  True])"
      ]
     },
     "execution_count": 80,
     "metadata": {},
     "output_type": "execute_result"
    }
   ],
   "source": [
    "arr > 70"
   ]
  },
  {
   "cell_type": "code",
   "execution_count": 81,
   "id": "948781bc-4d05-455d-8486-e07489c90e92",
   "metadata": {},
   "outputs": [
    {
     "data": {
      "text/plain": [
       "array([77, 99, 77])"
      ]
     },
     "execution_count": 81,
     "metadata": {},
     "output_type": "execute_result"
    }
   ],
   "source": [
    "arr[arr > 70]"
   ]
  },
  {
   "cell_type": "code",
   "execution_count": null,
   "id": "36a70120-d0eb-4367-9ade-13c835fc05d9",
   "metadata": {},
   "outputs": [],
   "source": []
  },
  {
   "cell_type": "code",
   "execution_count": 82,
   "id": "1a6f5394-5c73-40df-a5e6-a722628bec8f",
   "metadata": {},
   "outputs": [
    {
     "data": {
      "text/plain": [
       "array([20, 25, 30, 35, 40, 45, 50])"
      ]
     },
     "execution_count": 82,
     "metadata": {},
     "output_type": "execute_result"
    }
   ],
   "source": [
    "np.arange(20, 51, 5)"
   ]
  },
  {
   "cell_type": "code",
   "execution_count": 83,
   "id": "c203b929-3897-406f-8998-25efc51e6a87",
   "metadata": {},
   "outputs": [
    {
     "data": {
      "text/plain": [
       "array([-5. , -4.5, -4. , -3.5, -3. , -2.5, -2. , -1.5, -1. , -0.5,  0. ,\n",
       "        0.5,  1. ,  1.5,  2. ,  2.5,  3. ,  3.5,  4. ,  4.5,  5. ])"
      ]
     },
     "execution_count": 83,
     "metadata": {},
     "output_type": "execute_result"
    }
   ],
   "source": [
    "np.arange(-5, 5.5, .5)\n"
   ]
  },
  {
   "cell_type": "code",
   "execution_count": null,
   "id": "9147a5fd-43d7-4b13-8aa8-96ce3e4e95d5",
   "metadata": {},
   "outputs": [],
   "source": []
  },
  {
   "cell_type": "code",
   "execution_count": 84,
   "id": "58cd571f-7fb5-45fc-9dc0-44a1d48bd338",
   "metadata": {},
   "outputs": [
    {
     "data": {
      "text/plain": [
       "array([ 1.,  2.,  3.,  4.,  5.,  6.,  7.,  8.,  9., 10.])"
      ]
     },
     "execution_count": 84,
     "metadata": {},
     "output_type": "execute_result"
    }
   ],
   "source": [
    "np.linspace(1, 10, 10)"
   ]
  },
  {
   "cell_type": "code",
   "execution_count": 85,
   "id": "eaa30fe8-7639-4e17-a2d8-39a5c0522e7f",
   "metadata": {},
   "outputs": [
    {
     "data": {
      "text/plain": [
       "array([ 1.        ,  1.47368421,  1.94736842,  2.42105263,  2.89473684,\n",
       "        3.36842105,  3.84210526,  4.31578947,  4.78947368,  5.26315789,\n",
       "        5.73684211,  6.21052632,  6.68421053,  7.15789474,  7.63157895,\n",
       "        8.10526316,  8.57894737,  9.05263158,  9.52631579, 10.        ])"
      ]
     },
     "execution_count": 85,
     "metadata": {},
     "output_type": "execute_result"
    }
   ],
   "source": [
    "np.linspace(1, 10, 20)\n"
   ]
  },
  {
   "cell_type": "code",
   "execution_count": 87,
   "id": "a91add8f-3a6d-41c2-9a90-e231d49f2e27",
   "metadata": {},
   "outputs": [
    {
     "data": {
      "text/plain": [
       "array([0., 1.])"
      ]
     },
     "execution_count": 87,
     "metadata": {},
     "output_type": "execute_result"
    }
   ],
   "source": [
    "np.linspace(0, 1, 2)"
   ]
  },
  {
   "cell_type": "code",
   "execution_count": 88,
   "id": "95490ee5-4605-44fb-969a-7585168b85a9",
   "metadata": {},
   "outputs": [
    {
     "data": {
      "text/plain": [
       "array([0. , 0.5, 1. ])"
      ]
     },
     "execution_count": 88,
     "metadata": {},
     "output_type": "execute_result"
    }
   ],
   "source": [
    "np.linspace(0, 1, 3)\n"
   ]
  },
  {
   "cell_type": "code",
   "execution_count": 90,
   "id": "46b667c2-37ec-49a2-acb5-43eb3027d9ea",
   "metadata": {},
   "outputs": [
    {
     "data": {
      "text/plain": [
       "array([0.  , 0.25, 0.5 , 0.75, 1.  ])"
      ]
     },
     "execution_count": 90,
     "metadata": {},
     "output_type": "execute_result"
    }
   ],
   "source": [
    "np.linspace(0, 1, 5)\n"
   ]
  },
  {
   "cell_type": "code",
   "execution_count": 91,
   "id": "4af4dc4e-18bc-40ff-b1c8-d67d4f424ebe",
   "metadata": {},
   "outputs": [
    {
     "data": {
      "text/plain": [
       "array([0.        , 0.11111111, 0.22222222, 0.33333333, 0.44444444,\n",
       "       0.55555556, 0.66666667, 0.77777778, 0.88888889, 1.        ])"
      ]
     },
     "execution_count": 91,
     "metadata": {},
     "output_type": "execute_result"
    }
   ],
   "source": [
    "np.linspace(0, 1, 10)\n"
   ]
  },
  {
   "cell_type": "code",
   "execution_count": null,
   "id": "80ab2819-9aeb-44d5-a79d-5dccaf1fadbe",
   "metadata": {},
   "outputs": [],
   "source": []
  },
  {
   "cell_type": "code",
   "execution_count": 93,
   "id": "85d7dca4-d102-4566-9486-7376243718bd",
   "metadata": {},
   "outputs": [
    {
     "data": {
      "text/plain": [
       "array([22, 39, 47, 36, 22, 28, 48, 45, 24, 24, 30, 49, 33, 22, 20, 31, 23,\n",
       "       47, 27, 29, 34, 21, 21, 27, 27, 24, 36, 41, 30, 41, 20, 38, 37, 29,\n",
       "       35, 48, 36, 27, 37, 22, 47, 36, 42, 50, 41, 37, 24, 45, 31, 34, 26,\n",
       "       41, 44, 38, 20, 21, 44, 36, 38, 33, 22, 42, 31, 24, 30, 37, 27, 46,\n",
       "       28, 24, 44, 32, 27, 28, 35, 49, 20, 39, 30, 30, 26, 36, 37, 40, 49,\n",
       "       28, 49, 28, 35, 39, 41, 37, 26, 25, 41, 38, 42, 28, 23, 32])"
      ]
     },
     "execution_count": 93,
     "metadata": {},
     "output_type": "execute_result"
    }
   ],
   "source": [
    "arr_1d = np.random.randint(20, 51, 100)\n",
    "arr_1d"
   ]
  },
  {
   "cell_type": "code",
   "execution_count": 94,
   "id": "cb957c60-34d5-48f2-9695-1d050bf6bfa3",
   "metadata": {},
   "outputs": [
    {
     "data": {
      "text/plain": [
       "array([[22, 39, 47, 36, 22, 28, 48, 45, 24, 24],\n",
       "       [30, 49, 33, 22, 20, 31, 23, 47, 27, 29],\n",
       "       [34, 21, 21, 27, 27, 24, 36, 41, 30, 41],\n",
       "       [20, 38, 37, 29, 35, 48, 36, 27, 37, 22],\n",
       "       [47, 36, 42, 50, 41, 37, 24, 45, 31, 34],\n",
       "       [26, 41, 44, 38, 20, 21, 44, 36, 38, 33],\n",
       "       [22, 42, 31, 24, 30, 37, 27, 46, 28, 24],\n",
       "       [44, 32, 27, 28, 35, 49, 20, 39, 30, 30],\n",
       "       [26, 36, 37, 40, 49, 28, 49, 28, 35, 39],\n",
       "       [41, 37, 26, 25, 41, 38, 42, 28, 23, 32]])"
      ]
     },
     "execution_count": 94,
     "metadata": {},
     "output_type": "execute_result"
    }
   ],
   "source": [
    "arr_1d.reshape(10,10)"
   ]
  },
  {
   "cell_type": "code",
   "execution_count": null,
   "id": "3ada99f7-9284-4fe0-9876-5cdff6b9a386",
   "metadata": {},
   "outputs": [],
   "source": []
  },
  {
   "cell_type": "code",
   "execution_count": 95,
   "id": "2f458afd-7aa5-47a7-883d-95a90886ec02",
   "metadata": {},
   "outputs": [
    {
     "data": {
      "text/plain": [
       "array([22, 39, 47, 36, 22, 28, 48, 45, 24, 24, 30, 49, 33, 22, 20, 31, 23,\n",
       "       47, 27, 29, 34, 21, 21, 27, 27, 24, 36, 41, 30, 41, 20, 38, 37, 29,\n",
       "       35, 48, 36, 27, 37, 22, 47, 36, 42, 50, 41, 37, 24, 45, 31, 34, 26,\n",
       "       41, 44, 38, 20, 21, 44, 36, 38, 33, 22, 42, 31, 24, 30, 37, 27, 46,\n",
       "       28, 24, 44, 32, 27, 28, 35, 49, 20, 39, 30, 30, 26, 36, 37, 40, 49,\n",
       "       28, 49, 28, 35, 39, 41, 37, 26, 25, 41, 38, 42, 28, 23, 32])"
      ]
     },
     "execution_count": 95,
     "metadata": {},
     "output_type": "execute_result"
    }
   ],
   "source": [
    "arr_1d"
   ]
  },
  {
   "cell_type": "code",
   "execution_count": 96,
   "id": "60206b58-0a4a-42b3-bb4f-93510143b457",
   "metadata": {
    "scrolled": true
   },
   "outputs": [
    {
     "data": {
      "text/plain": [
       "array([[[22, 39, 47, 36, 22],\n",
       "        [28, 48, 45, 24, 24],\n",
       "        [30, 49, 33, 22, 20],\n",
       "        [31, 23, 47, 27, 29],\n",
       "        [34, 21, 21, 27, 27],\n",
       "        [24, 36, 41, 30, 41],\n",
       "        [20, 38, 37, 29, 35],\n",
       "        [48, 36, 27, 37, 22],\n",
       "        [47, 36, 42, 50, 41],\n",
       "        [37, 24, 45, 31, 34]],\n",
       "\n",
       "       [[26, 41, 44, 38, 20],\n",
       "        [21, 44, 36, 38, 33],\n",
       "        [22, 42, 31, 24, 30],\n",
       "        [37, 27, 46, 28, 24],\n",
       "        [44, 32, 27, 28, 35],\n",
       "        [49, 20, 39, 30, 30],\n",
       "        [26, 36, 37, 40, 49],\n",
       "        [28, 49, 28, 35, 39],\n",
       "        [41, 37, 26, 25, 41],\n",
       "        [38, 42, 28, 23, 32]]])"
      ]
     },
     "execution_count": 96,
     "metadata": {},
     "output_type": "execute_result"
    }
   ],
   "source": [
    "arr_1d.reshape(2, 10, 5)"
   ]
  },
  {
   "cell_type": "code",
   "execution_count": null,
   "id": "cc89e381-8328-4060-9c3c-64c1f6d98a32",
   "metadata": {},
   "outputs": [],
   "source": []
  },
  {
   "cell_type": "code",
   "execution_count": 97,
   "id": "eb067308-ed4c-47d1-ac9f-18d5882a64a4",
   "metadata": {},
   "outputs": [
    {
     "data": {
      "text/plain": [
       "array([30, 27, 26, 34, 32, 21, 25, 31, 34, 31, 31, 33, 24, 30, 33, 20, 28,\n",
       "       27, 25, 28, 33, 21, 21, 25, 30, 22, 26, 32, 22, 26, 30, 27, 34, 26,\n",
       "       24, 23, 26, 20, 27, 29, 21, 33, 26, 29, 21, 22, 30, 21, 28, 30, 25,\n",
       "       29, 24, 28, 24, 29, 26, 29, 27, 34, 20, 25, 29, 34, 20, 31, 26, 21,\n",
       "       27, 28, 25, 25, 34, 22, 23, 27, 25, 33, 34, 25, 23, 23, 20, 31, 29,\n",
       "       31, 21, 29, 33, 28, 22, 26, 21, 32, 21, 21, 22, 25, 29, 28])"
      ]
     },
     "execution_count": 97,
     "metadata": {},
     "output_type": "execute_result"
    }
   ],
   "source": [
    "np.random.randint(20, 35, 100)"
   ]
  },
  {
   "cell_type": "code",
   "execution_count": null,
   "id": "75832563-a76a-43b0-91f5-21eee367a51d",
   "metadata": {},
   "outputs": [],
   "source": []
  },
  {
   "cell_type": "code",
   "execution_count": 98,
   "id": "432bd16f-7d21-42ae-b3d6-4ff3fee9bdce",
   "metadata": {},
   "outputs": [
    {
     "data": {
      "text/plain": [
       "array([[23, 21, 28, 22],\n",
       "       [34, 21, 32, 29],\n",
       "       [32, 25, 26, 27],\n",
       "       [32, 26, 22, 27],\n",
       "       [20, 26, 25, 24],\n",
       "       [32, 29, 33, 31],\n",
       "       [20, 31, 22, 29],\n",
       "       [32, 21, 26, 33],\n",
       "       [34, 34, 30, 32],\n",
       "       [32, 28, 22, 34]])"
      ]
     },
     "execution_count": 98,
     "metadata": {},
     "output_type": "execute_result"
    }
   ],
   "source": [
    "np.random.randint(20, 35, (10,4))\n"
   ]
  },
  {
   "cell_type": "code",
   "execution_count": 99,
   "id": "f521009c-8a66-4ee5-9b10-d35a231ed485",
   "metadata": {},
   "outputs": [
    {
     "data": {
      "text/plain": [
       "array([[[27, 30, 23, 20, 32],\n",
       "        [29, 28, 25, 24, 30],\n",
       "        [22, 27, 24, 21, 28],\n",
       "        [30, 32, 30, 27, 30]],\n",
       "\n",
       "       [[29, 34, 28, 34, 26],\n",
       "        [30, 34, 23, 20, 21],\n",
       "        [31, 21, 30, 21, 32],\n",
       "        [29, 26, 31, 28, 25]],\n",
       "\n",
       "       [[33, 25, 26, 20, 20],\n",
       "        [34, 32, 24, 26, 27],\n",
       "        [34, 21, 29, 23, 33],\n",
       "        [25, 21, 27, 28, 21]],\n",
       "\n",
       "       [[20, 29, 31, 30, 28],\n",
       "        [26, 25, 26, 20, 20],\n",
       "        [23, 30, 29, 29, 20],\n",
       "        [27, 28, 31, 34, 29]],\n",
       "\n",
       "       [[26, 34, 34, 26, 24],\n",
       "        [31, 24, 26, 25, 33],\n",
       "        [21, 34, 28, 26, 24],\n",
       "        [27, 32, 32, 25, 21]]])"
      ]
     },
     "execution_count": 99,
     "metadata": {},
     "output_type": "execute_result"
    }
   ],
   "source": [
    "np.random.randint(20, 35, (5,4,5))\n"
   ]
  },
  {
   "cell_type": "code",
   "execution_count": null,
   "id": "96a623e4-e3ac-4ad1-b2f4-a158a6781c11",
   "metadata": {},
   "outputs": [],
   "source": []
  },
  {
   "cell_type": "code",
   "execution_count": null,
   "id": "e4d72df9-b7bb-450d-9ce5-ef6e4649576f",
   "metadata": {},
   "outputs": [],
   "source": [
    "np.arange(10, 21, 2)"
   ]
  },
  {
   "cell_type": "code",
   "execution_count": 102,
   "id": "e4ddaceb-47a1-4db8-b37e-daa137b9b95e",
   "metadata": {},
   "outputs": [
    {
     "data": {
      "text/plain": [
       "16"
      ]
     },
     "execution_count": 102,
     "metadata": {},
     "output_type": "execute_result"
    }
   ],
   "source": [
    "10 + 2 + 2 + 2"
   ]
  },
  {
   "cell_type": "code",
   "execution_count": 103,
   "id": "7cba4c2c-3e7c-4925-b298-381cd6d81b24",
   "metadata": {},
   "outputs": [
    {
     "data": {
      "text/plain": [
       "array([ 1.,  2.,  3.,  4.,  5.,  6.,  7.,  8.,  9., 10.])"
      ]
     },
     "execution_count": 103,
     "metadata": {},
     "output_type": "execute_result"
    }
   ],
   "source": [
    "np.linspace(1, 10, 10)"
   ]
  },
  {
   "cell_type": "code",
   "execution_count": 104,
   "id": "ad384b8a-309d-4365-bf77-8531ab8e433f",
   "metadata": {},
   "outputs": [
    {
     "data": {
      "text/plain": [
       "array([ 1.        ,  1.47368421,  1.94736842,  2.42105263,  2.89473684,\n",
       "        3.36842105,  3.84210526,  4.31578947,  4.78947368,  5.26315789,\n",
       "        5.73684211,  6.21052632,  6.68421053,  7.15789474,  7.63157895,\n",
       "        8.10526316,  8.57894737,  9.05263158,  9.52631579, 10.        ])"
      ]
     },
     "execution_count": 104,
     "metadata": {},
     "output_type": "execute_result"
    }
   ],
   "source": [
    "np.linspace(1, 10, 20)\n"
   ]
  },
  {
   "cell_type": "code",
   "execution_count": null,
   "id": "8baeb73b-6fae-4174-8279-09591738be67",
   "metadata": {},
   "outputs": [],
   "source": []
  },
  {
   "cell_type": "code",
   "execution_count": 105,
   "id": "4334f47c-a951-48c9-b0d2-5aeeab11789f",
   "metadata": {},
   "outputs": [],
   "source": [
    "arr_2d = np.random.randint(20, 50, (4,5))"
   ]
  },
  {
   "cell_type": "code",
   "execution_count": 106,
   "id": "856a1887-2bbd-4cd8-87c3-cf4030346993",
   "metadata": {},
   "outputs": [
    {
     "data": {
      "text/plain": [
       "array([[23, 41, 26, 28, 29],\n",
       "       [25, 24, 28, 27, 45],\n",
       "       [48, 26, 36, 24, 44],\n",
       "       [33, 31, 21, 30, 41]])"
      ]
     },
     "execution_count": 106,
     "metadata": {},
     "output_type": "execute_result"
    }
   ],
   "source": [
    "arr_2d"
   ]
  },
  {
   "cell_type": "markdown",
   "id": "512b2fa3-f61a-4d01-90de-120cf5cb5701",
   "metadata": {},
   "source": [
    "    arr[row_index, col_index]\n",
    "    arr[row_slicing, col_slicing]"
   ]
  },
  {
   "cell_type": "code",
   "execution_count": null,
   "id": "83475973-f8c4-41bf-8c59-627f9659cbc3",
   "metadata": {},
   "outputs": [],
   "source": []
  },
  {
   "cell_type": "code",
   "execution_count": 107,
   "id": "2b6d6bd0-6e18-4178-bf8a-9aeaccfa73d0",
   "metadata": {},
   "outputs": [
    {
     "data": {
      "text/plain": [
       "array([[23, 41, 26, 28, 29],\n",
       "       [25, 24, 28, 27, 45],\n",
       "       [48, 26, 36, 24, 44],\n",
       "       [33, 31, 21, 30, 41]])"
      ]
     },
     "execution_count": 107,
     "metadata": {},
     "output_type": "execute_result"
    }
   ],
   "source": [
    "arr_2d"
   ]
  },
  {
   "cell_type": "code",
   "execution_count": 108,
   "id": "5add7c7c-59f6-40b9-96c9-54a5c64625b9",
   "metadata": {},
   "outputs": [
    {
     "data": {
      "text/plain": [
       "array([25, 24, 28, 27, 45])"
      ]
     },
     "execution_count": 108,
     "metadata": {},
     "output_type": "execute_result"
    }
   ],
   "source": [
    "arr_2d[1]"
   ]
  },
  {
   "cell_type": "code",
   "execution_count": 109,
   "id": "999e788e-4318-4bf9-934b-b3be4cb67c38",
   "metadata": {},
   "outputs": [
    {
     "data": {
      "text/plain": [
       "27"
      ]
     },
     "execution_count": 109,
     "metadata": {},
     "output_type": "execute_result"
    }
   ],
   "source": [
    "arr_2d[1][3]"
   ]
  },
  {
   "cell_type": "code",
   "execution_count": 110,
   "id": "9b0cdc4d-1a40-4e05-971a-e39f1f55d3dd",
   "metadata": {},
   "outputs": [
    {
     "data": {
      "text/plain": [
       "27"
      ]
     },
     "execution_count": 110,
     "metadata": {},
     "output_type": "execute_result"
    }
   ],
   "source": [
    "arr_2d[1, 3]"
   ]
  },
  {
   "cell_type": "code",
   "execution_count": 111,
   "id": "4ad4b751-abee-45eb-9e17-070af6109593",
   "metadata": {},
   "outputs": [
    {
     "data": {
      "text/plain": [
       "27"
      ]
     },
     "execution_count": 111,
     "metadata": {},
     "output_type": "execute_result"
    }
   ],
   "source": [
    "arr_2d[1, -2]"
   ]
  },
  {
   "cell_type": "code",
   "execution_count": 112,
   "id": "096e8cd0-2b73-4532-90ac-d82be1ea2be0",
   "metadata": {},
   "outputs": [
    {
     "data": {
      "text/plain": [
       "array([[23, 41, 26, 28, 29],\n",
       "       [25, 24, 28, 27, 45],\n",
       "       [48, 26, 36, 24, 44],\n",
       "       [33, 31, 21, 30, 41]])"
      ]
     },
     "execution_count": 112,
     "metadata": {},
     "output_type": "execute_result"
    }
   ],
   "source": [
    "arr_2d"
   ]
  },
  {
   "cell_type": "code",
   "execution_count": 113,
   "id": "8ef45703-3717-4561-a03e-3575a8e80657",
   "metadata": {},
   "outputs": [
    {
     "data": {
      "text/plain": [
       "array([[24, 28],\n",
       "       [26, 36]])"
      ]
     },
     "execution_count": 113,
     "metadata": {},
     "output_type": "execute_result"
    }
   ],
   "source": [
    "arr_2d[1:3, 1:3]"
   ]
  },
  {
   "cell_type": "code",
   "execution_count": 114,
   "id": "e10581d9-4515-4223-a7cf-516faee36728",
   "metadata": {},
   "outputs": [
    {
     "data": {
      "text/plain": [
       "array([[28, 27],\n",
       "       [36, 24]])"
      ]
     },
     "execution_count": 114,
     "metadata": {},
     "output_type": "execute_result"
    }
   ],
   "source": [
    "arr_2d[1:3, 2:4]\n"
   ]
  },
  {
   "cell_type": "code",
   "execution_count": null,
   "id": "dc46c312-409a-4aab-80d5-fdfab2c3bbeb",
   "metadata": {},
   "outputs": [],
   "source": []
  },
  {
   "cell_type": "code",
   "execution_count": 115,
   "id": "fa407eb3-21af-429f-8215-9332943f53ad",
   "metadata": {},
   "outputs": [
    {
     "data": {
      "text/plain": [
       "array([[[21, 28, 34, 50],\n",
       "        [30, 31, 37, 33],\n",
       "        [48, 38, 29, 36]],\n",
       "\n",
       "       [[48, 36, 34, 22],\n",
       "        [48, 40, 38, 46],\n",
       "        [29, 28, 28, 50]],\n",
       "\n",
       "       [[29, 46, 42, 26],\n",
       "        [50, 37, 27, 20],\n",
       "        [22, 24, 37, 36]]])"
      ]
     },
     "execution_count": 115,
     "metadata": {},
     "output_type": "execute_result"
    }
   ],
   "source": [
    "arr_3d = np.random.randint(20, 51, (3, 3, 4))\n",
    "arr_3d"
   ]
  },
  {
   "cell_type": "markdown",
   "id": "b4884449-a43e-43c9-af91-60a7e9aa23cf",
   "metadata": {},
   "source": [
    "    arr[record_index, row_index, col_index]\n",
    "    arr[record_slicing, row_slicing, col_slicing]"
   ]
  },
  {
   "cell_type": "code",
   "execution_count": null,
   "id": "5dc3bc34-074a-4a0d-9edb-df78abf9be00",
   "metadata": {},
   "outputs": [],
   "source": []
  },
  {
   "cell_type": "code",
   "execution_count": 116,
   "id": "456254f3-8efb-4d9d-8b22-98e1819d0dcf",
   "metadata": {},
   "outputs": [
    {
     "data": {
      "text/plain": [
       "36"
      ]
     },
     "execution_count": 116,
     "metadata": {},
     "output_type": "execute_result"
    }
   ],
   "source": [
    "arr_3d.size"
   ]
  },
  {
   "cell_type": "code",
   "execution_count": 117,
   "id": "e10028a0-c483-4a34-8d94-96ba9c06014a",
   "metadata": {},
   "outputs": [
    {
     "data": {
      "text/plain": [
       "(3, 3, 4)"
      ]
     },
     "execution_count": 117,
     "metadata": {},
     "output_type": "execute_result"
    }
   ],
   "source": [
    "arr_3d.shape"
   ]
  },
  {
   "cell_type": "code",
   "execution_count": 118,
   "id": "e8c6e87a-d0b3-451f-a963-2d96b8789a04",
   "metadata": {},
   "outputs": [
    {
     "data": {
      "text/plain": [
       "3"
      ]
     },
     "execution_count": 118,
     "metadata": {},
     "output_type": "execute_result"
    }
   ],
   "source": [
    "arr_3d.ndim"
   ]
  },
  {
   "cell_type": "code",
   "execution_count": 119,
   "id": "996bf289-c70b-4807-9eb0-04b759297356",
   "metadata": {},
   "outputs": [
    {
     "data": {
      "text/plain": [
       "array([[[21, 28, 34, 50],\n",
       "        [30, 31, 37, 33],\n",
       "        [48, 38, 29, 36]],\n",
       "\n",
       "       [[48, 36, 34, 22],\n",
       "        [48, 40, 38, 46],\n",
       "        [29, 28, 28, 50]],\n",
       "\n",
       "       [[29, 46, 42, 26],\n",
       "        [50, 37, 27, 20],\n",
       "        [22, 24, 37, 36]]])"
      ]
     },
     "execution_count": 119,
     "metadata": {},
     "output_type": "execute_result"
    }
   ],
   "source": [
    "arr_3d"
   ]
  },
  {
   "cell_type": "code",
   "execution_count": 122,
   "id": "b1cb7b94-7309-4fea-9abf-60e75011a6fb",
   "metadata": {},
   "outputs": [
    {
     "data": {
      "text/plain": [
       "28"
      ]
     },
     "execution_count": 122,
     "metadata": {},
     "output_type": "execute_result"
    }
   ],
   "source": [
    "arr_3d[1, -1, -2]"
   ]
  },
  {
   "cell_type": "code",
   "execution_count": 123,
   "id": "d892e401-d5d2-471f-81a7-35153607c3d0",
   "metadata": {},
   "outputs": [
    {
     "data": {
      "text/plain": [
       "array([[[21, 34],\n",
       "        [48, 29]],\n",
       "\n",
       "       [[29, 42],\n",
       "        [22, 37]]])"
      ]
     },
     "execution_count": 123,
     "metadata": {},
     "output_type": "execute_result"
    }
   ],
   "source": [
    "arr_3d[::2, ::2, ::2]"
   ]
  },
  {
   "cell_type": "code",
   "execution_count": null,
   "id": "01314503-081c-4094-9411-0d1510083cf5",
   "metadata": {},
   "outputs": [],
   "source": []
  },
  {
   "cell_type": "code",
   "execution_count": 3,
   "id": "138e8d8f-16d1-40d5-840f-b133386b3de1",
   "metadata": {},
   "outputs": [
    {
     "data": {
      "text/plain": [
       "array([23, 45, 67, 34, 67, 89, 23, 67])"
      ]
     },
     "execution_count": 3,
     "metadata": {},
     "output_type": "execute_result"
    }
   ],
   "source": [
    "arr"
   ]
  },
  {
   "cell_type": "code",
   "execution_count": 4,
   "id": "b46df0a7-2f00-4452-8e3f-3fcede1583e7",
   "metadata": {},
   "outputs": [
    {
     "data": {
      "text/plain": [
       "array([0, 6, 3, 1, 2, 4, 7, 5], dtype=int64)"
      ]
     },
     "execution_count": 4,
     "metadata": {},
     "output_type": "execute_result"
    }
   ],
   "source": [
    "arr.argsort()"
   ]
  },
  {
   "cell_type": "code",
   "execution_count": 5,
   "id": "71fae2f1-b208-414b-8688-e26bdc0b7e76",
   "metadata": {},
   "outputs": [
    {
     "data": {
      "text/plain": [
       "array([67, 89, 34])"
      ]
     },
     "execution_count": 5,
     "metadata": {},
     "output_type": "execute_result"
    }
   ],
   "source": [
    "arr[[2,5,3]]"
   ]
  },
  {
   "cell_type": "code",
   "execution_count": 6,
   "id": "fadaa598-3ace-4be9-b5d6-f6a9cee20ade",
   "metadata": {},
   "outputs": [
    {
     "data": {
      "text/plain": [
       "array([23, 23, 34, 45, 67, 67, 67, 89])"
      ]
     },
     "execution_count": 6,
     "metadata": {},
     "output_type": "execute_result"
    }
   ],
   "source": [
    "arr[arr.argsort()]"
   ]
  },
  {
   "cell_type": "code",
   "execution_count": 7,
   "id": "a090f09c-eab4-4e2d-9ef7-3402f0e54ea1",
   "metadata": {},
   "outputs": [
    {
     "data": {
      "text/plain": [
       "array([34, 32, 33, 21, 25, 33, 22, 33, 25, 21, 24, 32, 23, 20, 28, 23, 20,\n",
       "       23, 29, 30, 22, 30, 27, 26, 28, 33, 29, 29, 22, 21, 30, 26, 33, 23,\n",
       "       25, 30, 30, 20, 32, 24, 27, 23, 21, 34, 31, 28, 26, 27, 28, 25, 26,\n",
       "       26, 28, 34, 32, 27, 22, 22, 21, 20, 24, 20, 22, 24, 20, 32, 34, 26,\n",
       "       20, 26, 31, 20, 34, 21, 25, 30, 30, 28, 20, 20, 27, 20, 24, 32, 22,\n",
       "       23, 20, 33, 21, 30, 29, 32, 34, 21, 27, 26, 30, 27, 22, 34])"
      ]
     },
     "execution_count": 7,
     "metadata": {},
     "output_type": "execute_result"
    }
   ],
   "source": [
    "np.random.randint(20, 35, 100)"
   ]
  },
  {
   "cell_type": "code",
   "execution_count": 8,
   "id": "91c820ab-b9fc-4c7d-9f39-9108b6a54013",
   "metadata": {},
   "outputs": [
    {
     "data": {
      "text/plain": [
       "array([[32, 29, 25, 23, 22],\n",
       "       [32, 26, 24, 28, 30],\n",
       "       [30, 30, 27, 22, 34],\n",
       "       [23, 32, 30, 28, 22]])"
      ]
     },
     "execution_count": 8,
     "metadata": {},
     "output_type": "execute_result"
    }
   ],
   "source": [
    "np.random.randint(20, 35, (4,5))\n"
   ]
  },
  {
   "cell_type": "code",
   "execution_count": null,
   "id": "aa9bd93f-382b-4274-938a-ba70f5ce3e93",
   "metadata": {},
   "outputs": [],
   "source": []
  },
  {
   "cell_type": "code",
   "execution_count": 9,
   "id": "f083d914-9e16-4523-82d8-46d24c8935d6",
   "metadata": {},
   "outputs": [],
   "source": [
    "arr_2d = np.array([\n",
    "    [5000, 5600, 9],\n",
    "    [4300, 5000, 6],\n",
    "    [2200, 3000, 8],\n",
    "    [2900, 4500, 10]\n",
    "])"
   ]
  },
  {
   "cell_type": "code",
   "execution_count": 10,
   "id": "2858e67d-c651-4314-b68b-7e28ca8d85f0",
   "metadata": {},
   "outputs": [
    {
     "data": {
      "text/plain": [
       "array([[5000, 5600,    9],\n",
       "       [4300, 5000,    6],\n",
       "       [2200, 3000,    8],\n",
       "       [2900, 4500,   10]])"
      ]
     },
     "execution_count": 10,
     "metadata": {},
     "output_type": "execute_result"
    }
   ],
   "source": [
    "arr_2d"
   ]
  },
  {
   "cell_type": "code",
   "execution_count": 12,
   "id": "43c23376-5da6-4b75-a749-4cc7b3af5969",
   "metadata": {},
   "outputs": [
    {
     "data": {
      "text/plain": [
       "array([ 600,  700,  800, 1600])"
      ]
     },
     "execution_count": 12,
     "metadata": {},
     "output_type": "execute_result"
    }
   ],
   "source": [
    "arr_2d[:, 1] - arr_2d[:, 0]"
   ]
  },
  {
   "cell_type": "code",
   "execution_count": 13,
   "id": "d3855afe-a796-4986-8407-70b4aa3daa9b",
   "metadata": {},
   "outputs": [
    {
     "data": {
      "text/plain": [
       "array([ 5400,  4200,  6400, 16000])"
      ]
     },
     "execution_count": 13,
     "metadata": {},
     "output_type": "execute_result"
    }
   ],
   "source": [
    "(arr_2d[:, 1] - arr_2d[:, 0]) * (arr_2d[:, -1])\n"
   ]
  },
  {
   "cell_type": "code",
   "execution_count": 14,
   "id": "c2d0f2f2-49cd-4a9c-b733-606f33aefc4a",
   "metadata": {},
   "outputs": [
    {
     "data": {
      "text/plain": [
       "32000"
      ]
     },
     "execution_count": 14,
     "metadata": {},
     "output_type": "execute_result"
    }
   ],
   "source": [
    "((arr_2d[:, 1] - arr_2d[:, 0]) * (arr_2d[:, -1])).sum()\n"
   ]
  },
  {
   "cell_type": "code",
   "execution_count": null,
   "id": "76d804e2-8cb4-40c0-a809-dfc252c90c87",
   "metadata": {},
   "outputs": [],
   "source": []
  },
  {
   "cell_type": "code",
   "execution_count": 15,
   "id": "3637ac67-0325-473a-876d-052c3bacc832",
   "metadata": {},
   "outputs": [
    {
     "name": "stdout",
     "output_type": "stream",
     "text": [
      "Writing data.csv\n"
     ]
    }
   ],
   "source": [
    "%%writefile data.csv\n",
    "price,selling_price,quantity\n",
    "5000, 5600, 9\n",
    "4300, 5000, 6\n",
    "2200, 3000, 8\n",
    "2900, 4500, 10"
   ]
  },
  {
   "cell_type": "code",
   "execution_count": 17,
   "id": "423b716e-df04-4491-93fd-6ebfe44d9d54",
   "metadata": {},
   "outputs": [
    {
     "data": {
      "text/plain": [
       "array([[5000., 5600.,    9.],\n",
       "       [4300., 5000.,    6.],\n",
       "       [2200., 3000.,    8.],\n",
       "       [2900., 4500.,   10.]])"
      ]
     },
     "execution_count": 17,
     "metadata": {},
     "output_type": "execute_result"
    }
   ],
   "source": [
    "np.genfromtxt('data.csv', delimiter=',', skip_header=1)"
   ]
  },
  {
   "cell_type": "code",
   "execution_count": 20,
   "id": "28be0bdf-b866-4174-808a-6acee2fa9f40",
   "metadata": {},
   "outputs": [
    {
     "data": {
      "text/plain": [
       "array([[3.14, 3.14, 3.14, 3.14],\n",
       "       [3.14, 3.14, 3.14, 3.14],\n",
       "       [3.14, 3.14, 3.14, 3.14],\n",
       "       [3.14, 3.14, 3.14, 3.14],\n",
       "       [3.14, 3.14, 3.14, 3.14]])"
      ]
     },
     "execution_count": 20,
     "metadata": {},
     "output_type": "execute_result"
    }
   ],
   "source": [
    "np.full((5,4), fill_value=np.round(np.pi, 2))"
   ]
  },
  {
   "cell_type": "code",
   "execution_count": 26,
   "id": "35965752-0bf0-47bb-945a-333400092513",
   "metadata": {},
   "outputs": [
    {
     "data": {
      "text/plain": [
       "array([[ 1,  2,  3,  4,  5],\n",
       "       [ 6,  7,  8,  9, 10],\n",
       "       [11, 12, 13, 14, 15],\n",
       "       [16, 17, 18, 19, 20]])"
      ]
     },
     "execution_count": 26,
     "metadata": {},
     "output_type": "execute_result"
    }
   ],
   "source": [
    "arr = np.arange(1,21).reshape(4,5)\n",
    "arr"
   ]
  },
  {
   "cell_type": "code",
   "execution_count": 27,
   "id": "57e3d1c6-778e-44e2-91b7-49f1fa758fc8",
   "metadata": {},
   "outputs": [
    {
     "data": {
      "text/plain": [
       "array([ 1,  2,  3,  4,  5,  6,  7,  8,  9, 10, 11, 12, 13, 14, 15, 16, 17,\n",
       "       18, 19, 20])"
      ]
     },
     "execution_count": 27,
     "metadata": {},
     "output_type": "execute_result"
    }
   ],
   "source": [
    "arr.flatten()"
   ]
  },
  {
   "cell_type": "code",
   "execution_count": 28,
   "id": "01031f16-2195-4d0e-9719-03d67b41300b",
   "metadata": {},
   "outputs": [
    {
     "data": {
      "text/plain": [
       "array([ 1,  6, 11, 16,  2,  7, 12, 17,  3,  8, 13, 18,  4,  9, 14, 19,  5,\n",
       "       10, 15, 20])"
      ]
     },
     "execution_count": 28,
     "metadata": {},
     "output_type": "execute_result"
    }
   ],
   "source": [
    "arr.flatten(order='F')"
   ]
  },
  {
   "cell_type": "code",
   "execution_count": 30,
   "id": "09387f4a-5319-4c94-8c72-91666b152b2e",
   "metadata": {},
   "outputs": [
    {
     "data": {
      "text/plain": [
       "array([[ 1,  2,  3,  4,  5],\n",
       "       [ 6,  7,  8,  9, 10],\n",
       "       [11, 12, 13, 14, 15],\n",
       "       [16, 17, 18, 19, 20]])"
      ]
     },
     "execution_count": 30,
     "metadata": {},
     "output_type": "execute_result"
    }
   ],
   "source": [
    "arr.flatten(order='F').reshape(4,5, order='F')\n"
   ]
  },
  {
   "cell_type": "code",
   "execution_count": null,
   "id": "00944ace-b72f-4b3b-8dc1-70e13aba3ea6",
   "metadata": {},
   "outputs": [],
   "source": []
  },
  {
   "cell_type": "code",
   "execution_count": null,
   "id": "a76de72b-f535-4b52-ae35-6c74fc996b17",
   "metadata": {},
   "outputs": [],
   "source": []
  },
  {
   "cell_type": "code",
   "execution_count": 7,
   "id": "b1c6a7fc-7d5d-4ed7-ab6f-ed0399260eb2",
   "metadata": {},
   "outputs": [],
   "source": [
    "import numpy as np\n",
    "import matplotlib.pyplot as plt"
   ]
  },
  {
   "cell_type": "code",
   "execution_count": 8,
   "id": "c88f0922-55fe-4af0-9464-c4e77044c957",
   "metadata": {
    "scrolled": true
   },
   "outputs": [
    {
     "data": {
      "text/plain": [
       "array([[[ 35,  15,  66],\n",
       "        [ 35,  15,  66],\n",
       "        [ 35,  15,  66],\n",
       "        ...,\n",
       "        [ 18,   8,  43],\n",
       "        [ 19,   9,  44],\n",
       "        [ 19,   9,  44]],\n",
       "\n",
       "       [[ 38,  14,  66],\n",
       "        [ 38,  14,  66],\n",
       "        [ 38,  14,  66],\n",
       "        ...,\n",
       "        [ 18,   8,  43],\n",
       "        [ 19,   9,  44],\n",
       "        [ 19,   9,  44]],\n",
       "\n",
       "       [[ 41,  12,  66],\n",
       "        [ 41,  12,  66],\n",
       "        [ 41,  12,  66],\n",
       "        ...,\n",
       "        [ 21,   7,  43],\n",
       "        [ 22,   8,  44],\n",
       "        [ 22,   8,  44]],\n",
       "\n",
       "       ...,\n",
       "\n",
       "       [[ 38,   0,  90],\n",
       "        [ 54,   6,  90],\n",
       "        [ 59,   9,  80],\n",
       "        ...,\n",
       "        [ 41,  46, 130],\n",
       "        [ 39,  45, 129],\n",
       "        [ 33,  39, 125]],\n",
       "\n",
       "       [[ 43,   6,  84],\n",
       "        [ 43,   6,  83],\n",
       "        [ 43,   5,  80],\n",
       "        ...,\n",
       "        [ 42,  47, 129],\n",
       "        [ 41,  46, 128],\n",
       "        [ 39,  45, 129]],\n",
       "\n",
       "       [[ 54,  12,  78],\n",
       "        [ 56,  11,  78],\n",
       "        [ 55,  10,  75],\n",
       "        ...,\n",
       "        [ 45,  47, 122],\n",
       "        [ 43,  47, 121],\n",
       "        [ 42,  45, 122]]], dtype=uint8)"
      ]
     },
     "execution_count": 8,
     "metadata": {},
     "output_type": "execute_result"
    }
   ],
   "source": [
    "img = plt.imread('../img.jpeg')\n",
    "img"
   ]
  },
  {
   "cell_type": "code",
   "execution_count": null,
   "id": "9a4ad085-a1de-4b8d-b00f-a0f4d5c7c491",
   "metadata": {},
   "outputs": [],
   "source": []
  },
  {
   "cell_type": "code",
   "execution_count": 9,
   "id": "fe60e664-c9b6-4100-8b67-79fdbb10c2a1",
   "metadata": {},
   "outputs": [
    {
     "data": {
      "text/plain": [
       "<matplotlib.image.AxesImage at 0x1d3101e65d0>"
      ]
     },
     "execution_count": 9,
     "metadata": {},
     "output_type": "execute_result"
    },
    {
     "data": {
      "image/png": "[encoded data removed]",
      "text/plain": [
       "<Figure size 640x480 with 1 Axes>"
      ]
     },
     "metadata": {},
     "output_type": "display_data"
    }
   ],
   "source": [
    "plt.imshow(img)"
   ]
  },
  {
   "cell_type": "code",
   "execution_count": 10,
   "id": "003e796f-a3e4-4001-a480-2e9880d737af",
   "metadata": {},
   "outputs": [
    {
     "data": {
      "text/plain": [
       "(410, 728, 3)"
      ]
     },
     "execution_count": 10,
     "metadata": {},
     "output_type": "execute_result"
    }
   ],
   "source": [
    "img.shape"
   ]
  },
  {
   "cell_type": "code",
   "execution_count": null,
   "id": "75f348b7-0de0-4ab9-bef5-10945568457c",
   "metadata": {},
   "outputs": [],
   "source": []
  },
  {
   "cell_type": "code",
   "execution_count": 11,
   "id": "042d99fd-c0ae-4cf6-8b86-c031d1777725",
   "metadata": {},
   "outputs": [
    {
     "data": {
      "text/plain": [
       "array([ 65.24714389,  68.89532465,  84.73170213,  72.63185696,\n",
       "        66.81817375,  32.05416554,  40.2641423 ,  54.22141157,\n",
       "        60.15037298,  51.24596902,  65.31982301,  57.34017741,\n",
       "        63.56758314,  77.55108215,  74.57725657,  76.42843293,\n",
       "        90.44033203,  63.44614356,  64.95960014,  63.89324601,\n",
       "        73.50430073,  24.06243553,  38.41533471,  80.32597693,\n",
       "        36.86982138,  61.78112644,  76.7948722 ,  82.57272907,\n",
       "        77.59213945,  99.49069829,  56.20273093,  64.69845631,\n",
       "        49.14960276,  53.35033325,  74.00853674,  41.65931281,\n",
       "        94.10777694,  59.16050918,  54.99597248,  72.0721505 ,\n",
       "        69.00915765,  57.84079046,  72.32775372,  57.16888047,\n",
       "        59.29058499,  60.06527472,  59.52164393,  60.54560037,\n",
       "        59.50458407,  62.81856185,  76.34017189,  72.75821569,\n",
       "        60.35981995,  79.49454308,  78.47115752,  83.83633045,\n",
       "        85.37112479,  69.81315672,  96.88495787,  64.28290105,\n",
       "        62.32794239,  48.40112839,  55.75207492,  67.03420855,\n",
       "        47.98380407,  76.76080464,  44.45377841,  88.93852889,\n",
       "        67.3525572 ,  62.865331  ,  60.91950386,  65.82558804,\n",
       "        90.02047406,  72.99269547,  76.91821961,  50.54099476,\n",
       "        57.53001533,  51.85897509,  62.31763034,  63.7571321 ,\n",
       "        59.04536725,  79.05218811,  38.33933886,  67.72137941,\n",
       "        79.41562046,  92.7126358 ,  82.01379127,  68.56164582,\n",
       "        61.83737755,  55.14382053,  61.25912778,  58.61271809,\n",
       "        84.01631857,  75.66648113,  67.71889085,  83.74616091,\n",
       "        47.99525067,  60.90647387,  59.32746562,  67.64344642,\n",
       "        61.40762069,  47.13253009,  73.71409936,  68.34064704,\n",
       "        91.0336582 ,  68.88380981,  72.79349524,  82.46098903,\n",
       "        44.36912768,  52.98394026,  83.88581145,  59.14139792,\n",
       "        78.68891348,  84.13326045,  74.96825191,  79.0692702 ,\n",
       "        57.79551601,  45.50374229,  85.92405625,  89.42296418,\n",
       "        78.37707303,  63.98366263,  61.58695015,  68.08384276,\n",
       "        86.98062203,  68.26830554,  66.84868359,  84.05740416,\n",
       "        63.12444599,  44.71245548,  58.98481641,  50.9374654 ,\n",
       "        47.9906788 ,  69.17139494,  42.96270201,  57.57831474,\n",
       "        44.91155063,  71.56576066,  70.7202373 ,  57.88236737,\n",
       "        67.25586146,  58.25525353,  82.86863076,  69.55682886,\n",
       "        68.2880743 ,  65.33075493,  46.52825128,  73.51298189,\n",
       "        72.99363002,  58.28813069,  49.16795445,  61.50518114,\n",
       "        29.26260159,  45.18329011,  55.9628331 ,  79.27269152,\n",
       "        62.38213378,  53.081907  ,  93.21713378,  58.78241361,\n",
       "        82.63294782,  78.73699287,  77.49151669,  78.73908605,\n",
       "        53.24124988,  71.87427955,  55.37051361,  88.77776528,\n",
       "        82.54671102,  50.42843301,  45.28059878,  68.73277855,\n",
       "        73.07389139,  76.66657013,  63.04107542,  68.38054815,\n",
       "        54.63271581,  75.18709734,  49.25942387,  64.25389631,\n",
       "        70.02080056,  61.60156278,  53.13298831,  62.04727083,\n",
       "        58.100847  ,  53.36306057,  59.64832715,  77.61718999,\n",
       "        53.74647249,  79.6210877 ,  68.60112508,  26.86520627,\n",
       "        75.36101132,  66.62331589,  36.52525517,  66.17966417,\n",
       "        69.00892013,  69.93737339,  69.71763283,  62.73613337,\n",
       "        53.69910936,  29.05318158,  66.71148721,  74.72327329,\n",
       "        75.21017371,  69.88994991,  73.79041877,  42.93725506,\n",
       "        53.99405019,  83.62665641,  45.85269535,  75.9353564 ,\n",
       "        65.25681118,  64.03517484,  59.03528695,  66.10096592,\n",
       "        71.21212149,  77.31113379,  67.93827208,  50.19822038,\n",
       "        64.65091319,  63.35546042,  62.20211404,  66.8303252 ,\n",
       "        61.21256714,  64.98619059,  75.30500096,  83.26508225,\n",
       "        87.04912909,  45.94376305,  70.38424424,  77.21415203,\n",
       "        89.69664109,  71.56211055,  58.0079393 ,  25.6088336 ,\n",
       "        49.74570807,  50.91545196,  67.88427778,  72.3677577 ,\n",
       "        63.03049885,  59.51729782,  54.17894622,  80.81816525,\n",
       "        78.92637948,  56.16332317,  48.9242095 ,  77.42089593,\n",
       "        64.84565535,  65.0210003 ,  62.28112955,  80.99892942,\n",
       "        91.47224921,  57.9361138 ,  44.57217398,  54.94501463,\n",
       "        69.52423135,  72.21604531,  68.06934118, 114.49527628,\n",
       "        81.93445661,  47.11781601,  60.35024212,  59.77978932,\n",
       "        78.13152373,  46.64566844,  61.58859197,  62.31714824,\n",
       "        69.20012888,  67.17917269,  55.57761176,  61.5495291 ,\n",
       "        64.91845881,  65.96854969,  69.4292419 ,  76.11360943,\n",
       "        55.62160915,  62.04282284,  81.86900457,  35.65268609,\n",
       "        39.74730089,  54.94951526,  80.13433899,  54.48240138,\n",
       "        81.10705195,  42.87866122,  67.48020058,  57.8853164 ,\n",
       "        53.8242798 ,  76.38894598,  50.84614675,  81.23383669,\n",
       "        92.95488707,  66.32877322,  47.39345664,  81.6106709 ,\n",
       "        61.79386867,  54.70362816,  76.95657447,  61.50241639,\n",
       "        78.93145307, 107.75007794,  63.18655484,  60.65317634,\n",
       "        77.85535417,  86.19512099,  77.35270927,  71.21649419,\n",
       "        54.42600504,  54.75897622,  50.02516078,  79.77112817,\n",
       "        73.13703839,  95.22415835,  73.45931468,  66.52723618,\n",
       "        74.49102434,  77.66346813,  67.26433872,  37.89025558,\n",
       "        66.5012893 ,  58.71794699,  60.7017335 ,  56.65060983,\n",
       "        45.31576322,  59.3716343 ,  81.54783799,  14.45033555,\n",
       "        65.33002185,  66.83765848,  45.62127183,  53.70573905,\n",
       "        79.3078647 ,  88.24727763,  67.32440369,  57.71876836,\n",
       "        54.90066213,  50.35657663,  68.85357803,  81.93860225,\n",
       "        36.36872925,  83.42028889,  79.02495548,  51.99573031,\n",
       "        51.53672118,  74.94354865,  71.73730505,  42.97967595,\n",
       "        31.17921249,  50.14539271,  71.70872003,  64.26718066,\n",
       "        84.11950489,  46.57489807,  77.91183343,  82.61061707,\n",
       "        67.84677282,  56.34797899,  66.03058329,  82.77359447,\n",
       "        92.71441458,  64.89317412,  62.30272821,  49.05810446,\n",
       "        61.33822863,  82.54790289,  55.27480309,  62.42757101,\n",
       "        75.80453117,  62.40364931,  59.56971702,  72.62481617,\n",
       "        73.28391415,  51.02596726,  79.59263698,  73.37760814,\n",
       "        85.39096825,  66.48138101,  61.753688  ,  56.50477704,\n",
       "        73.28764287,  55.37022275,  57.92658004,  90.28083979,\n",
       "        50.43598203,  85.40723861,  93.28094069,  53.6961314 ,\n",
       "        65.28480125,  82.05672552,  42.36392543,  76.11262483,\n",
       "        44.41769478,  61.2370605 ,  76.05855782,  59.62162441,\n",
       "        85.00466273,  39.63269588,  44.85405167,  71.54631357,\n",
       "        37.60581883,  53.65603155,  66.30427681,  86.92117961,\n",
       "        49.58320458,  44.64852347,  70.51432652,  96.91167089,\n",
       "        69.20951229,  45.43985296, 105.59419455,  73.87501179,\n",
       "        59.4770741 ,  65.53266745,  67.39264182,  60.30771539,\n",
       "        44.11363933,  63.73920062,  61.50989475,  69.04980281,\n",
       "        37.4347354 ,  91.44934121,  57.71999166,  64.43488755,\n",
       "       100.00254425,  72.9295855 ,  64.46867795,  36.22521638,\n",
       "        66.09673758,  63.71326614,  64.32707628,  67.28901799,\n",
       "        60.02672368,  78.36026887,  53.75796293,  86.510545  ,\n",
       "        59.74290344,  54.98477491,  88.38155029,  78.50132955,\n",
       "        54.32712371,  67.04168697,  79.18708851,  63.38697015,\n",
       "        64.97443776,  50.9471846 ,  20.78473604,  54.07429573,\n",
       "        31.56686721,  80.89065234,  54.24178755,  84.08096933,\n",
       "        41.98485811,  40.79711439,  75.45174793,  45.01399669,\n",
       "        78.54210227,  50.21014063,  79.48662924,  60.92830529,\n",
       "        35.32925798,  63.01694374,  49.16964339,  64.44036534,\n",
       "        58.94720754,  75.6508446 ,  68.2789955 ,  92.63568116,\n",
       "        90.59405039,  71.36358878,  92.15034529,  38.29294402,\n",
       "        48.22949783,  79.47448022,  77.41121021,  64.14447686,\n",
       "        63.85145331,  48.50195065,  60.14246318,  54.03280325,\n",
       "        78.68262197,  74.44969406,  65.53988373,  48.78481718,\n",
       "        63.57968168,  48.03565074,  71.35662281,  69.4513555 ,\n",
       "        81.13736597,  38.05825596,  67.9785838 ,  53.36206196,\n",
       "        65.81759849,  42.9584268 ,  87.64780408,  77.13074654,\n",
       "        65.22722748,  63.93318101,  46.7962125 ,  87.316104  ,\n",
       "        82.64286507,  73.97363953,  66.32610055,  70.42222167,\n",
       "        49.52895089,  40.24729492,  49.3666851 ,  79.3672386 ,\n",
       "        73.14769391,  66.05305645,  65.82473892,  67.96593058,\n",
       "        77.47291373,  61.3997126 ,  73.31053492,  66.83502831,\n",
       "        43.80802091,  64.91119999,  53.8694579 ,  55.48208307,\n",
       "        44.06049031,  95.50951041,  88.99785097,  74.78926119,\n",
       "        66.03517725,  43.43309593,  34.72604847,  68.67001068,\n",
       "        63.31078303,  50.21001108,  69.29266004,  45.17975075,\n",
       "        53.29714801,  76.57298659,  74.0360563 ,  29.93439898,\n",
       "        57.67535895,  47.01400282,  51.08788843,  50.95220148,\n",
       "        71.89806797,  41.16942672, 101.96475389,  46.8699532 ,\n",
       "        54.47424274,  44.85336274,  63.12203077,  55.36268889,\n",
       "        58.31282185,  67.59350043,  40.62931879,  89.03589089,\n",
       "        47.79171555,  82.88467563,  81.83581063,  35.36791872,\n",
       "        65.99176324,  53.15794654,  66.895059  ,  57.85313301,\n",
       "        61.47182441,  60.6215216 ,  66.32044865,  79.11268772,\n",
       "        66.33088506,  65.33802815,  68.33623223,  68.5879705 ,\n",
       "        46.72408395,  76.48148094,  76.35281305,  70.23019128,\n",
       "        52.49805273,  42.98688855, 100.14981106,  94.40472964,\n",
       "        63.15467646,  58.61037294,  51.38009437,  41.59880537,\n",
       "        72.36337228,  28.5455611 ,  78.86917125,  89.66594768,\n",
       "        64.39567286,  79.40503073,  75.69803507,  47.68421416,\n",
       "        84.01172988,  77.0276135 ,  79.70976247,  41.77910215,\n",
       "        56.2651404 ,  92.30013148,  77.80191904,  45.51678641,\n",
       "        56.50544081,  59.21268369,  95.20283635,  71.51786634,\n",
       "        63.09520349,  62.58168459,  69.24864588,  58.64975143,\n",
       "        78.16606894,  75.78773719,  43.04203376,  37.54965464,\n",
       "        78.04794378,  45.16650592,  54.49598615,  71.44158546,\n",
       "        74.57381796,  60.86328563,  55.36686506,  64.04427211,\n",
       "        82.62674675,  52.81317469,  51.88533738,  80.86008178,\n",
       "        84.75571376,  50.60195516,  60.05556824,  81.47907713,\n",
       "        57.64413527,  53.14529021,  76.72228785,  55.76863929,\n",
       "        66.46178551,  70.62749004,  69.13647064,  73.41721217,\n",
       "        66.44686818,  44.99354312,  71.57158458,  47.46541158,\n",
       "        68.12765081,  56.08673861,  55.1181053 ,  73.16369646,\n",
       "        73.93641238,  67.51666046,  56.18810183,  42.04507994,\n",
       "        91.81687546,  84.7411901 ,  74.1456103 , 107.37821424,\n",
       "        76.51179088,  71.0703419 ,  83.69145288,  72.78804864,\n",
       "        67.57232176,  81.09008574,  36.50322631,  65.43384251,\n",
       "        58.43158701,  71.6762231 ,  39.85938955,  24.05410994,\n",
       "        69.85094515,  92.79864725,  83.95671902,  73.74529932,\n",
       "        47.26206811,  81.43140347,  34.39716739,  75.38115258,\n",
       "        69.95772835,  69.25772519,  50.61690636,  70.77400567,\n",
       "        65.73497682,  68.34786054,  44.73779483,  60.67574197,\n",
       "        67.05998496,  74.31097908,  80.01391951,  70.04770264,\n",
       "        64.59172118,  31.84546632,  57.35106011,  79.17840247,\n",
       "        52.08847093,  85.22437675,  75.15380075,  83.78362155,\n",
       "        57.87535283,  28.1273248 ,  79.68600368,  78.83616585,\n",
       "        49.27842168,  56.38224643,  86.19104872,  66.14508005,\n",
       "        45.61411836,  62.38615544,  31.18860558,  53.74323229,\n",
       "        67.36447606,  65.68652585,  70.77293241,  81.75732743,\n",
       "        59.8374743 ,  45.53981723,  71.19178085,  81.97122905,\n",
       "        72.72686335,  41.50546327,  75.61616687,  70.20433653,\n",
       "        65.77201983,  66.98677683,  47.85071855,  78.4095093 ,\n",
       "        85.48026936,  43.25264893,  78.89476679,  47.89605235,\n",
       "        66.62093027,  58.7579834 ,  93.21495195,  70.07409489,\n",
       "        80.13921871,  39.37424695,  68.40726492,  60.32758967,\n",
       "        69.79831102,  73.95636438,  50.36494607,  55.64555379,\n",
       "        64.71719117,  83.81566678,  50.20946174,  75.27661869,\n",
       "        59.27652572,  91.22558794,  59.375785  ,  66.86764307,\n",
       "        62.35519496,  61.45380796,  52.68754218,  57.35946623,\n",
       "        39.99300003,  80.24907939,  71.07206599,  62.37548514,\n",
       "        87.61244424,  90.91035816,  77.15338273,  75.49364316,\n",
       "        85.23207277,  66.09170194,  40.47709085,  76.19191587,\n",
       "        98.36726617,  75.9988891 ,  69.85376191,  56.08626905,\n",
       "        58.18116744,  72.93962468,  94.98603262,  82.89297408,\n",
       "        72.54142612,  74.87706381,  56.76441978,  72.24872019,\n",
       "        61.91777066,  58.33152125,  42.98737753,  69.17471804,\n",
       "        66.4157903 ,  84.39383318,  54.39750266,  73.60030293,\n",
       "        60.05664653,  68.19577275,  79.5512879 ,  83.62673492,\n",
       "        77.18168493,  53.4334395 ,  74.67355152,  97.68694397,\n",
       "        55.94248837,  74.42826978,  44.99274881,  79.94521989,\n",
       "        41.44379128,  56.62579976,  66.18035469,  40.5955895 ,\n",
       "        79.78151839,  62.42306732,  67.39225314,  52.94715648,\n",
       "        55.01084862,  92.40632083,  71.57112784,  58.72642166,\n",
       "        75.17532086,  75.18830799,  71.31012787,  73.39247733,\n",
       "        72.92409504,  92.39586577,  58.83392533,  76.84846115,\n",
       "        41.22418602,  38.21201417,  38.14380996,  86.04615451,\n",
       "        55.11246595,  88.04944594,  75.59807969,  60.11469213,\n",
       "        58.27269898,  45.92551753,  53.76988909,  73.13972226,\n",
       "        84.12593599,  36.85016692,  92.79914142,  73.25927331,\n",
       "        74.27124072,  51.13867487,  76.21559308,  74.18817618,\n",
       "        54.73111003,  55.39514832,  62.48369066,  45.92331888,\n",
       "        55.62022811,  89.97347345,  71.07765055,  68.18214976,\n",
       "        91.63796522,  60.94888384,  49.85068545,  63.144447  ,\n",
       "        72.31727876,  50.37137871,  35.86958817,  70.29368127,\n",
       "        38.899624  ,  81.40085288,  49.61432748,  71.06803783,\n",
       "        57.33500061,  47.73820168,  91.05721529,  54.82450511,\n",
       "        60.02707316,  85.95458025,  24.46162421,  71.38196992,\n",
       "        98.8770897 ,  66.27691756,  44.60266773,  82.23537358,\n",
       "        59.05524498,  63.76977916,  87.43454452,  80.5720249 ,\n",
       "        83.16873754,  90.10490671,  48.50244647,  68.86421799,\n",
       "        61.90879591,  52.58315432,  62.24436019,  69.33283434,\n",
       "        68.27045579,  77.25562564,  54.69545285,  65.23755147,\n",
       "        39.00447495,  90.70973373,  76.65855839,  60.53771426,\n",
       "        55.17949649,  66.71184428,  79.51684814,  47.71493264,\n",
       "        48.78166423,  64.41266629,  28.66851844,  65.11891651,\n",
       "        63.09966111,  68.27286624,  59.04588488,  41.64906229,\n",
       "        62.49570837,  54.70304972,  56.61857974,  81.05662606,\n",
       "        48.27960944,  87.25519518,  36.31330215,  93.54000003,\n",
       "        60.45226411,  68.39268082,  93.23293815,  72.74056818,\n",
       "        81.81064935,  66.75551022,  54.94373087,  50.46751246,\n",
       "        85.08254033,  77.68001303,  72.29454468,  28.94766969,\n",
       "        64.47173098,  56.08541338,  44.95817543,  55.31370326,\n",
       "        63.43291512,  59.03147446,  56.35519774,  66.65540747,\n",
       "        68.63323201,  65.87469393,  58.14653154,  72.75125231,\n",
       "        65.809978  ,  68.56829763,  47.42581573,  98.1977359 ,\n",
       "        60.66512923,  59.30755253,  68.37122888,  88.53074503,\n",
       "        43.63879879,  84.04614606,  66.58390231,  56.1846336 ,\n",
       "        65.0644753 ,  65.96709148,  55.62083092,  43.28852584,\n",
       "        63.44000545,  51.0591501 ,  83.30517128,  74.53799439,\n",
       "        80.1086473 ,  49.82379998,  61.82458408,  52.4795983 ,\n",
       "        93.64100525,  75.04386124,  43.77043044,  79.931122  ,\n",
       "        20.33231498,  78.91230872,  76.91694366,  56.12518514,\n",
       "       100.37964745,  80.15430242,  47.44718392,  66.24630813,\n",
       "        79.55370009,  57.77875013,  45.20356078,  44.87695254,\n",
       "        81.43714939,  88.74845537,  67.72036034,  64.87571202,\n",
       "        63.94117678,  56.05566596,  62.46638621,  66.67318342,\n",
       "        52.80359824,  63.93867136,  61.12493772,  62.28759381,\n",
       "        39.81516053,  79.8563837 ,  54.46907709,  73.25154927,\n",
       "        75.33820516,  53.2933108 ,  68.43490774,  80.38537522,\n",
       "        47.91525296,  92.77775051,  59.4584716 ,  77.58785011,\n",
       "        84.49386559,  49.47768486,  79.28649615,  67.50419877,\n",
       "        68.00189898,  76.24748988,  84.68343631,  64.84258998,\n",
       "        90.58896515,  89.0420245 ,  62.95756073,  71.35836184])"
      ]
     },
     "execution_count": 11,
     "metadata": {},
     "output_type": "execute_result"
    }
   ],
   "source": [
    "normal = np.random.normal(65, 15, 1000)\n",
    "normal"
   ]
  },
  {
   "cell_type": "code",
   "execution_count": null,
   "id": "a8c41de8-11a3-46fc-b341-985ffd097f4d",
   "metadata": {},
   "outputs": [],
   "source": []
  },
  {
   "cell_type": "code",
   "execution_count": 14,
   "id": "35f1cc0a-85ed-4953-850c-819f4f293deb",
   "metadata": {},
   "outputs": [
    {
     "data": {
      "image/png": "[encoded data removed]",
      "text/plain": [
       "<Figure size 768x576 with 1 Axes>"
      ]
     },
     "metadata": {},
     "output_type": "display_data"
    }
   ],
   "source": [
    "plt.figure(dpi=120)\n",
    "plt.hist(normal, bins=30, ec='y')\n",
    "plt.show()"
   ]
  },
  {
   "cell_type": "code",
   "execution_count": null,
   "id": "000f18b0-d9fd-438c-bb93-d797f100eeca",
   "metadata": {},
   "outputs": [],
   "source": []
  },
  {
   "cell_type": "code",
   "execution_count": 15,
   "id": "0dd5d967-93e1-44e3-beba-aac96e9769e4",
   "metadata": {},
   "outputs": [
    {
     "data": {
      "text/plain": [
       "array([ 65.24714389,  68.89532465,  84.73170213,  72.63185696,\n",
       "        66.81817375,  32.05416554,  40.2641423 ,  54.22141157,\n",
       "        60.15037298,  51.24596902,  65.31982301,  57.34017741,\n",
       "        63.56758314,  77.55108215,  74.57725657,  76.42843293,\n",
       "        90.44033203,  63.44614356,  64.95960014,  63.89324601,\n",
       "        73.50430073,  24.06243553,  38.41533471,  80.32597693,\n",
       "        36.86982138,  61.78112644,  76.7948722 ,  82.57272907,\n",
       "        77.59213945,  99.49069829,  56.20273093,  64.69845631,\n",
       "        49.14960276,  53.35033325,  74.00853674,  41.65931281,\n",
       "        94.10777694,  59.16050918,  54.99597248,  72.0721505 ,\n",
       "        69.00915765,  57.84079046,  72.32775372,  57.16888047,\n",
       "        59.29058499,  60.06527472,  59.52164393,  60.54560037,\n",
       "        59.50458407,  62.81856185,  76.34017189,  72.75821569,\n",
       "        60.35981995,  79.49454308,  78.47115752,  83.83633045,\n",
       "        85.37112479,  69.81315672,  96.88495787,  64.28290105,\n",
       "        62.32794239,  48.40112839,  55.75207492,  67.03420855,\n",
       "        47.98380407,  76.76080464,  44.45377841,  88.93852889,\n",
       "        67.3525572 ,  62.865331  ,  60.91950386,  65.82558804,\n",
       "        90.02047406,  72.99269547,  76.91821961,  50.54099476,\n",
       "        57.53001533,  51.85897509,  62.31763034,  63.7571321 ,\n",
       "        59.04536725,  79.05218811,  38.33933886,  67.72137941,\n",
       "        79.41562046,  92.7126358 ,  82.01379127,  68.56164582,\n",
       "        61.83737755,  55.14382053,  61.25912778,  58.61271809,\n",
       "        84.01631857,  75.66648113,  67.71889085,  83.74616091,\n",
       "        47.99525067,  60.90647387,  59.32746562,  67.64344642,\n",
       "        61.40762069,  47.13253009,  73.71409936,  68.34064704,\n",
       "        91.0336582 ,  68.88380981,  72.79349524,  82.46098903,\n",
       "        44.36912768,  52.98394026,  83.88581145,  59.14139792,\n",
       "        78.68891348,  84.13326045,  74.96825191,  79.0692702 ,\n",
       "        57.79551601,  45.50374229,  85.92405625,  89.42296418,\n",
       "        78.37707303,  63.98366263,  61.58695015,  68.08384276,\n",
       "        86.98062203,  68.26830554,  66.84868359,  84.05740416,\n",
       "        63.12444599,  44.71245548,  58.98481641,  50.9374654 ,\n",
       "        47.9906788 ,  69.17139494,  42.96270201,  57.57831474,\n",
       "        44.91155063,  71.56576066,  70.7202373 ,  57.88236737,\n",
       "        67.25586146,  58.25525353,  82.86863076,  69.55682886,\n",
       "        68.2880743 ,  65.33075493,  46.52825128,  73.51298189,\n",
       "        72.99363002,  58.28813069,  49.16795445,  61.50518114,\n",
       "        29.26260159,  45.18329011,  55.9628331 ,  79.27269152,\n",
       "        62.38213378,  53.081907  ,  93.21713378,  58.78241361,\n",
       "        82.63294782,  78.73699287,  77.49151669,  78.73908605,\n",
       "        53.24124988,  71.87427955,  55.37051361,  88.77776528,\n",
       "        82.54671102,  50.42843301,  45.28059878,  68.73277855,\n",
       "        73.07389139,  76.66657013,  63.04107542,  68.38054815,\n",
       "        54.63271581,  75.18709734,  49.25942387,  64.25389631,\n",
       "        70.02080056,  61.60156278,  53.13298831,  62.04727083,\n",
       "        58.100847  ,  53.36306057,  59.64832715,  77.61718999,\n",
       "        53.74647249,  79.6210877 ,  68.60112508,  26.86520627,\n",
       "        75.36101132,  66.62331589,  36.52525517,  66.17966417,\n",
       "        69.00892013,  69.93737339,  69.71763283,  62.73613337,\n",
       "        53.69910936,  29.05318158,  66.71148721,  74.72327329,\n",
       "        75.21017371,  69.88994991,  73.79041877,  42.93725506,\n",
       "        53.99405019,  83.62665641,  45.85269535,  75.9353564 ,\n",
       "        65.25681118,  64.03517484,  59.03528695,  66.10096592,\n",
       "        71.21212149,  77.31113379,  67.93827208,  50.19822038,\n",
       "        64.65091319,  63.35546042,  62.20211404,  66.8303252 ,\n",
       "        61.21256714,  64.98619059,  75.30500096,  83.26508225,\n",
       "        87.04912909,  45.94376305,  70.38424424,  77.21415203,\n",
       "        89.69664109,  71.56211055,  58.0079393 ,  25.6088336 ,\n",
       "        49.74570807,  50.91545196,  67.88427778,  72.3677577 ,\n",
       "        63.03049885,  59.51729782,  54.17894622,  80.81816525,\n",
       "        78.92637948,  56.16332317,  48.9242095 ,  77.42089593,\n",
       "        64.84565535,  65.0210003 ,  62.28112955,  80.99892942,\n",
       "        91.47224921,  57.9361138 ,  44.57217398,  54.94501463,\n",
       "        69.52423135,  72.21604531,  68.06934118, 114.49527628,\n",
       "        81.93445661,  47.11781601,  60.35024212,  59.77978932,\n",
       "        78.13152373,  46.64566844,  61.58859197,  62.31714824,\n",
       "        69.20012888,  67.17917269,  55.57761176,  61.5495291 ,\n",
       "        64.91845881,  65.96854969,  69.4292419 ,  76.11360943,\n",
       "        55.62160915,  62.04282284,  81.86900457,  35.65268609,\n",
       "        39.74730089,  54.94951526,  80.13433899,  54.48240138,\n",
       "        81.10705195,  42.87866122,  67.48020058,  57.8853164 ,\n",
       "        53.8242798 ,  76.38894598,  50.84614675,  81.23383669,\n",
       "        92.95488707,  66.32877322,  47.39345664,  81.6106709 ,\n",
       "        61.79386867,  54.70362816,  76.95657447,  61.50241639,\n",
       "        78.93145307, 107.75007794,  63.18655484,  60.65317634,\n",
       "        77.85535417,  86.19512099,  77.35270927,  71.21649419,\n",
       "        54.42600504,  54.75897622,  50.02516078,  79.77112817,\n",
       "        73.13703839,  95.22415835,  73.45931468,  66.52723618,\n",
       "        74.49102434,  77.66346813,  67.26433872,  37.89025558,\n",
       "        66.5012893 ,  58.71794699,  60.7017335 ,  56.65060983,\n",
       "        45.31576322,  59.3716343 ,  81.54783799,  14.45033555,\n",
       "        65.33002185,  66.83765848,  45.62127183,  53.70573905,\n",
       "        79.3078647 ,  88.24727763,  67.32440369,  57.71876836,\n",
       "        54.90066213,  50.35657663,  68.85357803,  81.93860225,\n",
       "        36.36872925,  83.42028889,  79.02495548,  51.99573031,\n",
       "        51.53672118,  74.94354865,  71.73730505,  42.97967595,\n",
       "        31.17921249,  50.14539271,  71.70872003,  64.26718066,\n",
       "        84.11950489,  46.57489807,  77.91183343,  82.61061707,\n",
       "        67.84677282,  56.34797899,  66.03058329,  82.77359447,\n",
       "        92.71441458,  64.89317412,  62.30272821,  49.05810446,\n",
       "        61.33822863,  82.54790289,  55.27480309,  62.42757101,\n",
       "        75.80453117,  62.40364931,  59.56971702,  72.62481617,\n",
       "        73.28391415,  51.02596726,  79.59263698,  73.37760814,\n",
       "        85.39096825,  66.48138101,  61.753688  ,  56.50477704,\n",
       "        73.28764287,  55.37022275,  57.92658004,  90.28083979,\n",
       "        50.43598203,  85.40723861,  93.28094069,  53.6961314 ,\n",
       "        65.28480125,  82.05672552,  42.36392543,  76.11262483,\n",
       "        44.41769478,  61.2370605 ,  76.05855782,  59.62162441,\n",
       "        85.00466273,  39.63269588,  44.85405167,  71.54631357,\n",
       "        37.60581883,  53.65603155,  66.30427681,  86.92117961,\n",
       "        49.58320458,  44.64852347,  70.51432652,  96.91167089,\n",
       "        69.20951229,  45.43985296, 105.59419455,  73.87501179,\n",
       "        59.4770741 ,  65.53266745,  67.39264182,  60.30771539,\n",
       "        44.11363933,  63.73920062,  61.50989475,  69.04980281,\n",
       "        37.4347354 ,  91.44934121,  57.71999166,  64.43488755,\n",
       "       100.00254425,  72.9295855 ,  64.46867795,  36.22521638,\n",
       "        66.09673758,  63.71326614,  64.32707628,  67.28901799,\n",
       "        60.02672368,  78.36026887,  53.75796293,  86.510545  ,\n",
       "        59.74290344,  54.98477491,  88.38155029,  78.50132955,\n",
       "        54.32712371,  67.04168697,  79.18708851,  63.38697015,\n",
       "        64.97443776,  50.9471846 ,  20.78473604,  54.07429573,\n",
       "        31.56686721,  80.89065234,  54.24178755,  84.08096933,\n",
       "        41.98485811,  40.79711439,  75.45174793,  45.01399669,\n",
       "        78.54210227,  50.21014063,  79.48662924,  60.92830529,\n",
       "        35.32925798,  63.01694374,  49.16964339,  64.44036534,\n",
       "        58.94720754,  75.6508446 ,  68.2789955 ,  92.63568116,\n",
       "        90.59405039,  71.36358878,  92.15034529,  38.29294402,\n",
       "        48.22949783,  79.47448022,  77.41121021,  64.14447686,\n",
       "        63.85145331,  48.50195065,  60.14246318,  54.03280325,\n",
       "        78.68262197,  74.44969406,  65.53988373,  48.78481718,\n",
       "        63.57968168,  48.03565074,  71.35662281,  69.4513555 ,\n",
       "        81.13736597,  38.05825596,  67.9785838 ,  53.36206196,\n",
       "        65.81759849,  42.9584268 ,  87.64780408,  77.13074654,\n",
       "        65.22722748,  63.93318101,  46.7962125 ,  87.316104  ,\n",
       "        82.64286507,  73.97363953,  66.32610055,  70.42222167,\n",
       "        49.52895089,  40.24729492,  49.3666851 ,  79.3672386 ,\n",
       "        73.14769391,  66.05305645,  65.82473892,  67.96593058,\n",
       "        77.47291373,  61.3997126 ,  73.31053492,  66.83502831,\n",
       "        43.80802091,  64.91119999,  53.8694579 ,  55.48208307,\n",
       "        44.06049031,  95.50951041,  88.99785097,  74.78926119,\n",
       "        66.03517725,  43.43309593,  34.72604847,  68.67001068,\n",
       "        63.31078303,  50.21001108,  69.29266004,  45.17975075,\n",
       "        53.29714801,  76.57298659,  74.0360563 ,  29.93439898,\n",
       "        57.67535895,  47.01400282,  51.08788843,  50.95220148,\n",
       "        71.89806797,  41.16942672, 101.96475389,  46.8699532 ,\n",
       "        54.47424274,  44.85336274,  63.12203077,  55.36268889,\n",
       "        58.31282185,  67.59350043,  40.62931879,  89.03589089,\n",
       "        47.79171555,  82.88467563,  81.83581063,  35.36791872,\n",
       "        65.99176324,  53.15794654,  66.895059  ,  57.85313301,\n",
       "        61.47182441,  60.6215216 ,  66.32044865,  79.11268772,\n",
       "        66.33088506,  65.33802815,  68.33623223,  68.5879705 ,\n",
       "        46.72408395,  76.48148094,  76.35281305,  70.23019128,\n",
       "        52.49805273,  42.98688855, 100.14981106,  94.40472964,\n",
       "        63.15467646,  58.61037294,  51.38009437,  41.59880537,\n",
       "        72.36337228,  28.5455611 ,  78.86917125,  89.66594768,\n",
       "        64.39567286,  79.40503073,  75.69803507,  47.68421416,\n",
       "        84.01172988,  77.0276135 ,  79.70976247,  41.77910215,\n",
       "        56.2651404 ,  92.30013148,  77.80191904,  45.51678641,\n",
       "        56.50544081,  59.21268369,  95.20283635,  71.51786634,\n",
       "        63.09520349,  62.58168459,  69.24864588,  58.64975143,\n",
       "        78.16606894,  75.78773719,  43.04203376,  37.54965464,\n",
       "        78.04794378,  45.16650592,  54.49598615,  71.44158546,\n",
       "        74.57381796,  60.86328563,  55.36686506,  64.04427211,\n",
       "        82.62674675,  52.81317469,  51.88533738,  80.86008178,\n",
       "        84.75571376,  50.60195516,  60.05556824,  81.47907713,\n",
       "        57.64413527,  53.14529021,  76.72228785,  55.76863929,\n",
       "        66.46178551,  70.62749004,  69.13647064,  73.41721217,\n",
       "        66.44686818,  44.99354312,  71.57158458,  47.46541158,\n",
       "        68.12765081,  56.08673861,  55.1181053 ,  73.16369646,\n",
       "        73.93641238,  67.51666046,  56.18810183,  42.04507994,\n",
       "        91.81687546,  84.7411901 ,  74.1456103 , 107.37821424,\n",
       "        76.51179088,  71.0703419 ,  83.69145288,  72.78804864,\n",
       "        67.57232176,  81.09008574,  36.50322631,  65.43384251,\n",
       "        58.43158701,  71.6762231 ,  39.85938955,  24.05410994,\n",
       "        69.85094515,  92.79864725,  83.95671902,  73.74529932,\n",
       "        47.26206811,  81.43140347,  34.39716739,  75.38115258,\n",
       "        69.95772835,  69.25772519,  50.61690636,  70.77400567,\n",
       "        65.73497682,  68.34786054,  44.73779483,  60.67574197,\n",
       "        67.05998496,  74.31097908,  80.01391951,  70.04770264,\n",
       "        64.59172118,  31.84546632,  57.35106011,  79.17840247,\n",
       "        52.08847093,  85.22437675,  75.15380075,  83.78362155,\n",
       "        57.87535283,  28.1273248 ,  79.68600368,  78.83616585,\n",
       "        49.27842168,  56.38224643,  86.19104872,  66.14508005,\n",
       "        45.61411836,  62.38615544,  31.18860558,  53.74323229,\n",
       "        67.36447606,  65.68652585,  70.77293241,  81.75732743,\n",
       "        59.8374743 ,  45.53981723,  71.19178085,  81.97122905,\n",
       "        72.72686335,  41.50546327,  75.61616687,  70.20433653,\n",
       "        65.77201983,  66.98677683,  47.85071855,  78.4095093 ,\n",
       "        85.48026936,  43.25264893,  78.89476679,  47.89605235,\n",
       "        66.62093027,  58.7579834 ,  93.21495195,  70.07409489,\n",
       "        80.13921871,  39.37424695,  68.40726492,  60.32758967,\n",
       "        69.79831102,  73.95636438,  50.36494607,  55.64555379,\n",
       "        64.71719117,  83.81566678,  50.20946174,  75.27661869,\n",
       "        59.27652572,  91.22558794,  59.375785  ,  66.86764307,\n",
       "        62.35519496,  61.45380796,  52.68754218,  57.35946623,\n",
       "        39.99300003,  80.24907939,  71.07206599,  62.37548514,\n",
       "        87.61244424,  90.91035816,  77.15338273,  75.49364316,\n",
       "        85.23207277,  66.09170194,  40.47709085,  76.19191587,\n",
       "        98.36726617,  75.9988891 ,  69.85376191,  56.08626905,\n",
       "        58.18116744,  72.93962468,  94.98603262,  82.89297408,\n",
       "        72.54142612,  74.87706381,  56.76441978,  72.24872019,\n",
       "        61.91777066,  58.33152125,  42.98737753,  69.17471804,\n",
       "        66.4157903 ,  84.39383318,  54.39750266,  73.60030293,\n",
       "        60.05664653,  68.19577275,  79.5512879 ,  83.62673492,\n",
       "        77.18168493,  53.4334395 ,  74.67355152,  97.68694397,\n",
       "        55.94248837,  74.42826978,  44.99274881,  79.94521989,\n",
       "        41.44379128,  56.62579976,  66.18035469,  40.5955895 ,\n",
       "        79.78151839,  62.42306732,  67.39225314,  52.94715648,\n",
       "        55.01084862,  92.40632083,  71.57112784,  58.72642166,\n",
       "        75.17532086,  75.18830799,  71.31012787,  73.39247733,\n",
       "        72.92409504,  92.39586577,  58.83392533,  76.84846115,\n",
       "        41.22418602,  38.21201417,  38.14380996,  86.04615451,\n",
       "        55.11246595,  88.04944594,  75.59807969,  60.11469213,\n",
       "        58.27269898,  45.92551753,  53.76988909,  73.13972226,\n",
       "        84.12593599,  36.85016692,  92.79914142,  73.25927331,\n",
       "        74.27124072,  51.13867487,  76.21559308,  74.18817618,\n",
       "        54.73111003,  55.39514832,  62.48369066,  45.92331888,\n",
       "        55.62022811,  89.97347345,  71.07765055,  68.18214976,\n",
       "        91.63796522,  60.94888384,  49.85068545,  63.144447  ,\n",
       "        72.31727876,  50.37137871,  35.86958817,  70.29368127,\n",
       "        38.899624  ,  81.40085288,  49.61432748,  71.06803783,\n",
       "        57.33500061,  47.73820168,  91.05721529,  54.82450511,\n",
       "        60.02707316,  85.95458025,  24.46162421,  71.38196992,\n",
       "        98.8770897 ,  66.27691756,  44.60266773,  82.23537358,\n",
       "        59.05524498,  63.76977916,  87.43454452,  80.5720249 ,\n",
       "        83.16873754,  90.10490671,  48.50244647,  68.86421799,\n",
       "        61.90879591,  52.58315432,  62.24436019,  69.33283434,\n",
       "        68.27045579,  77.25562564,  54.69545285,  65.23755147,\n",
       "        39.00447495,  90.70973373,  76.65855839,  60.53771426,\n",
       "        55.17949649,  66.71184428,  79.51684814,  47.71493264,\n",
       "        48.78166423,  64.41266629,  28.66851844,  65.11891651,\n",
       "        63.09966111,  68.27286624,  59.04588488,  41.64906229,\n",
       "        62.49570837,  54.70304972,  56.61857974,  81.05662606,\n",
       "        48.27960944,  87.25519518,  36.31330215,  93.54000003,\n",
       "        60.45226411,  68.39268082,  93.23293815,  72.74056818,\n",
       "        81.81064935,  66.75551022,  54.94373087,  50.46751246,\n",
       "        85.08254033,  77.68001303,  72.29454468,  28.94766969,\n",
       "        64.47173098,  56.08541338,  44.95817543,  55.31370326,\n",
       "        63.43291512,  59.03147446,  56.35519774,  66.65540747,\n",
       "        68.63323201,  65.87469393,  58.14653154,  72.75125231,\n",
       "        65.809978  ,  68.56829763,  47.42581573,  98.1977359 ,\n",
       "        60.66512923,  59.30755253,  68.37122888,  88.53074503,\n",
       "        43.63879879,  84.04614606,  66.58390231,  56.1846336 ,\n",
       "        65.0644753 ,  65.96709148,  55.62083092,  43.28852584,\n",
       "        63.44000545,  51.0591501 ,  83.30517128,  74.53799439,\n",
       "        80.1086473 ,  49.82379998,  61.82458408,  52.4795983 ,\n",
       "        93.64100525,  75.04386124,  43.77043044,  79.931122  ,\n",
       "        20.33231498,  78.91230872,  76.91694366,  56.12518514,\n",
       "       100.37964745,  80.15430242,  47.44718392,  66.24630813,\n",
       "        79.55370009,  57.77875013,  45.20356078,  44.87695254,\n",
       "        81.43714939,  88.74845537,  67.72036034,  64.87571202,\n",
       "        63.94117678,  56.05566596,  62.46638621,  66.67318342,\n",
       "        52.80359824,  63.93867136,  61.12493772,  62.28759381,\n",
       "        39.81516053,  79.8563837 ,  54.46907709,  73.25154927,\n",
       "        75.33820516,  53.2933108 ,  68.43490774,  80.38537522,\n",
       "        47.91525296,  92.77775051,  59.4584716 ,  77.58785011,\n",
       "        84.49386559,  49.47768486,  79.28649615,  67.50419877,\n",
       "        68.00189898,  76.24748988,  84.68343631,  64.84258998,\n",
       "        90.58896515,  89.0420245 ,  62.95756073,  71.35836184])"
      ]
     },
     "execution_count": 15,
     "metadata": {},
     "output_type": "execute_result"
    }
   ],
   "source": [
    "normal"
   ]
  },
  {
   "cell_type": "code",
   "execution_count": null,
   "id": "ab42576a-0dba-48dd-84cd-7bfdae73e834",
   "metadata": {},
   "outputs": [],
   "source": []
  },
  {
   "cell_type": "code",
   "execution_count": 18,
   "id": "a5935a28-0c26-4be8-87e1-d7970266d381",
   "metadata": {},
   "outputs": [
    {
     "data": {
      "text/plain": [
       "array([55.08706162, 65.79099892, 76.07207457])"
      ]
     },
     "execution_count": 18,
     "metadata": {},
     "output_type": "execute_result"
    }
   ],
   "source": [
    "quan = np.quantile(normal, [0.25, 0.50, 0.75])\n",
    "quan\n"
   ]
  },
  {
   "cell_type": "code",
   "execution_count": 19,
   "id": "ba219a23-dfc3-42af-8c57-43eda01f65f5",
   "metadata": {},
   "outputs": [
    {
     "data": {
      "text/plain": [
       "65.79099891754808"
      ]
     },
     "execution_count": 19,
     "metadata": {},
     "output_type": "execute_result"
    }
   ],
   "source": [
    "np.median(normal)"
   ]
  },
  {
   "cell_type": "code",
   "execution_count": 20,
   "id": "58b76aec-f2aa-4b5f-9d07-8cdb9616b12b",
   "metadata": {},
   "outputs": [
    {
     "data": {
      "text/plain": [
       "array([55.08706162, 65.79099892, 76.07207457])"
      ]
     },
     "execution_count": 20,
     "metadata": {},
     "output_type": "execute_result"
    }
   ],
   "source": [
    "quan"
   ]
  },
  {
   "cell_type": "code",
   "execution_count": 21,
   "id": "3c3c9e24-fb5b-4302-b05d-028e1495645d",
   "metadata": {},
   "outputs": [],
   "source": [
    "q1 = quan[0]\n",
    "q2 = quan[1]\n",
    "q3 = quan[2]"
   ]
  },
  {
   "cell_type": "code",
   "execution_count": 22,
   "id": "3de2e5dc-9d4d-4b87-a55e-1ffd8893c843",
   "metadata": {},
   "outputs": [
    {
     "data": {
      "text/plain": [
       "55.08706161524684"
      ]
     },
     "execution_count": 22,
     "metadata": {},
     "output_type": "execute_result"
    }
   ],
   "source": [
    "q1"
   ]
  },
  {
   "cell_type": "code",
   "execution_count": 23,
   "id": "ca30aa6e-16a7-47b4-9c68-32d06365495f",
   "metadata": {},
   "outputs": [
    {
     "data": {
      "text/plain": [
       "65.79099891754808"
      ]
     },
     "execution_count": 23,
     "metadata": {},
     "output_type": "execute_result"
    }
   ],
   "source": [
    "q2"
   ]
  },
  {
   "cell_type": "code",
   "execution_count": 24,
   "id": "b31f23b4-9463-443c-af0a-30fdf5b4d2ae",
   "metadata": {},
   "outputs": [
    {
     "data": {
      "text/plain": [
       "76.07207457047252"
      ]
     },
     "execution_count": 24,
     "metadata": {},
     "output_type": "execute_result"
    }
   ],
   "source": [
    "q3"
   ]
  },
  {
   "cell_type": "code",
   "execution_count": 25,
   "id": "5998c016-e597-47d6-a362-730160d1327e",
   "metadata": {},
   "outputs": [
    {
     "data": {
      "text/plain": [
       "20.985012955225685"
      ]
     },
     "execution_count": 25,
     "metadata": {},
     "output_type": "execute_result"
    }
   ],
   "source": [
    "IQR = q3 - q1\n",
    "IQR"
   ]
  },
  {
   "cell_type": "code",
   "execution_count": 30,
   "id": "42f6f7c2-9613-452d-ba12-4d05c239bd41",
   "metadata": {},
   "outputs": [
    {
     "data": {
      "text/plain": [
       "23.609542182408312"
      ]
     },
     "execution_count": 30,
     "metadata": {},
     "output_type": "execute_result"
    }
   ],
   "source": [
    "lower_bound = q1 - 1.5 * IQR\n",
    "lower_bound"
   ]
  },
  {
   "cell_type": "code",
   "execution_count": 31,
   "id": "a58e5cdd-c9e1-48a3-90e2-1ade944328cb",
   "metadata": {},
   "outputs": [
    {
     "data": {
      "text/plain": [
       "107.54959400331106"
      ]
     },
     "execution_count": 31,
     "metadata": {},
     "output_type": "execute_result"
    }
   ],
   "source": [
    "upper_bound = q3 + 1.5 * IQR\n",
    "upper_bound"
   ]
  },
  {
   "cell_type": "code",
   "execution_count": 28,
   "id": "00d6f528-f62c-43ac-96f0-42b049e4960f",
   "metadata": {},
   "outputs": [
    {
     "data": {
      "text/plain": [
       "array([ 65.24714389,  68.89532465,  84.73170213,  72.63185696,\n",
       "        66.81817375,  32.05416554,  40.2641423 ,  54.22141157,\n",
       "        60.15037298,  51.24596902,  65.31982301,  57.34017741,\n",
       "        63.56758314,  77.55108215,  74.57725657,  76.42843293,\n",
       "        90.44033203,  63.44614356,  64.95960014,  63.89324601,\n",
       "        73.50430073,  24.06243553,  38.41533471,  80.32597693,\n",
       "        36.86982138,  61.78112644,  76.7948722 ,  82.57272907,\n",
       "        77.59213945,  99.49069829,  56.20273093,  64.69845631,\n",
       "        49.14960276,  53.35033325,  74.00853674,  41.65931281,\n",
       "        94.10777694,  59.16050918,  54.99597248,  72.0721505 ,\n",
       "        69.00915765,  57.84079046,  72.32775372,  57.16888047,\n",
       "        59.29058499,  60.06527472,  59.52164393,  60.54560037,\n",
       "        59.50458407,  62.81856185,  76.34017189,  72.75821569,\n",
       "        60.35981995,  79.49454308,  78.47115752,  83.83633045,\n",
       "        85.37112479,  69.81315672,  96.88495787,  64.28290105,\n",
       "        62.32794239,  48.40112839,  55.75207492,  67.03420855,\n",
       "        47.98380407,  76.76080464,  44.45377841,  88.93852889,\n",
       "        67.3525572 ,  62.865331  ,  60.91950386,  65.82558804,\n",
       "        90.02047406,  72.99269547,  76.91821961,  50.54099476,\n",
       "        57.53001533,  51.85897509,  62.31763034,  63.7571321 ,\n",
       "        59.04536725,  79.05218811,  38.33933886,  67.72137941,\n",
       "        79.41562046,  92.7126358 ,  82.01379127,  68.56164582,\n",
       "        61.83737755,  55.14382053,  61.25912778,  58.61271809,\n",
       "        84.01631857,  75.66648113,  67.71889085,  83.74616091,\n",
       "        47.99525067,  60.90647387,  59.32746562,  67.64344642,\n",
       "        61.40762069,  47.13253009,  73.71409936,  68.34064704,\n",
       "        91.0336582 ,  68.88380981,  72.79349524,  82.46098903,\n",
       "        44.36912768,  52.98394026,  83.88581145,  59.14139792,\n",
       "        78.68891348,  84.13326045,  74.96825191,  79.0692702 ,\n",
       "        57.79551601,  45.50374229,  85.92405625,  89.42296418,\n",
       "        78.37707303,  63.98366263,  61.58695015,  68.08384276,\n",
       "        86.98062203,  68.26830554,  66.84868359,  84.05740416,\n",
       "        63.12444599,  44.71245548,  58.98481641,  50.9374654 ,\n",
       "        47.9906788 ,  69.17139494,  42.96270201,  57.57831474,\n",
       "        44.91155063,  71.56576066,  70.7202373 ,  57.88236737,\n",
       "        67.25586146,  58.25525353,  82.86863076,  69.55682886,\n",
       "        68.2880743 ,  65.33075493,  46.52825128,  73.51298189,\n",
       "        72.99363002,  58.28813069,  49.16795445,  61.50518114,\n",
       "        29.26260159,  45.18329011,  55.9628331 ,  79.27269152,\n",
       "        62.38213378,  53.081907  ,  93.21713378,  58.78241361,\n",
       "        82.63294782,  78.73699287,  77.49151669,  78.73908605,\n",
       "        53.24124988,  71.87427955,  55.37051361,  88.77776528,\n",
       "        82.54671102,  50.42843301,  45.28059878,  68.73277855,\n",
       "        73.07389139,  76.66657013,  63.04107542,  68.38054815,\n",
       "        54.63271581,  75.18709734,  49.25942387,  64.25389631,\n",
       "        70.02080056,  61.60156278,  53.13298831,  62.04727083,\n",
       "        58.100847  ,  53.36306057,  59.64832715,  77.61718999,\n",
       "        53.74647249,  79.6210877 ,  68.60112508,  26.86520627,\n",
       "        75.36101132,  66.62331589,  36.52525517,  66.17966417,\n",
       "        69.00892013,  69.93737339,  69.71763283,  62.73613337,\n",
       "        53.69910936,  29.05318158,  66.71148721,  74.72327329,\n",
       "        75.21017371,  69.88994991,  73.79041877,  42.93725506,\n",
       "        53.99405019,  83.62665641,  45.85269535,  75.9353564 ,\n",
       "        65.25681118,  64.03517484,  59.03528695,  66.10096592,\n",
       "        71.21212149,  77.31113379,  67.93827208,  50.19822038,\n",
       "        64.65091319,  63.35546042,  62.20211404,  66.8303252 ,\n",
       "        61.21256714,  64.98619059,  75.30500096,  83.26508225,\n",
       "        87.04912909,  45.94376305,  70.38424424,  77.21415203,\n",
       "        89.69664109,  71.56211055,  58.0079393 ,  25.6088336 ,\n",
       "        49.74570807,  50.91545196,  67.88427778,  72.3677577 ,\n",
       "        63.03049885,  59.51729782,  54.17894622,  80.81816525,\n",
       "        78.92637948,  56.16332317,  48.9242095 ,  77.42089593,\n",
       "        64.84565535,  65.0210003 ,  62.28112955,  80.99892942,\n",
       "        91.47224921,  57.9361138 ,  44.57217398,  54.94501463,\n",
       "        69.52423135,  72.21604531,  68.06934118, 114.49527628,\n",
       "        81.93445661,  47.11781601,  60.35024212,  59.77978932,\n",
       "        78.13152373,  46.64566844,  61.58859197,  62.31714824,\n",
       "        69.20012888,  67.17917269,  55.57761176,  61.5495291 ,\n",
       "        64.91845881,  65.96854969,  69.4292419 ,  76.11360943,\n",
       "        55.62160915,  62.04282284,  81.86900457,  35.65268609,\n",
       "        39.74730089,  54.94951526,  80.13433899,  54.48240138,\n",
       "        81.10705195,  42.87866122,  67.48020058,  57.8853164 ,\n",
       "        53.8242798 ,  76.38894598,  50.84614675,  81.23383669,\n",
       "        92.95488707,  66.32877322,  47.39345664,  81.6106709 ,\n",
       "        61.79386867,  54.70362816,  76.95657447,  61.50241639,\n",
       "        78.93145307, 107.75007794,  63.18655484,  60.65317634,\n",
       "        77.85535417,  86.19512099,  77.35270927,  71.21649419,\n",
       "        54.42600504,  54.75897622,  50.02516078,  79.77112817,\n",
       "        73.13703839,  95.22415835,  73.45931468,  66.52723618,\n",
       "        74.49102434,  77.66346813,  67.26433872,  37.89025558,\n",
       "        66.5012893 ,  58.71794699,  60.7017335 ,  56.65060983,\n",
       "        45.31576322,  59.3716343 ,  81.54783799,  14.45033555,\n",
       "        65.33002185,  66.83765848,  45.62127183,  53.70573905,\n",
       "        79.3078647 ,  88.24727763,  67.32440369,  57.71876836,\n",
       "        54.90066213,  50.35657663,  68.85357803,  81.93860225,\n",
       "        36.36872925,  83.42028889,  79.02495548,  51.99573031,\n",
       "        51.53672118,  74.94354865,  71.73730505,  42.97967595,\n",
       "        31.17921249,  50.14539271,  71.70872003,  64.26718066,\n",
       "        84.11950489,  46.57489807,  77.91183343,  82.61061707,\n",
       "        67.84677282,  56.34797899,  66.03058329,  82.77359447,\n",
       "        92.71441458,  64.89317412,  62.30272821,  49.05810446,\n",
       "        61.33822863,  82.54790289,  55.27480309,  62.42757101,\n",
       "        75.80453117,  62.40364931,  59.56971702,  72.62481617,\n",
       "        73.28391415,  51.02596726,  79.59263698,  73.37760814,\n",
       "        85.39096825,  66.48138101,  61.753688  ,  56.50477704,\n",
       "        73.28764287,  55.37022275,  57.92658004,  90.28083979,\n",
       "        50.43598203,  85.40723861,  93.28094069,  53.6961314 ,\n",
       "        65.28480125,  82.05672552,  42.36392543,  76.11262483,\n",
       "        44.41769478,  61.2370605 ,  76.05855782,  59.62162441,\n",
       "        85.00466273,  39.63269588,  44.85405167,  71.54631357,\n",
       "        37.60581883,  53.65603155,  66.30427681,  86.92117961,\n",
       "        49.58320458,  44.64852347,  70.51432652,  96.91167089,\n",
       "        69.20951229,  45.43985296, 105.59419455,  73.87501179,\n",
       "        59.4770741 ,  65.53266745,  67.39264182,  60.30771539,\n",
       "        44.11363933,  63.73920062,  61.50989475,  69.04980281,\n",
       "        37.4347354 ,  91.44934121,  57.71999166,  64.43488755,\n",
       "       100.00254425,  72.9295855 ,  64.46867795,  36.22521638,\n",
       "        66.09673758,  63.71326614,  64.32707628,  67.28901799,\n",
       "        60.02672368,  78.36026887,  53.75796293,  86.510545  ,\n",
       "        59.74290344,  54.98477491,  88.38155029,  78.50132955,\n",
       "        54.32712371,  67.04168697,  79.18708851,  63.38697015,\n",
       "        64.97443776,  50.9471846 ,  20.78473604,  54.07429573,\n",
       "        31.56686721,  80.89065234,  54.24178755,  84.08096933,\n",
       "        41.98485811,  40.79711439,  75.45174793,  45.01399669,\n",
       "        78.54210227,  50.21014063,  79.48662924,  60.92830529,\n",
       "        35.32925798,  63.01694374,  49.16964339,  64.44036534,\n",
       "        58.94720754,  75.6508446 ,  68.2789955 ,  92.63568116,\n",
       "        90.59405039,  71.36358878,  92.15034529,  38.29294402,\n",
       "        48.22949783,  79.47448022,  77.41121021,  64.14447686,\n",
       "        63.85145331,  48.50195065,  60.14246318,  54.03280325,\n",
       "        78.68262197,  74.44969406,  65.53988373,  48.78481718,\n",
       "        63.57968168,  48.03565074,  71.35662281,  69.4513555 ,\n",
       "        81.13736597,  38.05825596,  67.9785838 ,  53.36206196,\n",
       "        65.81759849,  42.9584268 ,  87.64780408,  77.13074654,\n",
       "        65.22722748,  63.93318101,  46.7962125 ,  87.316104  ,\n",
       "        82.64286507,  73.97363953,  66.32610055,  70.42222167,\n",
       "        49.52895089,  40.24729492,  49.3666851 ,  79.3672386 ,\n",
       "        73.14769391,  66.05305645,  65.82473892,  67.96593058,\n",
       "        77.47291373,  61.3997126 ,  73.31053492,  66.83502831,\n",
       "        43.80802091,  64.91119999,  53.8694579 ,  55.48208307,\n",
       "        44.06049031,  95.50951041,  88.99785097,  74.78926119,\n",
       "        66.03517725,  43.43309593,  34.72604847,  68.67001068,\n",
       "        63.31078303,  50.21001108,  69.29266004,  45.17975075,\n",
       "        53.29714801,  76.57298659,  74.0360563 ,  29.93439898,\n",
       "        57.67535895,  47.01400282,  51.08788843,  50.95220148,\n",
       "        71.89806797,  41.16942672, 101.96475389,  46.8699532 ,\n",
       "        54.47424274,  44.85336274,  63.12203077,  55.36268889,\n",
       "        58.31282185,  67.59350043,  40.62931879,  89.03589089,\n",
       "        47.79171555,  82.88467563,  81.83581063,  35.36791872,\n",
       "        65.99176324,  53.15794654,  66.895059  ,  57.85313301,\n",
       "        61.47182441,  60.6215216 ,  66.32044865,  79.11268772,\n",
       "        66.33088506,  65.33802815,  68.33623223,  68.5879705 ,\n",
       "        46.72408395,  76.48148094,  76.35281305,  70.23019128,\n",
       "        52.49805273,  42.98688855, 100.14981106,  94.40472964,\n",
       "        63.15467646,  58.61037294,  51.38009437,  41.59880537,\n",
       "        72.36337228,  28.5455611 ,  78.86917125,  89.66594768,\n",
       "        64.39567286,  79.40503073,  75.69803507,  47.68421416,\n",
       "        84.01172988,  77.0276135 ,  79.70976247,  41.77910215,\n",
       "        56.2651404 ,  92.30013148,  77.80191904,  45.51678641,\n",
       "        56.50544081,  59.21268369,  95.20283635,  71.51786634,\n",
       "        63.09520349,  62.58168459,  69.24864588,  58.64975143,\n",
       "        78.16606894,  75.78773719,  43.04203376,  37.54965464,\n",
       "        78.04794378,  45.16650592,  54.49598615,  71.44158546,\n",
       "        74.57381796,  60.86328563,  55.36686506,  64.04427211,\n",
       "        82.62674675,  52.81317469,  51.88533738,  80.86008178,\n",
       "        84.75571376,  50.60195516,  60.05556824,  81.47907713,\n",
       "        57.64413527,  53.14529021,  76.72228785,  55.76863929,\n",
       "        66.46178551,  70.62749004,  69.13647064,  73.41721217,\n",
       "        66.44686818,  44.99354312,  71.57158458,  47.46541158,\n",
       "        68.12765081,  56.08673861,  55.1181053 ,  73.16369646,\n",
       "        73.93641238,  67.51666046,  56.18810183,  42.04507994,\n",
       "        91.81687546,  84.7411901 ,  74.1456103 , 107.37821424,\n",
       "        76.51179088,  71.0703419 ,  83.69145288,  72.78804864,\n",
       "        67.57232176,  81.09008574,  36.50322631,  65.43384251,\n",
       "        58.43158701,  71.6762231 ,  39.85938955,  24.05410994,\n",
       "        69.85094515,  92.79864725,  83.95671902,  73.74529932,\n",
       "        47.26206811,  81.43140347,  34.39716739,  75.38115258,\n",
       "        69.95772835,  69.25772519,  50.61690636,  70.77400567,\n",
       "        65.73497682,  68.34786054,  44.73779483,  60.67574197,\n",
       "        67.05998496,  74.31097908,  80.01391951,  70.04770264,\n",
       "        64.59172118,  31.84546632,  57.35106011,  79.17840247,\n",
       "        52.08847093,  85.22437675,  75.15380075,  83.78362155,\n",
       "        57.87535283,  28.1273248 ,  79.68600368,  78.83616585,\n",
       "        49.27842168,  56.38224643,  86.19104872,  66.14508005,\n",
       "        45.61411836,  62.38615544,  31.18860558,  53.74323229,\n",
       "        67.36447606,  65.68652585,  70.77293241,  81.75732743,\n",
       "        59.8374743 ,  45.53981723,  71.19178085,  81.97122905,\n",
       "        72.72686335,  41.50546327,  75.61616687,  70.20433653,\n",
       "        65.77201983,  66.98677683,  47.85071855,  78.4095093 ,\n",
       "        85.48026936,  43.25264893,  78.89476679,  47.89605235,\n",
       "        66.62093027,  58.7579834 ,  93.21495195,  70.07409489,\n",
       "        80.13921871,  39.37424695,  68.40726492,  60.32758967,\n",
       "        69.79831102,  73.95636438,  50.36494607,  55.64555379,\n",
       "        64.71719117,  83.81566678,  50.20946174,  75.27661869,\n",
       "        59.27652572,  91.22558794,  59.375785  ,  66.86764307,\n",
       "        62.35519496,  61.45380796,  52.68754218,  57.35946623,\n",
       "        39.99300003,  80.24907939,  71.07206599,  62.37548514,\n",
       "        87.61244424,  90.91035816,  77.15338273,  75.49364316,\n",
       "        85.23207277,  66.09170194,  40.47709085,  76.19191587,\n",
       "        98.36726617,  75.9988891 ,  69.85376191,  56.08626905,\n",
       "        58.18116744,  72.93962468,  94.98603262,  82.89297408,\n",
       "        72.54142612,  74.87706381,  56.76441978,  72.24872019,\n",
       "        61.91777066,  58.33152125,  42.98737753,  69.17471804,\n",
       "        66.4157903 ,  84.39383318,  54.39750266,  73.60030293,\n",
       "        60.05664653,  68.19577275,  79.5512879 ,  83.62673492,\n",
       "        77.18168493,  53.4334395 ,  74.67355152,  97.68694397,\n",
       "        55.94248837,  74.42826978,  44.99274881,  79.94521989,\n",
       "        41.44379128,  56.62579976,  66.18035469,  40.5955895 ,\n",
       "        79.78151839,  62.42306732,  67.39225314,  52.94715648,\n",
       "        55.01084862,  92.40632083,  71.57112784,  58.72642166,\n",
       "        75.17532086,  75.18830799,  71.31012787,  73.39247733,\n",
       "        72.92409504,  92.39586577,  58.83392533,  76.84846115,\n",
       "        41.22418602,  38.21201417,  38.14380996,  86.04615451,\n",
       "        55.11246595,  88.04944594,  75.59807969,  60.11469213,\n",
       "        58.27269898,  45.92551753,  53.76988909,  73.13972226,\n",
       "        84.12593599,  36.85016692,  92.79914142,  73.25927331,\n",
       "        74.27124072,  51.13867487,  76.21559308,  74.18817618,\n",
       "        54.73111003,  55.39514832,  62.48369066,  45.92331888,\n",
       "        55.62022811,  89.97347345,  71.07765055,  68.18214976,\n",
       "        91.63796522,  60.94888384,  49.85068545,  63.144447  ,\n",
       "        72.31727876,  50.37137871,  35.86958817,  70.29368127,\n",
       "        38.899624  ,  81.40085288,  49.61432748,  71.06803783,\n",
       "        57.33500061,  47.73820168,  91.05721529,  54.82450511,\n",
       "        60.02707316,  85.95458025,  24.46162421,  71.38196992,\n",
       "        98.8770897 ,  66.27691756,  44.60266773,  82.23537358,\n",
       "        59.05524498,  63.76977916,  87.43454452,  80.5720249 ,\n",
       "        83.16873754,  90.10490671,  48.50244647,  68.86421799,\n",
       "        61.90879591,  52.58315432,  62.24436019,  69.33283434,\n",
       "        68.27045579,  77.25562564,  54.69545285,  65.23755147,\n",
       "        39.00447495,  90.70973373,  76.65855839,  60.53771426,\n",
       "        55.17949649,  66.71184428,  79.51684814,  47.71493264,\n",
       "        48.78166423,  64.41266629,  28.66851844,  65.11891651,\n",
       "        63.09966111,  68.27286624,  59.04588488,  41.64906229,\n",
       "        62.49570837,  54.70304972,  56.61857974,  81.05662606,\n",
       "        48.27960944,  87.25519518,  36.31330215,  93.54000003,\n",
       "        60.45226411,  68.39268082,  93.23293815,  72.74056818,\n",
       "        81.81064935,  66.75551022,  54.94373087,  50.46751246,\n",
       "        85.08254033,  77.68001303,  72.29454468,  28.94766969,\n",
       "        64.47173098,  56.08541338,  44.95817543,  55.31370326,\n",
       "        63.43291512,  59.03147446,  56.35519774,  66.65540747,\n",
       "        68.63323201,  65.87469393,  58.14653154,  72.75125231,\n",
       "        65.809978  ,  68.56829763,  47.42581573,  98.1977359 ,\n",
       "        60.66512923,  59.30755253,  68.37122888,  88.53074503,\n",
       "        43.63879879,  84.04614606,  66.58390231,  56.1846336 ,\n",
       "        65.0644753 ,  65.96709148,  55.62083092,  43.28852584,\n",
       "        63.44000545,  51.0591501 ,  83.30517128,  74.53799439,\n",
       "        80.1086473 ,  49.82379998,  61.82458408,  52.4795983 ,\n",
       "        93.64100525,  75.04386124,  43.77043044,  79.931122  ,\n",
       "        20.33231498,  78.91230872,  76.91694366,  56.12518514,\n",
       "       100.37964745,  80.15430242,  47.44718392,  66.24630813,\n",
       "        79.55370009,  57.77875013,  45.20356078,  44.87695254,\n",
       "        81.43714939,  88.74845537,  67.72036034,  64.87571202,\n",
       "        63.94117678,  56.05566596,  62.46638621,  66.67318342,\n",
       "        52.80359824,  63.93867136,  61.12493772,  62.28759381,\n",
       "        39.81516053,  79.8563837 ,  54.46907709,  73.25154927,\n",
       "        75.33820516,  53.2933108 ,  68.43490774,  80.38537522,\n",
       "        47.91525296,  92.77775051,  59.4584716 ,  77.58785011,\n",
       "        84.49386559,  49.47768486,  79.28649615,  67.50419877,\n",
       "        68.00189898,  76.24748988,  84.68343631,  64.84258998,\n",
       "        90.58896515,  89.0420245 ,  62.95756073,  71.35836184])"
      ]
     },
     "execution_count": 28,
     "metadata": {},
     "output_type": "execute_result"
    }
   ],
   "source": [
    "normal"
   ]
  },
  {
   "cell_type": "code",
   "execution_count": 29,
   "id": "4f1552a4-59b6-48fb-90c2-dcbf8ba1f4fd",
   "metadata": {},
   "outputs": [
    {
     "data": {
      "image/png": "[encoded data removed]",
      "text/plain": [
       "<Figure size 768x576 with 1 Axes>"
      ]
     },
     "metadata": {},
     "output_type": "display_data"
    }
   ],
   "source": [
    "plt.figure(dpi=120)\n",
    "plt.boxplot(normal)\n",
    "plt.show()"
   ]
  },
  {
   "cell_type": "code",
   "execution_count": 32,
   "id": "9fe45a06-216c-4291-9394-eaabedcdef7d",
   "metadata": {},
   "outputs": [
    {
     "data": {
      "text/plain": [
       "23.609542182408312"
      ]
     },
     "execution_count": 32,
     "metadata": {},
     "output_type": "execute_result"
    }
   ],
   "source": [
    "lower_bound"
   ]
  },
  {
   "cell_type": "code",
   "execution_count": 33,
   "id": "220daeee-d22a-4ff0-bfa6-87d7704fd8bf",
   "metadata": {
    "scrolled": true
   },
   "outputs": [
    {
     "data": {
      "text/plain": [
       "107.54959400331106"
      ]
     },
     "execution_count": 33,
     "metadata": {},
     "output_type": "execute_result"
    }
   ],
   "source": [
    "upper_bound"
   ]
  },
  {
   "cell_type": "code",
   "execution_count": 34,
   "id": "680a02f2-c377-4297-b6b9-f72960d8730e",
   "metadata": {},
   "outputs": [
    {
     "data": {
      "text/plain": [
       "array([ 65.24714389,  68.89532465,  84.73170213,  72.63185696,\n",
       "        66.81817375,  32.05416554,  40.2641423 ,  54.22141157,\n",
       "        60.15037298,  51.24596902,  65.31982301,  57.34017741,\n",
       "        63.56758314,  77.55108215,  74.57725657,  76.42843293,\n",
       "        90.44033203,  63.44614356,  64.95960014,  63.89324601,\n",
       "        73.50430073,  24.06243553,  38.41533471,  80.32597693,\n",
       "        36.86982138,  61.78112644,  76.7948722 ,  82.57272907,\n",
       "        77.59213945,  99.49069829,  56.20273093,  64.69845631,\n",
       "        49.14960276,  53.35033325,  74.00853674,  41.65931281,\n",
       "        94.10777694,  59.16050918,  54.99597248,  72.0721505 ,\n",
       "        69.00915765,  57.84079046,  72.32775372,  57.16888047,\n",
       "        59.29058499,  60.06527472,  59.52164393,  60.54560037,\n",
       "        59.50458407,  62.81856185,  76.34017189,  72.75821569,\n",
       "        60.35981995,  79.49454308,  78.47115752,  83.83633045,\n",
       "        85.37112479,  69.81315672,  96.88495787,  64.28290105,\n",
       "        62.32794239,  48.40112839,  55.75207492,  67.03420855,\n",
       "        47.98380407,  76.76080464,  44.45377841,  88.93852889,\n",
       "        67.3525572 ,  62.865331  ,  60.91950386,  65.82558804,\n",
       "        90.02047406,  72.99269547,  76.91821961,  50.54099476,\n",
       "        57.53001533,  51.85897509,  62.31763034,  63.7571321 ,\n",
       "        59.04536725,  79.05218811,  38.33933886,  67.72137941,\n",
       "        79.41562046,  92.7126358 ,  82.01379127,  68.56164582,\n",
       "        61.83737755,  55.14382053,  61.25912778,  58.61271809,\n",
       "        84.01631857,  75.66648113,  67.71889085,  83.74616091,\n",
       "        47.99525067,  60.90647387,  59.32746562,  67.64344642,\n",
       "        61.40762069,  47.13253009,  73.71409936,  68.34064704,\n",
       "        91.0336582 ,  68.88380981,  72.79349524,  82.46098903,\n",
       "        44.36912768,  52.98394026,  83.88581145,  59.14139792,\n",
       "        78.68891348,  84.13326045,  74.96825191,  79.0692702 ,\n",
       "        57.79551601,  45.50374229,  85.92405625,  89.42296418,\n",
       "        78.37707303,  63.98366263,  61.58695015,  68.08384276,\n",
       "        86.98062203,  68.26830554,  66.84868359,  84.05740416,\n",
       "        63.12444599,  44.71245548,  58.98481641,  50.9374654 ,\n",
       "        47.9906788 ,  69.17139494,  42.96270201,  57.57831474,\n",
       "        44.91155063,  71.56576066,  70.7202373 ,  57.88236737,\n",
       "        67.25586146,  58.25525353,  82.86863076,  69.55682886,\n",
       "        68.2880743 ,  65.33075493,  46.52825128,  73.51298189,\n",
       "        72.99363002,  58.28813069,  49.16795445,  61.50518114,\n",
       "        29.26260159,  45.18329011,  55.9628331 ,  79.27269152,\n",
       "        62.38213378,  53.081907  ,  93.21713378,  58.78241361,\n",
       "        82.63294782,  78.73699287,  77.49151669,  78.73908605,\n",
       "        53.24124988,  71.87427955,  55.37051361,  88.77776528,\n",
       "        82.54671102,  50.42843301,  45.28059878,  68.73277855,\n",
       "        73.07389139,  76.66657013,  63.04107542,  68.38054815,\n",
       "        54.63271581,  75.18709734,  49.25942387,  64.25389631,\n",
       "        70.02080056,  61.60156278,  53.13298831,  62.04727083,\n",
       "        58.100847  ,  53.36306057,  59.64832715,  77.61718999,\n",
       "        53.74647249,  79.6210877 ,  68.60112508,  26.86520627,\n",
       "        75.36101132,  66.62331589,  36.52525517,  66.17966417,\n",
       "        69.00892013,  69.93737339,  69.71763283,  62.73613337,\n",
       "        53.69910936,  29.05318158,  66.71148721,  74.72327329,\n",
       "        75.21017371,  69.88994991,  73.79041877,  42.93725506,\n",
       "        53.99405019,  83.62665641,  45.85269535,  75.9353564 ,\n",
       "        65.25681118,  64.03517484,  59.03528695,  66.10096592,\n",
       "        71.21212149,  77.31113379,  67.93827208,  50.19822038,\n",
       "        64.65091319,  63.35546042,  62.20211404,  66.8303252 ,\n",
       "        61.21256714,  64.98619059,  75.30500096,  83.26508225,\n",
       "        87.04912909,  45.94376305,  70.38424424,  77.21415203,\n",
       "        89.69664109,  71.56211055,  58.0079393 ,  25.6088336 ,\n",
       "        49.74570807,  50.91545196,  67.88427778,  72.3677577 ,\n",
       "        63.03049885,  59.51729782,  54.17894622,  80.81816525,\n",
       "        78.92637948,  56.16332317,  48.9242095 ,  77.42089593,\n",
       "        64.84565535,  65.0210003 ,  62.28112955,  80.99892942,\n",
       "        91.47224921,  57.9361138 ,  44.57217398,  54.94501463,\n",
       "        69.52423135,  72.21604531,  68.06934118, 114.49527628,\n",
       "        81.93445661,  47.11781601,  60.35024212,  59.77978932,\n",
       "        78.13152373,  46.64566844,  61.58859197,  62.31714824,\n",
       "        69.20012888,  67.17917269,  55.57761176,  61.5495291 ,\n",
       "        64.91845881,  65.96854969,  69.4292419 ,  76.11360943,\n",
       "        55.62160915,  62.04282284,  81.86900457,  35.65268609,\n",
       "        39.74730089,  54.94951526,  80.13433899,  54.48240138,\n",
       "        81.10705195,  42.87866122,  67.48020058,  57.8853164 ,\n",
       "        53.8242798 ,  76.38894598,  50.84614675,  81.23383669,\n",
       "        92.95488707,  66.32877322,  47.39345664,  81.6106709 ,\n",
       "        61.79386867,  54.70362816,  76.95657447,  61.50241639,\n",
       "        78.93145307, 107.75007794,  63.18655484,  60.65317634,\n",
       "        77.85535417,  86.19512099,  77.35270927,  71.21649419,\n",
       "        54.42600504,  54.75897622,  50.02516078,  79.77112817,\n",
       "        73.13703839,  95.22415835,  73.45931468,  66.52723618,\n",
       "        74.49102434,  77.66346813,  67.26433872,  37.89025558,\n",
       "        66.5012893 ,  58.71794699,  60.7017335 ,  56.65060983,\n",
       "        45.31576322,  59.3716343 ,  81.54783799,  14.45033555,\n",
       "        65.33002185,  66.83765848,  45.62127183,  53.70573905,\n",
       "        79.3078647 ,  88.24727763,  67.32440369,  57.71876836,\n",
       "        54.90066213,  50.35657663,  68.85357803,  81.93860225,\n",
       "        36.36872925,  83.42028889,  79.02495548,  51.99573031,\n",
       "        51.53672118,  74.94354865,  71.73730505,  42.97967595,\n",
       "        31.17921249,  50.14539271,  71.70872003,  64.26718066,\n",
       "        84.11950489,  46.57489807,  77.91183343,  82.61061707,\n",
       "        67.84677282,  56.34797899,  66.03058329,  82.77359447,\n",
       "        92.71441458,  64.89317412,  62.30272821,  49.05810446,\n",
       "        61.33822863,  82.54790289,  55.27480309,  62.42757101,\n",
       "        75.80453117,  62.40364931,  59.56971702,  72.62481617,\n",
       "        73.28391415,  51.02596726,  79.59263698,  73.37760814,\n",
       "        85.39096825,  66.48138101,  61.753688  ,  56.50477704,\n",
       "        73.28764287,  55.37022275,  57.92658004,  90.28083979,\n",
       "        50.43598203,  85.40723861,  93.28094069,  53.6961314 ,\n",
       "        65.28480125,  82.05672552,  42.36392543,  76.11262483,\n",
       "        44.41769478,  61.2370605 ,  76.05855782,  59.62162441,\n",
       "        85.00466273,  39.63269588,  44.85405167,  71.54631357,\n",
       "        37.60581883,  53.65603155,  66.30427681,  86.92117961,\n",
       "        49.58320458,  44.64852347,  70.51432652,  96.91167089,\n",
       "        69.20951229,  45.43985296, 105.59419455,  73.87501179,\n",
       "        59.4770741 ,  65.53266745,  67.39264182,  60.30771539,\n",
       "        44.11363933,  63.73920062,  61.50989475,  69.04980281,\n",
       "        37.4347354 ,  91.44934121,  57.71999166,  64.43488755,\n",
       "       100.00254425,  72.9295855 ,  64.46867795,  36.22521638,\n",
       "        66.09673758,  63.71326614,  64.32707628,  67.28901799,\n",
       "        60.02672368,  78.36026887,  53.75796293,  86.510545  ,\n",
       "        59.74290344,  54.98477491,  88.38155029,  78.50132955,\n",
       "        54.32712371,  67.04168697,  79.18708851,  63.38697015,\n",
       "        64.97443776,  50.9471846 ,  20.78473604,  54.07429573,\n",
       "        31.56686721,  80.89065234,  54.24178755,  84.08096933,\n",
       "        41.98485811,  40.79711439,  75.45174793,  45.01399669,\n",
       "        78.54210227,  50.21014063,  79.48662924,  60.92830529,\n",
       "        35.32925798,  63.01694374,  49.16964339,  64.44036534,\n",
       "        58.94720754,  75.6508446 ,  68.2789955 ,  92.63568116,\n",
       "        90.59405039,  71.36358878,  92.15034529,  38.29294402,\n",
       "        48.22949783,  79.47448022,  77.41121021,  64.14447686,\n",
       "        63.85145331,  48.50195065,  60.14246318,  54.03280325,\n",
       "        78.68262197,  74.44969406,  65.53988373,  48.78481718,\n",
       "        63.57968168,  48.03565074,  71.35662281,  69.4513555 ,\n",
       "        81.13736597,  38.05825596,  67.9785838 ,  53.36206196,\n",
       "        65.81759849,  42.9584268 ,  87.64780408,  77.13074654,\n",
       "        65.22722748,  63.93318101,  46.7962125 ,  87.316104  ,\n",
       "        82.64286507,  73.97363953,  66.32610055,  70.42222167,\n",
       "        49.52895089,  40.24729492,  49.3666851 ,  79.3672386 ,\n",
       "        73.14769391,  66.05305645,  65.82473892,  67.96593058,\n",
       "        77.47291373,  61.3997126 ,  73.31053492,  66.83502831,\n",
       "        43.80802091,  64.91119999,  53.8694579 ,  55.48208307,\n",
       "        44.06049031,  95.50951041,  88.99785097,  74.78926119,\n",
       "        66.03517725,  43.43309593,  34.72604847,  68.67001068,\n",
       "        63.31078303,  50.21001108,  69.29266004,  45.17975075,\n",
       "        53.29714801,  76.57298659,  74.0360563 ,  29.93439898,\n",
       "        57.67535895,  47.01400282,  51.08788843,  50.95220148,\n",
       "        71.89806797,  41.16942672, 101.96475389,  46.8699532 ,\n",
       "        54.47424274,  44.85336274,  63.12203077,  55.36268889,\n",
       "        58.31282185,  67.59350043,  40.62931879,  89.03589089,\n",
       "        47.79171555,  82.88467563,  81.83581063,  35.36791872,\n",
       "        65.99176324,  53.15794654,  66.895059  ,  57.85313301,\n",
       "        61.47182441,  60.6215216 ,  66.32044865,  79.11268772,\n",
       "        66.33088506,  65.33802815,  68.33623223,  68.5879705 ,\n",
       "        46.72408395,  76.48148094,  76.35281305,  70.23019128,\n",
       "        52.49805273,  42.98688855, 100.14981106,  94.40472964,\n",
       "        63.15467646,  58.61037294,  51.38009437,  41.59880537,\n",
       "        72.36337228,  28.5455611 ,  78.86917125,  89.66594768,\n",
       "        64.39567286,  79.40503073,  75.69803507,  47.68421416,\n",
       "        84.01172988,  77.0276135 ,  79.70976247,  41.77910215,\n",
       "        56.2651404 ,  92.30013148,  77.80191904,  45.51678641,\n",
       "        56.50544081,  59.21268369,  95.20283635,  71.51786634,\n",
       "        63.09520349,  62.58168459,  69.24864588,  58.64975143,\n",
       "        78.16606894,  75.78773719,  43.04203376,  37.54965464,\n",
       "        78.04794378,  45.16650592,  54.49598615,  71.44158546,\n",
       "        74.57381796,  60.86328563,  55.36686506,  64.04427211,\n",
       "        82.62674675,  52.81317469,  51.88533738,  80.86008178,\n",
       "        84.75571376,  50.60195516,  60.05556824,  81.47907713,\n",
       "        57.64413527,  53.14529021,  76.72228785,  55.76863929,\n",
       "        66.46178551,  70.62749004,  69.13647064,  73.41721217,\n",
       "        66.44686818,  44.99354312,  71.57158458,  47.46541158,\n",
       "        68.12765081,  56.08673861,  55.1181053 ,  73.16369646,\n",
       "        73.93641238,  67.51666046,  56.18810183,  42.04507994,\n",
       "        91.81687546,  84.7411901 ,  74.1456103 , 107.37821424,\n",
       "        76.51179088,  71.0703419 ,  83.69145288,  72.78804864,\n",
       "        67.57232176,  81.09008574,  36.50322631,  65.43384251,\n",
       "        58.43158701,  71.6762231 ,  39.85938955,  24.05410994,\n",
       "        69.85094515,  92.79864725,  83.95671902,  73.74529932,\n",
       "        47.26206811,  81.43140347,  34.39716739,  75.38115258,\n",
       "        69.95772835,  69.25772519,  50.61690636,  70.77400567,\n",
       "        65.73497682,  68.34786054,  44.73779483,  60.67574197,\n",
       "        67.05998496,  74.31097908,  80.01391951,  70.04770264,\n",
       "        64.59172118,  31.84546632,  57.35106011,  79.17840247,\n",
       "        52.08847093,  85.22437675,  75.15380075,  83.78362155,\n",
       "        57.87535283,  28.1273248 ,  79.68600368,  78.83616585,\n",
       "        49.27842168,  56.38224643,  86.19104872,  66.14508005,\n",
       "        45.61411836,  62.38615544,  31.18860558,  53.74323229,\n",
       "        67.36447606,  65.68652585,  70.77293241,  81.75732743,\n",
       "        59.8374743 ,  45.53981723,  71.19178085,  81.97122905,\n",
       "        72.72686335,  41.50546327,  75.61616687,  70.20433653,\n",
       "        65.77201983,  66.98677683,  47.85071855,  78.4095093 ,\n",
       "        85.48026936,  43.25264893,  78.89476679,  47.89605235,\n",
       "        66.62093027,  58.7579834 ,  93.21495195,  70.07409489,\n",
       "        80.13921871,  39.37424695,  68.40726492,  60.32758967,\n",
       "        69.79831102,  73.95636438,  50.36494607,  55.64555379,\n",
       "        64.71719117,  83.81566678,  50.20946174,  75.27661869,\n",
       "        59.27652572,  91.22558794,  59.375785  ,  66.86764307,\n",
       "        62.35519496,  61.45380796,  52.68754218,  57.35946623,\n",
       "        39.99300003,  80.24907939,  71.07206599,  62.37548514,\n",
       "        87.61244424,  90.91035816,  77.15338273,  75.49364316,\n",
       "        85.23207277,  66.09170194,  40.47709085,  76.19191587,\n",
       "        98.36726617,  75.9988891 ,  69.85376191,  56.08626905,\n",
       "        58.18116744,  72.93962468,  94.98603262,  82.89297408,\n",
       "        72.54142612,  74.87706381,  56.76441978,  72.24872019,\n",
       "        61.91777066,  58.33152125,  42.98737753,  69.17471804,\n",
       "        66.4157903 ,  84.39383318,  54.39750266,  73.60030293,\n",
       "        60.05664653,  68.19577275,  79.5512879 ,  83.62673492,\n",
       "        77.18168493,  53.4334395 ,  74.67355152,  97.68694397,\n",
       "        55.94248837,  74.42826978,  44.99274881,  79.94521989,\n",
       "        41.44379128,  56.62579976,  66.18035469,  40.5955895 ,\n",
       "        79.78151839,  62.42306732,  67.39225314,  52.94715648,\n",
       "        55.01084862,  92.40632083,  71.57112784,  58.72642166,\n",
       "        75.17532086,  75.18830799,  71.31012787,  73.39247733,\n",
       "        72.92409504,  92.39586577,  58.83392533,  76.84846115,\n",
       "        41.22418602,  38.21201417,  38.14380996,  86.04615451,\n",
       "        55.11246595,  88.04944594,  75.59807969,  60.11469213,\n",
       "        58.27269898,  45.92551753,  53.76988909,  73.13972226,\n",
       "        84.12593599,  36.85016692,  92.79914142,  73.25927331,\n",
       "        74.27124072,  51.13867487,  76.21559308,  74.18817618,\n",
       "        54.73111003,  55.39514832,  62.48369066,  45.92331888,\n",
       "        55.62022811,  89.97347345,  71.07765055,  68.18214976,\n",
       "        91.63796522,  60.94888384,  49.85068545,  63.144447  ,\n",
       "        72.31727876,  50.37137871,  35.86958817,  70.29368127,\n",
       "        38.899624  ,  81.40085288,  49.61432748,  71.06803783,\n",
       "        57.33500061,  47.73820168,  91.05721529,  54.82450511,\n",
       "        60.02707316,  85.95458025,  24.46162421,  71.38196992,\n",
       "        98.8770897 ,  66.27691756,  44.60266773,  82.23537358,\n",
       "        59.05524498,  63.76977916,  87.43454452,  80.5720249 ,\n",
       "        83.16873754,  90.10490671,  48.50244647,  68.86421799,\n",
       "        61.90879591,  52.58315432,  62.24436019,  69.33283434,\n",
       "        68.27045579,  77.25562564,  54.69545285,  65.23755147,\n",
       "        39.00447495,  90.70973373,  76.65855839,  60.53771426,\n",
       "        55.17949649,  66.71184428,  79.51684814,  47.71493264,\n",
       "        48.78166423,  64.41266629,  28.66851844,  65.11891651,\n",
       "        63.09966111,  68.27286624,  59.04588488,  41.64906229,\n",
       "        62.49570837,  54.70304972,  56.61857974,  81.05662606,\n",
       "        48.27960944,  87.25519518,  36.31330215,  93.54000003,\n",
       "        60.45226411,  68.39268082,  93.23293815,  72.74056818,\n",
       "        81.81064935,  66.75551022,  54.94373087,  50.46751246,\n",
       "        85.08254033,  77.68001303,  72.29454468,  28.94766969,\n",
       "        64.47173098,  56.08541338,  44.95817543,  55.31370326,\n",
       "        63.43291512,  59.03147446,  56.35519774,  66.65540747,\n",
       "        68.63323201,  65.87469393,  58.14653154,  72.75125231,\n",
       "        65.809978  ,  68.56829763,  47.42581573,  98.1977359 ,\n",
       "        60.66512923,  59.30755253,  68.37122888,  88.53074503,\n",
       "        43.63879879,  84.04614606,  66.58390231,  56.1846336 ,\n",
       "        65.0644753 ,  65.96709148,  55.62083092,  43.28852584,\n",
       "        63.44000545,  51.0591501 ,  83.30517128,  74.53799439,\n",
       "        80.1086473 ,  49.82379998,  61.82458408,  52.4795983 ,\n",
       "        93.64100525,  75.04386124,  43.77043044,  79.931122  ,\n",
       "        20.33231498,  78.91230872,  76.91694366,  56.12518514,\n",
       "       100.37964745,  80.15430242,  47.44718392,  66.24630813,\n",
       "        79.55370009,  57.77875013,  45.20356078,  44.87695254,\n",
       "        81.43714939,  88.74845537,  67.72036034,  64.87571202,\n",
       "        63.94117678,  56.05566596,  62.46638621,  66.67318342,\n",
       "        52.80359824,  63.93867136,  61.12493772,  62.28759381,\n",
       "        39.81516053,  79.8563837 ,  54.46907709,  73.25154927,\n",
       "        75.33820516,  53.2933108 ,  68.43490774,  80.38537522,\n",
       "        47.91525296,  92.77775051,  59.4584716 ,  77.58785011,\n",
       "        84.49386559,  49.47768486,  79.28649615,  67.50419877,\n",
       "        68.00189898,  76.24748988,  84.68343631,  64.84258998,\n",
       "        90.58896515,  89.0420245 ,  62.95756073,  71.35836184])"
      ]
     },
     "execution_count": 34,
     "metadata": {},
     "output_type": "execute_result"
    }
   ],
   "source": [
    "normal"
   ]
  },
  {
   "cell_type": "code",
   "execution_count": 38,
   "id": "a133446e-5320-4ade-b298-5c35b42a4a73",
   "metadata": {},
   "outputs": [
    {
     "data": {
      "text/plain": [
       "array([114.49527628, 107.75007794,  14.45033555,  20.78473604,\n",
       "        20.33231498])"
      ]
     },
     "execution_count": 38,
     "metadata": {},
     "output_type": "execute_result"
    }
   ],
   "source": [
    "normal[(normal < lower_bound) | (normal > upper_bound)]"
   ]
  },
  {
   "cell_type": "code",
   "execution_count": null,
   "id": "88f059b0-8d5c-47e1-a562-a9d29f3b18f0",
   "metadata": {},
   "outputs": [],
   "source": []
  },
  {
   "cell_type": "code",
   "execution_count": null,
   "id": "c7e3c712-da42-4bf7-aa10-62295e94778b",
   "metadata": {},
   "outputs": [],
   "source": []
  },
  {
   "cell_type": "markdown",
   "id": "de7466de-dea3-46b4-b9ba-68aee0b120b5",
   "metadata": {},
   "source": [
    "### shape of data"
   ]
  },
  {
   "cell_type": "code",
   "execution_count": null,
   "id": "a7de50c6-06f6-4f3a-ada6-56bf46f1ebc9",
   "metadata": {},
   "outputs": [],
   "source": []
  },
  {
   "cell_type": "markdown",
   "id": "9dac0d9e-bd89-48a2-9f43-3ce8ac8b9628",
   "metadata": {},
   "source": [
    "    normal distribution\n",
    "    \n",
    "    uniform distribution"
   ]
  },
  {
   "cell_type": "code",
   "execution_count": null,
   "id": "ec686ed9-9a10-49f8-a1c1-f756d6e89b2d",
   "metadata": {},
   "outputs": [],
   "source": []
  },
  {
   "cell_type": "markdown",
   "id": "27c6bf84-6246-4524-9091-d0c967dd2919",
   "metadata": {},
   "source": [
    "#### normal distribution"
   ]
  },
  {
   "cell_type": "code",
   "execution_count": null,
   "id": "6d6c6968-44aa-4625-adf1-d4b20dedd4f7",
   "metadata": {},
   "outputs": [],
   "source": []
  },
  {
   "cell_type": "code",
   "execution_count": 39,
   "id": "96d07150-f680-4410-933e-5b53266c6f9c",
   "metadata": {},
   "outputs": [
    {
     "data": {
      "text/plain": [
       "array([145.64035526, 154.71627936, 117.75583391, 142.02273702,\n",
       "       117.61163977, 161.03101395, 126.15421342, 169.92949692,\n",
       "       148.07660409, 186.82121407, 129.60399314, 145.90321573,\n",
       "       171.07407874, 133.92895678, 146.6055331 , 143.39388691,\n",
       "       121.08551445, 132.3405701 , 147.82655366, 138.46953947,\n",
       "       165.89104323, 155.54507882, 154.2717596 , 163.09049317,\n",
       "       174.36834095, 149.38164078, 141.3589158 , 123.05314183,\n",
       "       135.0408083 , 133.17523662, 153.74082507, 147.8256464 ,\n",
       "       137.56073248, 130.09106104, 143.51730441, 167.41463187,\n",
       "       138.01053656, 148.18646925, 159.19046106, 155.85038349,\n",
       "       107.13879502, 160.46034107, 117.82661033, 155.07343781,\n",
       "       163.05466516, 116.52319669, 181.43948918, 129.10132601,\n",
       "       163.02268984, 126.74551981, 137.44896021, 138.15238329,\n",
       "       166.34179106, 158.42029257, 130.01362026, 143.52310522,\n",
       "       153.28498269, 164.98823939, 146.55282059, 177.06383584,\n",
       "       175.37578066, 161.7917981 , 149.54103595, 193.17398432,\n",
       "       155.65332452, 143.28375845, 137.11005496, 184.20058266,\n",
       "       162.0724382 , 161.14557594, 124.76883175, 150.63117495,\n",
       "       106.3640848 , 150.25881973, 126.82180085, 150.97889299,\n",
       "       189.79189058, 175.73003637, 193.55425686, 132.96445913,\n",
       "       104.53551155, 129.94948934, 154.89745996, 139.0150476 ,\n",
       "       177.81001503, 146.21846589, 169.13002177, 104.5078954 ,\n",
       "       136.35021105, 141.58002393, 135.37209985, 142.2726961 ,\n",
       "       167.27260363, 166.10584701, 159.49443144, 205.09365137,\n",
       "       166.99868019, 127.01398066, 149.86844498, 153.12251853,\n",
       "       135.10042348, 141.01594706, 155.52553148, 196.56312366,\n",
       "       126.91764884, 107.12417299, 135.47069689, 172.81445544,\n",
       "       151.31462385, 156.22863523, 143.09051951, 158.02180931,\n",
       "       176.42184475, 181.80536713, 147.43679531, 173.57992817,\n",
       "       120.64739755, 205.22932896, 142.69020608, 157.79016833,\n",
       "       149.03514281, 133.64710885, 170.94960606, 116.16442605,\n",
       "       183.51217019, 144.71241349, 189.28167241, 154.87571664,\n",
       "       188.33523842, 160.39542196, 179.74484363, 148.13712789,\n",
       "       139.63543542, 164.36378889, 156.30777578, 152.21630227,\n",
       "       145.53535747, 123.46185486, 124.21183325, 123.28528047,\n",
       "       165.14546436, 148.097903  , 188.34294599, 163.46341515,\n",
       "       210.97227661, 170.28180143, 161.81340147, 164.57697239,\n",
       "       155.48609456, 149.88196023, 156.62634487, 168.48280921,\n",
       "       132.76863374, 185.22050186, 158.34329579, 133.86318367,\n",
       "       151.0204531 , 127.59042825, 156.50048451, 171.76763457,\n",
       "       147.47197033, 182.3106142 , 137.22105648, 124.2223116 ,\n",
       "       140.27104616, 145.31973255, 146.42400222, 139.42959296,\n",
       "       162.14713489, 145.61968874, 118.89467399, 184.61973002,\n",
       "       149.62912027, 159.34405745, 144.05543328, 177.38645704,\n",
       "       144.70254375, 152.78031356, 123.46559789, 120.22527336,\n",
       "       133.9518124 , 164.78700338, 112.39232498, 126.45298518,\n",
       "       142.22526972, 142.93307839, 129.14602222, 182.19414899,\n",
       "       170.98017492, 138.57346827, 169.78742035, 130.68194882,\n",
       "       160.76160213, 111.98994238, 135.78758961, 172.06052234,\n",
       "       144.08006056, 152.90982047, 131.92764503, 176.90335793,\n",
       "       137.09331265, 167.64513256, 126.26916134, 153.69325393,\n",
       "       144.96589136, 164.30979432, 126.58634655, 148.80294294,\n",
       "       153.80013771, 157.92533841, 144.34804644, 153.92530956,\n",
       "       137.75272163, 150.71356252, 142.9001653 , 186.226014  ,\n",
       "       150.45688151, 145.78934441, 146.53200268, 207.91666057,\n",
       "       167.73477897, 113.34246216, 182.01643489, 165.73438117,\n",
       "       134.97468822, 169.07062705, 136.61565754, 147.87997174,\n",
       "       173.39299021, 106.95588085, 156.65528951, 146.16274745,\n",
       "       176.46912507, 130.52735844, 116.31643221, 134.0788039 ,\n",
       "       155.27152568, 146.73978593, 140.1994698 , 157.53148967,\n",
       "       182.38632753, 174.83175001, 137.36779595, 149.84184867,\n",
       "       180.62860491, 163.86979245, 161.72520791, 162.52336202,\n",
       "       157.17489219, 156.13539566, 155.22633542, 152.86477676,\n",
       "       122.96993002, 143.04454754, 135.57863343, 151.80526695,\n",
       "       150.07658823, 150.71515078, 153.91907594, 155.30845664,\n",
       "       139.23143415, 142.26381404, 108.80678464, 172.32625845,\n",
       "       145.97713961, 143.37380587, 158.34164315, 145.12029702,\n",
       "       142.71495303, 165.89989339, 131.97685081, 129.42269832,\n",
       "       163.58593593, 158.08174462, 147.9046727 , 173.35995864,\n",
       "       118.41412801, 162.80266334, 142.5055741 , 117.63848466,\n",
       "       174.06830598, 165.36491711, 173.36570478, 164.08134771,\n",
       "       196.28911525, 148.14378441, 170.75697931, 144.57034027,\n",
       "       152.60517367, 153.03930979, 123.87117581, 164.01878977,\n",
       "       134.46627122, 154.43002487, 190.1827743 , 116.62287128,\n",
       "       124.12775226, 160.11959122, 186.46892461, 190.02891172,\n",
       "       156.17651783, 102.33247957, 148.96388878, 168.40352197,\n",
       "       136.21588374, 156.94977566, 158.12273651, 144.31624566,\n",
       "       147.14645797, 159.3766321 , 169.22753646, 179.5496217 ,\n",
       "       117.91324382, 137.58918241, 176.70461404, 134.90467643,\n",
       "       116.62032717, 186.37750897, 169.47202937, 158.62899842,\n",
       "       148.67176162, 143.15985043, 159.91766562, 163.92457101,\n",
       "       143.48950657, 148.64680095, 125.58468021, 143.62737816,\n",
       "       126.92135221, 160.20033598, 162.33059094, 137.80458088,\n",
       "       116.87992917, 164.41051164, 137.08002988, 185.15402939,\n",
       "       150.44339458, 180.00905168, 147.12658191, 162.85278815,\n",
       "       138.83430148, 134.99792501, 133.06680515, 158.50686895,\n",
       "       135.76305385, 135.47081567, 165.7089857 , 159.66006433,\n",
       "       128.13015303, 137.83028698, 140.33655517, 151.47626723,\n",
       "       163.52382772, 147.43694066, 157.0855508 , 149.67996033,\n",
       "       157.44415164, 161.82050104, 155.04209342, 153.70028873,\n",
       "       126.25034763, 169.05476489, 161.66934129, 114.42439487,\n",
       "       132.85179061, 147.37973981, 151.6320245 , 128.98376813,\n",
       "       137.3307819 , 153.43402355, 157.92021877, 201.6443567 ,\n",
       "       150.11615062, 159.59876047, 164.23388661, 112.0180943 ,\n",
       "       123.74804553, 128.16021565, 169.50071822, 145.48378702,\n",
       "       143.92108954, 169.61218367, 178.10133794, 133.15271735,\n",
       "       161.13065807, 153.19797798, 160.71141959, 153.60114032,\n",
       "       155.71479296, 144.94897547, 174.69772211, 187.36873413,\n",
       "       134.15070439, 176.4774524 , 159.98901072, 174.56408125,\n",
       "       129.12256358, 157.93935323, 158.92243677, 127.80441572,\n",
       "       126.24526083, 163.82957168, 183.4238158 , 130.71754727,\n",
       "       115.85315127, 141.43253383, 131.60458096, 177.1366169 ,\n",
       "       148.8835451 , 146.54914151, 147.48175794, 176.41589459,\n",
       "       124.37209101, 142.35230503, 157.58829022, 139.54343409,\n",
       "       163.11350721, 177.60831697, 160.1156246 , 166.92843452,\n",
       "       148.36294734, 135.25680917, 142.50032817, 166.56136255,\n",
       "       188.33150825, 147.89527154, 134.97236314, 153.24824777,\n",
       "       146.39622966, 189.06268496, 170.16748037, 176.87793484,\n",
       "       140.73707313, 151.63627531, 142.01028737, 147.73267255,\n",
       "       164.85801518, 165.25040642, 144.76296409, 172.52097023,\n",
       "       142.8486347 , 134.41129218, 177.21824614, 134.03636642,\n",
       "       165.51506766, 180.4625435 , 164.37699337, 142.50617937,\n",
       "       165.49381609, 143.58776197, 139.95743423, 143.90335303,\n",
       "       120.61486127, 145.65931445, 116.322876  , 148.57823327,\n",
       "       169.71474097, 123.23203402, 165.54415968, 169.37085035,\n",
       "       152.41568568, 149.46292517, 149.53332452, 133.59725443,\n",
       "       152.67836892, 187.37933053, 138.03149631, 168.47803055,\n",
       "       149.67552048, 153.24452463, 148.84060896, 161.11453086,\n",
       "       158.31673808, 121.20025802, 150.56398772, 162.88132925,\n",
       "       115.8069952 , 154.10169318, 159.02550604, 123.88173555,\n",
       "       159.89750873, 169.72617272, 156.81700032, 149.20416631,\n",
       "       144.04714372, 149.08739152, 140.284525  , 175.88749222,\n",
       "       205.68488656, 149.62745833, 116.43982935, 122.46704076,\n",
       "       162.35963517, 188.08085957, 162.10915207, 159.58957747,\n",
       "       179.95463628, 122.06465202, 157.99385695, 165.76675018,\n",
       "       153.50045005, 123.04240061, 152.2476309 , 161.37929301,\n",
       "       170.87529284, 177.06714829, 149.31991951, 161.71194746,\n",
       "       154.303356  , 125.64338471, 165.25386069, 160.68988986,\n",
       "       101.76655239, 159.99831235, 162.59442843, 117.59306756,\n",
       "       171.40274376, 172.30183735, 178.541497  , 119.3408663 ,\n",
       "       157.54911843, 159.03964148, 136.48085159, 164.22740557,\n",
       "       143.18379526, 140.93258475, 143.7647337 , 155.66464781,\n",
       "       170.77797422, 146.84420258, 156.23716447, 174.9907857 ,\n",
       "       166.99972668, 171.62306125, 165.63826837, 118.49367693,\n",
       "       176.56337125, 172.10204502, 140.54894759, 158.91992643,\n",
       "       126.46168372, 163.11677235, 133.16054683, 198.13714004,\n",
       "       183.33975357, 171.71589948, 138.08406202, 153.32060368,\n",
       "       138.46783701, 148.24804635, 137.74862073, 117.55264909,\n",
       "       148.08186529, 119.06829828, 110.00229745, 172.23744652,\n",
       "       152.14413018, 165.93867834, 172.59594035, 155.55617589,\n",
       "       141.30496789, 172.07015423, 128.41924533, 145.63757094,\n",
       "       126.02442919, 134.80739832, 136.52550979, 129.80688735,\n",
       "       126.6929261 , 176.69995539, 172.71033052, 146.41317773,\n",
       "       132.18147568, 118.98654618, 138.59895538, 158.97984624,\n",
       "       140.40481485, 188.00813045, 134.53514209, 128.60969164,\n",
       "       134.86425943, 156.77745131, 184.11499425, 138.11233359,\n",
       "       145.9005893 , 132.03596267, 179.91965758, 173.23378921,\n",
       "       156.55698308, 113.02396805, 113.7658826 , 170.69572807,\n",
       "       124.75644498, 142.1417676 , 156.8537839 , 159.6136458 ,\n",
       "       189.90743268, 156.6246158 , 137.77902828, 130.49398648,\n",
       "       186.76120683, 156.97828967, 139.62900727, 151.56630244,\n",
       "       164.32991548, 117.31448537, 154.6669722 , 128.0769746 ,\n",
       "       156.37106462, 138.53194957, 161.10115374, 115.49321097,\n",
       "       164.60413403, 175.30681222, 129.73562141, 157.08600093,\n",
       "       116.97531143, 157.58137578, 179.90668673, 144.02172859,\n",
       "       154.68320701, 142.70552596, 159.9415321 , 178.12967281,\n",
       "       125.62676613, 187.25358609, 141.96362917, 135.27166512,\n",
       "       166.49075405, 148.24148859, 177.49546447, 183.6330771 ,\n",
       "       184.03630779, 166.99154234, 169.9362395 , 120.18723522,\n",
       "       136.39120915, 136.18322677, 165.17200597, 165.31293466,\n",
       "       171.2590953 , 173.37396565, 193.96324818, 157.95620009,\n",
       "       138.78093303, 123.4258998 , 135.10080015, 126.47643611,\n",
       "       144.02792526, 164.37729613, 147.36168199, 143.26379891,\n",
       "       152.47448502, 173.56619618, 121.31876039, 193.26142081,\n",
       "       173.30905811, 145.53415686, 129.03858638, 165.4084238 ,\n",
       "       158.30389296, 166.78857468, 131.55857451, 218.73274555,\n",
       "       141.2064081 , 144.66178319, 157.0876365 , 176.43867156,\n",
       "       111.96803335, 149.28192501, 186.71645235, 134.62566567,\n",
       "       121.79285622, 154.40212393, 127.95625491, 152.20421087,\n",
       "       120.36185796, 109.59839025, 124.12444756, 167.01816664,\n",
       "       114.60136358, 123.262447  , 157.84563515, 192.70541358,\n",
       "       101.59311642, 121.07202764, 145.68339023, 183.53982507,\n",
       "       145.93738057, 129.04993235, 127.66184873, 127.41832801,\n",
       "       183.07955182, 191.84806549, 138.67520561, 121.73773337,\n",
       "       133.37053956, 132.66050277, 169.77552257, 131.15572882,\n",
       "       117.56550212, 146.14894357, 145.89727407, 150.73207296,\n",
       "       163.20772553, 131.9401989 , 123.15382247, 154.27277286,\n",
       "       118.62264317, 150.86227941, 201.96832572, 160.52229769,\n",
       "       124.73883501, 191.4295889 , 139.41453589, 157.11900993,\n",
       "       134.37558898, 123.56647895, 124.11623559, 139.91182786,\n",
       "       185.95324844, 177.91050728, 139.25068474, 166.76114069,\n",
       "       133.23799509, 149.96907653, 151.11557549, 154.39192605,\n",
       "       167.50534565, 143.89691946, 166.68185163, 196.97059915,\n",
       "       157.99550935, 166.19049485, 146.44868916, 156.77623438,\n",
       "       149.10561251, 169.37401766, 161.56448125, 141.02716062,\n",
       "       163.35731906, 126.21267247, 172.81100738, 181.93986473,\n",
       "       127.06532599, 164.21982123, 135.21841557, 111.65743478,\n",
       "       128.76159829, 133.04786256, 145.99293117, 130.38084332,\n",
       "       165.74537233, 171.96404541, 120.57027247, 175.70517114,\n",
       "       138.28924059, 146.59309939, 130.73681986, 155.44154273,\n",
       "       121.68611965, 143.59390783, 152.87568713, 127.89127432,\n",
       "       150.66310715, 168.66310363, 184.02593144, 162.65461793,\n",
       "       151.55634119, 148.83688168, 145.74768623, 141.01357042,\n",
       "       174.14262504, 146.38829369, 166.80396481, 146.35755245,\n",
       "       170.49094755, 157.29883061, 172.88729041, 134.3428312 ,\n",
       "       165.80789443, 140.13410301, 130.69162149, 161.26431604,\n",
       "       117.38799688, 169.12216693, 171.36231207, 137.05319556,\n",
       "       121.46471777, 137.34786972, 138.8286799 , 182.56975202,\n",
       "       135.40202527, 157.01541594, 147.43948748, 131.42079032,\n",
       "       165.64129391, 170.57391464, 190.04156678, 105.28791043,\n",
       "       172.485829  , 176.06587416, 151.724713  , 147.13114537,\n",
       "       151.93775193, 128.6277915 , 144.92372695, 156.83365319,\n",
       "       150.80582545, 139.27538163, 163.64695913, 163.14128501,\n",
       "       110.22972878, 160.04527998, 153.16902522, 139.68802413,\n",
       "       119.32436205, 141.95203447, 127.46601382, 126.79643943,\n",
       "       151.89185787, 145.32697257, 123.81710382, 135.72055977,\n",
       "       149.65316491, 154.26875938, 152.93270019, 167.41233046,\n",
       "       160.77079223, 148.48305423, 159.93771049, 139.46182798,\n",
       "       168.05523825, 177.75235379, 175.91498669, 139.30844333,\n",
       "       134.39775656, 137.00888694, 134.59157568, 152.91000676,\n",
       "       170.96738236, 128.05069577, 155.28028522, 148.7386358 ,\n",
       "       155.33442439, 129.91665133, 136.11960136, 132.43202672,\n",
       "       164.14262958, 169.98668118, 158.45153623, 151.40993272,\n",
       "       189.14779827, 133.62466238, 152.72178414, 170.40734897,\n",
       "       127.01558137, 142.46789455, 152.76382719, 173.8830825 ,\n",
       "       145.0307068 , 157.79420137, 134.63401697, 127.4588814 ,\n",
       "       147.8994867 , 153.07694892, 130.44709362, 134.55142909,\n",
       "       145.91779389, 158.118323  , 183.051087  , 183.20883027,\n",
       "       149.43670331, 144.58191128, 164.06137261, 130.97864507,\n",
       "       161.0805236 , 176.03627452, 145.49551796, 114.35220901,\n",
       "       159.25004502, 139.57105538, 149.03201599, 152.20532549,\n",
       "       151.1886111 , 149.03896962, 137.06972123, 129.56810468,\n",
       "       102.67366055, 136.72613315, 197.61744956, 161.25795695,\n",
       "       154.06499573, 164.2044205 , 148.95569436, 143.44999841,\n",
       "       133.442359  , 117.18168473, 110.17242794, 133.78923314,\n",
       "       139.87743391, 161.60734031, 168.51725654, 137.19304522,\n",
       "       158.71344345, 156.86053869, 166.43104911, 137.29205854,\n",
       "       152.45260347, 113.40283183, 132.20793765, 164.38571587,\n",
       "       150.01496078, 135.49086811, 173.79743144, 171.82879912,\n",
       "       166.6374178 , 151.46135342, 149.43816195, 143.83126328,\n",
       "       136.82744108, 154.90715704, 135.37234123, 126.49162911,\n",
       "       126.97458915, 130.04255447, 135.74035289, 164.59461012,\n",
       "       163.18743601, 165.03100315, 174.84445071, 117.84627885,\n",
       "       138.02456578,  93.92500192, 159.97541829, 176.03756993,\n",
       "       166.652919  , 122.360415  , 177.26786106, 162.38097739,\n",
       "       141.83172926, 142.55845974, 137.76282997, 155.45413872,\n",
       "       120.28210728, 153.25054088, 105.65122781, 151.48755652,\n",
       "       177.62307955, 151.53595899, 180.61051934, 140.32412205,\n",
       "       130.45207001, 174.45089811, 135.03073045, 181.71369084,\n",
       "       186.44189015, 175.80347551, 136.39862104, 160.1721622 ,\n",
       "       125.43451079, 164.47070898, 150.27720866, 119.38547942,\n",
       "       139.76149967, 160.29981504, 115.57451733, 157.02738086,\n",
       "       165.94796588, 162.57250688, 176.75879482, 151.54235569,\n",
       "       137.06070745, 159.52982484, 170.23253217, 144.55422472,\n",
       "       155.25357865, 202.07621513, 167.30999882, 152.27154685,\n",
       "       142.88617416, 134.18123659, 163.68229979, 151.45996676,\n",
       "       123.9962098 , 145.41436313, 138.64006383, 145.1403551 ,\n",
       "       183.66184066, 131.21208882, 145.99148911, 113.78045269,\n",
       "       154.30093545, 135.69425993, 161.89753732, 137.52708619,\n",
       "       133.09938438, 111.14241872, 113.23516362, 174.09636584])"
      ]
     },
     "execution_count": 39,
     "metadata": {},
     "output_type": "execute_result"
    }
   ],
   "source": [
    "normal = np.random.normal(150, 20, 1000)\n",
    "normal"
   ]
  },
  {
   "cell_type": "code",
   "execution_count": null,
   "id": "842d63d0-b9fe-4016-8464-7f09ba5968ce",
   "metadata": {},
   "outputs": [],
   "source": []
  },
  {
   "cell_type": "code",
   "execution_count": 41,
   "id": "96cac1e5-5d4e-4cde-b8fe-d02397146ad5",
   "metadata": {},
   "outputs": [
    {
     "data": {
      "image/png": "[encoded data removed]",
      "text/plain": [
       "<Figure size 768x576 with 1 Axes>"
      ]
     },
     "metadata": {},
     "output_type": "display_data"
    }
   ],
   "source": [
    "plt.figure(dpi=120)\n",
    "plt.hist(normal, bins=30, ec='y')\n",
    "plt.show()"
   ]
  },
  {
   "cell_type": "code",
   "execution_count": null,
   "id": "d2176c4f-61e4-41ea-a4c0-3e17f4bb9799",
   "metadata": {},
   "outputs": [],
   "source": []
  },
  {
   "cell_type": "code",
   "execution_count": 42,
   "id": "5f754b96-a360-40a3-ae2e-f629840249d9",
   "metadata": {},
   "outputs": [
    {
     "data": {
      "text/plain": [
       "150.54840294488932"
      ]
     },
     "execution_count": 42,
     "metadata": {},
     "output_type": "execute_result"
    }
   ],
   "source": [
    "np.mean(normal)"
   ]
  },
  {
   "cell_type": "code",
   "execution_count": 43,
   "id": "4d70ab95-fb78-471a-800e-dc6a585cb9b1",
   "metadata": {},
   "outputs": [
    {
     "data": {
      "text/plain": [
       "20.187152141280837"
      ]
     },
     "execution_count": 43,
     "metadata": {},
     "output_type": "execute_result"
    }
   ],
   "source": [
    "np.std(normal)"
   ]
  },
  {
   "cell_type": "code",
   "execution_count": 44,
   "id": "2104f4a0-bf74-47e3-a855-194fa779e67e",
   "metadata": {},
   "outputs": [
    {
     "data": {
      "text/plain": [
       "150.3603016197466"
      ]
     },
     "execution_count": 44,
     "metadata": {},
     "output_type": "execute_result"
    }
   ],
   "source": [
    "np.median(normal)"
   ]
  },
  {
   "cell_type": "code",
   "execution_count": null,
   "id": "a45a8a52-eb3a-426d-8c13-1b58b78ff16c",
   "metadata": {},
   "outputs": [],
   "source": []
  },
  {
   "cell_type": "code",
   "execution_count": 46,
   "id": "7db47757-0ed3-4204-a513-d0a4166984b3",
   "metadata": {},
   "outputs": [
    {
     "data": {
      "text/plain": [
       "array([407.83536612, 116.17282814, 321.4301915 , 198.66678953,\n",
       "       233.59194619, 313.87667244, 481.56983105, 125.28513445,\n",
       "       206.48448556, 381.76336541, 268.70916284, 397.99269105,\n",
       "       352.79563   , 121.49874714, 194.84384095, 104.47183249,\n",
       "       361.31681317, 176.84205321, 328.28262174, 108.79644932,\n",
       "       287.73305613, 249.91059351, 366.24591627, 286.99275818,\n",
       "       370.49279795, 460.14945437, 435.26008388, 468.14644655,\n",
       "       248.94057663, 304.0841828 , 302.14187279, 443.9345026 ,\n",
       "       364.84970007, 186.21535093, 426.44436627, 318.091068  ,\n",
       "       454.02309957, 441.15935983, 355.56899656, 286.05201108,\n",
       "       151.125786  , 380.40904787, 459.06726554, 141.3665814 ,\n",
       "       384.31926403, 112.76041526, 443.22893923, 191.06660215,\n",
       "       136.45735934, 459.75892104, 410.03146693, 356.20071951,\n",
       "       446.29677973, 265.9153287 , 154.66639191, 340.09412922,\n",
       "       280.25366812, 192.3357012 , 202.69353796, 352.90294395,\n",
       "       373.91245555, 339.03876623, 109.69587233, 351.88322146,\n",
       "       325.19331525, 232.73429744, 347.2819519 , 277.4252917 ,\n",
       "       448.97639961, 417.91171788, 429.22195081, 293.88372653,\n",
       "       497.68551488, 436.36872311, 154.90112764, 151.55519895,\n",
       "       113.66928019, 237.70936782, 278.65813962, 379.31034734,\n",
       "       254.77178586, 251.45461878, 381.64183533, 240.34767988,\n",
       "       406.1083272 , 482.44561882, 454.91277342, 192.7842796 ,\n",
       "       342.02039699, 383.20315826, 110.3799549 , 224.17520763,\n",
       "       165.37958068, 477.11986771, 436.86889449, 387.20226371,\n",
       "       137.72153472, 434.1214622 , 452.41008915, 416.73954142,\n",
       "       104.16292999, 321.76221482, 128.38190464, 402.90738377,\n",
       "       101.08379496, 262.3672925 , 474.03391038, 391.47066396,\n",
       "       174.78159698, 276.5939727 , 141.21326636, 462.81663914,\n",
       "       133.07858094, 411.20383988, 298.94538416, 257.80634928,\n",
       "       495.21740367, 201.7063384 , 405.62516483, 408.56274737,\n",
       "       373.06983335, 108.32313805, 272.27169649, 202.97832841,\n",
       "       155.68330702, 451.52219565, 111.27991009, 434.76096395,\n",
       "       352.24565821, 181.01795334, 208.02465265, 137.57816577,\n",
       "       491.27842953, 194.16774363, 351.68825675, 425.66612395,\n",
       "       290.08442407, 102.30084472, 458.5080403 , 471.13532671,\n",
       "       459.529871  , 363.66573422, 337.71765074, 484.18019429,\n",
       "       390.80083002, 477.48406178, 272.21299392, 418.09647653,\n",
       "       234.33799863, 167.64197104, 427.61563733, 339.15730269,\n",
       "       443.23320349, 142.98051093, 312.61427392, 272.02575078,\n",
       "       335.96651179, 346.88710443, 442.06219114, 397.02451179,\n",
       "       212.43579484, 301.57819181, 190.05418421, 331.57613867,\n",
       "       371.22103466, 334.48377424, 446.05375565, 419.13255787,\n",
       "       441.68143892, 187.49834531, 370.4193472 , 170.39726536,\n",
       "       340.92602002, 353.92438561, 312.24662847, 181.17197574,\n",
       "       427.79849079, 410.98731424, 454.87591848, 358.65284696,\n",
       "       394.11568401, 272.12449242, 132.13079628, 156.15022091,\n",
       "       411.14311917, 459.65811392, 458.31041038, 286.74258438,\n",
       "       444.17477232, 423.92263544, 203.24717909, 350.78561714,\n",
       "       235.4334218 , 481.02765448, 121.32351989, 479.05273467,\n",
       "       443.57982843, 342.66472648, 168.58444305, 403.65697653,\n",
       "       403.85282418, 461.3328636 , 220.44505518, 114.40360763,\n",
       "       180.46012581, 152.77416606, 263.29145513, 360.96633283,\n",
       "       233.45734256, 318.99937381, 394.16091652, 145.20246087,\n",
       "       489.37777322, 215.03005872, 435.65041224, 400.77287419,\n",
       "       145.28382645, 445.20433312, 352.03771379, 374.90096468,\n",
       "       269.8018425 , 134.2478588 , 292.59934119, 154.36465444,\n",
       "       439.18880469, 120.55693331, 272.2079552 , 100.94418109,\n",
       "       258.46200032, 352.28190394, 159.07929547, 268.58646284,\n",
       "       165.72387388, 101.93217703, 170.15100547, 149.07604637,\n",
       "       458.42523441, 156.40541632, 236.33555034, 130.61574743,\n",
       "       412.76979736, 276.09854704, 247.48273394, 174.7851195 ,\n",
       "       115.11328231, 243.88657313, 134.17564834, 326.98012751,\n",
       "       397.1468453 , 437.86192638, 121.4611323 , 483.41282211,\n",
       "       316.86441444, 217.53352407, 130.17136647, 316.9246276 ,\n",
       "       130.79531527, 207.87286466, 385.7766241 , 462.51687789,\n",
       "       278.45520717, 460.79308238, 195.54977719, 335.44480218,\n",
       "       449.44844224, 416.66564123, 418.36436608, 164.3177576 ,\n",
       "       206.06011091, 497.29250126, 454.9766823 , 232.72500682,\n",
       "       493.63482951, 247.03818795, 201.07592009, 219.92452776,\n",
       "       179.20197302, 216.96161022, 491.61732687, 226.08979197,\n",
       "       403.19485987, 359.47639823, 295.93225438, 279.21431351,\n",
       "       188.35401023, 317.77240118, 298.98711557, 114.94732355,\n",
       "       302.29917867, 356.52288558, 377.4920335 , 159.15462216,\n",
       "       115.19701163, 120.70861999, 442.54262328, 242.701817  ,\n",
       "       390.5874646 , 146.06418421, 287.64164488, 363.2384658 ,\n",
       "       134.42354419, 451.95042034, 228.81898496, 405.32366478,\n",
       "       164.28230216, 169.09420344, 257.39294405, 356.65238054,\n",
       "       290.26463167, 203.37416926, 261.45564298, 359.76452823,\n",
       "       369.43992046, 283.00445665, 185.06974319, 305.29625454,\n",
       "       341.09350167, 273.21229773, 420.52326888, 310.53871336,\n",
       "       153.47360297, 164.13739664, 338.30368439, 381.2549103 ,\n",
       "       234.70073092, 386.12527082, 466.98994271, 170.47599196,\n",
       "       481.51857679, 343.63178541, 302.25820838, 154.37134344,\n",
       "       148.26127065, 258.50447296, 128.35483215, 268.02743514,\n",
       "       226.29759166, 247.65548653, 380.23355813, 280.43359399,\n",
       "       365.92701389, 341.90551419, 350.94464274, 132.48090561,\n",
       "       179.31709827, 188.04772511, 362.05869049, 441.47863067,\n",
       "       369.18943729, 130.07648566, 477.30793404, 144.15206462,\n",
       "       316.1109992 , 478.09495448, 161.80826135, 475.76811935,\n",
       "       237.99346925, 173.88006718, 411.60711226, 263.34852858,\n",
       "       309.38239799, 384.50337413, 384.44178168, 203.55325076,\n",
       "       452.72663837, 296.46874089, 130.81633979, 478.93307232,\n",
       "       479.26056728, 279.74114856, 174.5847857 , 131.89635111,\n",
       "       185.30694715, 377.47908473, 357.28420826, 310.17962332,\n",
       "       323.12675632, 362.4721592 , 303.81410546, 289.68896333,\n",
       "       200.19149335, 442.26954403, 302.73082298, 199.67329395,\n",
       "       424.70415248, 218.64134009, 452.38869329, 459.7125362 ,\n",
       "       457.14470005, 233.48826673, 368.87436226, 121.71264335,\n",
       "       147.18873498, 421.79684949, 329.31686239, 473.11854525,\n",
       "       122.21716363, 167.28901512, 294.400722  , 163.44224472,\n",
       "       406.36302893, 144.51571658, 238.91978274, 389.58267305,\n",
       "       201.78309876, 203.98826189, 177.95668092, 150.13534659,\n",
       "       441.11970329, 102.54896309, 141.04170362, 126.26294292,\n",
       "       497.61486071, 475.63131562, 235.55281555, 234.27226949,\n",
       "       126.33587728, 246.07292372, 492.4975674 , 321.72930209,\n",
       "       255.23826296, 348.50816538, 119.05080983, 390.16348048,\n",
       "       272.96553284, 498.83154198, 298.64923113, 141.72358589,\n",
       "       443.23729342, 341.14953191, 402.12446802, 231.48818082,\n",
       "       294.04275633, 284.34906681, 471.14419851, 403.30915081,\n",
       "       404.67088651, 145.03895834, 229.0427789 , 456.33093631,\n",
       "       469.05710685, 148.65622411, 434.29645919, 104.12056051,\n",
       "       395.15625683, 378.15557092, 297.41882395, 108.81537221,\n",
       "       422.06275949, 431.41103636, 438.73914512, 198.23086165,\n",
       "       185.95743175, 178.73384586, 319.13725656, 352.77938274,\n",
       "       317.60311702, 227.23390198, 333.69136766, 379.66283364,\n",
       "       298.87450003, 323.91144704, 402.15472232, 109.83727986,\n",
       "       339.41830249, 370.44927572, 332.17009494, 318.47828279,\n",
       "       423.11174449, 331.62142826, 267.95079766, 392.86193858,\n",
       "       292.77131957, 454.44862769, 182.93781524, 127.5207966 ,\n",
       "       488.42477081, 311.34954854, 465.30830026, 409.69774675,\n",
       "       441.79835949, 133.79887515, 208.54744316, 480.078521  ,\n",
       "       219.04190507, 123.79584068, 394.5110432 , 481.5002121 ,\n",
       "       107.18426942, 434.76939684, 462.58770319, 377.76834768,\n",
       "       376.62124612, 108.38254119, 301.06084665, 274.35190877,\n",
       "       152.74223605, 457.02743519, 412.82445312, 456.88502282,\n",
       "       137.12421651, 119.54774866, 188.45722422, 201.82300727,\n",
       "       341.31063762, 183.60004543, 330.02423769, 211.94497583,\n",
       "       196.54158694, 124.30643674, 420.91887329, 430.02364937,\n",
       "       469.10907986, 117.72626047, 163.46835969, 267.50573657,\n",
       "       279.12795788, 168.5949876 , 267.46289954, 236.29075801,\n",
       "       277.08806457, 231.74731152, 429.14097817, 433.56431231,\n",
       "       465.2188772 , 314.94736885, 110.67628616, 414.44035896,\n",
       "       196.11057476, 499.97073337, 114.80177342, 335.23780755,\n",
       "       410.42011338, 131.89032435, 471.38701733, 453.85785513,\n",
       "       123.89086886, 461.26952609, 477.53733787, 252.59477293,\n",
       "       106.06024284, 403.92129018, 415.80952044, 112.6910503 ,\n",
       "       400.95275658, 233.31142865, 314.59552117, 145.9645474 ,\n",
       "       125.26244891, 337.49049711, 176.7877676 , 358.5152848 ,\n",
       "       311.87853677, 276.23602196, 226.38454244, 364.53537435,\n",
       "       112.99794512, 382.51545938, 371.87864452, 353.00519656,\n",
       "       134.84864765, 282.42180709, 396.68282599, 401.27994999,\n",
       "       359.2752326 , 346.95764714, 177.93535467, 145.67435455,\n",
       "       466.24139856, 379.63479531, 214.70635831, 483.7550208 ,\n",
       "       134.53475361, 260.34623552, 227.80087801, 101.96287241,\n",
       "       167.84034871, 365.96429495, 213.24560771, 370.53821669,\n",
       "       358.62597058, 484.49973261, 218.65170358, 325.85320011,\n",
       "       196.93857804, 390.8301834 , 253.50848368, 246.95260916,\n",
       "       209.27688562, 129.29772207, 277.6656336 , 315.87856205,\n",
       "       195.10544603, 484.76412718, 382.56992543, 401.49117936,\n",
       "       228.3281521 , 183.92309114, 426.72398873, 306.77710309,\n",
       "       252.73273076, 210.46026975, 248.73027891, 454.39379411,\n",
       "       203.57229153, 395.32843943, 242.66505228, 449.6702825 ,\n",
       "       210.66558161, 479.96858497, 359.37125233, 422.44602495,\n",
       "       464.13721517, 154.79086547, 294.08501597, 443.6069853 ,\n",
       "       333.34871544, 445.08777244, 196.90143357, 492.67254489,\n",
       "       224.70450328, 224.85127138, 179.84472152, 268.65342763,\n",
       "       161.42166248, 271.56407521, 247.87353833, 449.85929963,\n",
       "       123.02102605, 158.65945519, 139.04567036, 365.77485502,\n",
       "       467.9978481 , 421.29742172, 278.00096068, 391.49389528,\n",
       "       261.59562208, 310.97213357, 214.820887  , 325.36858824,\n",
       "       453.87000516, 489.43149727, 329.35243607, 400.26063878,\n",
       "       129.35644505, 265.84688072, 440.9354965 , 167.51168136,\n",
       "       384.46130747, 346.26418467, 129.21180667, 210.00908521,\n",
       "       366.04054823, 334.53804157, 130.34762871, 184.82815549,\n",
       "       311.9006385 , 181.1555611 , 162.61487467, 123.20663506,\n",
       "       411.43394008, 314.81093228, 353.77701453, 222.65449092,\n",
       "       323.8622458 , 258.29897623, 217.33871154, 458.31231606,\n",
       "       149.68231702, 341.0983124 , 313.17089493, 215.88180762,\n",
       "       230.40830705, 422.0556593 , 408.69359196, 347.22151001,\n",
       "       261.15395358, 293.67253644, 482.42510549, 473.26387449,\n",
       "       487.2267698 , 390.98475144, 246.74837386, 265.96554817,\n",
       "       199.13845635, 399.55795196, 436.62000525, 486.07074608,\n",
       "       320.70872223, 431.71361206, 268.43998579, 320.60896011,\n",
       "       482.87667016, 208.75335068, 141.06073377, 496.66008461,\n",
       "       185.35005603, 434.30440654, 148.76585513, 182.46531544,\n",
       "       265.11942978, 402.03059274, 209.96165268, 180.64927769,\n",
       "       378.43644301, 222.39375227, 302.73204409, 485.53666676,\n",
       "       187.44475478, 128.34852505, 343.23532455, 151.09372963,\n",
       "       232.92179053, 364.59055365, 403.32393407, 208.84193505,\n",
       "       409.54182585, 448.47947703, 287.78476488, 424.73173117,\n",
       "       489.6857313 , 160.65090781, 394.69206037, 408.21657027,\n",
       "       275.15174865, 373.38544022, 495.11117144, 120.88213658,\n",
       "       479.34768422, 185.53751542, 459.34285739, 274.64999597,\n",
       "       386.48627248, 235.33680621, 444.74371531, 104.25402213,\n",
       "       310.0714479 , 198.98151002, 374.1341477 , 471.575944  ,\n",
       "       439.83021517, 252.37901189, 280.10017526, 257.14378055,\n",
       "       439.34836704, 260.38609838, 117.99519799, 431.32409331,\n",
       "       168.65962574, 184.00921824, 229.62071477, 496.90589643,\n",
       "       319.55280887, 185.5043708 , 385.01604632, 327.990432  ,\n",
       "       144.03424411, 499.70604705, 306.85465449, 447.32469377,\n",
       "       123.40127231, 474.1097899 , 173.36469951, 118.48641891,\n",
       "       282.824037  , 467.6348312 , 348.87548244, 142.62425879,\n",
       "       369.73583378, 467.04688813, 249.96110598, 132.54915214,\n",
       "       289.43784314, 141.53310733, 466.45206277, 204.70698897,\n",
       "       262.73917549, 228.77045475, 196.27024437, 188.52649055,\n",
       "       495.80906123, 429.90356976, 327.38019078, 275.28150808,\n",
       "       458.79645797, 127.58277027, 256.1044446 , 155.83467114,\n",
       "       349.68497481, 312.27158929, 179.24729028, 418.5526898 ,\n",
       "       113.6230514 , 171.32329578, 339.65830599, 352.47032905,\n",
       "       397.83276065, 255.63648826, 250.00782279, 202.1149257 ,\n",
       "       107.34521459, 447.94096587, 165.90212654, 348.95422248,\n",
       "       439.84959268, 142.68454181, 264.4249134 , 259.61518895,\n",
       "       102.61576138, 257.10917487, 171.10197848, 492.47431031,\n",
       "       104.65826286, 481.93487894, 359.85829403, 284.84617662,\n",
       "       213.90853677, 334.52273422, 428.5249532 , 207.50301178,\n",
       "       177.68686744, 207.23768421, 142.22799305, 381.28915718,\n",
       "       407.51779129, 389.46145983, 292.79223171, 243.15213668,\n",
       "       172.19349092, 192.88236712, 278.31352123, 270.80983402,\n",
       "       325.11896319, 345.21527573, 129.59676941, 371.26903557,\n",
       "       254.57816528, 123.64488952, 229.13515642, 115.86823639,\n",
       "       114.32942944, 175.32378287, 199.01441869, 348.22280459,\n",
       "       402.02416981, 438.06891083, 133.47501508, 220.76244375,\n",
       "       459.51607493, 420.61364344, 122.26140755, 443.78653959,\n",
       "       390.5886469 , 293.12839727, 146.28642227, 306.99850421,\n",
       "       196.67616461, 216.64317164, 141.51479199, 430.94861472,\n",
       "       349.58705618, 401.03038055, 103.50484769, 122.22056937,\n",
       "       343.82058378, 400.22791447, 439.99943606, 451.3663611 ,\n",
       "       394.83720659, 268.14568662, 459.26312218, 373.46518435,\n",
       "       192.86831536, 226.068105  , 448.84877871, 120.21999934,\n",
       "       248.96987513, 199.06654322, 439.3598841 , 232.77310594,\n",
       "       158.95813389, 276.30942428, 251.72001922, 265.37587642,\n",
       "       209.66187255, 494.38501815, 368.35089365, 373.53360537,\n",
       "       357.8524446 , 356.31072212, 133.30127854, 467.83700122,\n",
       "       441.87960007, 333.30809901, 177.12685024, 342.53544416,\n",
       "       366.87586693, 199.47701509, 159.17259868, 256.08900338,\n",
       "       425.00878472, 337.68120998, 255.17470843, 300.01699082,\n",
       "       218.00825364, 237.72143434, 388.77319372, 498.23950254,\n",
       "       112.36553486, 196.1936738 , 425.23703723, 485.78857568,\n",
       "       132.14767863, 237.93457912, 187.15403861, 207.15263481,\n",
       "       149.34477942, 392.4445824 , 138.18894744, 179.61025781,\n",
       "       247.34889188, 380.10867341, 434.0877504 , 293.00496183,\n",
       "       429.7363817 , 408.27816811, 212.63588992, 480.31212733,\n",
       "       322.72161814, 482.76513628, 153.37466444, 277.57911638,\n",
       "       274.99306716, 152.40855609, 134.40255031, 221.0901807 ,\n",
       "       136.05236812, 264.23735269, 200.93741036, 203.9017167 ,\n",
       "       116.87090976, 316.37660489, 495.47242928, 175.86168782,\n",
       "       499.95990342, 264.74512343, 352.87471201, 414.11925008,\n",
       "       103.74428026, 146.1871313 , 146.72659826, 275.81504259,\n",
       "       477.04214294, 105.75126191, 192.81376798, 482.1014793 ,\n",
       "       251.23561217, 240.64911447, 165.19523916, 297.34783033,\n",
       "       256.77423874, 444.07839402, 480.72357705, 469.62948664,\n",
       "       430.28240779, 474.82065051, 286.63032246, 342.82900348,\n",
       "       456.82393255, 351.3265387 , 406.23012491, 376.18971378,\n",
       "       479.15628391, 297.76155503, 437.83876807, 412.14446127,\n",
       "       465.6628818 , 354.77456381, 265.34157809, 345.00976037,\n",
       "       373.19245822, 358.06842025, 489.09748402, 249.8204093 ,\n",
       "       437.31144625, 118.41297787, 433.18441737, 421.71484263,\n",
       "       280.94392181, 186.1383191 , 257.38267032, 337.57485735,\n",
       "       116.5345555 , 394.4863081 , 275.88273603, 369.68472451,\n",
       "       231.31468257, 232.76443754, 119.81892895, 441.12462285])"
      ]
     },
     "execution_count": 46,
     "metadata": {},
     "output_type": "execute_result"
    }
   ],
   "source": [
    "uniform = np.random.uniform(100, 500, 1000)\n",
    "uniform"
   ]
  },
  {
   "cell_type": "code",
   "execution_count": null,
   "id": "e2223d1f-874a-4fb4-8b22-599fafeaf48a",
   "metadata": {},
   "outputs": [],
   "source": []
  },
  {
   "cell_type": "code",
   "execution_count": 47,
   "id": "44972b42-42ae-44f8-90d2-6899349ad505",
   "metadata": {},
   "outputs": [
    {
     "data": {
      "image/png": "[encoded data removed]",
      "text/plain": [
       "<Figure size 768x576 with 1 Axes>"
      ]
     },
     "metadata": {},
     "output_type": "display_data"
    }
   ],
   "source": [
    "plt.figure(dpi=120)\n",
    "plt.hist(uniform, bins=30, ec='y')\n",
    "plt.show()"
   ]
  },
  {
   "cell_type": "code",
   "execution_count": null,
   "id": "40ff7b3f-391f-4818-90c7-37ddd0a562f2",
   "metadata": {},
   "outputs": [],
   "source": []
  },
  {
   "cell_type": "code",
   "execution_count": null,
   "id": "6cc6bf4b-8853-48b8-b8a8-d14a9c3bfb18",
   "metadata": {},
   "outputs": [],
   "source": []
  },
  {
   "cell_type": "code",
   "execution_count": 48,
   "id": "b7ac0149-e3ab-49b4-b59f-6d9d08388e66",
   "metadata": {},
   "outputs": [
    {
     "data": {
      "image/png": "[encoded data removed]",
      "text/plain": [
       "<Figure size 768x576 with 1 Axes>"
      ]
     },
     "metadata": {},
     "output_type": "display_data"
    }
   ],
   "source": [
    "plt.figure(dpi=120)\n",
    "plt.hist(normal, bins=30, ec='y')\n",
    "plt.show()"
   ]
  },
  {
   "cell_type": "markdown",
   "id": "48c67a01-e1d5-4a9d-b498-38acbce03fa1",
   "metadata": {},
   "source": [
    "#### skewness\n",
    "\n",
    "                1. left skewness         --> mean < median\n",
    "                2. right skewness        -->  mean > median\n",
    "\n",
    "                    no skewness     -->  mean == median"
   ]
  },
  {
   "cell_type": "code",
   "execution_count": null,
   "id": "216e6661-1ee9-4334-b423-0bf06c5df961",
   "metadata": {},
   "outputs": [],
   "source": []
  },
  {
   "cell_type": "code",
   "execution_count": 49,
   "id": "a2cbd26f-dc51-4ac4-83f7-2c2b7e55219e",
   "metadata": {},
   "outputs": [
    {
     "data": {
      "text/plain": [
       "array([145.64035526, 154.71627936, 117.75583391, 142.02273702,\n",
       "       117.61163977, 161.03101395, 126.15421342, 169.92949692,\n",
       "       148.07660409, 186.82121407, 129.60399314, 145.90321573,\n",
       "       171.07407874, 133.92895678, 146.6055331 , 143.39388691,\n",
       "       121.08551445, 132.3405701 , 147.82655366, 138.46953947,\n",
       "       165.89104323, 155.54507882, 154.2717596 , 163.09049317,\n",
       "       174.36834095, 149.38164078, 141.3589158 , 123.05314183,\n",
       "       135.0408083 , 133.17523662, 153.74082507, 147.8256464 ,\n",
       "       137.56073248, 130.09106104, 143.51730441, 167.41463187,\n",
       "       138.01053656, 148.18646925, 159.19046106, 155.85038349,\n",
       "       107.13879502, 160.46034107, 117.82661033, 155.07343781,\n",
       "       163.05466516, 116.52319669, 181.43948918, 129.10132601,\n",
       "       163.02268984, 126.74551981, 137.44896021, 138.15238329,\n",
       "       166.34179106, 158.42029257, 130.01362026, 143.52310522,\n",
       "       153.28498269, 164.98823939, 146.55282059, 177.06383584,\n",
       "       175.37578066, 161.7917981 , 149.54103595, 193.17398432,\n",
       "       155.65332452, 143.28375845, 137.11005496, 184.20058266,\n",
       "       162.0724382 , 161.14557594, 124.76883175, 150.63117495,\n",
       "       106.3640848 , 150.25881973, 126.82180085, 150.97889299,\n",
       "       189.79189058, 175.73003637, 193.55425686, 132.96445913,\n",
       "       104.53551155, 129.94948934, 154.89745996, 139.0150476 ,\n",
       "       177.81001503, 146.21846589, 169.13002177, 104.5078954 ,\n",
       "       136.35021105, 141.58002393, 135.37209985, 142.2726961 ,\n",
       "       167.27260363, 166.10584701, 159.49443144, 205.09365137,\n",
       "       166.99868019, 127.01398066, 149.86844498, 153.12251853,\n",
       "       135.10042348, 141.01594706, 155.52553148, 196.56312366,\n",
       "       126.91764884, 107.12417299, 135.47069689, 172.81445544,\n",
       "       151.31462385, 156.22863523, 143.09051951, 158.02180931,\n",
       "       176.42184475, 181.80536713, 147.43679531, 173.57992817,\n",
       "       120.64739755, 205.22932896, 142.69020608, 157.79016833,\n",
       "       149.03514281, 133.64710885, 170.94960606, 116.16442605,\n",
       "       183.51217019, 144.71241349, 189.28167241, 154.87571664,\n",
       "       188.33523842, 160.39542196, 179.74484363, 148.13712789,\n",
       "       139.63543542, 164.36378889, 156.30777578, 152.21630227,\n",
       "       145.53535747, 123.46185486, 124.21183325, 123.28528047,\n",
       "       165.14546436, 148.097903  , 188.34294599, 163.46341515,\n",
       "       210.97227661, 170.28180143, 161.81340147, 164.57697239,\n",
       "       155.48609456, 149.88196023, 156.62634487, 168.48280921,\n",
       "       132.76863374, 185.22050186, 158.34329579, 133.86318367,\n",
       "       151.0204531 , 127.59042825, 156.50048451, 171.76763457,\n",
       "       147.47197033, 182.3106142 , 137.22105648, 124.2223116 ,\n",
       "       140.27104616, 145.31973255, 146.42400222, 139.42959296,\n",
       "       162.14713489, 145.61968874, 118.89467399, 184.61973002,\n",
       "       149.62912027, 159.34405745, 144.05543328, 177.38645704,\n",
       "       144.70254375, 152.78031356, 123.46559789, 120.22527336,\n",
       "       133.9518124 , 164.78700338, 112.39232498, 126.45298518,\n",
       "       142.22526972, 142.93307839, 129.14602222, 182.19414899,\n",
       "       170.98017492, 138.57346827, 169.78742035, 130.68194882,\n",
       "       160.76160213, 111.98994238, 135.78758961, 172.06052234,\n",
       "       144.08006056, 152.90982047, 131.92764503, 176.90335793,\n",
       "       137.09331265, 167.64513256, 126.26916134, 153.69325393,\n",
       "       144.96589136, 164.30979432, 126.58634655, 148.80294294,\n",
       "       153.80013771, 157.92533841, 144.34804644, 153.92530956,\n",
       "       137.75272163, 150.71356252, 142.9001653 , 186.226014  ,\n",
       "       150.45688151, 145.78934441, 146.53200268, 207.91666057,\n",
       "       167.73477897, 113.34246216, 182.01643489, 165.73438117,\n",
       "       134.97468822, 169.07062705, 136.61565754, 147.87997174,\n",
       "       173.39299021, 106.95588085, 156.65528951, 146.16274745,\n",
       "       176.46912507, 130.52735844, 116.31643221, 134.0788039 ,\n",
       "       155.27152568, 146.73978593, 140.1994698 , 157.53148967,\n",
       "       182.38632753, 174.83175001, 137.36779595, 149.84184867,\n",
       "       180.62860491, 163.86979245, 161.72520791, 162.52336202,\n",
       "       157.17489219, 156.13539566, 155.22633542, 152.86477676,\n",
       "       122.96993002, 143.04454754, 135.57863343, 151.80526695,\n",
       "       150.07658823, 150.71515078, 153.91907594, 155.30845664,\n",
       "       139.23143415, 142.26381404, 108.80678464, 172.32625845,\n",
       "       145.97713961, 143.37380587, 158.34164315, 145.12029702,\n",
       "       142.71495303, 165.89989339, 131.97685081, 129.42269832,\n",
       "       163.58593593, 158.08174462, 147.9046727 , 173.35995864,\n",
       "       118.41412801, 162.80266334, 142.5055741 , 117.63848466,\n",
       "       174.06830598, 165.36491711, 173.36570478, 164.08134771,\n",
       "       196.28911525, 148.14378441, 170.75697931, 144.57034027,\n",
       "       152.60517367, 153.03930979, 123.87117581, 164.01878977,\n",
       "       134.46627122, 154.43002487, 190.1827743 , 116.62287128,\n",
       "       124.12775226, 160.11959122, 186.46892461, 190.02891172,\n",
       "       156.17651783, 102.33247957, 148.96388878, 168.40352197,\n",
       "       136.21588374, 156.94977566, 158.12273651, 144.31624566,\n",
       "       147.14645797, 159.3766321 , 169.22753646, 179.5496217 ,\n",
       "       117.91324382, 137.58918241, 176.70461404, 134.90467643,\n",
       "       116.62032717, 186.37750897, 169.47202937, 158.62899842,\n",
       "       148.67176162, 143.15985043, 159.91766562, 163.92457101,\n",
       "       143.48950657, 148.64680095, 125.58468021, 143.62737816,\n",
       "       126.92135221, 160.20033598, 162.33059094, 137.80458088,\n",
       "       116.87992917, 164.41051164, 137.08002988, 185.15402939,\n",
       "       150.44339458, 180.00905168, 147.12658191, 162.85278815,\n",
       "       138.83430148, 134.99792501, 133.06680515, 158.50686895,\n",
       "       135.76305385, 135.47081567, 165.7089857 , 159.66006433,\n",
       "       128.13015303, 137.83028698, 140.33655517, 151.47626723,\n",
       "       163.52382772, 147.43694066, 157.0855508 , 149.67996033,\n",
       "       157.44415164, 161.82050104, 155.04209342, 153.70028873,\n",
       "       126.25034763, 169.05476489, 161.66934129, 114.42439487,\n",
       "       132.85179061, 147.37973981, 151.6320245 , 128.98376813,\n",
       "       137.3307819 , 153.43402355, 157.92021877, 201.6443567 ,\n",
       "       150.11615062, 159.59876047, 164.23388661, 112.0180943 ,\n",
       "       123.74804553, 128.16021565, 169.50071822, 145.48378702,\n",
       "       143.92108954, 169.61218367, 178.10133794, 133.15271735,\n",
       "       161.13065807, 153.19797798, 160.71141959, 153.60114032,\n",
       "       155.71479296, 144.94897547, 174.69772211, 187.36873413,\n",
       "       134.15070439, 176.4774524 , 159.98901072, 174.56408125,\n",
       "       129.12256358, 157.93935323, 158.92243677, 127.80441572,\n",
       "       126.24526083, 163.82957168, 183.4238158 , 130.71754727,\n",
       "       115.85315127, 141.43253383, 131.60458096, 177.1366169 ,\n",
       "       148.8835451 , 146.54914151, 147.48175794, 176.41589459,\n",
       "       124.37209101, 142.35230503, 157.58829022, 139.54343409,\n",
       "       163.11350721, 177.60831697, 160.1156246 , 166.92843452,\n",
       "       148.36294734, 135.25680917, 142.50032817, 166.56136255,\n",
       "       188.33150825, 147.89527154, 134.97236314, 153.24824777,\n",
       "       146.39622966, 189.06268496, 170.16748037, 176.87793484,\n",
       "       140.73707313, 151.63627531, 142.01028737, 147.73267255,\n",
       "       164.85801518, 165.25040642, 144.76296409, 172.52097023,\n",
       "       142.8486347 , 134.41129218, 177.21824614, 134.03636642,\n",
       "       165.51506766, 180.4625435 , 164.37699337, 142.50617937,\n",
       "       165.49381609, 143.58776197, 139.95743423, 143.90335303,\n",
       "       120.61486127, 145.65931445, 116.322876  , 148.57823327,\n",
       "       169.71474097, 123.23203402, 165.54415968, 169.37085035,\n",
       "       152.41568568, 149.46292517, 149.53332452, 133.59725443,\n",
       "       152.67836892, 187.37933053, 138.03149631, 168.47803055,\n",
       "       149.67552048, 153.24452463, 148.84060896, 161.11453086,\n",
       "       158.31673808, 121.20025802, 150.56398772, 162.88132925,\n",
       "       115.8069952 , 154.10169318, 159.02550604, 123.88173555,\n",
       "       159.89750873, 169.72617272, 156.81700032, 149.20416631,\n",
       "       144.04714372, 149.08739152, 140.284525  , 175.88749222,\n",
       "       205.68488656, 149.62745833, 116.43982935, 122.46704076,\n",
       "       162.35963517, 188.08085957, 162.10915207, 159.58957747,\n",
       "       179.95463628, 122.06465202, 157.99385695, 165.76675018,\n",
       "       153.50045005, 123.04240061, 152.2476309 , 161.37929301,\n",
       "       170.87529284, 177.06714829, 149.31991951, 161.71194746,\n",
       "       154.303356  , 125.64338471, 165.25386069, 160.68988986,\n",
       "       101.76655239, 159.99831235, 162.59442843, 117.59306756,\n",
       "       171.40274376, 172.30183735, 178.541497  , 119.3408663 ,\n",
       "       157.54911843, 159.03964148, 136.48085159, 164.22740557,\n",
       "       143.18379526, 140.93258475, 143.7647337 , 155.66464781,\n",
       "       170.77797422, 146.84420258, 156.23716447, 174.9907857 ,\n",
       "       166.99972668, 171.62306125, 165.63826837, 118.49367693,\n",
       "       176.56337125, 172.10204502, 140.54894759, 158.91992643,\n",
       "       126.46168372, 163.11677235, 133.16054683, 198.13714004,\n",
       "       183.33975357, 171.71589948, 138.08406202, 153.32060368,\n",
       "       138.46783701, 148.24804635, 137.74862073, 117.55264909,\n",
       "       148.08186529, 119.06829828, 110.00229745, 172.23744652,\n",
       "       152.14413018, 165.93867834, 172.59594035, 155.55617589,\n",
       "       141.30496789, 172.07015423, 128.41924533, 145.63757094,\n",
       "       126.02442919, 134.80739832, 136.52550979, 129.80688735,\n",
       "       126.6929261 , 176.69995539, 172.71033052, 146.41317773,\n",
       "       132.18147568, 118.98654618, 138.59895538, 158.97984624,\n",
       "       140.40481485, 188.00813045, 134.53514209, 128.60969164,\n",
       "       134.86425943, 156.77745131, 184.11499425, 138.11233359,\n",
       "       145.9005893 , 132.03596267, 179.91965758, 173.23378921,\n",
       "       156.55698308, 113.02396805, 113.7658826 , 170.69572807,\n",
       "       124.75644498, 142.1417676 , 156.8537839 , 159.6136458 ,\n",
       "       189.90743268, 156.6246158 , 137.77902828, 130.49398648,\n",
       "       186.76120683, 156.97828967, 139.62900727, 151.56630244,\n",
       "       164.32991548, 117.31448537, 154.6669722 , 128.0769746 ,\n",
       "       156.37106462, 138.53194957, 161.10115374, 115.49321097,\n",
       "       164.60413403, 175.30681222, 129.73562141, 157.08600093,\n",
       "       116.97531143, 157.58137578, 179.90668673, 144.02172859,\n",
       "       154.68320701, 142.70552596, 159.9415321 , 178.12967281,\n",
       "       125.62676613, 187.25358609, 141.96362917, 135.27166512,\n",
       "       166.49075405, 148.24148859, 177.49546447, 183.6330771 ,\n",
       "       184.03630779, 166.99154234, 169.9362395 , 120.18723522,\n",
       "       136.39120915, 136.18322677, 165.17200597, 165.31293466,\n",
       "       171.2590953 , 173.37396565, 193.96324818, 157.95620009,\n",
       "       138.78093303, 123.4258998 , 135.10080015, 126.47643611,\n",
       "       144.02792526, 164.37729613, 147.36168199, 143.26379891,\n",
       "       152.47448502, 173.56619618, 121.31876039, 193.26142081,\n",
       "       173.30905811, 145.53415686, 129.03858638, 165.4084238 ,\n",
       "       158.30389296, 166.78857468, 131.55857451, 218.73274555,\n",
       "       141.2064081 , 144.66178319, 157.0876365 , 176.43867156,\n",
       "       111.96803335, 149.28192501, 186.71645235, 134.62566567,\n",
       "       121.79285622, 154.40212393, 127.95625491, 152.20421087,\n",
       "       120.36185796, 109.59839025, 124.12444756, 167.01816664,\n",
       "       114.60136358, 123.262447  , 157.84563515, 192.70541358,\n",
       "       101.59311642, 121.07202764, 145.68339023, 183.53982507,\n",
       "       145.93738057, 129.04993235, 127.66184873, 127.41832801,\n",
       "       183.07955182, 191.84806549, 138.67520561, 121.73773337,\n",
       "       133.37053956, 132.66050277, 169.77552257, 131.15572882,\n",
       "       117.56550212, 146.14894357, 145.89727407, 150.73207296,\n",
       "       163.20772553, 131.9401989 , 123.15382247, 154.27277286,\n",
       "       118.62264317, 150.86227941, 201.96832572, 160.52229769,\n",
       "       124.73883501, 191.4295889 , 139.41453589, 157.11900993,\n",
       "       134.37558898, 123.56647895, 124.11623559, 139.91182786,\n",
       "       185.95324844, 177.91050728, 139.25068474, 166.76114069,\n",
       "       133.23799509, 149.96907653, 151.11557549, 154.39192605,\n",
       "       167.50534565, 143.89691946, 166.68185163, 196.97059915,\n",
       "       157.99550935, 166.19049485, 146.44868916, 156.77623438,\n",
       "       149.10561251, 169.37401766, 161.56448125, 141.02716062,\n",
       "       163.35731906, 126.21267247, 172.81100738, 181.93986473,\n",
       "       127.06532599, 164.21982123, 135.21841557, 111.65743478,\n",
       "       128.76159829, 133.04786256, 145.99293117, 130.38084332,\n",
       "       165.74537233, 171.96404541, 120.57027247, 175.70517114,\n",
       "       138.28924059, 146.59309939, 130.73681986, 155.44154273,\n",
       "       121.68611965, 143.59390783, 152.87568713, 127.89127432,\n",
       "       150.66310715, 168.66310363, 184.02593144, 162.65461793,\n",
       "       151.55634119, 148.83688168, 145.74768623, 141.01357042,\n",
       "       174.14262504, 146.38829369, 166.80396481, 146.35755245,\n",
       "       170.49094755, 157.29883061, 172.88729041, 134.3428312 ,\n",
       "       165.80789443, 140.13410301, 130.69162149, 161.26431604,\n",
       "       117.38799688, 169.12216693, 171.36231207, 137.05319556,\n",
       "       121.46471777, 137.34786972, 138.8286799 , 182.56975202,\n",
       "       135.40202527, 157.01541594, 147.43948748, 131.42079032,\n",
       "       165.64129391, 170.57391464, 190.04156678, 105.28791043,\n",
       "       172.485829  , 176.06587416, 151.724713  , 147.13114537,\n",
       "       151.93775193, 128.6277915 , 144.92372695, 156.83365319,\n",
       "       150.80582545, 139.27538163, 163.64695913, 163.14128501,\n",
       "       110.22972878, 160.04527998, 153.16902522, 139.68802413,\n",
       "       119.32436205, 141.95203447, 127.46601382, 126.79643943,\n",
       "       151.89185787, 145.32697257, 123.81710382, 135.72055977,\n",
       "       149.65316491, 154.26875938, 152.93270019, 167.41233046,\n",
       "       160.77079223, 148.48305423, 159.93771049, 139.46182798,\n",
       "       168.05523825, 177.75235379, 175.91498669, 139.30844333,\n",
       "       134.39775656, 137.00888694, 134.59157568, 152.91000676,\n",
       "       170.96738236, 128.05069577, 155.28028522, 148.7386358 ,\n",
       "       155.33442439, 129.91665133, 136.11960136, 132.43202672,\n",
       "       164.14262958, 169.98668118, 158.45153623, 151.40993272,\n",
       "       189.14779827, 133.62466238, 152.72178414, 170.40734897,\n",
       "       127.01558137, 142.46789455, 152.76382719, 173.8830825 ,\n",
       "       145.0307068 , 157.79420137, 134.63401697, 127.4588814 ,\n",
       "       147.8994867 , 153.07694892, 130.44709362, 134.55142909,\n",
       "       145.91779389, 158.118323  , 183.051087  , 183.20883027,\n",
       "       149.43670331, 144.58191128, 164.06137261, 130.97864507,\n",
       "       161.0805236 , 176.03627452, 145.49551796, 114.35220901,\n",
       "       159.25004502, 139.57105538, 149.03201599, 152.20532549,\n",
       "       151.1886111 , 149.03896962, 137.06972123, 129.56810468,\n",
       "       102.67366055, 136.72613315, 197.61744956, 161.25795695,\n",
       "       154.06499573, 164.2044205 , 148.95569436, 143.44999841,\n",
       "       133.442359  , 117.18168473, 110.17242794, 133.78923314,\n",
       "       139.87743391, 161.60734031, 168.51725654, 137.19304522,\n",
       "       158.71344345, 156.86053869, 166.43104911, 137.29205854,\n",
       "       152.45260347, 113.40283183, 132.20793765, 164.38571587,\n",
       "       150.01496078, 135.49086811, 173.79743144, 171.82879912,\n",
       "       166.6374178 , 151.46135342, 149.43816195, 143.83126328,\n",
       "       136.82744108, 154.90715704, 135.37234123, 126.49162911,\n",
       "       126.97458915, 130.04255447, 135.74035289, 164.59461012,\n",
       "       163.18743601, 165.03100315, 174.84445071, 117.84627885,\n",
       "       138.02456578,  93.92500192, 159.97541829, 176.03756993,\n",
       "       166.652919  , 122.360415  , 177.26786106, 162.38097739,\n",
       "       141.83172926, 142.55845974, 137.76282997, 155.45413872,\n",
       "       120.28210728, 153.25054088, 105.65122781, 151.48755652,\n",
       "       177.62307955, 151.53595899, 180.61051934, 140.32412205,\n",
       "       130.45207001, 174.45089811, 135.03073045, 181.71369084,\n",
       "       186.44189015, 175.80347551, 136.39862104, 160.1721622 ,\n",
       "       125.43451079, 164.47070898, 150.27720866, 119.38547942,\n",
       "       139.76149967, 160.29981504, 115.57451733, 157.02738086,\n",
       "       165.94796588, 162.57250688, 176.75879482, 151.54235569,\n",
       "       137.06070745, 159.52982484, 170.23253217, 144.55422472,\n",
       "       155.25357865, 202.07621513, 167.30999882, 152.27154685,\n",
       "       142.88617416, 134.18123659, 163.68229979, 151.45996676,\n",
       "       123.9962098 , 145.41436313, 138.64006383, 145.1403551 ,\n",
       "       183.66184066, 131.21208882, 145.99148911, 113.78045269,\n",
       "       154.30093545, 135.69425993, 161.89753732, 137.52708619,\n",
       "       133.09938438, 111.14241872, 113.23516362, 174.09636584])"
      ]
     },
     "execution_count": 49,
     "metadata": {},
     "output_type": "execute_result"
    }
   ],
   "source": [
    "normal"
   ]
  },
  {
   "cell_type": "code",
   "execution_count": 54,
   "id": "3d418b35-e6ae-4372-bd26-8076af54b867",
   "metadata": {
    "scrolled": true
   },
   "outputs": [
    {
     "data": {
      "text/plain": [
       "array([ 46.74585604,  33.36590434,  78.10422363,  96.73830818,\n",
       "        88.71262388,  59.34433938,  19.1105832 ,  65.37344691,\n",
       "        19.84357216,  30.68538641,  10.95343947,  61.54478239,\n",
       "        20.99384541,  59.51608347,  98.64674972, 103.48312022,\n",
       "        72.15449785,  66.55794226,  96.56066308,  76.64108368,\n",
       "        48.18264931,  64.98226024,  56.61502007,  67.63525107,\n",
       "        17.52754492,  21.46379092,  88.63658495,  64.17162342,\n",
       "        21.95174405,  12.53802225, 101.6315575 ,  93.37823654,\n",
       "        89.54002837,  53.88516164,  44.47239897,  56.72144945,\n",
       "        62.34207248,  46.8846979 ,  85.37743047,  28.64793758,\n",
       "        31.5709112 ,  82.66598338, 104.08125042,  27.33614913,\n",
       "        60.33304988,  95.17497429,  60.07532395,  81.33631367,\n",
       "        69.40367374,  94.11831318,  83.85778042,  86.5161085 ,\n",
       "        22.63377322,  78.67519187,  76.52409789,  49.90117003,\n",
       "        67.5462989 , 105.31864071,  70.80669263,  75.27196451,\n",
       "        97.03781844,  93.07924789, 101.27597427,  24.35662257,\n",
       "        73.98891077,  77.47588692,  22.31481184,  57.97039812,\n",
       "        76.66167058,  44.94345949,  89.57445057, 105.3263899 ,\n",
       "        59.08006762,  17.67190993,  69.07959519,  31.8459978 ,\n",
       "        42.15965912,  57.17156771,  73.51918704,  53.67596411,\n",
       "        62.34242319,  97.60465249,  82.9124623 ,  14.04353306,\n",
       "        13.76202966, 103.09033454,  76.72646666,  70.96972974,\n",
       "        58.84870871,  82.59825151,  25.07548287, 109.9181282 ,\n",
       "       102.15910694,  13.77906286,  93.81629837,  63.5284214 ,\n",
       "        98.54289758,  98.11362946,  69.63109162,  30.28212157,\n",
       "        16.0840302 ,  91.06117963,  72.28564234,  45.89330188,\n",
       "        14.02490608,  73.88596844,  63.98955965,  45.39678577,\n",
       "        48.92549365,  50.85545174,  25.60191543,  84.47196343,\n",
       "       103.81087293, 107.75473989,  54.53023668,  15.32123436,\n",
       "        66.95684819,  36.16783961,  39.1762123 ,  18.00578628,\n",
       "        51.48271206,  85.52881651, 106.88652784,  75.27868911,\n",
       "        50.86781479,  81.53104077,  12.70718027,  16.37643041,\n",
       "        53.27786765,  41.29333135,  95.71560915,  78.90445825,\n",
       "        51.44585974,  62.18483765,  51.55723415, 106.32419276,\n",
       "        50.58683439,  48.42704454,  37.41109458,  29.39141621,\n",
       "        53.63104868, 107.98978101,  90.85050146, 100.78500455,\n",
       "        95.66564333,  20.24630014,  52.18354542,  39.59131938,\n",
       "        58.86344408,  77.60248611,  88.44909076,  59.97423671,\n",
       "        20.61152891,  30.48317302,  23.07627816,  81.18887441,\n",
       "        90.1534871 ,  45.8004254 ,  97.03966574, 107.26591328,\n",
       "        91.43949887,  99.1557625 ,  47.52501624,  13.01834024,\n",
       "       109.74016848,  13.26090594,  71.22086653,  48.19546349,\n",
       "       101.67470439, 102.81025935,  86.28767537, 105.80291855,\n",
       "        16.52455662, 100.80284396,  57.63155524,  64.55647634,\n",
       "        72.86152071,  73.76374209,  82.32375411,  63.37888872,\n",
       "        74.06688476,  98.5957541 ,  87.11605241,  57.88115148,\n",
       "        45.99182231, 107.31146966,  44.35870187,  16.15396761,\n",
       "       106.15168428,  50.30126557,  69.37948241,  32.76962205,\n",
       "        12.35575107,  75.13179714,  76.42159919,  70.18018641,\n",
       "        70.38381656,  97.96976818, 100.12646022, 101.9179094 ,\n",
       "        50.36935779,  49.26459815, 107.45211934,  13.38074937,\n",
       "        81.65691622,  79.55306242,  98.43343153,  34.46790173,\n",
       "        76.71640713,  43.89592524, 102.91251847,  46.91445358,\n",
       "        65.11321792,  63.71437373,  53.97742191,  51.72636316,\n",
       "        90.60023334,  95.19558452,  40.42486322,  90.63436992,\n",
       "        20.19807116,  80.42250735,  15.12940347,  69.0062657 ,\n",
       "        18.46186685,  21.97094431,  83.95231991,  69.42233007,\n",
       "        31.5606086 ,  90.78853099,  38.48986022,  26.15422757,\n",
       "        73.46202307,  17.26468202,  23.15341667,  35.67237052,\n",
       "        85.59778747,  63.85829119,  26.67761455,  18.16850753,\n",
       "        17.24166719,  41.47155984,  23.35984807,  32.72222995,\n",
       "        89.85099547,  41.38649511,  12.84685453,  40.68634155,\n",
       "        96.74816698, 101.91263265,  95.19623793,  56.01233564,\n",
       "        66.53315603,  94.90526821,  95.31044659,  53.58781716,\n",
       "        29.97373624,  17.7396847 , 103.07790635,  16.11705025,\n",
       "        26.89375162,  54.48712948,  91.07442934,  36.09444395,\n",
       "        26.75800073,  72.0957863 , 106.3062908 ,  94.35991621,\n",
       "        21.00810879,  71.99421461,  89.50593098, 102.81585756,\n",
       "        40.05202315,  98.76901504,  54.82240305,  83.57700578,\n",
       "        55.75707833, 103.81832125,  74.76703373, 108.41158334,\n",
       "       106.14985319,  79.05693137,  78.38728879,  92.0394874 ,\n",
       "        63.22330114, 101.12297435,  88.23581831,  61.75051289,\n",
       "        99.68712748,  79.14359373,  23.97659135,  15.08284021,\n",
       "       104.6459564 ,  89.84211579,  49.4720405 ,  34.32547752,\n",
       "        38.7021745 ,  26.2926386 ,  51.86689277,  73.72647821])"
      ]
     },
     "execution_count": 54,
     "metadata": {},
     "output_type": "execute_result"
    }
   ],
   "source": [
    "d = np.random.uniform(10, 110, 300)\n",
    "d"
   ]
  },
  {
   "cell_type": "code",
   "execution_count": 55,
   "id": "bea8f829-6655-4ff2-82e4-c1bc5fe283f0",
   "metadata": {},
   "outputs": [
    {
     "data": {
      "text/plain": [
       "array([145.64035526, 154.71627936, 117.75583391, ...,  26.2926386 ,\n",
       "        51.86689277,  73.72647821])"
      ]
     },
     "execution_count": 55,
     "metadata": {},
     "output_type": "execute_result"
    }
   ],
   "source": [
    "left_skewness = np.append(normal, d)\n",
    "left_skewness"
   ]
  },
  {
   "cell_type": "code",
   "execution_count": 56,
   "id": "d8668139-4f61-42a7-ae8f-b56aa1984991",
   "metadata": {},
   "outputs": [
    {
     "data": {
      "image/png": "[encoded data removed]",
      "text/plain": [
       "<Figure size 768x576 with 1 Axes>"
      ]
     },
     "metadata": {},
     "output_type": "display_data"
    }
   ],
   "source": [
    "plt.figure(dpi=120)\n",
    "plt.hist(left_skewness, bins=30, ec='y')\n",
    "plt.show()"
   ]
  },
  {
   "cell_type": "code",
   "execution_count": null,
   "id": "d861853c-6533-4f5c-944d-de645e83c4cd",
   "metadata": {},
   "outputs": [],
   "source": []
  },
  {
   "cell_type": "code",
   "execution_count": 57,
   "id": "4815b9c9-2bf0-44a8-b496-816b8dfec0dd",
   "metadata": {},
   "outputs": [
    {
     "data": {
      "text/plain": [
       "130.38548620189613"
      ]
     },
     "execution_count": 57,
     "metadata": {},
     "output_type": "execute_result"
    }
   ],
   "source": [
    "np.mean(left_skewness)"
   ]
  },
  {
   "cell_type": "code",
   "execution_count": 58,
   "id": "db20af2e-6212-4ee7-a14a-97ad849bfed9",
   "metadata": {},
   "outputs": [
    {
     "data": {
      "text/plain": [
       "142.62433291192076"
      ]
     },
     "execution_count": 58,
     "metadata": {},
     "output_type": "execute_result"
    }
   ],
   "source": [
    "np.median(left_skewness)"
   ]
  },
  {
   "cell_type": "code",
   "execution_count": null,
   "id": "f8f4fb86-466d-4097-aa7a-ce9bebbedac2",
   "metadata": {},
   "outputs": [],
   "source": []
  },
  {
   "cell_type": "code",
   "execution_count": 59,
   "id": "e6081608-8ded-48bb-9f36-34bc6097d06f",
   "metadata": {},
   "outputs": [
    {
     "data": {
      "text/plain": [
       "array([145.64035526, 154.71627936, 117.75583391, 142.02273702,\n",
       "       117.61163977, 161.03101395, 126.15421342, 169.92949692,\n",
       "       148.07660409, 186.82121407, 129.60399314, 145.90321573,\n",
       "       171.07407874, 133.92895678, 146.6055331 , 143.39388691,\n",
       "       121.08551445, 132.3405701 , 147.82655366, 138.46953947,\n",
       "       165.89104323, 155.54507882, 154.2717596 , 163.09049317,\n",
       "       174.36834095, 149.38164078, 141.3589158 , 123.05314183,\n",
       "       135.0408083 , 133.17523662, 153.74082507, 147.8256464 ,\n",
       "       137.56073248, 130.09106104, 143.51730441, 167.41463187,\n",
       "       138.01053656, 148.18646925, 159.19046106, 155.85038349,\n",
       "       107.13879502, 160.46034107, 117.82661033, 155.07343781,\n",
       "       163.05466516, 116.52319669, 181.43948918, 129.10132601,\n",
       "       163.02268984, 126.74551981, 137.44896021, 138.15238329,\n",
       "       166.34179106, 158.42029257, 130.01362026, 143.52310522,\n",
       "       153.28498269, 164.98823939, 146.55282059, 177.06383584,\n",
       "       175.37578066, 161.7917981 , 149.54103595, 193.17398432,\n",
       "       155.65332452, 143.28375845, 137.11005496, 184.20058266,\n",
       "       162.0724382 , 161.14557594, 124.76883175, 150.63117495,\n",
       "       106.3640848 , 150.25881973, 126.82180085, 150.97889299,\n",
       "       189.79189058, 175.73003637, 193.55425686, 132.96445913,\n",
       "       104.53551155, 129.94948934, 154.89745996, 139.0150476 ,\n",
       "       177.81001503, 146.21846589, 169.13002177, 104.5078954 ,\n",
       "       136.35021105, 141.58002393, 135.37209985, 142.2726961 ,\n",
       "       167.27260363, 166.10584701, 159.49443144, 205.09365137,\n",
       "       166.99868019, 127.01398066, 149.86844498, 153.12251853,\n",
       "       135.10042348, 141.01594706, 155.52553148, 196.56312366,\n",
       "       126.91764884, 107.12417299, 135.47069689, 172.81445544,\n",
       "       151.31462385, 156.22863523, 143.09051951, 158.02180931,\n",
       "       176.42184475, 181.80536713, 147.43679531, 173.57992817,\n",
       "       120.64739755, 205.22932896, 142.69020608, 157.79016833,\n",
       "       149.03514281, 133.64710885, 170.94960606, 116.16442605,\n",
       "       183.51217019, 144.71241349, 189.28167241, 154.87571664,\n",
       "       188.33523842, 160.39542196, 179.74484363, 148.13712789,\n",
       "       139.63543542, 164.36378889, 156.30777578, 152.21630227,\n",
       "       145.53535747, 123.46185486, 124.21183325, 123.28528047,\n",
       "       165.14546436, 148.097903  , 188.34294599, 163.46341515,\n",
       "       210.97227661, 170.28180143, 161.81340147, 164.57697239,\n",
       "       155.48609456, 149.88196023, 156.62634487, 168.48280921,\n",
       "       132.76863374, 185.22050186, 158.34329579, 133.86318367,\n",
       "       151.0204531 , 127.59042825, 156.50048451, 171.76763457,\n",
       "       147.47197033, 182.3106142 , 137.22105648, 124.2223116 ,\n",
       "       140.27104616, 145.31973255, 146.42400222, 139.42959296,\n",
       "       162.14713489, 145.61968874, 118.89467399, 184.61973002,\n",
       "       149.62912027, 159.34405745, 144.05543328, 177.38645704,\n",
       "       144.70254375, 152.78031356, 123.46559789, 120.22527336,\n",
       "       133.9518124 , 164.78700338, 112.39232498, 126.45298518,\n",
       "       142.22526972, 142.93307839, 129.14602222, 182.19414899,\n",
       "       170.98017492, 138.57346827, 169.78742035, 130.68194882,\n",
       "       160.76160213, 111.98994238, 135.78758961, 172.06052234,\n",
       "       144.08006056, 152.90982047, 131.92764503, 176.90335793,\n",
       "       137.09331265, 167.64513256, 126.26916134, 153.69325393,\n",
       "       144.96589136, 164.30979432, 126.58634655, 148.80294294,\n",
       "       153.80013771, 157.92533841, 144.34804644, 153.92530956,\n",
       "       137.75272163, 150.71356252, 142.9001653 , 186.226014  ,\n",
       "       150.45688151, 145.78934441, 146.53200268, 207.91666057,\n",
       "       167.73477897, 113.34246216, 182.01643489, 165.73438117,\n",
       "       134.97468822, 169.07062705, 136.61565754, 147.87997174,\n",
       "       173.39299021, 106.95588085, 156.65528951, 146.16274745,\n",
       "       176.46912507, 130.52735844, 116.31643221, 134.0788039 ,\n",
       "       155.27152568, 146.73978593, 140.1994698 , 157.53148967,\n",
       "       182.38632753, 174.83175001, 137.36779595, 149.84184867,\n",
       "       180.62860491, 163.86979245, 161.72520791, 162.52336202,\n",
       "       157.17489219, 156.13539566, 155.22633542, 152.86477676,\n",
       "       122.96993002, 143.04454754, 135.57863343, 151.80526695,\n",
       "       150.07658823, 150.71515078, 153.91907594, 155.30845664,\n",
       "       139.23143415, 142.26381404, 108.80678464, 172.32625845,\n",
       "       145.97713961, 143.37380587, 158.34164315, 145.12029702,\n",
       "       142.71495303, 165.89989339, 131.97685081, 129.42269832,\n",
       "       163.58593593, 158.08174462, 147.9046727 , 173.35995864,\n",
       "       118.41412801, 162.80266334, 142.5055741 , 117.63848466,\n",
       "       174.06830598, 165.36491711, 173.36570478, 164.08134771,\n",
       "       196.28911525, 148.14378441, 170.75697931, 144.57034027,\n",
       "       152.60517367, 153.03930979, 123.87117581, 164.01878977,\n",
       "       134.46627122, 154.43002487, 190.1827743 , 116.62287128,\n",
       "       124.12775226, 160.11959122, 186.46892461, 190.02891172,\n",
       "       156.17651783, 102.33247957, 148.96388878, 168.40352197,\n",
       "       136.21588374, 156.94977566, 158.12273651, 144.31624566,\n",
       "       147.14645797, 159.3766321 , 169.22753646, 179.5496217 ,\n",
       "       117.91324382, 137.58918241, 176.70461404, 134.90467643,\n",
       "       116.62032717, 186.37750897, 169.47202937, 158.62899842,\n",
       "       148.67176162, 143.15985043, 159.91766562, 163.92457101,\n",
       "       143.48950657, 148.64680095, 125.58468021, 143.62737816,\n",
       "       126.92135221, 160.20033598, 162.33059094, 137.80458088,\n",
       "       116.87992917, 164.41051164, 137.08002988, 185.15402939,\n",
       "       150.44339458, 180.00905168, 147.12658191, 162.85278815,\n",
       "       138.83430148, 134.99792501, 133.06680515, 158.50686895,\n",
       "       135.76305385, 135.47081567, 165.7089857 , 159.66006433,\n",
       "       128.13015303, 137.83028698, 140.33655517, 151.47626723,\n",
       "       163.52382772, 147.43694066, 157.0855508 , 149.67996033,\n",
       "       157.44415164, 161.82050104, 155.04209342, 153.70028873,\n",
       "       126.25034763, 169.05476489, 161.66934129, 114.42439487,\n",
       "       132.85179061, 147.37973981, 151.6320245 , 128.98376813,\n",
       "       137.3307819 , 153.43402355, 157.92021877, 201.6443567 ,\n",
       "       150.11615062, 159.59876047, 164.23388661, 112.0180943 ,\n",
       "       123.74804553, 128.16021565, 169.50071822, 145.48378702,\n",
       "       143.92108954, 169.61218367, 178.10133794, 133.15271735,\n",
       "       161.13065807, 153.19797798, 160.71141959, 153.60114032,\n",
       "       155.71479296, 144.94897547, 174.69772211, 187.36873413,\n",
       "       134.15070439, 176.4774524 , 159.98901072, 174.56408125,\n",
       "       129.12256358, 157.93935323, 158.92243677, 127.80441572,\n",
       "       126.24526083, 163.82957168, 183.4238158 , 130.71754727,\n",
       "       115.85315127, 141.43253383, 131.60458096, 177.1366169 ,\n",
       "       148.8835451 , 146.54914151, 147.48175794, 176.41589459,\n",
       "       124.37209101, 142.35230503, 157.58829022, 139.54343409,\n",
       "       163.11350721, 177.60831697, 160.1156246 , 166.92843452,\n",
       "       148.36294734, 135.25680917, 142.50032817, 166.56136255,\n",
       "       188.33150825, 147.89527154, 134.97236314, 153.24824777,\n",
       "       146.39622966, 189.06268496, 170.16748037, 176.87793484,\n",
       "       140.73707313, 151.63627531, 142.01028737, 147.73267255,\n",
       "       164.85801518, 165.25040642, 144.76296409, 172.52097023,\n",
       "       142.8486347 , 134.41129218, 177.21824614, 134.03636642,\n",
       "       165.51506766, 180.4625435 , 164.37699337, 142.50617937,\n",
       "       165.49381609, 143.58776197, 139.95743423, 143.90335303,\n",
       "       120.61486127, 145.65931445, 116.322876  , 148.57823327,\n",
       "       169.71474097, 123.23203402, 165.54415968, 169.37085035,\n",
       "       152.41568568, 149.46292517, 149.53332452, 133.59725443,\n",
       "       152.67836892, 187.37933053, 138.03149631, 168.47803055,\n",
       "       149.67552048, 153.24452463, 148.84060896, 161.11453086,\n",
       "       158.31673808, 121.20025802, 150.56398772, 162.88132925,\n",
       "       115.8069952 , 154.10169318, 159.02550604, 123.88173555,\n",
       "       159.89750873, 169.72617272, 156.81700032, 149.20416631,\n",
       "       144.04714372, 149.08739152, 140.284525  , 175.88749222,\n",
       "       205.68488656, 149.62745833, 116.43982935, 122.46704076,\n",
       "       162.35963517, 188.08085957, 162.10915207, 159.58957747,\n",
       "       179.95463628, 122.06465202, 157.99385695, 165.76675018,\n",
       "       153.50045005, 123.04240061, 152.2476309 , 161.37929301,\n",
       "       170.87529284, 177.06714829, 149.31991951, 161.71194746,\n",
       "       154.303356  , 125.64338471, 165.25386069, 160.68988986,\n",
       "       101.76655239, 159.99831235, 162.59442843, 117.59306756,\n",
       "       171.40274376, 172.30183735, 178.541497  , 119.3408663 ,\n",
       "       157.54911843, 159.03964148, 136.48085159, 164.22740557,\n",
       "       143.18379526, 140.93258475, 143.7647337 , 155.66464781,\n",
       "       170.77797422, 146.84420258, 156.23716447, 174.9907857 ,\n",
       "       166.99972668, 171.62306125, 165.63826837, 118.49367693,\n",
       "       176.56337125, 172.10204502, 140.54894759, 158.91992643,\n",
       "       126.46168372, 163.11677235, 133.16054683, 198.13714004,\n",
       "       183.33975357, 171.71589948, 138.08406202, 153.32060368,\n",
       "       138.46783701, 148.24804635, 137.74862073, 117.55264909,\n",
       "       148.08186529, 119.06829828, 110.00229745, 172.23744652,\n",
       "       152.14413018, 165.93867834, 172.59594035, 155.55617589,\n",
       "       141.30496789, 172.07015423, 128.41924533, 145.63757094,\n",
       "       126.02442919, 134.80739832, 136.52550979, 129.80688735,\n",
       "       126.6929261 , 176.69995539, 172.71033052, 146.41317773,\n",
       "       132.18147568, 118.98654618, 138.59895538, 158.97984624,\n",
       "       140.40481485, 188.00813045, 134.53514209, 128.60969164,\n",
       "       134.86425943, 156.77745131, 184.11499425, 138.11233359,\n",
       "       145.9005893 , 132.03596267, 179.91965758, 173.23378921,\n",
       "       156.55698308, 113.02396805, 113.7658826 , 170.69572807,\n",
       "       124.75644498, 142.1417676 , 156.8537839 , 159.6136458 ,\n",
       "       189.90743268, 156.6246158 , 137.77902828, 130.49398648,\n",
       "       186.76120683, 156.97828967, 139.62900727, 151.56630244,\n",
       "       164.32991548, 117.31448537, 154.6669722 , 128.0769746 ,\n",
       "       156.37106462, 138.53194957, 161.10115374, 115.49321097,\n",
       "       164.60413403, 175.30681222, 129.73562141, 157.08600093,\n",
       "       116.97531143, 157.58137578, 179.90668673, 144.02172859,\n",
       "       154.68320701, 142.70552596, 159.9415321 , 178.12967281,\n",
       "       125.62676613, 187.25358609, 141.96362917, 135.27166512,\n",
       "       166.49075405, 148.24148859, 177.49546447, 183.6330771 ,\n",
       "       184.03630779, 166.99154234, 169.9362395 , 120.18723522,\n",
       "       136.39120915, 136.18322677, 165.17200597, 165.31293466,\n",
       "       171.2590953 , 173.37396565, 193.96324818, 157.95620009,\n",
       "       138.78093303, 123.4258998 , 135.10080015, 126.47643611,\n",
       "       144.02792526, 164.37729613, 147.36168199, 143.26379891,\n",
       "       152.47448502, 173.56619618, 121.31876039, 193.26142081,\n",
       "       173.30905811, 145.53415686, 129.03858638, 165.4084238 ,\n",
       "       158.30389296, 166.78857468, 131.55857451, 218.73274555,\n",
       "       141.2064081 , 144.66178319, 157.0876365 , 176.43867156,\n",
       "       111.96803335, 149.28192501, 186.71645235, 134.62566567,\n",
       "       121.79285622, 154.40212393, 127.95625491, 152.20421087,\n",
       "       120.36185796, 109.59839025, 124.12444756, 167.01816664,\n",
       "       114.60136358, 123.262447  , 157.84563515, 192.70541358,\n",
       "       101.59311642, 121.07202764, 145.68339023, 183.53982507,\n",
       "       145.93738057, 129.04993235, 127.66184873, 127.41832801,\n",
       "       183.07955182, 191.84806549, 138.67520561, 121.73773337,\n",
       "       133.37053956, 132.66050277, 169.77552257, 131.15572882,\n",
       "       117.56550212, 146.14894357, 145.89727407, 150.73207296,\n",
       "       163.20772553, 131.9401989 , 123.15382247, 154.27277286,\n",
       "       118.62264317, 150.86227941, 201.96832572, 160.52229769,\n",
       "       124.73883501, 191.4295889 , 139.41453589, 157.11900993,\n",
       "       134.37558898, 123.56647895, 124.11623559, 139.91182786,\n",
       "       185.95324844, 177.91050728, 139.25068474, 166.76114069,\n",
       "       133.23799509, 149.96907653, 151.11557549, 154.39192605,\n",
       "       167.50534565, 143.89691946, 166.68185163, 196.97059915,\n",
       "       157.99550935, 166.19049485, 146.44868916, 156.77623438,\n",
       "       149.10561251, 169.37401766, 161.56448125, 141.02716062,\n",
       "       163.35731906, 126.21267247, 172.81100738, 181.93986473,\n",
       "       127.06532599, 164.21982123, 135.21841557, 111.65743478,\n",
       "       128.76159829, 133.04786256, 145.99293117, 130.38084332,\n",
       "       165.74537233, 171.96404541, 120.57027247, 175.70517114,\n",
       "       138.28924059, 146.59309939, 130.73681986, 155.44154273,\n",
       "       121.68611965, 143.59390783, 152.87568713, 127.89127432,\n",
       "       150.66310715, 168.66310363, 184.02593144, 162.65461793,\n",
       "       151.55634119, 148.83688168, 145.74768623, 141.01357042,\n",
       "       174.14262504, 146.38829369, 166.80396481, 146.35755245,\n",
       "       170.49094755, 157.29883061, 172.88729041, 134.3428312 ,\n",
       "       165.80789443, 140.13410301, 130.69162149, 161.26431604,\n",
       "       117.38799688, 169.12216693, 171.36231207, 137.05319556,\n",
       "       121.46471777, 137.34786972, 138.8286799 , 182.56975202,\n",
       "       135.40202527, 157.01541594, 147.43948748, 131.42079032,\n",
       "       165.64129391, 170.57391464, 190.04156678, 105.28791043,\n",
       "       172.485829  , 176.06587416, 151.724713  , 147.13114537,\n",
       "       151.93775193, 128.6277915 , 144.92372695, 156.83365319,\n",
       "       150.80582545, 139.27538163, 163.64695913, 163.14128501,\n",
       "       110.22972878, 160.04527998, 153.16902522, 139.68802413,\n",
       "       119.32436205, 141.95203447, 127.46601382, 126.79643943,\n",
       "       151.89185787, 145.32697257, 123.81710382, 135.72055977,\n",
       "       149.65316491, 154.26875938, 152.93270019, 167.41233046,\n",
       "       160.77079223, 148.48305423, 159.93771049, 139.46182798,\n",
       "       168.05523825, 177.75235379, 175.91498669, 139.30844333,\n",
       "       134.39775656, 137.00888694, 134.59157568, 152.91000676,\n",
       "       170.96738236, 128.05069577, 155.28028522, 148.7386358 ,\n",
       "       155.33442439, 129.91665133, 136.11960136, 132.43202672,\n",
       "       164.14262958, 169.98668118, 158.45153623, 151.40993272,\n",
       "       189.14779827, 133.62466238, 152.72178414, 170.40734897,\n",
       "       127.01558137, 142.46789455, 152.76382719, 173.8830825 ,\n",
       "       145.0307068 , 157.79420137, 134.63401697, 127.4588814 ,\n",
       "       147.8994867 , 153.07694892, 130.44709362, 134.55142909,\n",
       "       145.91779389, 158.118323  , 183.051087  , 183.20883027,\n",
       "       149.43670331, 144.58191128, 164.06137261, 130.97864507,\n",
       "       161.0805236 , 176.03627452, 145.49551796, 114.35220901,\n",
       "       159.25004502, 139.57105538, 149.03201599, 152.20532549,\n",
       "       151.1886111 , 149.03896962, 137.06972123, 129.56810468,\n",
       "       102.67366055, 136.72613315, 197.61744956, 161.25795695,\n",
       "       154.06499573, 164.2044205 , 148.95569436, 143.44999841,\n",
       "       133.442359  , 117.18168473, 110.17242794, 133.78923314,\n",
       "       139.87743391, 161.60734031, 168.51725654, 137.19304522,\n",
       "       158.71344345, 156.86053869, 166.43104911, 137.29205854,\n",
       "       152.45260347, 113.40283183, 132.20793765, 164.38571587,\n",
       "       150.01496078, 135.49086811, 173.79743144, 171.82879912,\n",
       "       166.6374178 , 151.46135342, 149.43816195, 143.83126328,\n",
       "       136.82744108, 154.90715704, 135.37234123, 126.49162911,\n",
       "       126.97458915, 130.04255447, 135.74035289, 164.59461012,\n",
       "       163.18743601, 165.03100315, 174.84445071, 117.84627885,\n",
       "       138.02456578,  93.92500192, 159.97541829, 176.03756993,\n",
       "       166.652919  , 122.360415  , 177.26786106, 162.38097739,\n",
       "       141.83172926, 142.55845974, 137.76282997, 155.45413872,\n",
       "       120.28210728, 153.25054088, 105.65122781, 151.48755652,\n",
       "       177.62307955, 151.53595899, 180.61051934, 140.32412205,\n",
       "       130.45207001, 174.45089811, 135.03073045, 181.71369084,\n",
       "       186.44189015, 175.80347551, 136.39862104, 160.1721622 ,\n",
       "       125.43451079, 164.47070898, 150.27720866, 119.38547942,\n",
       "       139.76149967, 160.29981504, 115.57451733, 157.02738086,\n",
       "       165.94796588, 162.57250688, 176.75879482, 151.54235569,\n",
       "       137.06070745, 159.52982484, 170.23253217, 144.55422472,\n",
       "       155.25357865, 202.07621513, 167.30999882, 152.27154685,\n",
       "       142.88617416, 134.18123659, 163.68229979, 151.45996676,\n",
       "       123.9962098 , 145.41436313, 138.64006383, 145.1403551 ,\n",
       "       183.66184066, 131.21208882, 145.99148911, 113.78045269,\n",
       "       154.30093545, 135.69425993, 161.89753732, 137.52708619,\n",
       "       133.09938438, 111.14241872, 113.23516362, 174.09636584])"
      ]
     },
     "execution_count": 59,
     "metadata": {},
     "output_type": "execute_result"
    }
   ],
   "source": [
    "normal"
   ]
  },
  {
   "cell_type": "code",
   "execution_count": null,
   "id": "ca46734d-4b9c-4d6c-be21-1e569df0c5d6",
   "metadata": {},
   "outputs": [],
   "source": []
  },
  {
   "cell_type": "code",
   "execution_count": 60,
   "id": "c6b05397-42b6-452a-aa37-8951f38022aa",
   "metadata": {},
   "outputs": [],
   "source": [
    "d = np.random.uniform(180, 300, 300)"
   ]
  },
  {
   "cell_type": "code",
   "execution_count": 61,
   "id": "246a4e8d-9512-4274-9a66-716dbb99ffb3",
   "metadata": {},
   "outputs": [
    {
     "data": {
      "text/plain": [
       "array([145.64035526, 154.71627936, 117.75583391, ..., 215.73240481,\n",
       "       293.53377998, 282.7653692 ])"
      ]
     },
     "execution_count": 61,
     "metadata": {},
     "output_type": "execute_result"
    }
   ],
   "source": [
    "right_skewness = np.append(normal, d)\n",
    "right_skewness"
   ]
  },
  {
   "cell_type": "code",
   "execution_count": 62,
   "id": "57a24b8e-fd6b-45af-8008-053a24c2a20d",
   "metadata": {},
   "outputs": [
    {
     "data": {
      "image/png": "[encoded data removed]",
      "text/plain": [
       "<Figure size 768x576 with 1 Axes>"
      ]
     },
     "metadata": {},
     "output_type": "display_data"
    }
   ],
   "source": [
    "plt.figure(dpi=120)\n",
    "plt.hist(right_skewness, bins=30, ec='y')\n",
    "plt.show()"
   ]
  },
  {
   "cell_type": "code",
   "execution_count": 63,
   "id": "caf5e888-7fe1-4504-9714-0b745a6d41e7",
   "metadata": {},
   "outputs": [
    {
     "data": {
      "text/plain": [
       "170.90302378496608"
      ]
     },
     "execution_count": 63,
     "metadata": {},
     "output_type": "execute_result"
    }
   ],
   "source": [
    "np.mean(right_skewness)"
   ]
  },
  {
   "cell_type": "code",
   "execution_count": 64,
   "id": "c16ef8f9-0cd9-4397-b0db-e3f139c2af8c",
   "metadata": {},
   "outputs": [
    {
     "data": {
      "text/plain": [
       "158.34246946896008"
      ]
     },
     "execution_count": 64,
     "metadata": {},
     "output_type": "execute_result"
    }
   ],
   "source": [
    "np.median(right_skewness)"
   ]
  },
  {
   "cell_type": "code",
   "execution_count": null,
   "id": "c4a2f9c4-a9a5-41fd-80ed-1e197a20b2be",
   "metadata": {},
   "outputs": [],
   "source": []
  }
 ],
 "metadata": {
  "kernelspec": {
   "display_name": "Python 3 (ipykernel)",
   "language": "python",
   "name": "python3"
  },
  "language_info": {
   "codemirror_mode": {
    "name": "ipython",
    "version": 3
   },
   "file_extension": ".py",
   "mimetype": "text/x-python",
   "name": "python",
   "nbconvert_exporter": "python",
   "pygments_lexer": "ipython3",
   "version": "3.11.7"
  }
 },
 "nbformat": 4,
 "nbformat_minor": 5
}
